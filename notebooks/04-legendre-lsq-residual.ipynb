{
 "cells": [
  {
   "cell_type": "markdown",
   "metadata": {},
   "source": [
    "ChEn-5310: Computational Continuum Transport Phenomena Fall 2021 UMass Lowell; Prof. V. F. de Almeida **14Sep21**\n",
    "\n",
    "# 04. Legendre Basis Functions Least-Squares Residual\n",
    "$  \n",
    "  \\newcommand{\\Amtrx}{\\boldsymbol{\\mathsf{A}}}\n",
    "  \\newcommand{\\Bmtrx}{\\boldsymbol{\\mathsf{B}}}\n",
    "  \\newcommand{\\Mmtrx}{\\boldsymbol{\\mathsf{M}}}\n",
    "  \\newcommand{\\Imtrx}{\\boldsymbol{\\mathsf{I}}}\n",
    "  \\newcommand{\\Pmtrx}{\\boldsymbol{\\mathsf{P}}}\n",
    "  \\newcommand{\\Lmtrx}{\\boldsymbol{\\mathsf{L}}}\n",
    "  \\newcommand{\\Umtrx}{\\boldsymbol{\\mathsf{U}}}\n",
    "  \\newcommand{\\Smtrx}{\\boldsymbol{\\mathsf{S}}}\n",
    "  \\newcommand{\\xvec}{\\boldsymbol{\\mathsf{x}}}\n",
    "  \\newcommand{\\avec}{\\boldsymbol{\\mathsf{a}}}\n",
    "  \\newcommand{\\bvec}{\\boldsymbol{\\mathsf{b}}}\n",
    "  \\newcommand{\\cvec}{\\boldsymbol{\\mathsf{c}}}\n",
    "  \\newcommand{\\rvec}{\\boldsymbol{\\mathsf{r}}}\n",
    "  \\newcommand{\\fvec}{\\boldsymbol{\\mathsf{f}}}\n",
    "  \\newcommand{\\mvec}{\\boldsymbol{\\mathsf{m}}}\n",
    "  \\newcommand{\\gvec}{\\boldsymbol{\\mathsf{g}}}\n",
    "  \\newcommand{\\zerovec}{\\boldsymbol{\\mathsf{0}}}\n",
    "  \\newcommand{\\norm}[1]{\\bigl\\lVert{#1}\\bigr\\rVert}\n",
    "  \\newcommand{\\transpose}[1]{{#1}^\\top}\n",
    "  \\DeclareMathOperator{\\rank}{rank}\n",
    "  \\newcommand{\\Reals}{\\mathbb{R}}\n",
    "  \\newcommand{\\thetavec}{\\boldsymbol{\\theta}}\n",
    "$"
   ]
  },
  {
   "cell_type": "markdown",
   "metadata": {},
   "source": [
    "---\n",
    "\n",
    "## Table of Contents<a id=\"toc\"></a>\n",
    "* [Objectives](#obj)\n",
    "* [Target Function](#f)\n",
    "* [Legendre Basis Functions](#legendre)\n",
    "* [Basis Functions Evaluation Matrix](#eval-matrix)\n",
    "* [Collocation Approximation](#coll)\n",
    "  + [Collocation Points](#coll-pts)\n",
    "  + [Collocation Matrix](#coll-matrix)\n",
    "  + [Optimal Combination Coefficients](#coll-optimal-coeff)\n",
    "  + [Best Approximant Function](#coll-approximant)\n",
    "  + [Results](#coll-res)\n",
    "  + [Errors](#coll-error)\n",
    "  + [Residual](#coll-residual)\n",
    "* [Experiment #1](#ex1)\n",
    "---"
   ]
  },
  {
   "cell_type": "markdown",
   "metadata": {},
   "source": [
    "## [Objectives](#toc)<a id=\"obj\"></a>\n",
    "\n",
    " + Practical use of Lagrange polynomial basis functions to approximate a given function via the Galerkin Linear Least-Squares method.\n",
    " + Review [Introduction Notebook 01](https://nbviewer.jupyter.org/github/dpploy/engy-5310/blob/main/notebooks/01-introduction.ipynb)"
   ]
  },
  {
   "cell_type": "markdown",
   "metadata": {},
   "source": [
    "## [Target Function](#toc)<a id=\"f\"></a>\n",
    "\n",
    "Given a *well-behaved* target function $f:[a,b]\\rightarrow\\Reals$, compute an approximant $g:[a,b]\\rightarrow\\Reals$."
   ]
  },
  {
   "cell_type": "code",
   "execution_count": null,
   "metadata": {
    "code_folding": []
   },
   "outputs": [],
   "source": [
    "'''Generate the target function'''\n",
    "\n",
    "try:    \n",
    "    from engy_5310.toolkit import TargetFunction   \n",
    "except ModuleNotFoundError:\n",
    "    assert False, 'You need to provide your own code here. Bailing out.'\n",
    "\n",
    "shape_pts = [(-2,-10),(-1,10),(0,-18),(1,14),(2,0),(3,28),(5,-23),(7,12),(9,1),(10,-10)]\n",
    "\n",
    "f = TargetFunction(shape_pts, type='linear')\n",
    "  \n",
    "f.plot(n_plot_pts=200, show_shape_pts=True, title='Target Function')"
   ]
  },
  {
   "cell_type": "markdown",
   "metadata": {},
   "source": [
    "## [Legendre Polynomial Basis Functions](#toc)<a id=\"legendre\"></a>\n",
    "\n",
    "Using Legendre polynomials, $L_k:[-1,1]\\rightarrow\\Reals$, basis functions\n",
    "\n",
    "\\begin{equation*}\n",
    "   V := \\{L_k \\, \\mid \\, k=0,\\ldots,N\\} ,\n",
    "\\end{equation*}\n",
    "\n",
    "where $N$ is the degree of the basis, and the collocation points $\\tilde{\\xvec}$, compute the best approximant function of $f:\\Reals\\rightarrow \\Reals$ by minimizing the residual vector on the collocation points.\n",
    "\n",
    "There are multiple ways to generate Lagrange polynomials, here is the most practical:\n",
    "\n",
    "\\begin{align*}\n",
    " L_0(\\hat{x}) &= 1, \\\\\n",
    " L_1(\\hat{x}) &= x, \\\\\n",
    " L_k(\\hat{x}) &= \\frac{2k-1}{k}\\,\\hat{x}\\,L_{k-1}(\\hat{x}) - \\frac{k-1}{k}\\,L_{k-2}(\\hat{x}), \\quad \\forall \\quad k=2,\\ldots,N ,\n",
    "\\end{align*}\n",
    "\n",
    "where the domain of the polynomial functions can be mapped to by $\\hat{x}(x) = 2\\,\\frac{x - (b+a)/2}{b-a}$, when the interval of approximation of the target function is $[a,b] \\in \\Reals$."
   ]
  },
  {
   "cell_type": "code",
   "execution_count": null,
   "metadata": {},
   "outputs": [],
   "source": [
    "'''Build the basis functions list'''\n",
    "\n",
    "x_min = shape_pts[0][0]\n",
    "x_max = shape_pts[-1][0]\n",
    "\n",
    "try:    \n",
    "    from engy_5310.toolkit import LegendreBasis\n",
    "except ModuleNotFoundError:\n",
    "    assert False, 'You need to provide your own code here. Bailing out.'\n",
    "    \n",
    "degree = 12\n",
    "\n",
    "lb = LegendreBasis(degree, x_min, x_max)\n",
    "lb.plot()"
   ]
  },
  {
   "cell_type": "markdown",
   "metadata": {},
   "source": [
    "## [Basis Functions Evaluation Matrix](#toc)<a id=\"eval-matrix\"></a>\n",
    "\n",
    "Build the *basis functions evaluation matrix* $\\Amtrx(\\xvec)$ as a $m\\times n$ real matrix, that is:\n",
    "\n",
    "$\\overset{(m \\times n)}{\\Amtrx(\\xvec)} =  \\begin{pmatrix}\n",
    "1 & L_1(\\hat{x}_1) & L_2(\\hat{x}_1)  & \\ldots & L_N(\\hat{x}_1)  \\\\\n",
    "1 & L_1(\\hat{x}_2) & L_2(\\hat{x}_2)  & \\ldots & L_N(\\hat{x}_2)  \\\\\n",
    "\\vdots & \\vdots & \\vdots & \\ddots & \\vdots \\\\\n",
    "1 & L_1(\\hat{x}_m) & L_2(\\hat{x}_m)  & \\ldots & L_N(\\hat{x}_m)  \\\\\n",
    " \\end{pmatrix}$,\n",
    " \n",
    "and evaluate on the collocation points to create the *basis functions collocation matrix* $\\tilde{\\Amtrx} = \\Amtrx(\\tilde{\\xvec})$."
   ]
  },
  {
   "cell_type": "markdown",
   "metadata": {},
   "source": [
    "## [Collocation Approximation](#toc)<a id=\"coll\"></a>"
   ]
  },
  {
   "cell_type": "markdown",
   "metadata": {},
   "source": [
    "### [Collocation Points](#toc)<a id=\"coll-pts\"></a>\n",
    "\n",
    "Select *collocation* abscissa points and form the *set* $\\{\\tilde{x}_i \\mid i=1,\\ldots,m\\}$ or vector $\\tilde{\\xvec}\\in\\Reals^m$."
   ]
  },
  {
   "cell_type": "code",
   "execution_count": null,
   "metadata": {},
   "outputs": [],
   "source": [
    "'''Collocation abscissa points'''\n",
    "\n",
    "import numpy as np\n",
    "\n",
    "m = 25\n",
    "\n",
    "x_tilde_pts = np.linspace(x_min, x_max, m)\n",
    "\n",
    "f.plot(n_plot_pts=200, show_x_pts=x_tilde_pts, show_shape_pts=True, title='Collocation Points on Target Function')"
   ]
  },
  {
   "cell_type": "markdown",
   "metadata": {},
   "source": [
    "### [Basis Functions Collocation Matrix](#toc)<a id=\"coll-matrix\"></a>\n",
    "\n",
    "Create the *basis functions collocation matrix* by evaluating the basis function evaluation matrix on the collocation points $\\tilde{\\Amtrx} = \\Amtrx(\\tilde{\\xvec})$."
   ]
  },
  {
   "cell_type": "code",
   "execution_count": null,
   "metadata": {},
   "outputs": [],
   "source": [
    "'''Build the basis functions collocation matrix'''\n",
    "\n",
    "a_tilde_mtrx = lb.evaluate_matrix(x_tilde_pts)\n",
    "\n",
    "if a_tilde_mtrx.shape[0] > a_tilde_mtrx.shape[1]:\n",
    "    print('A is overdetermined.')\n",
    "elif a_tilde_mtrx.shape[0] < a_tilde_mtrx.shape[1]:\n",
    "    print('A is underdetermined.')  \n",
    "else:\n",
    "    print('A is determined.')\n",
    "    \n",
    "try:    \n",
    "    from engy_5310.toolkit import matrix_rank\n",
    "except ModuleNotFoundError:\n",
    "    assert False, 'You need to provide your own code here. Bailing out.'\n",
    "    \n",
    "if matrix_rank(a_tilde_mtrx) == min(a_tilde_mtrx.shape):\n",
    "    print('A is full rank.')\n",
    "else:\n",
    "    print('A is rank deficient.')"
   ]
  },
  {
   "cell_type": "code",
   "execution_count": null,
   "metadata": {},
   "outputs": [],
   "source": [
    "'''Build target function vector at the collocation points'''\n",
    "\n",
    "f_tilde_vec = np.array(f.values(x_tilde_pts))"
   ]
  },
  {
   "cell_type": "markdown",
   "metadata": {},
   "source": [
    "### [Optimal Combination Coefficients](#toc)<a id=\"coll-optimal-coeff\"></a>\n",
    "\n",
    "Compute the optimal coefficient vector by solving\n",
    "\n",
    "\\begin{equation*}\n",
    " \\tilde{\\Amtrx}^\\top\\tilde{\\Amtrx}\\,\\tilde{\\cvec}^* = \\tilde{\\Amtrx}^\\top\\,\\tilde{\\fvec} ,\n",
    "\\end{equation*}\n",
    "\n",
    "which has a unique solution as long as $\\tilde{\\Amtrx}$ is full rank. Rank deficiency can be avoided by selecting proper basis functions, say orthogonal, and proper *collocation* abscissa points, say unique values (this is not a sufficient condition but a good start). Otherwise the least-squares method for rank-deficient problem must be employed and the shortest, minimal residual 2-norm computed. Therefore everything done to this point depends also on a choice of collocation points $\\tilde{\\xvec}$. To make this clear, the optimal coefficient vector is denoted $\\tilde{\\cvec}^*$.\n",
    "\n",
    "In addition to $\\tilde{\\cvec}^*$, compute the residual 2-norm\n",
    "\n",
    "\\begin{equation*}\n",
    " \\norm{\\tilde{\\rvec}(\\tilde{\\cvec}^*)}_2 =  \\norm{\\tilde{\\fvec} - \\tilde{\\Amtrx}\\,\\tilde{\\cvec}^*}_2 ,\n",
    "\\end{equation*}\n",
    "\n",
    "which is the square root of the quantity to be minimized."
   ]
  },
  {
   "cell_type": "code",
   "execution_count": null,
   "metadata": {},
   "outputs": [],
   "source": [
    "'''Compute optimal coefficient vector'''\n",
    "\n",
    "import numpy as np\n",
    "\n",
    "try:    \n",
    "    from engy_5310.toolkit import solve \n",
    "    from engy_5310.toolkit import universal_solve\n",
    "except ModuleNotFoundError:\n",
    "    assert False, 'You need to provide your own code here. Bailing out.'\n",
    "\n",
    "if matrix_rank(a_tilde_mtrx) == min(a_tilde_mtrx.shape):\n",
    "    print('A is full rank; solve for least squares.')\n",
    "    #c_tilde_star_vec = solve(a_tilde_mtrx.transpose()@a_tilde_mtrx, a_tilde_mtrx.transpose()@f_tilde_vec)\n",
    "    c_tilde_star_vec = np.linalg.solve(a_tilde_mtrx.transpose()@a_tilde_mtrx, a_tilde_mtrx.transpose()@f_tilde_vec)\n",
    "else:\n",
    "    print('A is rank deficient; solve for shortest least squares')\n",
    "    c_tilde_star_vec = universal_solve(a_tilde_mtrx.transpose()@a_tilde_mtrx, a_tilde_mtrx.transpose()@f_tilde_vec,\n",
    "                                       pivot_tol=1e-6)\n",
    "print('')\n",
    "print('c_tilde_star_vec:\\n', c_tilde_star_vec)\n",
    "\n",
    "print('')        \n",
    "print('||r^*||_2 = %10.3e'%(np.linalg.norm(a_tilde_mtrx@c_tilde_star_vec-f_tilde_vec)))"
   ]
  },
  {
   "cell_type": "markdown",
   "metadata": {},
   "source": [
    "### [Best Approximant Function](#toc)<a id=\"coll-approximant\"></a>\n",
    "\n",
    "The best approximant non-linear function $g^*:\\Reals\\rightarrow\\Reals$, can be built as a vector-valued function for any set of points $\\xvec\\in\\Reals^p$,\n",
    "\n",
    "\\begin{equation*}\n",
    " \\boxed{\\gvec^*(\\xvec) = \\Amtrx(\\xvec)\\,\\tilde{\\cvec}^*} ,\n",
    "\\end{equation*}\n",
    "\n",
    "where $\\Amtrx(\\cdot)$ is the Fourier basis functions evaluation matrix on any given $\\xvec$. Note that $\\gvec$ is non-linear in $\\xvec$. Also note that by design,\n",
    "$\\gvec^*(\\tilde{\\xvec}) = \\Amtrx(\\tilde{\\xvec})\\,\\tilde{\\cvec}^* = \\tilde{\\Amtrx}\\,\\tilde{\\cvec}^* = \\tilde{\\gvec}(\\tilde{\\cvec}^*)$."
   ]
  },
  {
   "cell_type": "code",
   "execution_count": null,
   "metadata": {
    "code_folding": []
   },
   "outputs": [],
   "source": [
    "'''Build the best approximant function'''\n",
    "\n",
    "def g_best_vec_func(x_pts):\n",
    "    a_mtrx = lb.evaluate_matrix(x_pts)\n",
    "    return a_mtrx@c_tilde_star_vec"
   ]
  },
  {
   "cell_type": "markdown",
   "metadata": {},
   "source": [
    "### [Results](#toc)<a id=\"coll-res\"></a>"
   ]
  },
  {
   "cell_type": "code",
   "execution_count": null,
   "metadata": {},
   "outputs": [],
   "source": [
    "'''Plot comparison of f and g_best_vec'''\n",
    "\n",
    "n_pts = max(2 * m, 200)\n",
    "x_pts = np.linspace(x_min, x_max, n_pts)\n",
    "\n",
    "g_best_vec_1 = g_best_vec_func(x_pts)\n",
    "\n",
    "f.plot(g=(x_pts,g_best_vec_1), n_plot_pts=n_pts, show_x_pts=x_tilde_pts, title='Compare $f$ and $g$')"
   ]
  },
  {
   "cell_type": "markdown",
   "metadata": {},
   "source": [
    "### [Errors](#toc)<a id=\"coll-error\"></a>\n",
    "\n",
    "Errors are instrumental to judge how good an approximation is. However the is no one absolute strategy to judge the quality of an approximation. Here we list a few possibilities."
   ]
  },
  {
   "cell_type": "markdown",
   "metadata": {},
   "source": [
    "**Relative $L^2$ norm error:**\n",
    "\n",
    "\\begin{equation*}\n",
    " \\frac{ \\norm{f-g_\\text{best}}_{L^2(a,b)} }{ \\norm{f}_{L^2(a,b)}} \\, 100 .\n",
    "\\end{equation*}"
   ]
  },
  {
   "cell_type": "code",
   "execution_count": null,
   "metadata": {
    "code_folding": []
   },
   "outputs": [],
   "source": [
    "'''Relative L2 norm error'''\n",
    "\n",
    "from scipy.integrate import quad\n",
    "import math\n",
    "\n",
    "print('||f||_L2 =', f.l2_norm)\n",
    "\n",
    "x_ave = (x_min + x_max)/2\n",
    "x_length = x_max - x_min\n",
    "\n",
    "def g2_integrand(x):\n",
    "    x_hat = 2*(x-x_ave)/x_length\n",
    "    # single value call must be between -1 and 1\n",
    "    g_vec = g_best_vec_func(np.array([x_hat]))\n",
    "    return g_vec**2\n",
    "\n",
    "print('')\n",
    "\n",
    "g2_integral, error = quad(g2_integrand, x_min, x_max, limit=500)\n",
    "\n",
    "print('||g||_L2 =', math.sqrt(g2_integral))\n",
    "print('quadrature error =', error)\n",
    "\n",
    "def f_minus_g_2_integrand(x):\n",
    "    x_hat = 2*(x-x_ave)/x_length\n",
    "    # single value call must be between -1 and 1\n",
    "    g_vec = g_best_vec_func(np.array([x_hat]))\n",
    "    f_x = f.values(np.array([x]))\n",
    "    return (f_x-g_vec)**2\n",
    "\n",
    "print('')\n",
    "\n",
    "f_minus_g_2_integral, error = quad(f_minus_g_2_integrand, x_min, x_max, limit=500)\n",
    "print('||f-g||_L2 =', math.sqrt(f_minus_g_2_integral))\n",
    "print('quadrature error =', error)\n",
    "\n",
    "print('')\n",
    "print('Relative error [%] =', math.sqrt(f_minus_g_2_integral)/f.l2_norm[0]*100)"
   ]
  },
  {
   "cell_type": "markdown",
   "metadata": {},
   "source": [
    "### [Residual](#toc)<a id=\"coll-residual\"></a>\n",
    "\n",
    "**The residual vector also produces information on the goodness of the approximation.**\n",
    "\n",
    "An important property is to count how many positive and negative values in the residual exists. A good approximation will have an even distribution of positives and negatives, that is, the function is symmetric relative to the abscissa."
   ]
  },
  {
   "cell_type": "code",
   "execution_count": null,
   "metadata": {},
   "outputs": [],
   "source": [
    "'''Residual of the best approximant'''\n",
    "\n",
    "import matplotlib.pyplot as plt\n",
    "#%matplotlib inline\n",
    "\n",
    "n_pts = max(4 * m, 300)\n",
    "x_pts = np.linspace(x_min, x_max, n_pts)\n",
    "\n",
    "residual = f.values(x_pts) - g_best_vec_func(x_pts)\n",
    "residual_collocation_pts = f.values(x_tilde_pts) - g_best_vec_func(x_tilde_pts)\n",
    "print('Positives at collocation pts = ', tuple([True for p in residual_collocation_pts if p>0]).count(True))\n",
    "print('Negatives at collocation pts = ', tuple([True for p in residual_collocation_pts if p<0]).count(True))\n",
    "print('Positives = ', tuple([True for p in residual if p>0]).count(True))\n",
    "print('Negatives = ', tuple([True for p in residual if p<0]).count(True))\n",
    "  \n",
    "plt.figure(1, figsize=(14, 5))\n",
    "plt.plot(x_pts, residual)\n",
    "plt.plot(x_tilde_pts, f.values(x_tilde_pts)-g_best_vec_func(x_tilde_pts),'r*',label='collocation pts')\n",
    "plt.title(r'Residual $r(x) :\\!\\!= f(x) - g(x)$', fontsize=20)\n",
    "plt.ylabel(r'$r(x)$', fontsize=18)\n",
    "plt.xlabel(r'$x$', fontsize=18)\n",
    "plt.xticks(fontsize=16)\n",
    "plt.yticks(fontsize=16)\n",
    "plt.legend(loc='best',fontsize=12)\n",
    "plt.grid(True)\n",
    "plt.show()"
   ]
  },
  {
   "cell_type": "markdown",
   "metadata": {},
   "source": [
    "## [Experiment #1](#toc)<a id=\"ex1\"></a>\n",
    "\n",
    "Using the method of residual minimization of a linear combination of basis functions, compute an approximant to the given function $f:(a,b)\\in\\Reals\\rightarrow \\Reals$."
   ]
  },
  {
   "cell_type": "code",
   "execution_count": 7,
   "metadata": {},
   "outputs": [
    {
     "name": "stdout",
     "output_type": "stream",
     "text": [
      "# shape pts =  10\n"
     ]
    },
    {
     "data": {
      "image/png": "[encoded data removed]",
      "text/plain": [
       "<Figure size 1008x360 with 1 Axes>"
      ]
     },
     "metadata": {
      "needs_background": "light"
     },
     "output_type": "display_data"
    }
   ],
   "source": [
    "'''Consider another function'''\n",
    "\n",
    "try:    \n",
    "    from engy_5310.toolkit import TargetFunction   \n",
    "except ModuleNotFoundError:\n",
    "    assert False, 'You need to provide your own code here. Bailing out.'\n",
    "\n",
    "shape_pts = [(-6,-2), (-5,5), (-4,-10), (-3,14), (-1,26), (3,-12), (6, -1), (7, -12), (8,5), (13,-1)]\n",
    "print('# shape pts = ', len(shape_pts))\n",
    "\n",
    "f = TargetFunction(shape_pts, type='fourier')\n",
    "  \n",
    "f.plot(n_plot_pts=200, title='Target Function')"
   ]
  },
  {
   "cell_type": "code",
   "execution_count": 8,
   "metadata": {},
   "outputs": [
    {
     "data": {
      "image/png": "[encoded data removed]",
      "text/plain": [
       "<Figure size 1008x360 with 1 Axes>"
      ]
     },
     "metadata": {
      "needs_background": "light"
     },
     "output_type": "display_data"
    }
   ],
   "source": [
    "'''Collocation abscissa points'''\n",
    "import numpy as np\n",
    "\n",
    "x_min = shape_pts[0][0]\n",
    "x_max = shape_pts[-1][0]\n",
    "\n",
    "m = 20\n",
    "\n",
    "x_tilde_pts = np.linspace(x_min, x_max, m)\n",
    "\n",
    "f.plot(n_plot_pts=200, show_x_pts=x_tilde_pts, title='Collocation Points on Target Function')"
   ]
  },
  {
   "cell_type": "code",
   "execution_count": 9,
   "metadata": {},
   "outputs": [],
   "source": [
    "'''Build the basis functions'''\n",
    "\n",
    "try:    \n",
    "    from engy_5310.toolkit import LegendreBasis\n",
    "except ModuleNotFoundError:\n",
    "    assert False, 'You need to provide your own code here. Bailing out.'\n",
    "    \n",
    "degree = 8\n",
    "\n",
    "lb = LegendreBasis(degree, x_min, x_max)"
   ]
  },
  {
   "cell_type": "code",
   "execution_count": 10,
   "metadata": {},
   "outputs": [
    {
     "name": "stdout",
     "output_type": "stream",
     "text": [
      "A is overdetermined.\n"
     ]
    }
   ],
   "source": [
    "'''Build basis functions'''\n",
    " \n",
    "degree = 8\n",
    "\n",
    "lb = LegendreBasis(degree, x_min, x_max)\n",
    "a_tilde_mtrx = lb.evaluate_matrix(x_tilde_pts)\n",
    "f_tilde_vec = f.values(x_tilde_pts)\n",
    "\n",
    "if a_tilde_mtrx.shape[0] > a_tilde_mtrx.shape[1]:\n",
    "    print('A is overdetermined.')\n",
    "elif a_tilde_mtrx.shape[0] < a_tilde_mtrx.shape[1]:\n",
    "    print('A is underdetermined.')  \n",
    "else:\n",
    "    print('A is determined.')"
   ]
  },
  {
   "cell_type": "code",
   "execution_count": null,
   "metadata": {},
   "outputs": [],
   "source": [
    "'''Compute optimal coefficient vector'''\n",
    "\n",
    "import numpy as np\n",
    "\n",
    "try:    \n",
    "    from engy_5310.toolkit import solve \n",
    "    from engy_5310.toolkit import universal_solve\n",
    "    from engy_5310.toolkit import matrix_rank\n",
    "except ModuleNotFoundError:\n",
    "    assert False, 'You need to provide your own code here. Bailing out.'\n",
    "\n",
    "if matrix_rank(a_tilde_mtrx) == min(a_tilde_mtrx.shape):\n",
    "    print('A is full rank.')\n",
    "    #c_tilde_star_vec = solve(a_tilde_mtrx.transpose()@a_tilde_mtrx, a_tilde_mtrx.transpose()@f_tilde_vec)\n",
    "    c_tilde_star_vec = np.linalg.solve(a_tilde_mtrx.transpose()@a_tilde_mtrx, a_tilde_mtrx.transpose()@f_tilde_vec)\n",
    "else:\n",
    "    print('A is rank deficient.')\n",
    "    c_tilde_star_vec = universal_solve(a_tilde_mtrx.transpose()@a_tilde_mtrx, a_tilde_mtrx.transpose()@f_tilde_vec,\n",
    "                                       pivot_tol=1e-6)\n",
    "print('')\n",
    "print('c_tilde_star_vec:\\n', c_tilde_star_vec)\n",
    "\n",
    "print('')        \n",
    "print('||r^*||_2 = %10.3e'%(np.linalg.norm(a_tilde_mtrx@c_tilde_star_vec-f_tilde_vec)))"
   ]
  },
  {
   "cell_type": "code",
   "execution_count": null,
   "metadata": {
    "code_folding": []
   },
   "outputs": [],
   "source": [
    "'''Build the best approximant function'''\n",
    "\n",
    "def g_best_vec_func(x_pts):\n",
    "    lb = LegendreBasis(degree, x_min, x_max)\n",
    "    a_mtrx = lb.evaluate_matrix(x_pts)\n",
    "    return a_mtrx@c_tilde_star_vec"
   ]
  },
  {
   "cell_type": "code",
   "execution_count": null,
   "metadata": {},
   "outputs": [],
   "source": [
    "'''Plot comparison of f and g_vec'''\n",
    "\n",
    "n_pts = max(2 * m, 250)\n",
    "x_pts = np.linspace(x_min, x_max, n_pts)\n",
    "\n",
    "g_vec = g_best_vec_func(x_pts)\n",
    "\n",
    "f.plot(g=(x_pts,g_vec), n_plot_pts=n_pts, show_x_pts=x_tilde_pts, title='Compare $f$ and $g$')"
   ]
  },
  {
   "cell_type": "code",
   "execution_count": null,
   "metadata": {
    "code_folding": []
   },
   "outputs": [],
   "source": [
    "'''Relative L2 norm error'''\n",
    "\n",
    "from scipy.integrate import quad\n",
    "import math\n",
    "\n",
    "print('||f||_L2 =', f.l2_norm)\n",
    "\n",
    "x_ave = (x_min + x_max)/2\n",
    "x_length = x_max - x_min\n",
    "\n",
    "def g2_integrand(x):\n",
    "    x_hat = 2*(x-x_ave)/x_length\n",
    "    # single value call must be between -1 and 1\n",
    "    g_vec = g_best_vec_func(np.array([x_hat]))\n",
    "    return g_vec**2\n",
    "\n",
    "print('')\n",
    "\n",
    "g2_integral, error = quad(g2_integrand, x_min, x_max, limit=500)\n",
    "\n",
    "print('||g||_L2 =', math.sqrt(g2_integral))\n",
    "print('quadrature error =', error)\n",
    "\n",
    "def f_minus_g_2_integrand(x):\n",
    "    f_x = f.values(np.array([x]))\n",
    "    x_hat = 2*(x-x_ave)/x_length\n",
    "    # single value call must be between -1 and 1\n",
    "    g_vec = g_best_vec_func(np.array([x_hat]))\n",
    "    return (f_x-g_vec)**2\n",
    "\n",
    "print('')\n",
    "\n",
    "f_minus_g_2_integral, error = quad(f_minus_g_2_integrand, x_min, x_max, limit=500)\n",
    "print('||f-g||_L2 =', math.sqrt(f_minus_g_2_integral))\n",
    "print('quadrature error =', error)\n",
    "\n",
    "print('')\n",
    "print('Relative error [%] =', math.sqrt(f_minus_g_2_integral)/f.l2_norm[0]*100)"
   ]
  },
  {
   "cell_type": "code",
   "execution_count": null,
   "metadata": {},
   "outputs": [],
   "source": [
    "'''Residual of the best approximant'''\n",
    "\n",
    "import matplotlib.pyplot as plt\n",
    "%matplotlib inline\n",
    "\n",
    "n_pts = max(4 * m, 300)\n",
    "x_pts = np.linspace(x_min, x_max, n_pts)\n",
    "\n",
    "residual = f.values(x_pts) - g_best_vec_func(x_pts)\n",
    "residual_collocation_pts = f.values(x_tilde_pts) - g_best_vec_func(x_tilde_pts)\n",
    "print('Positives at collocation pts = ', tuple([True for p in residual_collocation_pts if p>0]).count(True))\n",
    "print('Negatives at collocation pts = ', tuple([True for p in residual_collocation_pts if p<0]).count(True))\n",
    "print('Positives = ', tuple([True for p in residual if p>0]).count(True))\n",
    "print('Negatives = ', tuple([True for p in residual if p<0]).count(True))\n",
    "  \n",
    "plt.figure(1, figsize=(14, 5))\n",
    "plt.plot(x_pts, residual)\n",
    "plt.plot(x_tilde_pts, f.values(x_tilde_pts)-g_best_vec_func(x_tilde_pts),'r*',label='collocation pts')\n",
    "plt.title('Residual Signed Difference', fontsize=20)\n",
    "plt.ylabel(r'$r(x)$', fontsize=18)\n",
    "plt.xlabel(r'$x$', fontsize=18)\n",
    "plt.xticks(fontsize=16)\n",
    "plt.yticks(fontsize=16)\n",
    "plt.legend(loc='best',fontsize=12)\n",
    "plt.grid(True)\n",
    "plt.show()"
   ]
  }
 ],
 "metadata": {
  "kernelspec": {
   "display_name": "Python 3",
   "language": "python",
   "name": "python3"
  },
  "language_info": {
   "codemirror_mode": {
    "name": "ipython",
    "version": 3
   },
   "file_extension": ".py",
   "mimetype": "text/x-python",
   "name": "python",
   "nbconvert_exporter": "python",
   "pygments_lexer": "ipython3",
   "version": "3.9.6"
  },
  "latex_envs": {
   "LaTeX_envs_menu_present": true,
   "autoclose": false,
   "autocomplete": true,
   "bibliofile": "biblio.bib",
   "cite_by": "apalike",
   "current_citInitial": 1,
   "eqLabelWithNumbers": true,
   "eqNumInitial": 1,
   "hotkeys": {
    "equation": "Ctrl-E",
    "itemize": "Ctrl-I"
   },
   "labels_anchors": false,
   "latex_user_defs": false,
   "report_style_numbering": false,
   "user_envs_cfg": false
  },
  "toc": {
   "base_numbering": 1,
   "nav_menu": {},
   "number_sections": true,
   "sideBar": true,
   "skip_h1_title": false,
   "title_cell": "Table of Contents",
   "title_sidebar": "Contents",
   "toc_cell": false,
   "toc_position": {
    "height": "calc(100% - 180px)",
    "left": "10px",
    "top": "150px",
    "width": "220.75px"
   },
   "toc_section_display": true,
   "toc_window_display": false
  }
 },
 "nbformat": 4,
 "nbformat_minor": 2
}

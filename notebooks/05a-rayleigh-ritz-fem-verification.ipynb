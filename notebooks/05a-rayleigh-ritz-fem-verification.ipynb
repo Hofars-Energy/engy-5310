{
 "cells": [
  {
   "cell_type": "markdown",
   "metadata": {},
   "source": [
    "ChEn-5310: Computational Continuum Transport Phenomena Fall 2021 UMass Lowell; Prof. V. F. de Almeida **16Oct21**\n",
    "\n",
    "# 05a. Rayleigh-Ritz Lagrange Finite Element Method Verification\n",
    "$  \n",
    "  \\newcommand{\\Amtrx}{\\boldsymbol{\\mathsf{A}}}\n",
    "  \\newcommand{\\Bmtrx}{\\boldsymbol{\\mathsf{B}}}\n",
    "  \\newcommand{\\Mmtrx}{\\boldsymbol{\\mathsf{M}}}\n",
    "  \\newcommand{\\Imtrx}{\\boldsymbol{\\mathsf{I}}}\n",
    "  \\newcommand{\\Pmtrx}{\\boldsymbol{\\mathsf{P}}}\n",
    "  \\newcommand{\\Lmtrx}{\\boldsymbol{\\mathsf{L}}}\n",
    "  \\newcommand{\\Umtrx}{\\boldsymbol{\\mathsf{U}}}\n",
    "  \\newcommand{\\Smtrx}{\\boldsymbol{\\mathsf{S}}}\n",
    "  \\newcommand{\\xvec}{\\boldsymbol{\\mathsf{x}}}\n",
    "  \\newcommand{\\avec}{\\boldsymbol{\\mathsf{a}}}\n",
    "  \\newcommand{\\bvec}{\\boldsymbol{\\mathsf{b}}}\n",
    "  \\newcommand{\\cvec}{\\boldsymbol{\\mathsf{c}}}\n",
    "  \\newcommand{\\rvec}{\\boldsymbol{\\mathsf{r}}}\n",
    "  \\newcommand{\\fvec}{\\boldsymbol{\\mathsf{f}}}\n",
    "  \\newcommand{\\mvec}{\\boldsymbol{\\mathsf{m}}}\n",
    "  \\newcommand{\\gvec}{\\boldsymbol{\\mathsf{g}}}\n",
    "  \\newcommand{\\zerovec}{\\boldsymbol{\\mathsf{0}}}\n",
    "  \\newcommand{\\norm}[1]{\\bigl\\lVert{#1}\\bigr\\rVert}\n",
    "  \\newcommand{\\transpose}[1]{{#1}^\\top}\n",
    "  \\DeclareMathOperator{\\rank}{rank}\n",
    "  \\newcommand{\\Reals}{\\mathbb{R}}\n",
    "  \\newcommand{\\thetavec}{\\boldsymbol{\\theta}}\n",
    "  \\newcommand{\\Ecal}{\\mathcal{E}}\n",
    "$"
   ]
  },
  {
   "cell_type": "markdown",
   "metadata": {},
   "source": [
    "---\n",
    "\n",
    "## Table of Contents<a id=\"toc\"></a>\n",
    "* [Objectives](#obj)\n",
    "1. [Poisson Problem with Dirichlet Boundary Conditions](#problem)\n",
    "1. [Manufactured Solution](#manufactured-solution)\n",
    "   + [Data](#data)\n",
    "   + [Manufactured Function](#manufactured-function)\n",
    "   + [Manufactured Source](#manufactured-source)\n",
    "1. [Rayleigh-Ritz Method w/ Finite Element Basis Functions](#rayleigh-ritz-fem)\n",
    "   + [Lift function](#lift-function)\n",
    "   + [Finite Element Lagrange Basis Functions](#fem-lagrange-basis-inhomogeneous)\n",
    "      - [FEM Solution](#results-lagrange)\n",
    "   + [Finite Element Cubic Hermite Functions](#fem-hermite-basis-inhomogeneous)\n",
    "      - [FEM Solution](#results-hermite)\n",
    "   + [Mesh Convergence](#mesh-convergence)\n",
    "      - [Lagrange Basis Functions](#mesh-convergence-lagrange)\n",
    "---"
   ]
  },
  {
   "cell_type": "markdown",
   "metadata": {},
   "source": [
    "## [Objectives](#toc)<a id=\"obj\"></a>\n",
    "\n",
    " + Describe the method of manufactured solutions for verification.\n",
    " + Use the function approximation theory described in the course (see previous notebooks and notes) to build manufactured solutions.\n",
    " + Evaluate the error of the Rayleigh-Ritz method for solving linear differential equations with symmetric positive definite operators ([OneNote notes: rayleigh-ritz-method](https://studentuml-my.sharepoint.com/:o:/g/personal/valmor_dealmeida_uml_edu/EsTzIb2Mcv5OkcSk0kSXXF8BXM4OnlzGfAd7sdcWLky-Gw?e=nglTrN).\n",
    " + Apply the finite element Lagrange basis function approach."
   ]
  },
  {
   "cell_type": "markdown",
   "metadata": {},
   "source": [
    "## [Poisson Problem with Dirichlet Boundary Conditions](#toc)<a id=\"problem\"></a>\n",
    "\n",
    "The following sections describe what is referred to in the literature as the one-dimensional Poisson problem with Dirichlet boundary conditions. This is a classical boundary-value problem of mathematics."
   ]
  },
  {
   "cell_type": "markdown",
   "metadata": {},
   "source": [
    "Solve the Poisson model problem. Find $u:[a,b]\\subset\\Reals\\rightarrow\\Reals$ such that:\n",
    "\n",
    "\\begin{align*}\n",
    " -\\bigl(-D(x)\\, u'\\bigr)'(x) + S(x)\\,u(x) + f(x) &= 0 \\quad\\quad \\forall \\quad\\quad x\\in [a,b], \\\\\n",
    " u(a) &= u_a, \\\\\n",
    " u(b) &= u_b.\n",
    "\\end{align*}\n",
    "   \n",
    "This problem is linear and has an analytical solution for given data: diffusion coefficient, $D(x)$, source, $S(x)$ slope, source bias, $f(x)$. The *diffusion flux* associated to the quantity $u$, is denoted $q := -D(x)\\,u'$, and it is often of interest as a derived quantity.\n",
    "\n",
    "The values of the dependent variable are given on the two end points of the domain. This is called *essential* boundary conditions or  *Dirichlet boundary conditions*. If the values are equal to zero, the boundary condition is referred to as homogeneous."
   ]
  },
  {
   "cell_type": "markdown",
   "metadata": {},
   "source": [
    "## [Manufactured Solution](#toc)<a id=\"manufactured-solution\"></a>\n",
    "\n",
    "Give the scaffolding below, build a manufactured solution by computing the corresponding source function."
   ]
  },
  {
   "cell_type": "markdown",
   "metadata": {},
   "source": [
    "### [Data](#toc)<a id=\"data\"></a>\n",
    "\n",
    "Solve problem with parameter values:\n",
    "\n",
    "> + a = 0 cm\n",
    "> + b = 25 cm\n",
    "> + $u_a$ = given below g/cc\n",
    "> + $u_b$ = given below g/cc\n",
    "> + D = given below cm^2/s\n",
    "> + S = given below  $s^{-1}$\n",
    "> + f(x) = manufactured below g/cc-s"
   ]
  },
  {
   "cell_type": "code",
   "execution_count": null,
   "metadata": {},
   "outputs": [],
   "source": [
    "'''Domain'''\n",
    "\n",
    "x_a = 0\n",
    "x_b = 25"
   ]
  },
  {
   "cell_type": "code",
   "execution_count": null,
   "metadata": {},
   "outputs": [],
   "source": [
    "'''Parameters and data'''\n",
    "\n",
    "diff_coeff = 0.1\n",
    "source_slope_value = -1e-2\n",
    "\n",
    "u_a_0 = 3.5  # initial value\n",
    "u_b_0 = 3.5  # initial value"
   ]
  },
  {
   "cell_type": "code",
   "execution_count": null,
   "metadata": {},
   "outputs": [],
   "source": [
    "'''Generate the scaffolding of the manufactured solution'''\n",
    "\n",
    "from engy_5310.toolkit import TargetFunction   \n",
    "import numpy as np\n",
    "\n",
    "shape_pts_y = [u_a_0,10,-7,-5,9,-8,28,-23,12,1,10,15,18,u_b_0]\n",
    "shape_pts_x = [x for x in np.linspace(x_a, x_b, len(shape_pts_y))]\n",
    "shape_pts = list(zip(shape_pts_x, shape_pts_y))\n",
    "\n",
    "f = TargetFunction(shape_pts, type='linear')\n",
    "      \n",
    "f.plot(n_plot_pts=300, show_shape_pts=True, title='Target Function')"
   ]
  },
  {
   "cell_type": "code",
   "execution_count": null,
   "metadata": {},
   "outputs": [],
   "source": [
    "'''Build the basis functions list'''\n",
    "\n",
    "import math\n",
    "\n",
    "wavelength = x_b - x_a\n",
    "kappa = 2*math.pi/wavelength\n",
    "\n",
    "N = 10 # number of pairs of sine/cosine\n",
    "\n",
    "try:    \n",
    "    from engy_5310.toolkit import FourierBasis  \n",
    "except ModuleNotFoundError:\n",
    "    assert False, 'You need to provide your own code here. Bailing out.'\n",
    "\n",
    "fb = FourierBasis(kappa, N, x_a, x_b)\n",
    "fb.plot()"
   ]
  },
  {
   "cell_type": "code",
   "execution_count": null,
   "metadata": {},
   "outputs": [],
   "source": [
    "'''Build the Gram matrix'''\n",
    "\n",
    "gram_mtrx = fb.gram_matrix(constrain_end_points=True)\n",
    "\n",
    "#np.set_printoptions(precision=1, threshold=1000, edgeitems=20, linewidth=200)\n",
    "#print(gram_mtrx)\n",
    "\n",
    "if gram_mtrx.shape[0] > gram_mtrx.shape[1]:\n",
    "    print('G is overdetermined.')\n",
    "elif gram_mtrx.shape[0] < gram_mtrx.shape[1]:\n",
    "    print('G is underdetermined.')  \n",
    "else:\n",
    "    print('G is determined.')\n",
    "\n",
    "try:    \n",
    "    from engy_5310.toolkit import matrix_rank\n",
    "except ModuleNotFoundError:\n",
    "    assert False, 'You need to provide your own code here. Bailing out.'\n",
    "    \n",
    "if matrix_rank(gram_mtrx) == min(gram_mtrx.shape):\n",
    "    print('G is full rank.')\n",
    "else:\n",
    "    print('G is rank deficient.')"
   ]
  },
  {
   "cell_type": "code",
   "execution_count": null,
   "metadata": {},
   "outputs": [],
   "source": [
    "'''Build load vector'''\n",
    "\n",
    "b_vec = np.zeros(len(fb.basis_func_list), dtype=np.float64)\n",
    "\n",
    "for i, phi_i in enumerate(fb.basis_func_list):\n",
    "    (b_vec[i], _) = fb.inner_product(f, phi_i, epsabs=1e-3, epsrel=1.e-3, limit=1500) \\\n",
    "                  + f(x_a)*phi_i(x_a) + f(x_b)*phi_i(x_b)               "
   ]
  },
  {
   "cell_type": "code",
   "execution_count": null,
   "metadata": {},
   "outputs": [],
   "source": [
    "'''Compute optimal coefficient vector'''\n",
    "\n",
    "beta_vec = np.linalg.solve(gram_mtrx, b_vec)"
   ]
  },
  {
   "cell_type": "markdown",
   "metadata": {},
   "source": [
    "### [Manufactured Function](#toc)<a id=\"manufactured-function\"></a>"
   ]
  },
  {
   "cell_type": "code",
   "execution_count": null,
   "metadata": {},
   "outputs": [],
   "source": [
    "'''Build the best approximant function'''\n",
    "\n",
    "def u_manufactured(x):\n",
    "    return fb.evaluation_matrix(x)@beta_vec\n",
    "\n",
    "def u_prime_manufactured(x):\n",
    "    return fb.evaluation_matrix(x, derivative=True)@beta_vec\n",
    "\n",
    "def diff_flux_x_manufactured(x):\n",
    "    return -diff_coeff*u_prime_manufactured(x)"
   ]
  },
  {
   "cell_type": "code",
   "execution_count": null,
   "metadata": {},
   "outputs": [],
   "source": [
    "'''Plot comparison of '''\n",
    "\n",
    "n_pts = 300\n",
    "x_pts = np.linspace(x_a, x_b, n_pts)\n",
    "\n",
    "u = u_manufactured(x_pts)\n",
    "\n",
    "f.plot(g=(x_pts,u), n_plot_pts=n_pts, \n",
    "       title=r'Manufactured Function $u_\\mathrm{mfac}$ ($m\\rightarrow\\infty$, n='+str(len(fb.basis_func_list))+')',\n",
    "       f_line_style='dashed', g_line_style='continuous')"
   ]
  },
  {
   "cell_type": "code",
   "execution_count": null,
   "metadata": {},
   "outputs": [],
   "source": [
    "print('u_mfac(x_a) = ', u_manufactured(x_a), '; u_a_0 = ', u_a_0)\n",
    "print('u_mfac(x_b) = ', u_manufactured(x_b), '; u_b_0 = ', u_b_0)"
   ]
  },
  {
   "cell_type": "code",
   "execution_count": null,
   "metadata": {},
   "outputs": [],
   "source": [
    "print(\"u'_mfac(x_a) = \", u_prime_manufactured(x_a))\n",
    "print(\"u'_mfac(x_b) = \", u_prime_manufactured(x_b))"
   ]
  },
  {
   "cell_type": "code",
   "execution_count": null,
   "metadata": {},
   "outputs": [],
   "source": [
    "'''Update Boundary Condition Values'''\n",
    "\n",
    "u_a = u_manufactured(x_a)\n",
    "u_b = u_manufactured(x_b)"
   ]
  },
  {
   "cell_type": "markdown",
   "metadata": {},
   "source": [
    "### [Manufactured Source](#toc)<a id=\"manufactured-source\"></a>"
   ]
  },
  {
   "cell_type": "code",
   "execution_count": null,
   "metadata": {},
   "outputs": [],
   "source": [
    "'''Build the best approximant function'''\n",
    "\n",
    "def u_prime2_manufactured(x):\n",
    "    return fb.evaluation_matrix(x, derivative_2=True)@beta_vec"
   ]
  },
  {
   "cell_type": "code",
   "execution_count": null,
   "metadata": {},
   "outputs": [],
   "source": [
    "'''Build the best approximant function'''\n",
    "\n",
    "def source_bias(x):\n",
    "    return -diff_coeff * u_prime2_manufactured(x) - source_slope_value * u_manufactured(x)"
   ]
  },
  {
   "cell_type": "code",
   "execution_count": null,
   "metadata": {},
   "outputs": [],
   "source": [
    "'''Source function'''\n",
    "\n",
    "n_pts = 500\n",
    "x = np.linspace(x_a, x_b, n_pts)\n",
    "f_values = source_bias(x)\n",
    "s_u_values = source_slope_value * u_manufactured(x)\n",
    "\n",
    "import matplotlib.pyplot as plt\n",
    "#%matplotlib inline\n",
    "#plt.style.use('dark_background')\n",
    "(fig, ax1) = plt.subplots(1, figsize=(14, 5))\n",
    "\n",
    "ax1.plot(x, f_values, 'r-', label='Source Bias function')\n",
    "ax1.set_xlabel(r'$x$ [cm]', fontsize=18)\n",
    "ax1.set_ylabel(r'$f(x)$', fontsize=18, color='red')\n",
    "ax1.tick_params(axis='y', labelcolor='red', labelsize=16)\n",
    "ax1.tick_params(axis='x', labelsize=16)\n",
    "ax1.legend(loc='upper left', fontsize=12)\n",
    "ax1.grid(True)\n",
    "\n",
    "ax2 = ax1.twinx()\n",
    "ax2.plot(x, s_u_values,'-', color='blue', label='Source linear term')\n",
    "ax2.set_ylabel(r\"$S(x)\\, u_\\mathrm{mfac}(x)$\", fontsize=16, color='blue')\n",
    "ax2.tick_params(axis='y', labelcolor='blue', labelsize=16)\n",
    "ax2.legend(loc='upper right', fontsize=12)\n",
    "\n",
    "ax3 = ax1.twinx()\n",
    "ax3.plot(x, s_u_values+f_values,'-', color='black', label='Source')\n",
    "ax3.set_ylabel(r\"$S(x)\\, u_\\mathrm{mfac}(x) + f(x)$\", fontsize=16, color='black')\n",
    "ax3.tick_params(axis='y', labelcolor='black', labelsize=16)\n",
    "ax3.legend(loc='upper center', fontsize=12)\n",
    "ax3.spines[\"right\"].set_position((\"axes\", 1.125))\n",
    "\n",
    "plt.title(r'Manufactured Source', fontsize=20)\n",
    "plt.show()"
   ]
  },
  {
   "cell_type": "code",
   "execution_count": null,
   "metadata": {},
   "outputs": [],
   "source": [
    "'''Source bias evaluated at the boundaries'''\n",
    "\n",
    "np.set_printoptions(precision=5)\n",
    "print('f(x_a) = ',source_bias(x_a), '   f(x_b) = ',source_bias(x_b))"
   ]
  },
  {
   "cell_type": "markdown",
   "metadata": {},
   "source": [
    "## [Rayleigh-Ritz Method w/ Finite Element Basis Functions](#toc)<a id=\"rayleigh-ritz-fem\"></a>\n",
    "\n",
    "Find $u^*_N \\in V_N(a,b)\\subset V(a,b) = \\bigl\\{ u:[a,b]\\subset\\Reals\\rightarrow\\Reals  \\bigr\\}$ such that it minimizes the constrained Poisson energy norm:\n",
    "\n",
    "\\begin{equation*}\n",
    "  \\norm{u_0+w-u^*_N}^2_{\\Ecal} = \\min\\limits_{u_N\\, \\in\\, V_N} \\norm{u_0+w-u_N}^2_{\\Ecal},\n",
    "\\end{equation*}\n",
    "\n",
    "where \n",
    "$V_N(a,b) := \\bigl\\{ u_N = \\sum\\limits_{i=1}^N\\,c_i\\,\\phi_i \\mid u_N(a) = u_N(b) = 0, (u'_N,u'_N) < \\infty \\bigr\\}$, $\\{\\phi_i\\mid i=1\\ldots,N\\}$ is a basis of $V_N(a,b)$, and any $w \\in V$ with $w(a) = u_a$, $w(b) = u_b$ is called the *lift* function. $u_0 \\in V(a,b)$ is the solution of the homogeneous problem.\n",
    "\n",
    "The optimum coefficients $\\cvec^* := \\{c_i\\mid i=1,\\ldots,N\\}$ solve\n",
    "\n",
    "\\begin{equation*}\n",
    " \\overset{(N\\times N)}{\\Amtrx}\\,\\overset{(N\\times 1)}{\\cvec^*} = \\overset{(N\\times 1)}\\bvec ,\n",
    "\\end{equation*}\n",
    "\n",
    "where:\n",
    "  + $A_{i,j} = (D\\,\\phi'_i,\\phi'_j) - (S\\,\\phi_i,\\phi_j)$\n",
    "  + $b_i = (f,\\phi_i) - (D\\,w',\\phi'_i) + (S\\,w,\\phi_i)$\n",
    "  \n",
    "This formulation uses basis functions that satisfy homogeneous boundary conditions, however the linear algebraic problem for the optimum coefficients accounts for the inhomogeneous boundary condition data through the lift function $w$."
   ]
  },
  {
   "cell_type": "markdown",
   "metadata": {},
   "source": [
    "### [Lift Function](#toc)<a id=\"lift-function\"></a>\n",
    "Since $w\\in V(a,b)$, construct as follows $w = \\sum\\limits_{i=1}^N\\,\\alpha_i\\,\\phi_i$ such that $w(a) = u_a$ and $w(b) = u_b$."
   ]
  },
  {
   "cell_type": "code",
   "execution_count": null,
   "metadata": {},
   "outputs": [],
   "source": [
    "'''Build the lift basis functions'''\n",
    "\n",
    "degree = 1\n",
    "\n",
    "try:    \n",
    "    from engy_5310.toolkit import LagrangeFEMBasis  \n",
    "except ModuleNotFoundError:\n",
    "    assert False, 'You need to provide your own code here. Bailing out.'\n",
    "\n",
    "lift_basis = LagrangeFEMBasis(degree=degree, n_elem=1, x_partition=[x_a, x_b])\n",
    "lift_basis.plot(n_plot_pts=300)"
   ]
  },
  {
   "cell_type": "code",
   "execution_count": null,
   "metadata": {},
   "outputs": [],
   "source": [
    "'''Build the coefficients of the lift function'''\n",
    "\n",
    "alpha_vec = np.zeros(len(lift_basis.basis_func_list))\n",
    "alpha_vec[0] = u_a\n",
    "if degree == 2:\n",
    "   alpha_vec[-2] = u_b\n",
    "else:\n",
    "   alpha_vec[-1] = u_b"
   ]
  },
  {
   "cell_type": "code",
   "execution_count": null,
   "metadata": {},
   "outputs": [],
   "source": [
    "'''Build the lift function'''\n",
    "\n",
    "def w_lift(x):\n",
    "    return lift_basis.evaluation_matrix(x)@alpha_vec"
   ]
  },
  {
   "cell_type": "code",
   "execution_count": null,
   "metadata": {},
   "outputs": [],
   "source": [
    "'''Build the lift function derivative'''\n",
    "\n",
    "def w_lift_prime(x):\n",
    "    return lift_basis.evaluation_matrix(x, derivative=True)@alpha_vec"
   ]
  },
  {
   "cell_type": "code",
   "execution_count": null,
   "metadata": {},
   "outputs": [],
   "source": [
    "'''Test boundary values'''\n",
    "\n",
    "print('w(a) = ',w_lift(x_a), ' w(b) = ', w_lift(x_b))"
   ]
  },
  {
   "cell_type": "code",
   "execution_count": null,
   "metadata": {},
   "outputs": [],
   "source": [
    "'''Rayleigh Ritz Method with Lagrange Basis Functions'''\n",
    "\n",
    "n_pts = 500\n",
    "x = np.linspace(x_a, x_b, n_pts)\n",
    "u_values = w_lift(x)\n",
    "\n",
    "import matplotlib.pyplot as plt\n",
    "#%matplotlib inline\n",
    "#plt.style.use('dark_background')\n",
    "plt.figure(1, figsize=(14, 5))\n",
    "\n",
    "plt.plot(x, u_values, 'r-', label='Lift function')\n",
    "\n",
    "plt.title(r'Rayleigh-Ritz Method with Finite Element Lagrange Basis Functions (n='+str(len(lift_basis.basis_func_list))+')', fontsize=20)\n",
    "plt.ylabel(r'$w(x)$', fontsize=18)\n",
    "plt.xlabel(r'$x$', fontsize=18)\n",
    "plt.xticks(fontsize=16)\n",
    "plt.yticks(fontsize=16)\n",
    "plt.legend(loc='best',fontsize=12)\n",
    "plt.grid(True)\n",
    "plt.show()"
   ]
  },
  {
   "cell_type": "markdown",
   "metadata": {},
   "source": [
    "### [Finite Element Lagrange Basis Functions](#toc)<a id=\"fem-lagrange-basis-inhomogeneous\"></a>"
   ]
  },
  {
   "cell_type": "code",
   "execution_count": null,
   "metadata": {},
   "outputs": [],
   "source": [
    "'''Build the basis functions'''\n",
    "\n",
    "degree = 1\n",
    "n_elem=[8,16,8]\n",
    "\n",
    "#degree = [2,3,2]\n",
    "#n_elem = [3,8,3]\n",
    "\n",
    "try:    \n",
    "    from engy_5310.toolkit import LagrangeFEMBasis  \n",
    "except ModuleNotFoundError:\n",
    "    assert False, 'You need to provide your own code here. Bailing out.'\n",
    "    \n",
    "femlb = LagrangeFEMBasis(degree=degree, n_elem=n_elem, x_partition=[x_a, x_a+2, x_b-2, x_b], bc_x_min='dirichlet', bc_x_max='dirichlet')\n",
    "femlb.plot(n_plot_pts=800)"
   ]
  },
  {
   "cell_type": "code",
   "execution_count": null,
   "metadata": {
    "code_folding": []
   },
   "outputs": [],
   "source": [
    "'''Build the matrix of coefficients of the linear system'''\n",
    "\n",
    "import numpy as np\n",
    "\n",
    "def get_a_mtrx(femlb):\n",
    "    n = len(femlb.basis_func_list)\n",
    "    a_mtrx = np.zeros((n, n), dtype=np.float64)\n",
    "  \n",
    "    for i,phi_prime_i in enumerate(femlb.basis_func_prime_list):\n",
    "        for j,phi_prime_j in enumerate(femlb.basis_func_prime_list):\n",
    "            (a_ij, _) = femlb.inner_product(phi_prime_j, phi_prime_i)\n",
    "            a_mtrx[i,j] = a_ij * diff_coeff\n",
    "        \n",
    "    for i,phi_i in enumerate(femlb.basis_func_list):\n",
    "        for j,phi_j in enumerate(femlb.basis_func_list):\n",
    "            s_x_phi_j = lambda x: source_slope_value * phi_j(x)\n",
    "            (a_ij, _) = femlb.inner_product(s_x_phi_j, phi_i)\n",
    "            a_mtrx[i,j] -= a_ij\n",
    "            \n",
    "    return a_mtrx"
   ]
  },
  {
   "cell_type": "code",
   "execution_count": null,
   "metadata": {},
   "outputs": [],
   "source": [
    "'''Form matrix'''\n",
    "\n",
    "a_mtrx = get_a_mtrx(femlb)\n",
    "\n",
    "try:    \n",
    "    from engy_5310.toolkit import matrix_rank\n",
    "except ModuleNotFoundError:\n",
    "    assert False, 'You need to provide your own code here. Bailing out.'\n",
    "    \n",
    "if matrix_rank(a_mtrx) == min(a_mtrx.shape):\n",
    "    print('A is full rank.')\n",
    "else:\n",
    "    print('A is rank deficient.')"
   ]
  },
  {
   "cell_type": "code",
   "execution_count": null,
   "metadata": {},
   "outputs": [],
   "source": [
    "np.set_printoptions(precision=2, threshold=200, edgeitems=10, linewidth=170)\n",
    "a_mtrx"
   ]
  },
  {
   "cell_type": "code",
   "execution_count": null,
   "metadata": {
    "code_folding": []
   },
   "outputs": [],
   "source": [
    "'''Element-by-element assembly'''\n",
    "from scipy.integrate import quad\n",
    "\n",
    "def assemble_a_matrix(a_mtrx, femlb):\n",
    "    \n",
    "    n = len(femlb.parent_basis_func_list[1])\n",
    "    local_to_global_node_id_map = femlb.local_to_global_node_id_map\n",
    "    local_a_mtrx = np.zeros((n, n), dtype=np.float64)\n",
    "    \n",
    "    for I in range(n):\n",
    "        parent_basis_func_prime_I = femlb.parent_basis_func_prime_list[1][I]\n",
    "        parent_basis_func_I = femlb.parent_basis_func_list[1][I]\n",
    "        for J in range(n):\n",
    "            integrand = lambda zeta: parent_basis_func_prime_I(zeta) * ( \\\n",
    "                                     diff_coeff * femlb.parent_basis_func_prime_list[1][J](zeta) \\\n",
    "                                   - source_slope_value * femlb.parent_basis_func_list[1][J](zeta) )                                                                       \n",
    "            (local_a_mtrx[I,J], _) = quad(integrand, -1, 1)\n",
    "            \n",
    "    for (e, gnode_ids) in enumerate(local_to_global_node_id_map):\n",
    "        patch_nodes_x = femlb.patches[e]\n",
    "        h_e = patch_nodes_x[1] - patch_nodes_x[0]\n",
    "        parent_mapping_jacobian = femlb.parent_mapping_prime(h_e)\n",
    "        for (I, i) in enumerate(gnode_ids):\n",
    "            if i < 0: continue\n",
    "            for (J, j) in enumerate(gnode_ids):\n",
    "                if j < 0: continue\n",
    "                a_mtrx[i-1,j-1] += local_a_mtrx[I,J] * parent_mapping_jacobian\n",
    "             \n",
    "    return a_mtrx"
   ]
  },
  {
   "cell_type": "code",
   "execution_count": null,
   "metadata": {},
   "outputs": [],
   "source": [
    "'''Assemble matrix element-by-element'''\n",
    "\n",
    "N = len(femlb.basis_func_list)\n",
    "b_mtrx = np.zeros((N,N), dtype=np.float64)\n",
    "b_mtrx = assemble_a_matrix(b_mtrx, femlb)"
   ]
  },
  {
   "cell_type": "code",
   "execution_count": null,
   "metadata": {},
   "outputs": [],
   "source": [
    "b_mtrx"
   ]
  },
  {
   "cell_type": "code",
   "execution_count": null,
   "metadata": {
    "code_folding": [
     2
    ]
   },
   "outputs": [],
   "source": [
    "'''Build load vector'''\n",
    "\n",
    "def get_b_vec(femlb):\n",
    "    \n",
    "    n = len(femlb.basis_func_list)\n",
    "    b_vec = np.zeros(n, dtype=np.float64)\n",
    "\n",
    "    for i, phi_i in enumerate(femlb.basis_func_list):\n",
    "        (b_vec[i], _) = femlb.inner_product(source_bias, phi_i)\n",
    "        d_x_w_lift_prime = lambda x: diff_coeff * w_lift_prime(x)\n",
    "        (term1, _) = femlb.inner_product(d_x_w_lift_prime, femlb.basis_func_prime_list[i])\n",
    "        b_vec[i] -= term1\n",
    "        s_x_w = lambda x: source_slope_value * w_lift(x)\n",
    "        (term2, _) = femlb.inner_product(s_x_w, phi_i)\n",
    "        b_vec[i] +=  term2\n",
    "        \n",
    "    return b_vec"
   ]
  },
  {
   "cell_type": "code",
   "execution_count": null,
   "metadata": {},
   "outputs": [],
   "source": [
    "b_vec = get_b_vec(femlb)"
   ]
  },
  {
   "cell_type": "code",
   "execution_count": null,
   "metadata": {},
   "outputs": [],
   "source": [
    "'''Compute optimal coefficient vector'''\n",
    "\n",
    "c_star_vec = np.linalg.solve(a_mtrx, b_vec)"
   ]
  },
  {
   "cell_type": "markdown",
   "metadata": {},
   "source": [
    "#### [FEM Solution](#toc)<a id=\"results-lagrange\"></a>"
   ]
  },
  {
   "cell_type": "code",
   "execution_count": null,
   "metadata": {
    "code_folding": [
     2
    ]
   },
   "outputs": [],
   "source": [
    "'''Build the best approximation function in V_N'''\n",
    "\n",
    "def u_star(x, femlb, c_star_vec):\n",
    "    u_0 = femlb.evaluation_matrix(x)@c_star_vec\n",
    "    w = lift_basis.evaluation_matrix(x)@alpha_vec\n",
    "    return u_0 + w"
   ]
  },
  {
   "cell_type": "code",
   "execution_count": null,
   "metadata": {
    "code_folding": [
     2
    ]
   },
   "outputs": [],
   "source": [
    "'''Build the best approximation function derivative in V_N'''\n",
    "\n",
    "def u_prime_star(x, femlb, c_star_vec):\n",
    "    u_0 = femlb.evaluation_matrix(x, derivative=True)@c_star_vec\n",
    "    w = lift_basis.evaluation_matrix(x, derivative=True)@alpha_vec\n",
    "    return u_0 + w"
   ]
  },
  {
   "cell_type": "code",
   "execution_count": null,
   "metadata": {},
   "outputs": [],
   "source": [
    "def diff_flux_x_star(x, femlb, c_star_vec):\n",
    "    return -diff_coeff*u_prime_star(x, femlb, c_star_vec)"
   ]
  },
  {
   "cell_type": "code",
   "execution_count": null,
   "metadata": {
    "code_folding": [
     2
    ]
   },
   "outputs": [],
   "source": [
    "'''Rayleigh Ritz Method with FEM Lagrange Basis Functions'''\n",
    "\n",
    "def plot_solution(bf_type='lagrange', cases=[(femlb, c_star_vec)]):\n",
    "    import matplotlib.pyplot as plt\n",
    "    #%matplotlib inline\n",
    "    #plt.style.use('dark_background')\n",
    "    (fig, ax1) = plt.subplots(1, figsize=(14, 5))\n",
    "    ax2 = ax1.twinx()\n",
    "        \n",
    "    n_pts = 500\n",
    "    \n",
    "    x = np.linspace(x_a, x_b, n_pts)\n",
    "    ax1.plot(x, u_manufactured(x), 'k--', label=r'$u$: exact')\n",
    "    ax2.plot(x, diff_flux_x_manufactured(x), 'k-.', label=r\"$-k\\,u'$: exact\")\n",
    "    \n",
    "    for (case, (femlb, c_star_vec)) in enumerate(cases):\n",
    "        u_values = u_star(x, femlb, c_star_vec)\n",
    "        diff_flux_x_values = diff_flux_x_star(x, femlb, c_star_vec)\n",
    "        \n",
    "        ax1.plot(x, u_values, 'r-', label=r'$u_{N_0}$: N = '+str(len(femlb.basis_func_list)))\n",
    "        ax1.set_xlabel(r'$x$ [cm]', fontsize=18)\n",
    "        ax1.set_ylabel(r'$u_{N}$ [g/cc]', color='red', fontsize=18)\n",
    "        ax1.tick_params(axis='y', labelcolor='red', labelsize=16)\n",
    "        ax1.tick_params(axis='x', labelsize=16)\n",
    "        ax1.legend(loc='upper left', fontsize=12)\n",
    "        ax1.grid(True)\n",
    "\n",
    "        ax2.plot(x, diff_flux_x_values,'-', color='blue', label=r'$q_x$: N = '+str(len(femlb.basis_func_list)))\n",
    "        ax2.set_ylabel(r\"$q_x$ [g/cm$^2$-s]\", fontsize=16, color='blue')\n",
    "        ax2.tick_params(axis='y', labelcolor='blue', labelsize=16)\n",
    "        ax2.legend(loc='upper right', fontsize=12)\n",
    "\n",
    "    if bf_type == 'lagrange':\n",
    "        plt.title(r'Rayleigh-Ritz Method with FE Lagrange Basis Functions (degree='+str(degree)+' dim='+str(len(femlb.basis_func_list))+')', fontsize=20)\n",
    "    else:\n",
    "        plt.title(r'Rayleigh-Ritz Method with FE Hermite Basis Functions (degree='+str(degree)+' dim='+str(len(femlb.basis_func_list))+')', fontsize=20)  \n",
    "    plt.show()"
   ]
  },
  {
   "cell_type": "code",
   "execution_count": null,
   "metadata": {},
   "outputs": [],
   "source": [
    "plot_solution([(femlb, c_star_vec)])"
   ]
  },
  {
   "cell_type": "code",
   "execution_count": null,
   "metadata": {},
   "outputs": [],
   "source": [
    "'''L2 norm relative error'''\n",
    "\n",
    "from scipy.integrate import quad\n",
    "import math\n",
    "\n",
    "u_mfac2_integral, error = quad(lambda x: u_manufactured(x)**2, x_a, x_b, limit=1000)\n",
    "print('||u_mfac||_L2 =', math.sqrt(u_mfac2_integral))\n",
    "#print('quadrature error =', error)\n",
    "\n",
    "print('')\n",
    "integrand = lambda x, bf=femlb, c=c_star_vec: (u_manufactured(x)-u_star(x, bf, c))**2\n",
    "(u_mfac_minus_u_star_2_integral, _) = quad(integrand, x_a, x_b, limit=1000)\n",
    "print('||u_mfac-u||_L2 =', math.sqrt(u_mfac_minus_u_star_2_integral))\n",
    "#print('quadrature error =', error)\n",
    "\n",
    "print('')\n",
    "print('Relative error [%%] = %3.3e'%(math.sqrt(u_mfac_minus_u_star_2_integral)/math.sqrt(u_mfac2_integral)*100))"
   ]
  },
  {
   "cell_type": "code",
   "execution_count": null,
   "metadata": {},
   "outputs": [],
   "source": [
    "'''Nodal errors 2-norm'''\n",
    "\n",
    "error_2norm = np.linalg.norm(u_manufactured(femlb.gnodes_x) - u_star(femlb.gnodes_x, femlb, c_star_vec))\n",
    "u_mfac_2norm = np.linalg.norm(u_manufactured(femlb.gnodes_x))\n",
    "\n",
    "print('||u-u_mfac||_2/||u_mfac||_2 [%%] = %3.3e'%(error_2norm/u_mfac_2norm*100))"
   ]
  },
  {
   "cell_type": "code",
   "execution_count": null,
   "metadata": {},
   "outputs": [],
   "source": [
    "'''Rayleigh-Ritz solution evaluated at the boundaries'''\n",
    "\n",
    "np.set_printoptions(precision=5)\n",
    "print('u_N(a) = ',u_star(x_a, femlb, c_star_vec), '  u_N(b) = ',u_star(x_b, femlb, c_star_vec))"
   ]
  },
  {
   "cell_type": "code",
   "execution_count": null,
   "metadata": {},
   "outputs": [],
   "source": [
    "'''L2 norm relative error'''\n",
    "\n",
    "from scipy.integrate import quad\n",
    "import math\n",
    "\n",
    "u_prime_mfac2_integral, error = quad(lambda x: u_prime_manufactured(x)**2, x_a, x_b, limit=1000)\n",
    "print(\"||u'_mfac||_L2 =\", math.sqrt(u_prime_mfac2_integral))\n",
    "#print('quadrature error =', error)\n",
    "\n",
    "print('')\n",
    "integrand = lambda x, bf=femlb, c=c_star_vec: (u_prime_manufactured(x)-u_prime_star(x, bf, c))**2\n",
    "(u_prime_mfac_minus_u_prime_star_2_integral, _) = quad(integrand, x_a, x_b, limit=1000)\n",
    "print(\"||u'_mfac-u||_L2 =\", math.sqrt(u_prime_mfac_minus_u_prime_star_2_integral))\n",
    "#print('quadrature error =', error)\n",
    "\n",
    "print('')\n",
    "print('Relative error [%%] = %3.3e'%(math.sqrt(u_prime_mfac_minus_u_prime_star_2_integral)/math.sqrt(u_prime_mfac2_integral)*100))"
   ]
  },
  {
   "cell_type": "code",
   "execution_count": null,
   "metadata": {},
   "outputs": [],
   "source": [
    "'''Rayleigh-Ritz solution evaluated at the boundaries'''\n",
    "\n",
    "np.set_printoptions(precision=5)\n",
    "print(\"u'_N(a) = \", u_prime_star(x_a, femlb, c_star_vec), \"  u'_N(b) = \", u_prime_star(x_b, femlb, c_star_vec))\n",
    "print(\"u'_mfac(a) = \", u_prime_manufactured(x_a), \"  u'_mfac(b) = \", u_prime_manufactured(x_b))"
   ]
  },
  {
   "cell_type": "markdown",
   "metadata": {},
   "source": [
    "### [Finite Element Hermite Basis Functions](#toc)<a id=\"fem-hermite-basis-inhomogeneous\"></a>"
   ]
  },
  {
   "cell_type": "code",
   "execution_count": null,
   "metadata": {},
   "outputs": [],
   "source": [
    "#'''Hermite finite element basis functions'''\n",
    "\n",
    "try:    \n",
    "    from engy_5310.toolkit import HermiteFEMBasis  \n",
    "except ModuleNotFoundError:\n",
    "    assert False, 'You need to provide your own code here. Bailing out.'\n",
    "\n",
    "degree = 3\n",
    "\n",
    "femhb = HermiteFEMBasis(degree=degree, n_elem=[6,6], x_partition=[x_a, 12, x_b], bc_x_min='dirichlet', bc_x_max='dirichlet')\n",
    "a_mtrx = get_a_mtrx(femhb)\n",
    "b_vec = get_b_vec(femhb)\n",
    "c_star_vec = np.linalg.solve(a_mtrx, b_vec)"
   ]
  },
  {
   "cell_type": "markdown",
   "metadata": {},
   "source": [
    "#### [FEM Solution](#toc)<a id=\"results-hermite\"></a>"
   ]
  },
  {
   "cell_type": "code",
   "execution_count": null,
   "metadata": {},
   "outputs": [],
   "source": [
    "plot_solution('hermite', [(femhb, c_star_vec)])"
   ]
  },
  {
   "cell_type": "code",
   "execution_count": null,
   "metadata": {},
   "outputs": [],
   "source": [
    "'''L2 norm relative error'''\n",
    "\n",
    "from scipy.integrate import quad\n",
    "import math\n",
    "\n",
    "u_mfac2_integral, error = quad(lambda x: u_manufactured(x)**2, x_a, x_b, limit=1000)\n",
    "print('||u_mfac||_L2 =', math.sqrt(u_mfac2_integral))\n",
    "#print('quadrature error =', error)\n",
    "\n",
    "print('')\n",
    "integrand = lambda x, bf=femhb, c=c_star_vec: (u_manufactured(x)-u_star(x, bf, c))**2\n",
    "(u_mfac_minus_u_star_2_integral, _) = quad(integrand, x_a, x_b, limit=1000)\n",
    "print('||u_mfac-u||_L2 =', math.sqrt(u_mfac_minus_u_star_2_integral))\n",
    "#print('quadrature error =', error)\n",
    "\n",
    "print('')\n",
    "print('Relative error [%%] = %3.3e'%(math.sqrt(u_mfac_minus_u_star_2_integral)/math.sqrt(u_mfac2_integral)*100))"
   ]
  },
  {
   "cell_type": "code",
   "execution_count": null,
   "metadata": {},
   "outputs": [],
   "source": [
    "'''L2 norm relative error'''\n",
    "\n",
    "from scipy.integrate import quad\n",
    "import math\n",
    "\n",
    "u_prime_mfac2_integral, error = quad(lambda x: u_prime_manufactured(x)**2, x_a, x_b, limit=1000)\n",
    "print(\"||u'_mfac||_L2 =\", math.sqrt(u_prime_mfac2_integral))\n",
    "#print('quadrature error =', error)\n",
    "\n",
    "print('')\n",
    "integrand = lambda x, bf=femhb, c=c_star_vec: (u_prime_manufactured(x)-u_prime_star(x, bf, c))**2\n",
    "(u_prime_mfac_minus_u_prime_star_2_integral, _) = quad(integrand, x_a, x_b, limit=1000)\n",
    "print(\"||u'_mfac-u||_L2 =\", math.sqrt(u_prime_mfac_minus_u_prime_star_2_integral))\n",
    "#print('quadrature error =', error)\n",
    "\n",
    "print('')\n",
    "print('Relative error [%%] = %3.3e'%(math.sqrt(u_prime_mfac_minus_u_prime_star_2_integral)/math.sqrt(u_prime_mfac2_integral)*100))"
   ]
  },
  {
   "cell_type": "markdown",
   "metadata": {},
   "source": [
    "### [Mesh Convergence](#toc)<a id=\"mesh-convergence\"></a>"
   ]
  },
  {
   "cell_type": "code",
   "execution_count": null,
   "metadata": {
    "code_folding": [
     3
    ]
   },
   "outputs": [],
   "source": [
    "'''Mesh convergence test'''\n",
    "import math\n",
    "\n",
    "def mesh_convergence(type, degree, n_elem, x_partition, fembf, c_star_vec):\n",
    "    assert type in ['lagrange', 'hermite']\n",
    "    \n",
    "    fembf_0 = fembf\n",
    "    c_star_vec_0 = np.copy(c_star_vec)\n",
    "    u_0 = u_star(fembf_0.gnodes_x, fembf_0, c_star_vec_0)\n",
    "\n",
    "    cases = [(fembf_0, c_star_vec_0)] # mesh refinement cases\n",
    "    degree = degree\n",
    "    \n",
    "    h_0 = np.array([p[1]-p[0] for p in fembf.patches]).mean()\n",
    "\n",
    "    integrand = lambda x, bf=fembf, c=c_star_vec: (u_manufactured(x) - u_star(x, bf, c))**2\n",
    "    (u_exact_minus_u_2_integral, _) = quad(integrand, x_a, x_b, limit=1000)\n",
    "    error_0 = math.sqrt(u_exact_minus_u_2_integral)\n",
    "    \n",
    "    power_law_data = list()\n",
    "    power_law_data.append((math.log(h_0), math.log(error_0)))\n",
    "\n",
    "    for i in range(1,15):\n",
    "        n_elem = [j+2 for j in n_elem]\n",
    "        print(n_elem)\n",
    "        \n",
    "        if type == 'lagrange':\n",
    "            fembf = LagrangeFEMBasis(degree=degree, n_elem=n_elem, x_partition=x_partition, bc_x_min='dirichlet', bc_x_max='dirichlet')\n",
    "        if type == 'hermite':\n",
    "            fembf = HermiteFEMBasis(degree=degree, n_elem=n_elem, x_partition=x_partition, bc_x_min='dirichlet', bc_x_max='dirichlet')\n",
    "        \n",
    "        a_mtrx = get_a_mtrx(fembf)\n",
    "        b_vec = get_b_vec(fembf)\n",
    "        c_star_vec = np.linalg.solve(a_mtrx, b_vec)\n",
    "\n",
    "        h = np.array([p[1]-p[0] for p in fembf.patches]).mean()\n",
    "            \n",
    "        integrand = lambda x, bf=fembf, c=c_star_vec: (u_manufactured(x) - u_star(x, bf, c))**2\n",
    "        (u_exact_minus_u_2_integral, _) = quad(integrand, x_a, x_b, limit=1000)\n",
    "        error = math.sqrt(u_exact_minus_u_2_integral)\n",
    "        \n",
    "        (u_mfac2_integral, _) = quad(u_manufactured, x_a, x_b, limit=1000)\n",
    "        relative_error = math.sqrt(error)/math.sqrt(u_mfac2_integral)*100\n",
    "        \n",
    "        if h <= (x_b-x_a)/20: # discard coarse meshes case\n",
    "            power_law_data.append((math.log(h), math.log(error)))\n",
    "    \n",
    "        p = (math.log(error) - math.log(error_0))/(math.log(h)-math.log(h_0))\n",
    "        print('# elem = %i; relative ||u_mfac - u_%i||_2 [%%] = %3.3e; h [cm] = %3.2f; p [] = %3.2f'%(sum(n_elem),i,relative_error,h,p))\n",
    "        \n",
    "        cases.append((fembf, c_star_vec))\n",
    "        \n",
    "        error_0 = error\n",
    "        h_0 = h\n",
    "        if relative_error < 1:\n",
    "            break\n",
    "    print('done.')\n",
    "    return (cases, power_law_data)"
   ]
  },
  {
   "cell_type": "markdown",
   "metadata": {},
   "source": [
    "#### [Lagrange Basis Functions](#toc)<a id=\"mesh-convergence-lagrange\"></a>"
   ]
  },
  {
   "cell_type": "code",
   "execution_count": null,
   "metadata": {},
   "outputs": [],
   "source": [
    "'''Build the basis functions'''\n",
    "\n",
    "degree = 1\n",
    "n_elem = [2]\n",
    "x_partition = [x_a, x_b]\n",
    "\n",
    "try:    \n",
    "    from engy_5310.toolkit import LagrangeFEMBasis  \n",
    "except ModuleNotFoundError:\n",
    "    assert False, 'You need to provide your own code here. Bailing out.'\n",
    "    \n",
    "femlb = LagrangeFEMBasis(degree=degree, n_elem=n_elem, x_partition=x_partition, bc_x_min='dirichlet', bc_x_max='dirichlet')\n",
    "#femlb.plot(n_plot_pts=800)"
   ]
  },
  {
   "cell_type": "code",
   "execution_count": null,
   "metadata": {},
   "outputs": [],
   "source": [
    "a_mtrx = get_a_mtrx(femlb)\n",
    "b_vec = get_b_vec(femlb)\n",
    "c_star_vec = np.linalg.solve(a_mtrx, b_vec)"
   ]
  },
  {
   "cell_type": "code",
   "execution_count": null,
   "metadata": {},
   "outputs": [],
   "source": [
    "(cases, power_law_data) = mesh_convergence('lagrange', degree, n_elem, x_partition, femlb, c_star_vec)\n",
    "plot_solution('lagrange', cases)\n",
    "plot_solution('lagrange',[cases[-1]])"
   ]
  },
  {
   "cell_type": "code",
   "execution_count": null,
   "metadata": {},
   "outputs": [],
   "source": [
    "f = TargetFunction(list(reversed(power_law_data)), type='stepwise')\n",
    "#f.plot(show_shape_pts=True)"
   ]
  },
  {
   "cell_type": "code",
   "execution_count": null,
   "metadata": {},
   "outputs": [],
   "source": [
    "try:    \n",
    "    from engy_5310.toolkit import LegendreBasis  \n",
    "except ModuleNotFoundError:\n",
    "    assert False, 'You need to provide your own code here. Bailing out.'\n",
    "\n",
    "x_tilde_vec = np.array([x[0] for x in reversed(power_law_data)])\n",
    "    \n",
    "lb = LegendreBasis(degree=1, x_min=x_tilde_vec[0], x_max=x_tilde_vec[-1])\n",
    "\n",
    "a_tilde_mtrx = lb.evaluation_matrix(x_tilde_vec)\n",
    "\n",
    "f_tilde_vec = np.array([x[1] for x in reversed(power_law_data)])\n",
    "\n",
    "c_star_vec = np.linalg.solve(a_tilde_mtrx.transpose()@a_tilde_mtrx, a_tilde_mtrx.transpose()@f_tilde_vec)\n",
    "\n",
    "def g_best_vec_func(x_pts):\n",
    "    return lb.evaluation_matrix(x_pts)@c_star_vec\n",
    "\n",
    "'''Plot comparison of f and g_best_vec'''\n",
    "\n",
    "n_pts = 300\n",
    "x_pts = np.linspace(x_tilde_vec[0], x_tilde_vec[-1], n_pts)\n",
    "\n",
    "g_best_vec_2 = g_best_vec_func(x_pts)\n",
    "\n",
    "f.plot(g=(x_pts,g_best_vec_2), n_plot_pts=n_pts, g_line_style='plain', show_shape_pts=True, f_line_style='dashed', \n",
    "       title=r'Compare $f$ and $g$ Functions ($m\\rightarrow\\infty$, n='+str(len(lb.basis_func_list))+')',\n",
    "      y_label=r'$\\ln$ Error', x_label=r'$\\ln h$')"
   ]
  },
  {
   "cell_type": "code",
   "execution_count": null,
   "metadata": {},
   "outputs": [],
   "source": [
    "print('Power exponent of error estimate = %2.3f'%c_star_vec[1])"
   ]
  },
  {
   "cell_type": "code",
   "execution_count": null,
   "metadata": {},
   "outputs": [],
   "source": []
  }
 ],
 "metadata": {
  "kernelspec": {
   "display_name": "Python 3 (ipykernel)",
   "language": "python",
   "name": "python3"
  },
  "language_info": {
   "codemirror_mode": {
    "name": "ipython",
    "version": 3
   },
   "file_extension": ".py",
   "mimetype": "text/x-python",
   "name": "python",
   "nbconvert_exporter": "python",
   "pygments_lexer": "ipython3",
   "version": "3.8.11"
  },
  "latex_envs": {
   "LaTeX_envs_menu_present": true,
   "autoclose": false,
   "autocomplete": true,
   "bibliofile": "biblio.bib",
   "cite_by": "apalike",
   "current_citInitial": 1,
   "eqLabelWithNumbers": true,
   "eqNumInitial": 1,
   "hotkeys": {
    "equation": "Ctrl-E",
    "itemize": "Ctrl-I"
   },
   "labels_anchors": false,
   "latex_user_defs": false,
   "report_style_numbering": false,
   "user_envs_cfg": false
  },
  "toc": {
   "base_numbering": 1,
   "nav_menu": {},
   "number_sections": true,
   "sideBar": true,
   "skip_h1_title": false,
   "title_cell": "Table of Contents",
   "title_sidebar": "Contents",
   "toc_cell": false,
   "toc_position": {
    "height": "calc(100% - 180px)",
    "left": "10px",
    "top": "150px",
    "width": "220.75px"
   },
   "toc_section_display": true,
   "toc_window_display": false
  }
 },
 "nbformat": 4,
 "nbformat_minor": 2
}

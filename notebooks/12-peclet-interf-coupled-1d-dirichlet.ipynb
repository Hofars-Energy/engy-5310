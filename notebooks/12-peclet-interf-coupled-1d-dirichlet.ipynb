{
 "cells": [
  {
   "cell_type": "markdown",
   "metadata": {},
   "source": [
    "ChEn-5310: Computational Continuum Transport Phenomena Spring 2021 UMass Lowell; Prof. V. F. de Almeida **29Apr21**\n",
    "\n",
    "# 12. Peclet Interface-Coupled 1D with Dirichlet Boundary Conditions\n",
    "$  \n",
    "  \\newcommand{\\Amtrx}{\\boldsymbol{\\mathsf{A}}}\n",
    "  \\newcommand{\\Bmtrx}{\\boldsymbol{\\mathsf{B}}}\n",
    "  \\newcommand{\\Mmtrx}{\\boldsymbol{\\mathsf{M}}}\n",
    "  \\newcommand{\\Imtrx}{\\boldsymbol{\\mathsf{I}}}\n",
    "  \\newcommand{\\Pmtrx}{\\boldsymbol{\\mathsf{P}}}\n",
    "  \\newcommand{\\Lmtrx}{\\boldsymbol{\\mathsf{L}}}\n",
    "  \\newcommand{\\Umtrx}{\\boldsymbol{\\mathsf{U}}}\n",
    "  \\newcommand{\\Smtrx}{\\boldsymbol{\\mathsf{S}}}\n",
    "  \\newcommand{\\xvec}{\\boldsymbol{\\mathsf{x}}}\n",
    "  \\newcommand{\\avec}{\\boldsymbol{\\mathsf{a}}}\n",
    "  \\newcommand{\\bvec}{\\boldsymbol{\\mathsf{b}}}\n",
    "  \\newcommand{\\cvec}{\\boldsymbol{\\mathsf{c}}}\n",
    "  \\newcommand{\\rvec}{\\boldsymbol{\\mathsf{r}}}\n",
    "  \\newcommand{\\fvec}{\\boldsymbol{\\mathsf{f}}}\n",
    "  \\newcommand{\\mvec}{\\boldsymbol{\\mathsf{m}}}\n",
    "  \\newcommand{\\gvec}{\\boldsymbol{\\mathsf{g}}}\n",
    "  \\newcommand{\\zerovec}{\\boldsymbol{\\mathsf{0}}}\n",
    "  \\newcommand{\\norm}[1]{\\bigl\\lVert{#1}\\bigr\\rVert}\n",
    "  \\newcommand{\\transpose}[1]{{#1}^\\top}\n",
    "  \\DeclareMathOperator{\\rank}{rank}\n",
    "  \\newcommand{\\Reals}{\\mathbb{R}}\n",
    "  \\newcommand{\\thetavec}{\\boldsymbol{\\theta}}\n",
    "$"
   ]
  },
  {
   "cell_type": "markdown",
   "metadata": {},
   "source": [
    "---\n",
    "\n",
    "## Table of Contents<a id=\"toc\"></a>\n",
    "* [Objectives](#obj)\n",
    "1. [Plotting Functions](#plotting)\n",
    "<br><br>\n",
    "1. [Problem Statement](#problem)\n",
    " + [Strong Form](#dbcstrong)\n",
    " + [Interfacial Coupling](#interfacialcoupling)\n",
    " + [Weak Form](#dbcweak)\n",
    "<br><br>\n",
    "1. [Problem Solution](#solution)\n",
    " + [Code an Interfacial Partition Kernel](#partitionkernel)\n",
    " + [Compile and Link Application](#compile)\n",
    " + [Input File](#dbcinput)\n",
    " + [Run Application](#dbcrun)\n",
    "<br><br>   \n",
    "1. [Linear Lagrange FEM Results](#dbclinearfemresults)\n",
    " + [Compute Error](#linearerror)\n",
    "<br><br>    \n",
    "1. [Quadratic Lagrange FEM Results](#dbcquadfemresults)\n",
    " + [Compute Error](#quaderror)\n",
    "<br><br>    \n",
    "1. [High Peclet Number](#highpe)\n",
    " + [Quadratic Lagrange FEM Results](#highperesults1)\n",
    "    - [Compute Error](#highperesults1error)\n",
    " + [Quadratic Lagrange FEM Results](#highperesults2)\n",
    "    - [Compute Error](#highperesults2error)\n",
    "<br><br>   \n",
    "1. [Application Tree](#tree)\n",
    "---"
   ]
  },
  {
   "cell_type": "markdown",
   "metadata": {},
   "source": [
    "## [Objectives](#toc)<a id=\"obj\"></a>\n",
    "\n",
    "+ Introduce bulk-coupling in the context of a Peclet problem studied in the notebook series 09; all past notebooks must be thoroughly reviewed.\n",
    "+ Present the Galerkin weak form of the Peclet 1D problem with two unknown variables as described below ([OneNote notes here](https://studentuml-my.sharepoint.com/:o:/g/personal/valmor_dealmeida_uml_edu/Eib-vZHIpRlPlOMtz0Gf_asBegEFKsl9dOK4nHyDbgSeUA?e=sLu1td)).\n",
    "+ <span style=\"color:red\">Some initial code is provided in the course repository but no full source code is given out. A significant effort in programing is often necessary to learn the subject well. However the material in this course is helpful with this task. Hands-on work during lectures will try to fill in existing gap. The steps in this notebook are necessary for a basic understanding of the subject.</span> \n",
    "+ The reader is supposed to consult the [`MOOSE source documentation`](https://mooseframework.inl.gov/source/index.html) to fill in gaps in reproducing the steps below.</span>"
   ]
  },
  {
   "cell_type": "markdown",
   "metadata": {},
   "source": [
    "## [Plotting Functions](#toc)<a id=\"plotting\"></a>\n",
    "\n",
    "This is an auxiliary section for holding plotting functions used later."
   ]
  },
  {
   "cell_type": "code",
   "execution_count": 1,
   "metadata": {
    "code_folding": [
     2
    ]
   },
   "outputs": [],
   "source": [
    "'''Plot function for FEM Solution'''\n",
    "\n",
    "def plot_solution(df1,df2, \n",
    "                  title='No Title', \n",
    "                  u1_legend='no u1 legend',\n",
    "                  u2_legend='no u2 legend',\n",
    "                  u1_flux_legend='no u1 flux legend',\n",
    "                  u2_flux_legend='no u2 flux legend'):\n",
    "    \n",
    "    import matplotlib.pyplot as plt\n",
    "    %matplotlib inline\n",
    "    plt.style.use('dark_background')\n",
    "    import numpy as np\n",
    "\n",
    "    (fig, ax1) = plt.subplots(1, figsize=(15, 6))\n",
    "\n",
    "    ax1.plot(df1['x'], df1['u'],'r*-',label=u1_legend)\n",
    "    ax1.plot(df2['x'], df2['u2'],'r*--',label=u2_legend)\n",
    "\n",
    "    ax1.set_xlabel(r'$x$ [cm]', fontsize=18)\n",
    "    ax1.set_ylabel(r'$u_h(x)$ [g/cc]', fontsize=18, color='red')\n",
    "    ax1.tick_params(axis='y', labelcolor='red', labelsize=14)\n",
    "    ax1.tick_params(axis='x', labelsize=14)\n",
    "    ax1.legend(loc='center left', fontsize=12)\n",
    "    #ax1.set_ylim(0,1)\n",
    "    ax1.grid(True)\n",
    "\n",
    "    if 'diffFluxU_x' in df1.columns:\n",
    "        # create a twin x axis to be shared\n",
    "        ax2 = ax1.twinx()\n",
    "\n",
    "        ax2.plot(df['x'], df['diffFluxU_x'],'*-', color='yellow', label=u1_flux_legend)\n",
    "        \n",
    "        if 'diffFluxU2_x' in df.columns:\n",
    "            ax2.plot(df['x'], df['diffFluxU2_x'],'*--', color='yellow', label=u2_flux_legend)\n",
    "\n",
    "        ax2.set_ylabel(r\"$q_h(x)$ [g/cm$^2$-s]\", fontsize=16, color='yellow')\n",
    "        ax2.tick_params(axis='y', labelcolor='yellow', labelsize=14)\n",
    "        ax2.legend(loc='center right', fontsize=12)\n",
    "        #ax2.set_ylim(0,2)\n",
    "        #ax2.grid(True)\n",
    "\n",
    "    plt.title(title, fontsize=20)\n",
    "    fig.tight_layout()  # otherwise the right y-label is slightly clipped\n",
    "    plt.show()\n",
    "    print('')"
   ]
  },
  {
   "cell_type": "markdown",
   "metadata": {},
   "source": [
    "## [Problem Statement](#toc)<a id=\"problem\"></a>\n",
    "\n",
    "There exists two kinds of coupling of unknown variables (or fields), one kind is when the fields share the same domain $\\Omega$ and are coupled tightly over the entire $\\Omega$. This is the kind that will be studied here. The other kind is when the fields do not share the same domain $\\Omega$ and the coupling takes place on a portion of the boundary of $\\Omega$ shared by the fields. This latter case will be described in a future notebook.\n",
    "\n",
    "The following sections describe an extension of the Peclet problem described in previous notebooks for the case when two fields are coupled through a source term."
   ]
  },
  {
   "cell_type": "markdown",
   "metadata": {},
   "source": [
    "### [Strong Form of Problem Statement](#toc)<a id=\"dbcstrong\"></a>\n",
    "\n",
    "Solve the Peclet model problem. Find $u_1:[a,b]\\subset\\Reals\\rightarrow\\Reals$ and $u_2:[b,c]\\subset\\Reals\\rightarrow\\Reals$ for $D_1 > 0$ and $D_2 > 0$ such that:\n",
    "\n",
    "\\begin{align*}\n",
    "  v\\, u_1' &= -\\bigl(-D_1\\, u_1'\\bigr)'(x) + S(u_1, u_2) \\quad \\forall \\quad x\\in [a,b], \\\\\n",
    " u_1(a) &= A_1, \\\\\n",
    " u_1(b) &= B_1.\n",
    "\\end{align*}\n",
    "\n",
    "and\n",
    "\n",
    "\\begin{align*}\n",
    "  v\\, u_2' &= -\\bigl(-D_2\\, u_2'\\bigr)'(x) - S(u_1, u_2) \\quad \\forall \\quad x\\in [b,c], \\\\\n",
    " u_2(a) &= A_2, \\\\\n",
    " u_2(b) &= B_2.\n",
    "\\end{align*}\n",
    "\n",
    "The *diffusion flux* associated to the quantity $u_i, \\, \\ i=1,2$ is denoted $q_i := -D_i\\,u_i'$, and it is often of interest as a derived quantity. Here a point-wise *convective sink (or sweep)* is given by $v\\,u_i'$. There exists two Peclet numbers: \n",
    "\n",
    "  + Peclet number: $\\frac{v\\,L}{D_i}$. \n",
    "\n",
    "whose effects has been described in earlier notebooks.\n",
    "\n",
    "Likewise in the single-field Peclet 1-D problem (Notebook 09), the values of the dependent variables are given on the two end points of the domain (*essential* boundary conditions or  *Dirichlet boundary conditions*)."
   ]
  },
  {
   "cell_type": "markdown",
   "metadata": {},
   "source": [
    "### [Interfacial Coupling](#toc)<a id=\"interfacialcoupling\"></a>\n",
    "\n",
    "Consider the following interfacial continuity requirement:\n",
    "\n",
    "\\begin{align*}\n",
    " u_1(b) &= u_2(b) \\\\\n",
    " q_{n,1}(b) &= q_{n,2}(b),\n",
    "\\end{align*}\n",
    "\n",
    "that is, the fields and their **normal fluxes** are continuous at the interface $x = b$.\n",
    "\n",
    "Consider the following interfacial conditions requirement:\n",
    "\n",
    "\\begin{align*}\n",
    " u_1(b) &= K\\,u_2(b) \\\\\n",
    " q_{n,1}(b) &= q_{n,2}(b),\n",
    "\\end{align*}\n",
    "\n",
    "that is, the fields are discontinuous at the interface and their **normal fluxes** are continuous at the interface $x = b$."
   ]
  },
  {
   "cell_type": "markdown",
   "metadata": {},
   "source": [
    "### [Weak Form of the Problem Statement](#toc)<a id=\"dbcweak\"></a>\n",
    "\n",
    "The Galerkin weak formulation with interfacial continuity condition is as follows. Find $u_1 \\in H^1\\!\\bigl([a,b]\\bigr)$ and $u_2 \\in H^1\\!\\bigl([b,c]\\bigr)$\n",
    "so that \n",
    "\n",
    "\\begin{align*}\n",
    " \\int\\limits_a^b v\\, u_1'(x)\\, w(x)\\,dx + \\int\\limits_a^b D\\, u_1'(x)\\,w'(x)\\,dx + \\int\\limits_a^b S_1\\,w(x)\\,dx &= 0 \\quad \\forall \\quad w \\in H^1_0\\!\\bigl([a,c]\\bigr), \\text{and}\n",
    " \\\\\n",
    "  \\int\\limits_b^c v\\, u_2'(x)\\, w(x)\\,dx + \\int\\limits_b^c D\\, u_2'(x)\\,w'(x)\\,dx + \\int\\limits_b^c S_2\\,w(x)\\,dx &= 0 \\quad \\forall \\quad w \\in H^1_0\\!\\bigl([a,c]\\bigr),\n",
    "\\end{align*}\n",
    "\n",
    "where $H^1\\!\\bigl([x_i,x_j]\\bigr) := \\bigl\\{ u:[x_i,x_j]\\subset\\Reals\\rightarrow \\Reals \\mid \\int_{x_i}^{x_j} u'^2\\,dx < \\infty\\bigr\\}$ and $H^1_0\\!\\bigl([a,c]\\bigr) := \\bigl\\{ w \\mid w \\in H^1(a,c), w(a) = 0, w(c) =0 \\bigr\\}$. Both function sets as just defined are Hilbert spaces. The function $w$ is called a test function. Because $w$, $u_1$, $u_2$ are sought in very similar sets of functions, this weak form is called Galerkin's weak form.\n",
    "\n",
    "In view of the continuity of the fields and their normal fluxes at the interface, $x=b$ ([interfacial coupling](#interfacialcoupling)), the modification needed in setting up a solution to the problem requires a geometric manipulation of the domain, that is, the domain $\\Omega = [a,c]$ needs to be partitioned into\n",
    "\n",
    "\\begin{align*}\n",
    "\\Omega &= \\Omega_1 \\cup \\Omega_2, \\quad \\text{or here in 1-D:}\\\\\n",
    "[a,c]  &= [a,b] \\cup [b,c].\n",
    "\\end{align*}"
   ]
  },
  {
   "cell_type": "markdown",
   "metadata": {},
   "source": [
    "The implementation of the finite element kernels in MOOSE do not allow for the continuous test function shown above. Therefore two independent weak forms need to be implemented and the interface conditions enforced in a weak form. That is, the additional kernels resulting from the following weak statements on the interface:\n",
    "\n",
    "\\begin{align*}\n",
    " \\bigl(u_1 - K\\,u_2\\bigr) \\, w(b) &= 0 \\quad \\forall \\quad w \\in H^1_0\\!(b), \\text{and}\\\\\n",
    "  \\int_{I_{1,2}} \\, \\bigl(u_1 - K\\,u_2\\bigr) \\, w \\, da &= 0 \\quad \\forall \\quad w \\in H^1_0\\!(I_{1,2}), \\text{and}\n",
    "\\end{align*}\n",
    "\n"
   ]
  },
  {
   "cell_type": "markdown",
   "metadata": {},
   "source": [
    "The implementation of the finite element kernels in MOOSE do not allow for the continuous test function shown above. Therefore two independent weak forms need to be implemented and the interface conditions enforced in a weak form. That is, the additional kernels resulting from the following weak statements on the interface:\n",
    "\n",
    "\\begin{align*}\n",
    " \\bigl(u_1 - K\\,u_2\\bigr) \\, w(b) &= 0 \\quad \\forall \\quad w \\in H^1_0\\!(b), \\text{and}\n",
    " \\\\\n",
    "  \\bigl(q_{n,1} -q_{n,2}\\bigr) \\, w(b) &=0  \\quad \\forall \\quad w \\in H^1_0\\!(b),\n",
    "\\end{align*}\n",
    "\n"
   ]
  },
  {
   "cell_type": "markdown",
   "metadata": {},
   "source": [
    "## [Problem Solution](#toc)<a id=\"solution\"></a>\n",
    "\n",
    "We will leverage the Peclet 1D, bulk coupling development (Notebook 11) to modify the domain of the problem."
   ]
  },
  {
   "cell_type": "markdown",
   "metadata": {},
   "source": [
    "### [Code an Interface Partition Kernel](#toc)<a id=\"partitionkernel\"></a>\n",
    "\n",
    "1. An interfacial kernel is needed and this is provided in the course template repository:\n",
    " + [Header file](https://github.com/dpploy/engy-5310/blob/main/moose-app-templates/InterfacePartition.h)\n",
    "\n",
    "   ```c++\n",
    "protected:\n",
    "  virtual Real computeQpResidual(Moose::DGResidualType type) override;\n",
    "  virtual Real computeQpJacobian(Moose::DGJacobianType type) override;\n",
    "\n",
    "  /// Partition coefficient\n",
    "  Real _kCoeff;\n",
    "    ```\n",
    "    \n",
    " + [Implementation file](https://github.com/dpploy/engy-5310/blob/main/moose-app-templates/InterfacePartition.C)\n",
    "\n",
    "Residual:\n",
    "  ```c++\n",
    "Real\n",
    "InterfacePartition::computeQpResidual(Moose::DGResidualType type)\n",
    "{\n",
    "  Real r = 0;\n",
    "  switch (type)\n",
    "  {\n",
    "    // Primary residual = u_primary - k * u_neighbor\n",
    "    // Weak form for primary domain is: (u_primary - k*u_neighbor, test)\n",
    "    case Moose::Element:\n",
    "      r = _test[_i][_qp] * (_u[_qp] - _kCoeff * _neighbor_value[_qp]);\n",
    "      break;\n",
    "\n",
    "    // Secondary residual: -(u_primary - k*u_neighbor, test),\n",
    "    // flip the sign because the integration direction is opposite.\n",
    "    case Moose::Neighbor:\n",
    "      r = - _test_neighbor[_i][_qp] * (_u[_qp] - _kCoeff * _neighbor_value[_qp]);\n",
    "      break;\n",
    "  }\n",
    "  return r;\n",
    "}\n",
    "  ```\n",
    "Jacobian diagonal:\n",
    " ```c++\n",
    "Real\n",
    "InterfacePartition::computeQpJacobian(Moose::DGJacobianType type)\n",
    "{\n",
    "  Real jac = 0;\n",
    "  switch (type)\n",
    "  {\n",
    "    case Moose::ElementElement:\n",
    "      jac = _test[_i][_qp] * _phi[_j][_qp];\n",
    "      break;\n",
    "    case Moose::NeighborNeighbor:\n",
    "      jac = -_test_neighbor[_i][_qp] * -_kCoeff * _phi_neighbor[_j][_qp];\n",
    "      break;\n",
    "    case Moose::NeighborElement:\n",
    "      jac = -_test_neighbor[_i][_qp] * _phi[_j][_qp];\n",
    "      break;\n",
    "    case Moose::ElementNeighbor:\n",
    "      jac = _test[_i][_qp] * -_kCoeff * _phi_neighbor[_j][_qp];\n",
    "      break;\n",
    "  }\n",
    "  return jac;\n",
    "}\n",
    " ```"
   ]
  },
  {
   "cell_type": "markdown",
   "metadata": {},
   "source": [
    "### [Compile and Link Application](#toc)<a id=\"compile\"></a>\n",
    "\n",
    "1. Make sure you are in the problem project:\n",
    " +  `cd ../..`\n",
    " + `pwd`\n",
    "1. You should see: `..../engy5310p1`\n",
    "1. Compile and link the application\n",
    " + `make`\n",
    "1. If all is sucessfull you should see among other things in the screen output:\n",
    " + Linking Library `.../engy5310p1/lib/libengy5310p1-opt.la...`\n",
    " + Linking Executable `.../engy5310p1/engy5310p1-opt...`"
   ]
  },
  {
   "cell_type": "markdown",
   "metadata": {},
   "source": [
    "### [Input File](#toc)<a id=\"dbcinput\"></a>\n",
    "\n",
    "The domain partition and interface data set generation is as follows:\n",
    "\n",
    "```\n",
    "[Mesh]\n",
    "  [omega-1d]\n",
    "    type = GeneratedMeshGenerator\n",
    "    dim = 1\n",
    "    xmin = ${replace xmin}\n",
    "    xmax = ${replace xmax}\n",
    "    nx = 20\n",
    "  []\n",
    "# Create subdomains: Omega_1 and Omega_2\n",
    "  [mod1]\n",
    "    type = SubdomainBoundingBoxGenerator\n",
    "    input = omega-1d\n",
    "    block_id = 1\n",
    "    block_name = omega_1\n",
    "    bottom_left = '${replace xmin} 0 0'\n",
    "    top_right = '${replace x_interface} 1 0'\n",
    "  []\n",
    "  [mod2]\n",
    "    type = SubdomainBoundingBoxGenerator\n",
    "    input = mod1\n",
    "    block_id = 2\n",
    "    block_name = omega_2\n",
    "    bottom_left = '${replace x_interface} 0 0'\n",
    "    top_right = '${replace xmax} 1 0'\n",
    "  []\n",
    "# Create interface of subdomains: Omega_1 and Omega_2\n",
    "  [mod3]\n",
    "    type = SideSetsBetweenSubdomainsGenerator\n",
    "    input = mod2\n",
    "    primary_block = omega_1\n",
    "    paired_block = omega_2\n",
    "    new_boundary = interface_12\n",
    "  []\n",
    "# Create boundaries of subdomains: Omega_1 and Omega_2\n",
    "  [mod4]\n",
    "    type = SideSetsAroundSubdomainGenerator\n",
    "    input = mod3\n",
    "    block = omega_1\n",
    "    normal = '-1 0 0'\n",
    "    new_boundary = omega_1_left\n",
    "  []\n",
    "  [mod5]\n",
    "    type = SideSetsAroundSubdomainGenerator\n",
    "    input = mod4\n",
    "    block = omega_2\n",
    "    normal = '1 0 0'\n",
    "    new_boundary = omega_2_right\n",
    "  []\n",
    "[]\n",
    "\n",
    "```\n",
    "Enforcing the field partition at the interface:\n",
    "\n",
    "```\n",
    "[InterfaceKernels]\n",
    "  [partition]\n",
    "    type = InterfacePartition\n",
    "    variable = u\n",
    "    neighbor_var = u2\n",
    "    boundary = interface_12\n",
    "    kCoeff = ${replace partition_coeff} # partition coefficient u1 = k * u2\n",
    "  []\n",
    "[]\n",
    "```"
   ]
  },
  {
   "cell_type": "markdown",
   "metadata": {},
   "source": [
    "### [Run Application](#toc)<a id=\"dbcrun\"></a>\n",
    "\n",
    "1. In the `engy5310p1/` directory run the application with the Linux shell command:\n",
    " + `./engy5310p1-opt -i input.hit`\n",
    "2. Compare your results with this notebook results below.\n",
    "3. Return here to follow instructions on how to implement the calculation of the total energy."
   ]
  },
  {
   "cell_type": "markdown",
   "metadata": {},
   "source": [
    "## [Linear Lagrange FEM](#toc)<a id=\"dbclinearfemresults\"></a>\n",
    "\n",
    "Solve problem with parameter values:\n",
    "\n",
    "> + $a = 0$ cm\n",
    "> + $b = 25$ cm\n",
    "\n",
    "> + Pe$_\\text{ave} = 10$\n",
    "\n",
    "| $u_1$ **Parameter** | **Value**  | $u_2$ **Parameter** | **Value** |\n",
    "|:-------------------:|:----------:|:-------------------:|:---------:|\n",
    "| $A_1$               | 3 g/cc     |  $A_2$              | 0 g/cc    |\n",
    "| $B_1$               | 0 g/cc     |  $B_2$              | 0 g/cc    |\n",
    "| $D_1$               | 0.1 cm^2/s |  $D_2$              | 0.1 cm^2/s  |\n",
    "| $S_1$               | $1\\times 10^{-3}$ g/cc-s |  $S_2$              | 0 g/cc-s  |\n",
    "| $h_1$               | $5\\times 10^{-3}$ cm/s | $h_2$  | 0 cm/s |\n",
    "| $u_1^*$             | 1.5 g/cc   | $u_2^*$     | 0 g/cc |\n",
    "\n",
    "FEM parameters:\n",
    "\n",
    "> + Basis Functions: First Order Lagrangian\n",
    "> + num. of finite elements: 20"
   ]
  },
  {
   "cell_type": "markdown",
   "metadata": {},
   "source": [
    "**Comment: This data tests the case when there is only transfer from $u_1$ to $u_2$. Other cases will be presented in another notebook.**"
   ]
  },
  {
   "cell_type": "code",
   "execution_count": 2,
   "metadata": {},
   "outputs": [],
   "source": [
    "'''Domain'''\n",
    "\n",
    "x_a = 0\n",
    "x_b = 25\n",
    "\n",
    "x_length = x_b - x_a"
   ]
  },
  {
   "cell_type": "code",
   "execution_count": 51,
   "metadata": {},
   "outputs": [],
   "source": [
    "'''Parameters and data'''\n",
    "\n",
    "Pe_ave = 1 # mildly convective dominated\n",
    "\n",
    "diff_coeff_1 = 0.1\n",
    "source_s_1 = 1e-3\n",
    "\n",
    "diff_coeff_2 = 2*diff_coeff_1\n",
    "source_s_2 = 1.1*source_s_1\n",
    "\n",
    "velocity = (Pe_ave * (diff_coeff_1+diff_coeff_2)/2/x_length, 0, 0)  # length scale is the x length\n",
    "\n",
    "u1_a = 3\n",
    "u2_c = 2\n",
    "\n",
    "partition_coeff = 2"
   ]
  },
  {
   "cell_type": "code",
   "execution_count": 52,
   "metadata": {},
   "outputs": [],
   "source": [
    "'''FEM Solution'''\n",
    "\n",
    "n_felem = 20\n",
    "\n",
    "order = 'first'\n",
    "\n",
    "n_plot_pts = n_felem + 1\n",
    "\n",
    "try:    \n",
    "    from engy_5310.toolkit import write_engy5310_1d_interfacial_coupling_input_file  \n",
    "except ModuleNotFoundError:\n",
    "    assert False, 'You need to provide your own code here. Bailing out.'\n",
    "\n",
    "write_engy5310_1d_interfacial_coupling_input_file(x_left=x_a, x_right=x_b, \n",
    "                                x_interface=(x_a+x_b)/2,\n",
    "                                u_left=u1_a,\n",
    "                                diff_coeff=diff_coeff_1, source_s=source_s_1,\n",
    "                                u2_right=u2_c, \n",
    "                                diff_coeff_2=diff_coeff_2, source_s_2=source_s_2,\n",
    "                                partition_coeff=partition_coeff,\n",
    "                                velocity=velocity,\n",
    "                                n_felem=n_felem, order=order, \n",
    "                                n_plot_pts=n_plot_pts,\n",
    "                                compute_diffusion_flux=False)"
   ]
  },
  {
   "cell_type": "code",
   "execution_count": 53,
   "metadata": {
    "scrolled": true
   },
   "outputs": [
    {
     "name": "stdout",
     "output_type": "stream",
     "text": [
      "# Engy-5310 Problem 1: Poisson 1D FEM\r\n",
      "# UMass Lowell Nuclear Chemical Engineering\r\n",
      "# Prof. Valmor F. de Almeida\r\n",
      "# 30Apr21 16:06:53\r\n",
      "\r\n",
      "# Parameters\r\n",
      "xmin = 0.00000e+00\r\n",
      "xmax = 2.50000e+01\r\n",
      "x_interface = 1.25000e+01\r\n",
      "diff_coeff = 1.00000e-01\r\n",
      "source_s = 1.00000e-03\r\n",
      "u_left = 3.00000e+00\r\n",
      "u2_right = 2.00000e+00\r\n",
      "diff_coeff_2 = 2.00000e-01\r\n",
      "source_s_2 = 1.10000e-03\r\n",
      "velocity = '6.00000e-03 0.00000e+00 0.00000e+00'\r\n",
      "partition_coeff = 2.00000e+00\r\n",
      "\r\n",
      "[Problem]\r\n",
      "  type = FEProblem\r\n",
      "  coord_type = XYZ\r\n",
      "[]\r\n",
      "\r\n",
      "[Mesh]\r\n",
      "  [omega-1d]\r\n",
      "    type = GeneratedMeshGenerator\r\n",
      "    dim = 1\r\n",
      "    xmin = ${replace xmin}\r\n",
      "    xmax = ${replace xmax}\r\n",
      "    nx = 20\r\n",
      "  []\r\n",
      "# Create subdomains: Omega_1 and Omega_2\r\n",
      "  [mod1]\r\n",
      "    type = SubdomainBoundingBoxGenerator\r\n",
      "    input = omega-1d\r\n",
      "    block_id = 1\r\n",
      "    block_name = omega_1\r\n",
      "    bottom_left = '${replace xmin} 0 0'\r\n",
      "    top_right = '${replace x_interface} 1 0'\r\n",
      "  []\r\n",
      "  [mod2]\r\n",
      "    type = SubdomainBoundingBoxGenerator\r\n",
      "    input = mod1\r\n",
      "    block_id = 2\r\n",
      "    block_name = omega_2\r\n",
      "    bottom_left = '${replace x_interface} 0 0'\r\n",
      "    top_right = '${replace xmax} 1 0'\r\n",
      "  []\r\n",
      "# Create interface of subdomains: Omega_1 and Omega_2\r\n",
      "  [mod3]\r\n",
      "    type = SideSetsBetweenSubdomainsGenerator\r\n",
      "    input = mod2\r\n",
      "    primary_block = omega_1\r\n",
      "    paired_block = omega_2\r\n",
      "    new_boundary = interface_12\r\n",
      "  []\r\n",
      "# Create boundaries of subdomains: Omega_1 and Omega_2\r\n",
      "  [mod4]\r\n",
      "    type = SideSetsAroundSubdomainGenerator\r\n",
      "    input = mod3\r\n",
      "    block = omega_1\r\n",
      "    normal = '-1 0 0'\r\n",
      "    new_boundary = omega_1_left\r\n",
      "  []\r\n",
      "  [mod5]\r\n",
      "    type = SideSetsAroundSubdomainGenerator\r\n",
      "    input = mod4\r\n",
      "    block = omega_2\r\n",
      "    normal = '1 0 0'\r\n",
      "    new_boundary = omega_2_right\r\n",
      "  []\r\n",
      "[]\r\n",
      "\r\n",
      "[Variables]\r\n",
      "  [u]\r\n",
      "    block = omega_1\r\n",
      "    order = first\r\n",
      "    family = lagrange\r\n",
      "    initial_condition = ${replace u_left}\r\n",
      "  []\r\n",
      "  [u2]\r\n",
      "    block = omega_2\r\n",
      "    order = first\r\n",
      "    family = lagrange\r\n",
      "    initial_condition = ${replace u2_right}\r\n",
      "  []\r\n",
      "[]\r\n",
      "\r\n",
      "[Kernels]\r\n",
      "  [diffusion-term]\r\n",
      "    type = DiffusionTerm\r\n",
      "    variable = u     # produced quantity\r\n",
      "    diffCoeff = ${replace diff_coeff}\r\n",
      "  []\r\n",
      "  [source-term]\r\n",
      "    type = SourceTerm\r\n",
      "    variable = u     # add to produced quantity\r\n",
      "    sourceS = ${replace source_s}\r\n",
      "    coupledVariable = u\r\n",
      "  []\r\n",
      "  [convection-term]\r\n",
      "    type = ConvectionTerm\r\n",
      "    variable = u     # produced quantity\r\n",
      "    velocity = ${replace velocity}\r\n",
      "  []\r\n",
      "  [diffusion-term-2]\r\n",
      "    type = DiffusionTerm\r\n",
      "    variable = u2     # produced quantity\r\n",
      "    diffCoeff = ${replace diff_coeff_2}\r\n",
      "  []\r\n",
      "  [source-term-2]\r\n",
      "    type = SourceTerm\r\n",
      "    variable = u2     # add to produced quantity\r\n",
      "    sourceS = ${replace source_s_2}\r\n",
      "    coupledVariable = u2\r\n",
      "  []\r\n",
      "  [convection-term-2]\r\n",
      "    type = ConvectionTerm\r\n",
      "    variable = u2     # produced quantity\r\n",
      "    velocity = ${replace velocity}\r\n",
      "  []\r\n",
      "[]\r\n",
      "\r\n",
      "[InterfaceKernels]\r\n",
      "  [partition]\r\n",
      "    type = InterfacePartition\r\n",
      "    variable = u\r\n",
      "    neighbor_var = u2\r\n",
      "    boundary = interface_12\r\n",
      "    kCoeff = ${replace partition_coeff} # partition coefficient u1 = k * u2\r\n",
      "  []\r\n",
      "[]\r\n",
      "\r\n",
      "[BCs]\r\n",
      "  [left]\r\n",
      "    type = DirichletBC\r\n",
      "    variable = u\r\n",
      "    boundary = omega_1_left\r\n",
      "    value = ${replace u_left}\r\n",
      "  []\r\n",
      "  [right]\r\n",
      "    type = DirichletBC\r\n",
      "    variable = u2\r\n",
      "    boundary = omega_2_right\r\n",
      "    value = ${replace u2_right}\r\n",
      "  []\r\n",
      "[]\r\n",
      "\r\n",
      "[Executioner]\r\n",
      "  type = Steady\r\n",
      "  solve_type = 'PJFNK'\r\n",
      "  petsc_options_iname = '-pc_type -pc_hypre_type'\r\n",
      "  petsc_options_value = 'hypre boomeramg'\r\n",
      "[]\r\n",
      "\r\n",
      "[VectorPostprocessors]\r\n",
      "  [omega_1]\r\n",
      "    type = LineValueSampler\r\n",
      "    execute_on = 'timestep_end final'\r\n",
      "    variable = 'u'    # output data\r\n",
      "    start_point = '${replace xmin} 0 0'\r\n",
      "    end_point = '${fparse x_interface-2.50e-02} 0 0'\r\n",
      "    num_points = 21\r\n",
      "    sort_by = id\r\n",
      "  []\r\n",
      "  [omega_2]\r\n",
      "    type = LineValueSampler\r\n",
      "    execute_on = 'timestep_end final'\r\n",
      "    variable = 'u2'    # output data\r\n",
      "    start_point = '${fparse x_interface+2.50e-02} 0 0'\r\n",
      "    end_point = '${replace xmax} 0 0'\r\n",
      "    num_points = 21\r\n",
      "    sort_by = id\r\n",
      "  []\r\n",
      "[]\r\n",
      "\r\n",
      "[Outputs]\r\n",
      "  console = true\r\n",
      "  [csv]\r\n",
      "    type = CSV\r\n",
      "    file_base = 'output'\r\n",
      "    execute_on = 'final'\r\n",
      "  []\r\n",
      "[]\r\n"
     ]
    }
   ],
   "source": [
    "'''Display MOOSE input file created'''\n",
    "\n",
    "!cat engy5310p1/input.hit"
   ]
  },
  {
   "cell_type": "code",
   "execution_count": 54,
   "metadata": {
    "scrolled": true
   },
   "outputs": [
    {
     "name": "stdout",
     "output_type": "stream",
     "text": [
      "\n",
      "\n",
      "Framework Information:\n",
      "MOOSE Version:           git commit f07bdea446 on 2021-04-21\n",
      "LibMesh Version:         27141d18f3137f77e33cdb3d565fd38ebfbfc46f\n",
      "PETSc Version:           3.15.0\n",
      "SLEPc Version:           3.14.2\n",
      "Current Time:            Fri Apr 30 16:06:55 2021\n",
      "Executable Timestamp:    Fri Apr 30 14:17:12 2021\n",
      "\n",
      "Parallelism:\n",
      "  Num Processors:          1\n",
      "  Num Threads:             1\n",
      "\n",
      "Mesh: \n",
      "  Parallel Type:           replicated\n",
      "  Mesh Dimension:          1\n",
      "  Spatial Dimension:       1\n",
      "  Nodes:                   \n",
      "    Total:                 21\n",
      "    Local:                 21\n",
      "  Elems:                   \n",
      "    Total:                 20\n",
      "    Local:                 20\n",
      "  Num Subdomains:          2\n",
      "  Num Partitions:          1\n",
      "\n",
      "Nonlinear System:\n",
      "  Num DOFs:                22\n",
      "  Num Local DOFs:          22\n",
      "  Variables:               \"u\" \"u2\" \n",
      "  Finite Element Types:    \"LAGRANGE\" \"LAGRANGE\" \n",
      "  Approximation Orders:    \"FIRST\" \"FIRST\" \n",
      "\n",
      "Execution Information:\n",
      "  Executioner:             Steady\n",
      "  Solver Mode:             Preconditioned JFNK\n",
      "  PETSc Preconditioner:    hypre boomeramg \n",
      "\n",
      " 0 Nonlinear |R| = \u001b[32m1.414269e+00\u001b[39m\n",
      "      0 Linear |R| = \u001b[32m1.414269e+00\u001b[39m\n",
      "      1 Linear |R| = \u001b[32m5.151465e-03\u001b[39m\n",
      "      2 Linear |R| = \u001b[32m4.864733e-03\u001b[39m\n",
      "      3 Linear |R| = \u001b[33m4.856973e-03\u001b[39m\n",
      "      4 Linear |R| = \u001b[32m1.366594e-05\u001b[39m\n",
      " 1 Nonlinear |R| = \u001b[32m1.365843e-05\u001b[39m\n",
      "      0 Linear |R| = \u001b[32m1.365843e-05\u001b[39m\n",
      "      1 Linear |R| = \u001b[32m1.096401e-05\u001b[39m\n",
      "      2 Linear |R| = \u001b[32m7.614319e-06\u001b[39m\n",
      "      3 Linear |R| = \u001b[33m7.443304e-06\u001b[39m\n",
      "      4 Linear |R| = \u001b[32m1.111465e-08\u001b[39m\n",
      "      5 Linear |R| = \u001b[32m7.196178e-11\u001b[39m\n",
      " 2 Nonlinear |R| = \u001b[32m7.443595e-11\u001b[39m\n",
      "\u001b[32m Solve Converged!\u001b[39m\n",
      "WARNING! There are options you set that were not used!\n",
      "WARNING! could be spelling mistake, etc!\n",
      "There is one unused database option. It is:\n",
      "Option left: name:-i value: engy5310p1/input.hit\n"
     ]
    }
   ],
   "source": [
    "'''Run Engy5310P1 MOOSE App'''\n",
    "\n",
    "!engy5310p1/engy5310p1-opt -i engy5310p1/input.hit"
   ]
  },
  {
   "cell_type": "code",
   "execution_count": 55,
   "metadata": {
    "code_folding": [
     5
    ]
   },
   "outputs": [
    {
     "data": {
      "image/png": "[encoded data removed]",
      "text/plain": [
       "<Figure size 1080x432 with 1 Axes>"
      ]
     },
     "metadata": {},
     "output_type": "display_data"
    },
    {
     "name": "stdout",
     "output_type": "stream",
     "text": [
      "\n"
     ]
    }
   ],
   "source": [
    "'''Show FEM Solution'''\n",
    "\n",
    "import pandas as pd\n",
    "df1 = pd.read_csv('output_omega_1_0002.csv')\n",
    "df2 = pd.read_csv('output_omega_2_0002.csv')\n",
    "    \n",
    "plot_solution(df1, df2, title='Peclet Coupled Variables w/ Dirichlet BC FEM Solution', \n",
    "              u1_legend=r'$u_1$ Linear Lagrange', u2_legend=r'$u_2$ Linear Lagrange',\n",
    "              u1_flux_legend=r'$u_1$ Diff. Flux Constant Monomial',\n",
    "              u2_flux_legend=r'$u_2$ Diff. Flux Constant Monomial')"
   ]
  },
  {
   "cell_type": "markdown",
   "metadata": {},
   "source": [
    "**Comments:**\n",
    "\n",
    "1. The *concentration* of $u_1$ decreases as $u_2$ increases since there is only transfer from 1 to 2."
   ]
  },
  {
   "cell_type": "markdown",
   "metadata": {},
   "source": [
    "### [FEM Error](#toc)<a id=\"linearerror\"></a>"
   ]
  },
  {
   "cell_type": "code",
   "execution_count": null,
   "metadata": {},
   "outputs": [],
   "source": [
    "'''Error Compared to Exact Dimensionless Solution'''\n",
    "\n",
    "'''coming...'''"
   ]
  },
  {
   "cell_type": "markdown",
   "metadata": {},
   "source": [
    "**Comments:**\n",
    "\n",
    "1. TBA\n",
    "1. TBA"
   ]
  },
  {
   "cell_type": "markdown",
   "metadata": {},
   "source": [
    "## [Quadratic Lagrange FEM](#toc)<a id=\"dbcquadfemresults\"></a>\n",
    "\n",
    "Solve problem with the same parameter values as above.\n",
    "\n",
    "FEM parameters:\n",
    "\n",
    "> + Basis Functions: Second Order Lagrangian\n",
    "> + num. of finite elements: 20"
   ]
  },
  {
   "cell_type": "code",
   "execution_count": null,
   "metadata": {},
   "outputs": [],
   "source": [
    "'''FEM Solution'''\n",
    "\n",
    "n_felem = 20\n",
    "\n",
    "order = 'second'\n",
    "\n",
    "n_plot_pts = 2*n_felem + 1\n",
    "\n",
    "try:    \n",
    "    from engy_5310.toolkit import write_engy5310_p1_1d_input_file  \n",
    "except ModuleNotFoundError:\n",
    "    assert False, 'You need to provide your own code here. Bailing out.'\n",
    "\n",
    "write_engy5310_p1_1d_input_file(x_left=x_a, x_right=x_b, \n",
    "                                u_left=u_a, u_right=u_b, \n",
    "                                diff_coeff=diff_coeff_1, source_s=source_s_1,\n",
    "                                source_transfer_coeff=source_transfer_coeff_1, \n",
    "                                source_saturation=source_saturation_1,\n",
    "                                u2_left=u2_a, u2_right=u2_b, \n",
    "                                diff_coeff_2=diff_coeff_2,\n",
    "                                velocity=velocity, \n",
    "                                n_felem=n_felem, order=order, \n",
    "                                n_plot_pts=n_plot_pts,\n",
    "                                compute_diffusion_flux=True,\n",
    "                                solver='fdp-newt-full')"
   ]
  },
  {
   "cell_type": "code",
   "execution_count": null,
   "metadata": {
    "scrolled": true
   },
   "outputs": [],
   "source": [
    "'''Display MOOSE input file created'''\n",
    "\n",
    "!cat engy5310p1/input.hit"
   ]
  },
  {
   "cell_type": "code",
   "execution_count": null,
   "metadata": {},
   "outputs": [],
   "source": [
    "'''Run Engy5310P1 MOOSE App'''\n",
    "\n",
    "!engy5310p1/engy5310p1-opt -i engy5310p1/input.hit"
   ]
  },
  {
   "cell_type": "code",
   "execution_count": null,
   "metadata": {
    "code_folding": [
     5
    ]
   },
   "outputs": [],
   "source": [
    "'''Show FEM Solution'''\n",
    "\n",
    "import pandas as pd\n",
    "df = pd.read_csv('output_x-data_0002.csv')\n",
    "    \n",
    "plot_solution(df, title='Peclet Coupled Variables w/ Dirichlet BC FEM Solution', \n",
    "              u1_legend=r'$u_1$ Linear Lagrange', u2_legend=r'$u_2$ Linear Lagrange',\n",
    "              u1_flux_legend=r'$u_1$ Diff. Flux Constant Monomial',\n",
    "              u2_flux_legend=r'$u_2$ Diff. Flux Constant Monomial')"
   ]
  },
  {
   "cell_type": "markdown",
   "metadata": {},
   "source": [
    "### [FEM Error](#toc)<a id=\"quaderror\"></a>\n"
   ]
  },
  {
   "cell_type": "code",
   "execution_count": null,
   "metadata": {},
   "outputs": [],
   "source": [
    "'''Error Compared to Exact Dimensionless Solution'''\n",
    "\n",
    "'''comming...'''"
   ]
  },
  {
   "cell_type": "markdown",
   "metadata": {},
   "source": [
    "**Comments:**\n",
    "\n",
    "1. TBA"
   ]
  },
  {
   "cell_type": "markdown",
   "metadata": {},
   "source": [
    "## [High Peclet Number](#toc)<a id=\"highpe\"></a>\n",
    "\n",
    "Highly convective problems may lead to numerical difficulties. Below, enough finite elements are chosen so to avoid oscillations. "
   ]
  },
  {
   "cell_type": "markdown",
   "metadata": {},
   "source": [
    "### [Quadratic Lagrange FEM](#toc)<a id=\"highperesults1\"></a>\n",
    "\n",
    "Solve problem with the same parameter values above.\n",
    "\n",
    "FEM parameters:\n",
    "\n",
    "> + Basis Functions: Second Order Lagrangian\n",
    "> + num. of finite elements: 10"
   ]
  },
  {
   "cell_type": "code",
   "execution_count": null,
   "metadata": {},
   "outputs": [],
   "source": [
    "'''Parameters and data'''\n",
    "\n",
    "Pe_ave = 50 # convective dominated\n",
    "\n",
    "velocity = (Pe_ave * (diff_coeff_1+diff_coeff_2)/2/x_length, 0, 0)  # length scale is the x length"
   ]
  },
  {
   "cell_type": "code",
   "execution_count": null,
   "metadata": {},
   "outputs": [],
   "source": [
    "'''FEM Solution'''\n",
    "\n",
    "n_felem = 10\n",
    "\n",
    "order = 'second'\n",
    "\n",
    "n_plot_pts = 2*n_felem + 1\n",
    "\n",
    "try:    \n",
    "    from engy_5310.toolkit import write_engy5310_p1_1d_input_file  \n",
    "except ModuleNotFoundError:\n",
    "    assert False, 'You need to provide your own code here. Bailing out.'\n",
    "\n",
    "write_engy5310_p1_1d_input_file(x_left=x_a, x_right=x_b, \n",
    "                                u_left=u_a, u_right=u_b, \n",
    "                                diff_coeff=diff_coeff_1, source_s=source_s_1,\n",
    "                                source_transfer_coeff=source_transfer_coeff_1, \n",
    "                                source_saturation=source_saturation_1,\n",
    "                                u2_left=u2_a, u2_right=u2_b, \n",
    "                                diff_coeff_2=diff_coeff_2,\n",
    "                                velocity=velocity, \n",
    "                                n_felem=n_felem, order=order, \n",
    "                                n_plot_pts=n_plot_pts,\n",
    "                                compute_diffusion_flux=True,\n",
    "                                solver='fdp-newt-full')"
   ]
  },
  {
   "cell_type": "code",
   "execution_count": null,
   "metadata": {
    "scrolled": true
   },
   "outputs": [],
   "source": [
    "'''Display MOOSE input file created'''\n",
    "\n",
    "!cat engy5310p1/input.hit"
   ]
  },
  {
   "cell_type": "code",
   "execution_count": null,
   "metadata": {},
   "outputs": [],
   "source": [
    "'''Run Engy5310P1 MOOSE App'''\n",
    "\n",
    "!engy5310p1/engy5310p1-opt -i engy5310p1/input.hit"
   ]
  },
  {
   "cell_type": "code",
   "execution_count": null,
   "metadata": {
    "code_folding": [
     5
    ]
   },
   "outputs": [],
   "source": [
    "'''Show FEM Solution'''\n",
    "\n",
    "import pandas as pd\n",
    "df = pd.read_csv('output_x-data_0002.csv')\n",
    "    \n",
    "plot_solution(df, title='Peclet Coupled Variables w/ Dirichlet BC FEM Solution', \n",
    "              u1_legend=r'$u_1$ Linear Lagrange', u2_legend=r'$u_2$ Linear Lagrange',\n",
    "              u1_flux_legend=r'$u_1$ Diff. Flux Constant Monomial',\n",
    "              u2_flux_legend=r'$u_2$ Diff. Flux Constant Monomial')"
   ]
  },
  {
   "cell_type": "markdown",
   "metadata": {},
   "source": [
    "**Comments:**\n",
    "\n",
    "As convection dominates, the boundary layer sharpens and numerical instability appears in the form of oscillations. Either an increase of number of finite element basis functions or mesh adaptivity could resolve the boundary layer as demonstrated below."
   ]
  },
  {
   "cell_type": "markdown",
   "metadata": {},
   "source": [
    "#### [Compute Error](#toc)<a id=\"highperesults1error\"></a>\n"
   ]
  },
  {
   "cell_type": "code",
   "execution_count": null,
   "metadata": {},
   "outputs": [],
   "source": [
    "'''Flux Error Compared to Exact Dimensionless Solution'''\n",
    "\n",
    "'''coming...'''"
   ]
  },
  {
   "cell_type": "markdown",
   "metadata": {},
   "source": [
    "### [Quadratic Lagrange FEM](#toc)<a id=\"highperesults2\"></a>\n",
    "\n",
    "Solve problem with the same parameter values above.\n",
    "\n",
    "FEM parameters:\n",
    "\n",
    "> + Basis Functions: Second Order Lagrangian\n",
    "> + num. of finite elements: 20"
   ]
  },
  {
   "cell_type": "code",
   "execution_count": null,
   "metadata": {},
   "outputs": [],
   "source": [
    "'''FEM Solution'''\n",
    "\n",
    "n_felem = 10\n",
    "\n",
    "x_bias = .5  # mesh adaptivity\n",
    "\n",
    "order = 'second'\n",
    "\n",
    "n_plot_pts = 2*n_felem + 1\n",
    "n_plot_pts *= 2\n",
    "\n",
    "try:    \n",
    "    from engy_5310.toolkit import write_engy5310_p1_1d_input_file  \n",
    "except ModuleNotFoundError:\n",
    "    assert False, 'You need to provide your own code here. Bailing out.'\n",
    "\n",
    "write_engy5310_p1_1d_input_file(x_left=x_a, x_right=x_b, \n",
    "                                u_left=u_a, u_right=u_b, \n",
    "                                diff_coeff=diff_coeff_1, source_s=source_s_1,\n",
    "                                source_transfer_coeff=source_transfer_coeff_1, \n",
    "                                source_saturation=source_saturation_1,\n",
    "                                u2_left=u2_a, u2_right=u2_b, \n",
    "                                diff_coeff_2=diff_coeff_2,\n",
    "                                velocity=velocity, \n",
    "                                n_felem=n_felem, order=order, \n",
    "                                x_bias=x_bias,\n",
    "                                n_plot_pts=n_plot_pts,\n",
    "                                compute_diffusion_flux=True,\n",
    "                                solver='fdp-newt-full')"
   ]
  },
  {
   "cell_type": "code",
   "execution_count": null,
   "metadata": {
    "scrolled": true
   },
   "outputs": [],
   "source": [
    "'''Display MOOSE input file created'''\n",
    "\n",
    "!cat engy5310p1/input.hit"
   ]
  },
  {
   "cell_type": "code",
   "execution_count": null,
   "metadata": {},
   "outputs": [],
   "source": [
    "'''Run Engy5310P1 MOOSE App'''\n",
    "\n",
    "!engy5310p1/engy5310p1-opt -i engy5310p1/input.hit"
   ]
  },
  {
   "cell_type": "code",
   "execution_count": null,
   "metadata": {
    "code_folding": [
     5
    ]
   },
   "outputs": [],
   "source": [
    "'''Show FEM Solution'''\n",
    "\n",
    "import pandas as pd\n",
    "df = pd.read_csv('output_x-data_0002.csv')\n",
    "    \n",
    "plot_solution(df, title='Peclet Coupled Variables w/ Dirichlet BC FEM Solution', \n",
    "              u1_legend=r'$u_1$ Linear Lagrange', u2_legend=r'$u_2$ Linear Lagrange',\n",
    "              u1_flux_legend=r'$u_1$ Diff. Flux Constant Monomial',\n",
    "              u2_flux_legend=r'$u_2$ Diff. Flux Constant Monomial')"
   ]
  },
  {
   "cell_type": "markdown",
   "metadata": {},
   "source": [
    "**Comments:**\n",
    "\n",
    "1. The mesh adaptivity with refinement on the right side of the domain captures the exit boundary layer. An increase of the number of finite element would also correct the oscillation issue but this strategy is often undesirable."
   ]
  },
  {
   "cell_type": "markdown",
   "metadata": {},
   "source": [
    "#### [Compute Error](#toc)<a id=\"highperesults2error\"></a>"
   ]
  },
  {
   "cell_type": "code",
   "execution_count": null,
   "metadata": {},
   "outputs": [],
   "source": [
    "'''Error Compared to Exact Dimensionless Solution'''\n",
    "\n",
    "'''coming'''"
   ]
  },
  {
   "cell_type": "markdown",
   "metadata": {},
   "source": [
    "## [Application Tree](#toc)<a id=\"tree\"></a>\n",
    "\n",
    "This tree printout helps the understanding of various pieces of the `MOOSE` application repository created after all the above steps including future implementations in the notebooks following the present one that cover various boundary conditions."
   ]
  },
  {
   "cell_type": "code",
   "execution_count": null,
   "metadata": {},
   "outputs": [],
   "source": [
    "!tree engy5310p1"
   ]
  },
  {
   "cell_type": "code",
   "execution_count": null,
   "metadata": {},
   "outputs": [],
   "source": []
  }
 ],
 "metadata": {
  "kernelspec": {
   "display_name": "Python 3",
   "language": "python",
   "name": "python3"
  },
  "language_info": {
   "codemirror_mode": {
    "name": "ipython",
    "version": 3
   },
   "file_extension": ".py",
   "mimetype": "text/x-python",
   "name": "python",
   "nbconvert_exporter": "python",
   "pygments_lexer": "ipython3",
   "version": "3.8.8"
  },
  "latex_envs": {
   "LaTeX_envs_menu_present": true,
   "autoclose": false,
   "autocomplete": true,
   "bibliofile": "biblio.bib",
   "cite_by": "apalike",
   "current_citInitial": 1,
   "eqLabelWithNumbers": true,
   "eqNumInitial": 1,
   "hotkeys": {
    "equation": "Ctrl-E",
    "itemize": "Ctrl-I"
   },
   "labels_anchors": false,
   "latex_user_defs": false,
   "report_style_numbering": false,
   "user_envs_cfg": false
  },
  "toc": {
   "base_numbering": 1,
   "nav_menu": {},
   "number_sections": true,
   "sideBar": true,
   "skip_h1_title": false,
   "title_cell": "Table of Contents",
   "title_sidebar": "Contents",
   "toc_cell": false,
   "toc_position": {
    "height": "calc(100% - 180px)",
    "left": "10px",
    "top": "150px",
    "width": "220.75px"
   },
   "toc_section_display": true,
   "toc_window_display": false
  }
 },
 "nbformat": 4,
 "nbformat_minor": 2
}

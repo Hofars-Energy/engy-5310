{
 "cells": [
  {
   "cell_type": "markdown",
   "metadata": {},
   "source": [
    "ChEn-5310: Computational Continuum Transport Phenomena Spring 2021 UMass Lowell; Prof. V. F. de Almeida **13May21**\n",
    "\n",
    "# 11. Peclet Coupled 1D with Dirichlet Boundary Conditions\n",
    "$  \n",
    "  \\newcommand{\\Amtrx}{\\boldsymbol{\\mathsf{A}}}\n",
    "  \\newcommand{\\Bmtrx}{\\boldsymbol{\\mathsf{B}}}\n",
    "  \\newcommand{\\Mmtrx}{\\boldsymbol{\\mathsf{M}}}\n",
    "  \\newcommand{\\Imtrx}{\\boldsymbol{\\mathsf{I}}}\n",
    "  \\newcommand{\\Pmtrx}{\\boldsymbol{\\mathsf{P}}}\n",
    "  \\newcommand{\\Lmtrx}{\\boldsymbol{\\mathsf{L}}}\n",
    "  \\newcommand{\\Umtrx}{\\boldsymbol{\\mathsf{U}}}\n",
    "  \\newcommand{\\Smtrx}{\\boldsymbol{\\mathsf{S}}}\n",
    "  \\newcommand{\\xvec}{\\boldsymbol{\\mathsf{x}}}\n",
    "  \\newcommand{\\avec}{\\boldsymbol{\\mathsf{a}}}\n",
    "  \\newcommand{\\bvec}{\\boldsymbol{\\mathsf{b}}}\n",
    "  \\newcommand{\\cvec}{\\boldsymbol{\\mathsf{c}}}\n",
    "  \\newcommand{\\rvec}{\\boldsymbol{\\mathsf{r}}}\n",
    "  \\newcommand{\\fvec}{\\boldsymbol{\\mathsf{f}}}\n",
    "  \\newcommand{\\mvec}{\\boldsymbol{\\mathsf{m}}}\n",
    "  \\newcommand{\\gvec}{\\boldsymbol{\\mathsf{g}}}\n",
    "  \\newcommand{\\zerovec}{\\boldsymbol{\\mathsf{0}}}\n",
    "  \\newcommand{\\norm}[1]{\\bigl\\lVert{#1}\\bigr\\rVert}\n",
    "  \\newcommand{\\transpose}[1]{{#1}^\\top}\n",
    "  \\DeclareMathOperator{\\rank}{rank}\n",
    "  \\newcommand{\\Reals}{\\mathbb{R}}\n",
    "  \\newcommand{\\thetavec}{\\boldsymbol{\\theta}}\n",
    "$"
   ]
  },
  {
   "cell_type": "markdown",
   "metadata": {},
   "source": [
    "---\n",
    "\n",
    "## Table of Contents<a id=\"toc\"></a>\n",
    "* [Objectives](#obj)\n",
    "1. [Plotting Functions](#plotting)\n",
    "<br><br>\n",
    "1. [Problem Statement](#problem)\n",
    " + [Strong Form](#dbcstrong)\n",
    " + [Weak Form](#dbcweak)\n",
    " + [Poisson-Dirichlet Energy](#energy)\n",
    "<br><br>\n",
    "1. [Problem Solution](#solution)\n",
    " + [Code a Convective Term Kernel](#dbcdiff)\n",
    " + [Compile and Link Application](#compile1)\n",
    " + [Input File](#dbcinput)\n",
    " + [Run Application](#dbcrun)\n",
    "<br><br>   \n",
    "1. [Linear Lagrange FEM Results](#dbclinearfemresults)\n",
    " + [Compute Error](#linearerror)\n",
    "<br><br>    \n",
    "1. [Quadratic Lagrange FEM Results](#dbcquadfemresults)\n",
    " + [Compute Error](#quaderror)\n",
    "<br><br>    \n",
    "1. [High Peclet Number](#highpe)\n",
    " + [Quadratic Lagrange FEM Results](#highperesults1)\n",
    "    - [Compute Error](#highperesults1error)\n",
    " + [Quadratic Lagrange FEM Results](#highperesults2)\n",
    "    - [Compute Error](#highperesults2error)\n",
    "<br><br>   \n",
    "1. [Application Tree](#tree)\n",
    "---"
   ]
  },
  {
   "cell_type": "markdown",
   "metadata": {},
   "source": [
    "## [Objectives](#toc)<a id=\"obj\"></a>\n",
    "\n",
    "+ Introduce a convective term in the Poisson problem studied in the notebook series 06; all past notebooks must be thoroughly reviewed.\n",
    "+ Introduce the Galerkin weak form of the Peclet 1D problem below ([OneNote notes here](https://studentuml-my.sharepoint.com/:o:/g/personal/valmor_dealmeida_uml_edu/Eib-vZHIpRlPlOMtz0Gf_asBegEFKsl9dOK4nHyDbgSeUA?e=sLu1td)).\n",
    "+ <span style=\"color:red\">Some initial code is provided in the course repository but no full source code is given out. A significant effort in programing is often necessary to learn the subject well. However the material in this course is helpful with this task. Hands-on work during lectures will try to fill in existing gap. The steps in this notebook are necessary for a basic understanding of the subject.</span> \n",
    "+ The reader is supposed to consult the [`MOOSE source documentation`](https://mooseframework.inl.gov/source/index.html) to fill in gaps in reproducing the steps below.</span>"
   ]
  },
  {
   "cell_type": "markdown",
   "metadata": {},
   "source": [
    "## [Plotting Functions](#toc)<a id=\"plotting\"></a>\n",
    "\n",
    "This is an auxiliary section for holding plotting functions used later."
   ]
  },
  {
   "cell_type": "code",
   "execution_count": 25,
   "metadata": {
    "code_folding": []
   },
   "outputs": [],
   "source": [
    "'''Plot function for FEM Solution'''\n",
    "\n",
    "def plot_solution(df, \n",
    "                  title='No Title', \n",
    "                  u1_legend='no u1 legend',\n",
    "                  u2_legend='no u2 legend',\n",
    "                  u1_flux_legend='no u1 flux legend',\n",
    "                  u2_flux_legend='no u2 flux legend'):\n",
    "    \n",
    "    import matplotlib.pyplot as plt\n",
    "    %matplotlib inline\n",
    "    plt.style.use('dark_background')\n",
    "\n",
    "    (fig, ax1) = plt.subplots(1, figsize=(15, 6))\n",
    "\n",
    "    ax1.plot(df['x'], df['u'],'r*-',label=u1_legend)\n",
    "    \n",
    "    if 'u2' in df.columns:\n",
    "        ax1.plot(df['x'], df['u2'],'r*--',label=u2_legend)\n",
    "\n",
    "    ax1.set_xlabel(r'$x$ [cm]', fontsize=18)\n",
    "    ax1.set_ylabel(r'$u_h(x)$ [g/cc]', fontsize=18, color='red')\n",
    "    ax1.tick_params(axis='y', labelcolor='red', labelsize=14)\n",
    "    ax1.tick_params(axis='x', labelsize=14)\n",
    "    ax1.legend(loc='center left', fontsize=12)\n",
    "    #ax1.set_ylim(0,1)\n",
    "    ax1.grid(True)\n",
    "\n",
    "    if 'diffFluxU_x' in df.columns:\n",
    "        # create a twin x axis to be shared\n",
    "        ax2 = ax1.twinx()\n",
    "\n",
    "        ax2.plot(df['x'], df['diffFluxU_x'],'*-', color='yellow', label=u1_flux_legend)\n",
    "        \n",
    "        if 'diffFluxU2_x' in df.columns:\n",
    "            ax2.plot(df['x'], df['diffFluxU2_x'],'*--', color='yellow', label=u2_flux_legend)\n",
    "\n",
    "        ax2.set_ylabel(r\"$q_h(x)$ [g/cm$^2$-s]\", fontsize=16, color='yellow')\n",
    "        ax2.tick_params(axis='y', labelcolor='yellow', labelsize=14)\n",
    "        ax2.legend(loc='center right', fontsize=12)\n",
    "        #ax2.set_ylim(0,2)\n",
    "        #ax2.grid(True)\n",
    "\n",
    "    plt.title(title, fontsize=20)\n",
    "    fig.tight_layout()  # otherwise the right y-label is slightly clipped\n",
    "    plt.show()\n",
    "    print('')"
   ]
  },
  {
   "cell_type": "markdown",
   "metadata": {},
   "source": [
    "## [Problem Statement](#toc)<a id=\"problem\"></a>\n",
    "\n",
    "The following sections describe an extension of the Peclet problem described in previous notebooks for the case when two fields are coupled through a source term."
   ]
  },
  {
   "cell_type": "markdown",
   "metadata": {},
   "source": [
    "### [Strong Form of Problem Statement](#toc)<a id=\"dbcstrong\"></a>\n",
    "\n",
    "Solve the Peclet model problem. Find $u_1:[a,b]\\subset\\Reals\\rightarrow\\Reals$ and $u_2:[a,b]\\subset\\Reals\\rightarrow\\Reals$ for $D_1 > 0$ and $D_2 > 0$ such that:\n",
    "\n",
    "\\begin{align*}\n",
    "  v\\, u_1' &= -\\bigl(-D_1\\, u_1'\\bigr)'(x) + S(u_1, u_2) \\quad \\forall \\quad x\\in [a,b], \\\\\n",
    " u_1(a) &= A_1, \\\\\n",
    " u_1(b) &= B_1.\n",
    "\\end{align*}\n",
    "\n",
    "and\n",
    "\n",
    "\\begin{align*}\n",
    "  v\\, u_2' &= -\\bigl(-D_2\\, u_2'\\bigr)'(x) - S(u_1, u_2) \\quad \\forall \\quad x\\in [a,b], \\\\\n",
    " u_2(a) &= A_2, \\\\\n",
    " u_2(b) &= B_2.\n",
    "\\end{align*}\n",
    "\n",
    "The *diffusion flux* associated to the quantity $u_i, \\, \\ i=1,2$ is denoted $q_i := -D_i\\,u_i'$, and it is often of interest as a derived quantity. Here a point-wise *convective sink (or sweep)* is given by $v\\,u_i'$. There exists two Peclet numbers: \n",
    "\n",
    "  + Peclet number: $\\frac{v\\,L}{D_i}$. \n",
    "\n",
    "whose effects has been described in earlier notebooks.\n",
    "\n",
    "Likewise in the single-field Peclet 1-D problem (Notebook 10), the values of the dependent variables are given on the two end points of the domain (*essential* boundary conditions or  *Dirichlet boundary conditions*)."
   ]
  },
  {
   "cell_type": "markdown",
   "metadata": {},
   "source": [
    "### [Coupling Source](#toc)<a id=\"couplingsource\"></a>\n",
    "\n",
    "Consider the following coupling source:\n",
    "\n",
    "\\begin{align*}\n",
    " S(u_1, u_2) = S_1 - h_1\\,\\bigl(u_1-u_1^*\\bigr) - \\Bigl( S_2 - h_2\\, \\bigl(u_2 - u_2^*\\bigr) \\Bigr)\n",
    "\\end{align*}\n",
    "\n",
    "Where "
   ]
  },
  {
   "cell_type": "markdown",
   "metadata": {},
   "source": [
    "### [Weak Form of the Problem Statement](#toc)<a id=\"dbcweak\"></a>\n",
    "\n",
    "The Galerkin weak formulation is as follows. Find $u_1 \\in H^1\\!\\bigl([a,b]\\bigr)$ and $u_2 \\in H^1\\!\\bigl([a,b]\\bigr)$\n",
    "so that \n",
    "\n",
    "\\begin{align*}\n",
    " \\int\\limits_a^b v\\, u_1'(x)\\, w(x)\\,dx + \\int\\limits_a^b D\\, u_1'(x)\\,w'(x)\\,dx - \\int\\limits_a^b S(u_1, u_2)\\,w(x)\\,dx &= 0 \\quad \\forall \\quad v \\in H^1_0\\!\\bigl([a,b]\\bigr), \\text{and}\n",
    " \\\\\n",
    "  \\int\\limits_a^b v\\, u_2'(x)\\, w(x)\\,dx + \\int\\limits_a^b D\\, u_2'(x)\\,w'(x)\\,dx + \\int\\limits_a^b S(u_1, u_2)\\,w(x)\\,dx &= 0 \\quad \\forall \\quad v \\in H^1_0\\!\\bigl([a,b]\\bigr),\n",
    "\\end{align*}\n",
    "\n",
    "where $H^1\\!\\bigl([a,b]\\bigr) := \\bigl\\{ u:[a,b]\\subset\\Reals\\rightarrow \\Reals \\mid \\int_a^b u'^2\\,dx < \\infty\\bigr\\}$ and $H^1_0\\!\\bigl([a,b]\\bigr) := \\bigl\\{ w \\mid w \\in H^1(a,b), w(a) = 0, w(b) =0 \\bigr\\}$. Both function sets as just defined are Hilbert spaces. The function $w$ is called a test function. Because $w$, $u_1$, $u_2$ are sought in very similar sets of functions, this weak form is called Galerkin's weak form.\n",
    "\n",
    "The new convective integral term is the key term to be computed. Since the MOOSE framework performs the integration, and provides the implementation of the test function, we need to provide the integrand of the integral, that is, the kernel. Therefore the kernel needed is:\n",
    "\n",
    " 1. $v\\,u'(x)\\,\\,w(x)$.\n",
    " \n",
    "The kernels are to be evaluated at quadrature points provided by the MOOSE framework."
   ]
  },
  {
   "cell_type": "markdown",
   "metadata": {},
   "source": [
    "## [Problem Solution](#toc)<a id=\"solution\"></a>\n",
    "\n",
    "We will leverage the Peclet 1D development (Notebook 09) to modify the source term where the coupling takes place."
   ]
  },
  {
   "cell_type": "markdown",
   "metadata": {},
   "source": [
    "### [Code a Source Term Kernel](#toc)<a id=\"dbcsource\"></a>\n",
    "\n",
    "1. Starting from the Peclet 1D development.\n",
    "\n",
    " + You will need to declare a member variable named `_sourceS` as `Real` data type. For example:\n",
    "   ```c++\n",
    "   /// The variable which holds the value for the source\n",
    "   const Real _sourceS;\n",
    "   ```\n",
    "1. Create a `SourceTerm.C` class implementation likewise.\n",
    " + Use the `EquationTerm.C` course template.\n",
    " + You will need to program the *residual* and *Jacobian* methods. <span style=\"color:red\">This portion of the implementation is covered in class.</span>\n",
    " \n",
    " + For the residual, a return value such as this is needed:\n",
    "  ```c++\n",
    "  Real\n",
    "  SourceTerm::computeQpResidual()\n",
    "  {\n",
    "   return _sourceS * _test[_i][_qp];\n",
    "  }\n",
    "  ```\n",
    " + For the Jacobian, a return value such as this is needed:\n",
    " ```c++\n",
    " Real\n",
    " SourceTerm::computeQpJacobian()\n",
    " {\n",
    "  return 0.0;\n",
    " }\n",
    " ```\n"
   ]
  },
  {
   "cell_type": "markdown",
   "metadata": {},
   "source": [
    "### [Compile and Link Application](#toc)<a id=\"compile1\"></a>\n",
    "\n",
    "1. Make sure you are in the problem project:\n",
    " +  `cd ../..`\n",
    " + `pwd`\n",
    "1. You should see: `..../engy5310p1`\n",
    "1. Compile and link the application\n",
    " + `make`\n",
    "1. If all is sucessfull you should see among other things in the screen output:\n",
    " + Linking Library `.../engy5310p1/lib/libengy5310p1-opt.la...`\n",
    " + Linking Executable `.../engy5310p1/engy5310p1-opt...`"
   ]
  },
  {
   "cell_type": "markdown",
   "metadata": {},
   "source": [
    "### [Input File](#toc)<a id=\"dbcinput\"></a>\n",
    "\n",
    "A new kernel block needs to be added to the input file (review Notebook 06 series); in addition the velocity is added as a vector valued quantity in preparation for 2-D and 3-D extensions.\n",
    "\n",
    "Some additional info on `MOOSE` **Hierarchical Input Text** (HIT) syntax can be found [here](https://mooseframework.inl.gov/application_usage/input_syntax.html).\n",
    "```\n",
    "# Parameters\n",
    "velocity = '4.00000e-02 0.00000e+00 0.00000e+00'\n",
    "\n",
    "[Kernels]\n",
    "  [convection-term]\n",
    "    type = ConvectionTerm   # New convective term\n",
    "    variable = u     \n",
    "    velocity = ${replace velocity}\n",
    "  []\n",
    "[]\n",
    "```\n",
    "Save the input file in the `.../engy5310p1/` directory."
   ]
  },
  {
   "cell_type": "markdown",
   "metadata": {},
   "source": [
    "### [Run Application](#toc)<a id=\"dbcrun\"></a>\n",
    "\n",
    "1. In the `engy5310p1/` directory run the application with the Linux shell command:\n",
    " + `./engy5310p1-opt -i input.hit`\n",
    "2. Compare your results with this notebook results below.\n",
    "3. Return here to follow instructions on how to implement the calculation of the total energy."
   ]
  },
  {
   "cell_type": "markdown",
   "metadata": {},
   "source": [
    "## [Linear Lagrange FEM](#toc)<a id=\"dbclinearfemresults\"></a>\n",
    "\n",
    "Solve problem with parameter values:\n",
    "\n",
    "> + a = 0 cm\n",
    "> + b = 25 cm\n",
    "> + A = 3 g/cc\n",
    "> + B = 0 g/cc\n",
    "> + D = 0.1 cm^2/s\n",
    "> + S = 1e-3 g/cc-s\n",
    "> + Pe = 10\n",
    "\n",
    "FEM parameters:\n",
    "\n",
    "> + Basis Functions: First Order Lagrangian\n",
    "> + num. of finite elements: 10"
   ]
  },
  {
   "cell_type": "code",
   "execution_count": 2,
   "metadata": {},
   "outputs": [],
   "source": [
    "'''Domain'''\n",
    "\n",
    "x_a = 0\n",
    "x_b = 25\n",
    "\n",
    "x_length = x_b - x_a"
   ]
  },
  {
   "cell_type": "code",
   "execution_count": 58,
   "metadata": {},
   "outputs": [],
   "source": [
    "'''Parameters and data'''\n",
    "\n",
    "Pe = 10 # mildly convective dominated\n",
    "\n",
    "diff_coeff_1 = 0.1\n",
    "source_s_1 = 1e-3\n",
    "source_transfer_coeff_1 = 5e-3\n",
    "source_saturation_1 = 1.5\n",
    "\n",
    "diff_coeff_2 = 2*diff_coeff_1\n",
    "source_s_2 = 0.1*source_s_1\n",
    "source_transfer_coeff_2 = .5*source_transfer_coeff_1\n",
    "source_saturation_2 = 2\n",
    "\n",
    "velocity = (Pe * (diff_coeff_1+diff_coeff_2)/2/x_length, 0, 0)  # length scale is the x length\n",
    "\n",
    "u_a = 3\n",
    "u_b = 0\n",
    "\n",
    "u2_a = 0\n",
    "u2_b = 0"
   ]
  },
  {
   "cell_type": "code",
   "execution_count": 59,
   "metadata": {},
   "outputs": [],
   "source": [
    "'''FEM Solution'''\n",
    "\n",
    "n_felem = 10\n",
    "\n",
    "order = 'first'\n",
    "\n",
    "n_plot_pts = n_felem + 1\n",
    "\n",
    "try:    \n",
    "    from engy_5310.toolkit import write_engy5310_p1_1d_input_file  \n",
    "except ModuleNotFoundError:\n",
    "    assert False, 'You need to provide your own code here. Bailing out.'\n",
    "\n",
    "write_engy5310_p1_1d_input_file(x_left=x_a, x_right=x_b, \n",
    "                                u_left=u_a, u_right=u_b, \n",
    "                                diff_coeff=diff_coeff, source_s=source_s_1,\n",
    "                                source_transfer_coeff=source_transfer_coeff_1, \n",
    "                                source_saturation=source_saturation_1,\n",
    "                                u2_left=u2_a, u2_right=u2_b, \n",
    "                                diff_coeff_2=diff_coeff_2, source_s_2=-source_s_2,\n",
    "                                source_transfer_coeff_2=-source_transfer_coeff_2, \n",
    "                                source_saturation_2=source_saturation_2,\n",
    "                                velocity=velocity, \n",
    "                                n_felem=n_felem, order=order, \n",
    "                                n_plot_pts=n_plot_pts,\n",
    "                                compute_diffusion_flux=True)"
   ]
  },
  {
   "cell_type": "code",
   "execution_count": 60,
   "metadata": {
    "scrolled": true
   },
   "outputs": [
    {
     "name": "stdout",
     "output_type": "stream",
     "text": [
      "# Engy-5310 Problem 1: Poisson 1D FEM\r\n",
      "# UMass Lowell Nuclear Chemical Engineering\r\n",
      "# Prof. Valmor F. de Almeida\r\n",
      "# 19Apr21 23:46:34\r\n",
      "\r\n",
      "# Parameters\r\n",
      "xmin = 0.00000e+00\r\n",
      "xmax = 2.50000e+01\r\n",
      "diff_coeff = 1.00000e-01\r\n",
      "source_s = 1.00000e-03\r\n",
      "source_transfer_coeff = 5.00000e-03\r\n",
      "source_saturation = 1.50000e+00\r\n",
      "u_left = 3.00000e+00\r\n",
      "u_right = 0.00000e+00\r\n",
      "u2_left = 0.00000e+00\r\n",
      "u2_right = 0.00000e+00\r\n",
      "diff_coeff_2 = 2.00000e-01\r\n",
      "source_s_2 = -1.00000e-04\r\n",
      "source_transfer_coeff_2 = -2.50000e-03\r\n",
      "source_saturation_2 = 2.00000e+00\r\n",
      "velocity = '6.00000e-02 0.00000e+00 0.00000e+00'\r\n",
      "\r\n",
      "[Problem]\r\n",
      "  type = FEProblem\r\n",
      "  coord_type = XYZ\r\n",
      "[]\r\n",
      "\r\n",
      "[Mesh]\r\n",
      "  [1d]\r\n",
      "    type = GeneratedMeshGenerator\r\n",
      "    dim = 1\r\n",
      "    xmin = ${replace xmin}\r\n",
      "    xmax = ${replace xmax}\r\n",
      "    nx = 10\r\n",
      "  []\r\n",
      "[]\r\n",
      "\r\n",
      "[Variables]\r\n",
      "  [u]\r\n",
      "    order = first\r\n",
      "    family = lagrange\r\n",
      "    initial_condition = ${fparse (u_right+u_left)/2}\r\n",
      "  []\r\n",
      "  [u2]\r\n",
      "    order = first\r\n",
      "    family = lagrange\r\n",
      "    initial_condition = ${fparse (u2_right+u2_left)/2}\r\n",
      "  []\r\n",
      "[]\r\n",
      "\r\n",
      "[AuxVariables]\r\n",
      "  [diffFluxU]\r\n",
      "    order = CONSTANT\r\n",
      "    family = MONOMIAL_VEC\r\n",
      "  []\r\n",
      "  [diffFluxU2]\r\n",
      "    order = CONSTANT\r\n",
      "    family = MONOMIAL_VEC\r\n",
      "  []\r\n",
      "  [diffFluxU_x]\r\n",
      "    order = CONSTANT\r\n",
      "    family = MONOMIAL\r\n",
      "  []\r\n",
      "  [diffFluxU2_x]\r\n",
      "    order = CONSTANT\r\n",
      "    family = MONOMIAL\r\n",
      "  []\r\n",
      "[]\r\n",
      "\r\n",
      "[Kernels]\r\n",
      "  [diffusion-term]\r\n",
      "    type = DiffusionTerm\r\n",
      "    variable = u     # produced quantity\r\n",
      "    diffCoeff = ${replace diff_coeff}\r\n",
      "  []\r\n",
      "  [source-term]\r\n",
      "    type = SourceTerm\r\n",
      "    variable = u     # add to produced quantity\r\n",
      "    sourceS = ${replace source_s}\r\n",
      "    transferCoeff = ${replace source_transfer_coeff}\r\n",
      "    saturation = ${replace source_saturation}\r\n",
      "    coupledVariable = u2\r\n",
      "  []\r\n",
      "  [convection-term]\r\n",
      "    type = ConvectionTerm\r\n",
      "    variable = u     # produced quantity\r\n",
      "    velocity = ${replace velocity}\r\n",
      "  []\r\n",
      "  [diffusion-term-2]\r\n",
      "    type = DiffusionTerm\r\n",
      "    variable = u2     # produced quantity\r\n",
      "    diffCoeff = ${replace diff_coeff_2}\r\n",
      "  []\r\n",
      "  [source-term-2]\r\n",
      "    type = SourceTerm\r\n",
      "    variable = u2     # add to produced quantity\r\n",
      "    sourceS = ${replace source_s_2}\r\n",
      "    transferCoeff = ${replace source_transfer_coeff_2}\r\n",
      "    saturation = ${replace source_saturation_2}\r\n",
      "    coupledVariable = u\r\n",
      "  []\r\n",
      "  [convection-term-2]\r\n",
      "    type = ConvectionTerm\r\n",
      "    variable = u2     # produced quantity\r\n",
      "    velocity = ${replace velocity}\r\n",
      "  []\r\n",
      "[]\r\n",
      "\r\n",
      "[AuxKernels]\r\n",
      "  [diffusion-flux]\r\n",
      "    execute_on = timestep_end\r\n",
      "    type = DiffusionFlux\r\n",
      "    field = u\r\n",
      "    diffCoeff = ${replace diff_coeff}\r\n",
      "    variable = diffFluxU     # produced quantity\r\n",
      "  []\r\n",
      "  [diffusion-flux-x]\r\n",
      "    execute_on = timestep_end\r\n",
      "    type = VectorVariableComponentAux\r\n",
      "    variable = diffFluxU_x    # produced quantity\r\n",
      "    component = x\r\n",
      "    vector_variable = diffFluxU   \r\n",
      "  []\r\n",
      "  [diffusion-flux-2]\r\n",
      "    execute_on = timestep_end\r\n",
      "    type = DiffusionFlux\r\n",
      "    field = u2\r\n",
      "    diffCoeff = ${replace diff_coeff_2}\r\n",
      "    variable = diffFluxU2     # produced quantity\r\n",
      "  []\r\n",
      "  [diffusion-flux-x-2]\r\n",
      "    execute_on = timestep_end\r\n",
      "    type = VectorVariableComponentAux\r\n",
      "    variable = diffFluxU2_x    # produced quantity\r\n",
      "    component = x\r\n",
      "    vector_variable = diffFluxU2   \r\n",
      "  []\r\n",
      "[]\r\n",
      "\r\n",
      "[BCs]\r\n",
      "  [entry-u]\r\n",
      "    type = DirichletBC\r\n",
      "    variable = u\r\n",
      "    boundary = left\r\n",
      "    value = ${replace u_left}\r\n",
      "  []\r\n",
      "  [entry-u2]\r\n",
      "    type = DirichletBC\r\n",
      "    variable = u2\r\n",
      "    boundary = left\r\n",
      "    value = ${replace u2_left}\r\n",
      "  []\r\n",
      "  [exit-u]\r\n",
      "    type = DirichletBC\r\n",
      "    variable = u\r\n",
      "    boundary = right\r\n",
      "    value = ${replace u_right}\r\n",
      "  []\r\n",
      "  [exit-u2]\r\n",
      "    type = DirichletBC\r\n",
      "    variable = u2\r\n",
      "    boundary = right\r\n",
      "    value = ${replace u2_right}\r\n",
      "  []\r\n",
      "[]\r\n",
      "\r\n",
      "[Executioner]\r\n",
      "  type = Steady\r\n",
      "  solve_type = 'PJFNK'\r\n",
      "  petsc_options_iname = '-pc_type -pc_hypre_type'\r\n",
      "  petsc_options_value = 'hypre boomeramg'\r\n",
      "[]\r\n",
      "\r\n",
      "[VectorPostprocessors]\r\n",
      "  [x-data]\r\n",
      "    type = LineValueSampler\r\n",
      "    execute_on = 'timestep_end final'\r\n",
      "    variable = 'u u2 diffFluxU_x diffFluxU2_x'    # output data\r\n",
      "    start_point = '${replace xmin} 0 0'\r\n",
      "    end_point = '${replace xmax} 0 0'\r\n",
      "    num_points = 11\r\n",
      "    sort_by = id\r\n",
      "  []\r\n",
      "[]\r\n",
      "\r\n",
      "[Outputs]\r\n",
      "  console = true\r\n",
      "  [file-x-data]\r\n",
      "    type = CSV\r\n",
      "    file_base = 'output'\r\n",
      "    execute_on = 'final'\r\n",
      "    show = 'x-data'\r\n",
      "  []\r\n",
      "[]\r\n"
     ]
    }
   ],
   "source": [
    "'''Display MOOSE input file created'''\n",
    "\n",
    "!cat engy5310p1/input.hit"
   ]
  },
  {
   "cell_type": "code",
   "execution_count": 61,
   "metadata": {
    "scrolled": true
   },
   "outputs": [
    {
     "name": "stdout",
     "output_type": "stream",
     "text": [
      "\n",
      "\n",
      "Framework Information:\n",
      "MOOSE Version:           git commit 52562be492 on 2021-04-09\n",
      "LibMesh Version:         27141d18f3137f77e33cdb3d565fd38ebfbfc46f\n",
      "PETSc Version:           3.15.0\n",
      "SLEPc Version:           3.14.2\n",
      "Current Time:            Mon Apr 19 23:46:35 2021\n",
      "Executable Timestamp:    Mon Apr 19 21:44:00 2021\n",
      "\n",
      "Parallelism:\n",
      "  Num Processors:          1\n",
      "  Num Threads:             1\n",
      "\n",
      "Mesh: \n",
      "  Parallel Type:           replicated\n",
      "  Mesh Dimension:          1\n",
      "  Spatial Dimension:       1\n",
      "  Nodes:                   \n",
      "    Total:                 11\n",
      "    Local:                 11\n",
      "  Elems:                   \n",
      "    Total:                 10\n",
      "    Local:                 10\n",
      "  Num Subdomains:          1\n",
      "  Num Partitions:          1\n",
      "\n",
      "Nonlinear System:\n",
      "  Num DOFs:                22\n",
      "  Num Local DOFs:          22\n",
      "  Variables:               { \"u\" \"u2\" } \n",
      "  Finite Element Types:    \"LAGRANGE\" \n",
      "  Approximation Orders:    \"FIRST\" \n",
      "\n",
      "Auxiliary System:\n",
      "  Num DOFs:                40\n",
      "  Num Local DOFs:          40\n",
      "  Variables:               { \"diffFluxU\" \"diffFluxU2\" } { \"diffFluxU_x\" \"diffFluxU2_x\" } \n",
      "  Finite Element Types:    \"MONOMIAL_VEC\" \"MONOMIAL\" \n",
      "  Approximation Orders:    \"CONSTANT\" \"CONSTANT\" \n",
      "\n",
      "Execution Information:\n",
      "  Executioner:             Steady\n",
      "  Solver Mode:             Preconditioned JFNK\n",
      "  PETSc Preconditioner:    hypre boomeramg \n",
      "\n",
      " 0 Nonlinear |R| = \u001b[32m1.117535e-01\u001b[39m\n",
      "      0 Linear |R| = \u001b[32m1.117535e-01\u001b[39m\n",
      "      1 Linear |R| = \u001b[32m5.038969e-03\u001b[39m\n",
      "      2 Linear |R| = \u001b[32m2.457460e-04\u001b[39m\n",
      "      3 Linear |R| = \u001b[32m1.217098e-05\u001b[39m\n",
      "      4 Linear |R| = \u001b[32m3.105205e-07\u001b[39m\n",
      " 1 Nonlinear |R| = \u001b[32m3.097697e-07\u001b[39m\n",
      "      0 Linear |R| = \u001b[32m3.097697e-07\u001b[39m\n",
      "      1 Linear |R| = \u001b[32m4.483620e-09\u001b[39m\n",
      "      2 Linear |R| = \u001b[32m1.002280e-10\u001b[39m\n",
      "      3 Linear |R| = \u001b[32m5.539962e-13\u001b[39m\n",
      " 2 Nonlinear |R| = \u001b[32m5.501645e-13\u001b[39m\n",
      "\u001b[32m Solve Converged!\u001b[39m\n",
      "WARNING! There are options you set that were not used!\n",
      "WARNING! could be spelling mistake, etc!\n",
      "There is one unused database option. It is:\n",
      "Option left: name:-i value: engy5310p1/input.hit\n"
     ]
    }
   ],
   "source": [
    "'''Run Engy5310P1 MOOSE App'''\n",
    "\n",
    "!engy5310p1/engy5310p1-opt -i engy5310p1/input.hit"
   ]
  },
  {
   "cell_type": "code",
   "execution_count": 62,
   "metadata": {
    "code_folding": [
     2
    ]
   },
   "outputs": [
    {
     "data": {
      "image/png": "[encoded data removed]",
      "text/plain": [
       "<Figure size 1080x432 with 2 Axes>"
      ]
     },
     "metadata": {},
     "output_type": "display_data"
    },
    {
     "name": "stdout",
     "output_type": "stream",
     "text": [
      "\n"
     ]
    }
   ],
   "source": [
    "'''Show FEM Solution'''\n",
    "\n",
    "import pandas as pd\n",
    "df = pd.read_csv('output_x-data_0002.csv')\n",
    "    \n",
    "plot_solution(df, title='Peclet Coupled Variables w/ Dirichlet BC FEM Solution', \n",
    "              u1_legend=r'$u_1$ Linear Lagrange', u2_legend=r'$u_2$ Linear Lagrange',\n",
    "              u1_flux_legend=r'$u_1$ Diff. Flux Constant Monomial',\n",
    "              u2_flux_legend=r'$u_2$ Diff. Flux Constant Monomial')"
   ]
  },
  {
   "cell_type": "markdown",
   "metadata": {},
   "source": [
    "**Comments:**\n",
    "\n",
    "1. The *concentration* is \"swept\" to the right and rises towards the exit before dropping to the boundary value.\n",
    "1. Because of convection, a boundary layer will form near the exit as Pe increases.\n",
    "1. An adequate number of finite element basis functions are needed to capture the correct behavior of $u$.\n",
    "1. The normal diffusion flux on both ends of the domain is positive, therefore the exists diffusive *draining* on both boundaries."
   ]
  },
  {
   "cell_type": "markdown",
   "metadata": {},
   "source": [
    "### [FEM Error](#toc)<a id=\"linearerror\"></a>"
   ]
  },
  {
   "cell_type": "code",
   "execution_count": null,
   "metadata": {},
   "outputs": [],
   "source": [
    "'''Error Compared to Exact Dimensionless Solution'''\n",
    "\n",
    "'''coming...'''"
   ]
  },
  {
   "cell_type": "markdown",
   "metadata": {},
   "source": [
    "**Comments:**\n",
    "\n",
    "1. TBA\n",
    "1. TBA"
   ]
  },
  {
   "cell_type": "markdown",
   "metadata": {},
   "source": [
    "## [Quadratic Lagrange FEM](#toc)<a id=\"dbcquadfemresults\"></a>\n",
    "\n",
    "Solve problem with parameter values:\n",
    "\n",
    "> + a = 0 cm\n",
    "> + b = 25 cm\n",
    "> + A = 3 g/cc\n",
    "> + B = 0 g/cc\n",
    "> + D = 0.1 cm^2/s\n",
    "> + S = 1e-3 g/cc-s\n",
    "> + Pe = 10\n",
    "\n",
    "FEM parameters:\n",
    "\n",
    "> + Basis Functions: Second Order Lagrangian\n",
    "> + num. of finite elements: 10"
   ]
  },
  {
   "cell_type": "markdown",
   "metadata": {},
   "source": [
    "The input file needs changes to select the higher order approximation:\n",
    "\n",
    "```\n",
    "[Mesh]\n",
    " [1d]                                # any lower case name; this is our 1D block\n",
    "  type = GeneratedMeshGenerator  \n",
    "  dim = 1 \n",
    "  xmin = 0 \n",
    "  xmax = 25\n",
    "  nx = 1 \n",
    "  elem_type = edge3                  # this goes with the second order Lagrange basis functions below\n",
    " []\n",
    "[]\n",
    "\n",
    "[Variables]\n",
    " [u]                                 # our unknown variable to be related to below\n",
    "  order = second                     # MOOSE second order Lagrange basis functions\n",
    "  family = lagrange\n",
    " []\n",
    "[]\n",
    "```"
   ]
  },
  {
   "cell_type": "code",
   "execution_count": null,
   "metadata": {},
   "outputs": [],
   "source": [
    "'''FEM Solution'''\n",
    "\n",
    "n_felem = 10\n",
    "\n",
    "order = 'second'\n",
    "\n",
    "n_plot_pts = 2*n_felem + 1\n",
    "\n",
    "try:    \n",
    "    from engy_5310.toolkit import write_engy5310_p1_1d_input_file  \n",
    "except ModuleNotFoundError:\n",
    "    assert False, 'You need to provide your own code here. Bailing out.'\n",
    "\n",
    "write_engy5310_p1_1d_input_file(x_left=x_a, x_right=x_b, u_left=u_a, u_right=u_b, \n",
    "                                diff_coeff=diff_coeff, source_s=source_s,\n",
    "                                source_transfer_coeff=0.005, source_saturation=1.5,\n",
    "                                velocity=velocity, \n",
    "                                n_felem=n_felem, order=order, \n",
    "                                n_plot_pts=n_plot_pts,\n",
    "                                compute_diffusion_flux=True)"
   ]
  },
  {
   "cell_type": "code",
   "execution_count": null,
   "metadata": {
    "scrolled": true
   },
   "outputs": [],
   "source": [
    "'''Display MOOSE input file created'''\n",
    "\n",
    "!cat engy5310p1/input.hit"
   ]
  },
  {
   "cell_type": "code",
   "execution_count": null,
   "metadata": {},
   "outputs": [],
   "source": [
    "'''Run Engy5310P1 MOOSE App'''\n",
    "\n",
    "!engy5310p1/engy5310p1-opt -i engy5310p1/input.hit"
   ]
  },
  {
   "cell_type": "code",
   "execution_count": null,
   "metadata": {},
   "outputs": [],
   "source": [
    "'''Show FEM Solution'''\n",
    "\n",
    "import pandas as pd\n",
    "df = pd.read_csv('output_x-data_0002.csv')\n",
    "\n",
    "plot_solution(df, title='Dirichlet BC FEM Solution', basis_functions_type='Quadratic Lagrange', flux_basis_functions_type='Linear Monomial')"
   ]
  },
  {
   "cell_type": "markdown",
   "metadata": {},
   "source": [
    "### [FEM Error](#toc)<a id=\"quaderror\"></a>\n"
   ]
  },
  {
   "cell_type": "code",
   "execution_count": null,
   "metadata": {},
   "outputs": [],
   "source": [
    "'''Error Compared to Exact Dimensionless Solution'''\n",
    "\n",
    "'''comming...'''"
   ]
  },
  {
   "cell_type": "markdown",
   "metadata": {},
   "source": [
    "**Comments:**\n",
    "\n",
    "1. TBA"
   ]
  },
  {
   "cell_type": "markdown",
   "metadata": {},
   "source": [
    "## [High Peclet Number](#toc)<a id=\"highpe\"></a>\n",
    "\n",
    "Highly convective problems lead to numerical difficulties. Below, artificial (numerical) oscillations are present near a boundary. "
   ]
  },
  {
   "cell_type": "markdown",
   "metadata": {},
   "source": [
    "### [Quadratic Lagrange FEM](#toc)<a id=\"highperesults1\"></a>\n",
    "\n",
    "Solve problem with parameter values:\n",
    "\n",
    "> + a = 0 cm\n",
    "> + b = 25 cm\n",
    "> + A = 3 g/cc\n",
    "> + B = 0 g/cc\n",
    "> + D = 0.1 cm^2/s\n",
    "> + S = 1e-3 g/cc-s\n",
    "> + Pe = 50\n",
    "\n",
    "FEM parameters:\n",
    "\n",
    "> + Basis Functions: Second Order Lagrangian\n",
    "> + num. of finite elements: 10"
   ]
  },
  {
   "cell_type": "code",
   "execution_count": null,
   "metadata": {},
   "outputs": [],
   "source": [
    "'''Parameters and data'''\n",
    "\n",
    "Pe = 50 # convective dominated\n",
    "\n",
    "velocity = (Pe * diff_coeff/x_length, 0, 0)"
   ]
  },
  {
   "cell_type": "code",
   "execution_count": null,
   "metadata": {},
   "outputs": [],
   "source": [
    "'''FEM Solution'''\n",
    "\n",
    "n_felem = 10\n",
    "\n",
    "order = 'second'\n",
    "\n",
    "n_plot_pts = 2*n_felem + 1\n",
    "\n",
    "try:    \n",
    "    from engy_5310.toolkit import write_engy5310_p1_1d_input_file  \n",
    "except ModuleNotFoundError:\n",
    "    assert False, 'You need to provide your own code here. Bailing out.'\n",
    "\n",
    "write_engy5310_p1_1d_input_file(x_left, x_right, u_left=u_left, u_right=u_right, \n",
    "                                diff_coeff=diff_coeff, source_s=source_s, velocity=velocity,\n",
    "                                n_felem=n_felem, order=order, \n",
    "                                n_plot_pts=n_plot_pts, \n",
    "                                compute_diffusion_flux=True)"
   ]
  },
  {
   "cell_type": "code",
   "execution_count": null,
   "metadata": {
    "scrolled": true
   },
   "outputs": [],
   "source": [
    "'''Display MOOSE input file created'''\n",
    "\n",
    "!cat engy5310p1/input.hit"
   ]
  },
  {
   "cell_type": "code",
   "execution_count": null,
   "metadata": {},
   "outputs": [],
   "source": [
    "'''Run Engy5310P1 MOOSE App'''\n",
    "\n",
    "!engy5310p1/engy5310p1-opt -i engy5310p1/input.hit"
   ]
  },
  {
   "cell_type": "code",
   "execution_count": null,
   "metadata": {},
   "outputs": [],
   "source": [
    "'''Show FEM Solution'''\n",
    "\n",
    "import pandas as pd\n",
    "df = pd.read_csv('output_x-data_0002.csv')\n",
    "\n",
    "plot_solution(df, title='Dirichlet BC FEM Solution', basis_functions_type='Quadratic Lagrange', flux_basis_functions_type='Linear Monomial')"
   ]
  },
  {
   "cell_type": "markdown",
   "metadata": {},
   "source": [
    "**Comments:**\n",
    "\n",
    "As convection dominates, the boundary layer sharpens and *numerical wiggles* appear. This effect is often interpreted as a *numerical instability*. It can be treated by:\n",
    "\n",
    " 1. Using additional finite element basis functions (not scalable) \n",
    " 2. Adapting the mesh (mesh adaptivity); involved but doable\n",
    " 3. \"Stabilizing the weak formulation\" or other methods called artificial viscosity or flux \"upwinding\""
   ]
  },
  {
   "cell_type": "markdown",
   "metadata": {},
   "source": [
    "#### [Compute Error](#toc)<a id=\"highperesults1error\"></a>\n"
   ]
  },
  {
   "cell_type": "code",
   "execution_count": null,
   "metadata": {},
   "outputs": [],
   "source": [
    "'''Flux Error Compared to Exact Dimensionless Solution'''\n",
    "\n",
    "'''coming...'''"
   ]
  },
  {
   "cell_type": "markdown",
   "metadata": {},
   "source": [
    "### [Quadratic Lagrange FEM](#toc)<a id=\"highperesults2\"></a>\n",
    "\n",
    "Solve problem with parameter values:\n",
    "\n",
    "> + a = 0 cm\n",
    "> + b = 25 cm\n",
    "> + A = 3 g/cc\n",
    "> + B = 0 g/cc\n",
    "> + D = 0.1 cm^2/s\n",
    "> + S = 1e-3 g/cc-s\n",
    "> + Pe = 50\n",
    "\n",
    "FEM parameters:\n",
    "\n",
    "> + Basis Functions: Second Order Lagrangian\n",
    "> + num. of finite elements: 10"
   ]
  },
  {
   "cell_type": "code",
   "execution_count": null,
   "metadata": {},
   "outputs": [],
   "source": [
    "'''FEM Solution'''\n",
    "\n",
    "n_felem = 10\n",
    "\n",
    "x_bias = 0.5  # mesh adaptivity\n",
    "\n",
    "order = 'second'\n",
    "\n",
    "n_plot_pts = 2*n_felem + 1\n",
    "n_plot_pts *= 2\n",
    "\n",
    "try:    \n",
    "    from engy_5310.toolkit import write_engy5310_p1_1d_input_file  \n",
    "except ModuleNotFoundError:\n",
    "    assert False, 'You need to provide your own code here. Bailing out.'\n",
    "\n",
    "write_engy5310_p1_1d_input_file(x_left, x_right, u_left=u_left, u_right=u_right, \n",
    "                                diff_coeff=diff_coeff, source_s=source_s, velocity=velocity,\n",
    "                                n_felem=n_felem, x_bias=x_bias, order=order, \n",
    "                                n_plot_pts=n_plot_pts, \n",
    "                                compute_diffusion_flux=True)"
   ]
  },
  {
   "cell_type": "code",
   "execution_count": null,
   "metadata": {
    "scrolled": true
   },
   "outputs": [],
   "source": [
    "'''Display MOOSE input file created'''\n",
    "\n",
    "!cat engy5310p1/input.hit"
   ]
  },
  {
   "cell_type": "code",
   "execution_count": null,
   "metadata": {},
   "outputs": [],
   "source": [
    "'''Run Engy5310P1 MOOSE App'''\n",
    "\n",
    "!engy5310p1/engy5310p1-opt -i engy5310p1/input.hit"
   ]
  },
  {
   "cell_type": "code",
   "execution_count": null,
   "metadata": {},
   "outputs": [],
   "source": [
    "'''Show FEM Solution'''\n",
    "\n",
    "import pandas as pd\n",
    "df = pd.read_csv('output_x-data_0002.csv')\n",
    "\n",
    "plot_solution(df, title='Dirichlet BC FEM Solution', basis_functions_type='Quadratic Lagrange', flux_basis_functions_type='Linear Monomial')"
   ]
  },
  {
   "cell_type": "markdown",
   "metadata": {},
   "source": [
    "**Comments:**\n",
    "\n",
    "1. The mesh adaptivity with refinement on the right side of the domain captures the exit boundary layer. An increase of the number of finite element would also correct the oscillation issue but this strategy is often undesirable."
   ]
  },
  {
   "cell_type": "markdown",
   "metadata": {},
   "source": [
    "#### [Compute Error](#toc)<a id=\"highperesults2error\"></a>"
   ]
  },
  {
   "cell_type": "code",
   "execution_count": null,
   "metadata": {},
   "outputs": [],
   "source": [
    "'''Error Compared to Exact Dimensionless Solution'''\n",
    "\n",
    "'''coming'''"
   ]
  },
  {
   "cell_type": "markdown",
   "metadata": {},
   "source": [
    "## [Application Tree](#toc)<a id=\"tree\"></a>\n",
    "\n",
    "This tree printout helps the understanding of various pieces of the `MOOSE` application repository created after all the above steps including future implementations in the notebooks following the present one that cover various boundary conditions."
   ]
  },
  {
   "cell_type": "code",
   "execution_count": null,
   "metadata": {},
   "outputs": [],
   "source": [
    "!tree engy5310p1"
   ]
  },
  {
   "cell_type": "code",
   "execution_count": null,
   "metadata": {},
   "outputs": [],
   "source": []
  }
 ],
 "metadata": {
  "kernelspec": {
   "display_name": "Python 3",
   "language": "python",
   "name": "python3"
  },
  "language_info": {
   "codemirror_mode": {
    "name": "ipython",
    "version": 3
   },
   "file_extension": ".py",
   "mimetype": "text/x-python",
   "name": "python",
   "nbconvert_exporter": "python",
   "pygments_lexer": "ipython3",
   "version": "3.8.8"
  },
  "latex_envs": {
   "LaTeX_envs_menu_present": true,
   "autoclose": false,
   "autocomplete": true,
   "bibliofile": "biblio.bib",
   "cite_by": "apalike",
   "current_citInitial": 1,
   "eqLabelWithNumbers": true,
   "eqNumInitial": 1,
   "hotkeys": {
    "equation": "Ctrl-E",
    "itemize": "Ctrl-I"
   },
   "labels_anchors": false,
   "latex_user_defs": false,
   "report_style_numbering": false,
   "user_envs_cfg": false
  },
  "toc": {
   "base_numbering": 1,
   "nav_menu": {},
   "number_sections": true,
   "sideBar": true,
   "skip_h1_title": false,
   "title_cell": "Table of Contents",
   "title_sidebar": "Contents",
   "toc_cell": false,
   "toc_position": {
    "height": "calc(100% - 180px)",
    "left": "10px",
    "top": "150px",
    "width": "220.75px"
   },
   "toc_section_display": true,
   "toc_window_display": false
  }
 },
 "nbformat": 4,
 "nbformat_minor": 2
}

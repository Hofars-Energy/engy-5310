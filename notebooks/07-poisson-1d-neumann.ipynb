{
 "cells": [
  {
   "cell_type": "markdown",
   "metadata": {},
   "source": [
    "ChEn-5310: Computational Continuum Transport Phenomena Spring 2021 UMass Lowell; Prof. V. F. de Almeida **05Mar21**\n",
    "\n",
    "# 07. Poisson 1D with Dirichlet-Neumann Boundary Conditions\n",
    "$  \n",
    "  \\newcommand{\\Amtrx}{\\boldsymbol{\\mathsf{A}}}\n",
    "  \\newcommand{\\Bmtrx}{\\boldsymbol{\\mathsf{B}}}\n",
    "  \\newcommand{\\Mmtrx}{\\boldsymbol{\\mathsf{M}}}\n",
    "  \\newcommand{\\Imtrx}{\\boldsymbol{\\mathsf{I}}}\n",
    "  \\newcommand{\\Pmtrx}{\\boldsymbol{\\mathsf{P}}}\n",
    "  \\newcommand{\\Lmtrx}{\\boldsymbol{\\mathsf{L}}}\n",
    "  \\newcommand{\\Umtrx}{\\boldsymbol{\\mathsf{U}}}\n",
    "  \\newcommand{\\Smtrx}{\\boldsymbol{\\mathsf{S}}}\n",
    "  \\newcommand{\\xvec}{\\boldsymbol{\\mathsf{x}}}\n",
    "  \\newcommand{\\avec}{\\boldsymbol{\\mathsf{a}}}\n",
    "  \\newcommand{\\bvec}{\\boldsymbol{\\mathsf{b}}}\n",
    "  \\newcommand{\\cvec}{\\boldsymbol{\\mathsf{c}}}\n",
    "  \\newcommand{\\rvec}{\\boldsymbol{\\mathsf{r}}}\n",
    "  \\newcommand{\\fvec}{\\boldsymbol{\\mathsf{f}}}\n",
    "  \\newcommand{\\mvec}{\\boldsymbol{\\mathsf{m}}}\n",
    "  \\newcommand{\\gvec}{\\boldsymbol{\\mathsf{g}}}\n",
    "  \\newcommand{\\zerovec}{\\boldsymbol{\\mathsf{0}}}\n",
    "  \\newcommand{\\norm}[1]{\\bigl\\lVert{#1}\\bigr\\rVert}\n",
    "  \\newcommand{\\transpose}[1]{{#1}^\\top}\n",
    "  \\DeclareMathOperator{\\rank}{rank}\n",
    "  \\newcommand{\\Reals}{\\mathbb{R}}\n",
    "  \\newcommand{\\thetavec}{\\boldsymbol{\\theta}}\n",
    "$"
   ]
  },
  {
   "cell_type": "markdown",
   "metadata": {},
   "source": [
    "---\n",
    "\n",
    "## Table of Contents<a id=\"toc\"></a>\n",
    "* [Objectives](#obj)\n",
    "1. [Plotting Functions](#plotting)\n",
    "<br><br>\n",
    "1. [Constant Normal Flux Boundary Condition Case (Neumann)](#nbc)\n",
    " + [Strong Form of Problem Statement](#nbcstrong)\n",
    " + [Variational Form of Problem Statement](#nbcweak)\n",
    " + [Dirichlet-Neumann Energy](#nbcenergy)\n",
    "  + [Problem Setup](#nbcsetup)\n",
    "   - [Normal Flux Boundary Condition Term Kernel](#nfluxbc)\n",
    "   - [\"Draining\" Boundary Condition (input file)](#nbcinput1)\n",
    "   - [Run App](#nbcrun1)\n",
    "   - [Quadratic Lagrange FEM Results](#nbcquadfemresults1)\n",
    "   - [\"Feeding\" Boundary Condition (input file)](#nbcinput2)\n",
    "   - [Run App](#nbcrun2)\n",
    "   - [Quadratic Lagrange FEM Results](#nbcquadfemresults2)"
   ]
  },
  {
   "cell_type": "markdown",
   "metadata": {},
   "source": [
    "## [Objectives](#toc)<a id=\"obj\"></a>\n",
    "\n",
    " + This is a continuation of the Poisson 1D problem with Dirichlet boundary conditions detailed in [Notebook 06](https://nbviewer.jupyter.org/github/dpploy/engy-5310/blob/main/notebooks/06-poisson-1d-dirichlet.ipynb); some information may not be duplicated here.\n",
    " + Introduce the Galerkin variational (weak) form of the Poisson 1D problem below ([OneNote notes here](https://studentuml-my.sharepoint.com/:o:/g/personal/valmor_dealmeida_uml_edu/Eib-vZHIpRlPlOMtz0Gf_asBegEFKsl9dOK4nHyDbgSeUA?e=sLu1td)).\n",
    " + Introduce the use of combined Dirichlet and Neumann boundary conditions.\n",
    " + Use second order accurate finite element Lagrange basis functions to solve the problem numerically.\n",
    " + <span style=\"color:red\">Some initial code is provided in the course repository but no full source code is given out. If you do not do a minimum of programing you will not learn basic aspects of this subject. Hands-on work during lectures will fill in this gap. If you do all the steps proposed in this notebook and attend the working lectures you will only have an initial knowledge of the subject.</span>"
   ]
  },
  {
   "cell_type": "markdown",
   "metadata": {},
   "source": [
    "## [Plotting Functions](#toc)<a id=\"plotting\"></a>\n",
    "\n",
    "This is an auxiliary section for holding plotting functions used later."
   ]
  },
  {
   "cell_type": "code",
   "execution_count": 5,
   "metadata": {
    "code_folding": [
     2
    ]
   },
   "outputs": [],
   "source": [
    "'''Plot function for FEM Solution'''\n",
    "\n",
    "def plot_solution(df, \n",
    "                  title='No Title', \n",
    "                  basis_functions_type='No basis functions type',\n",
    "                  flux_basis_functions_type='No basis functions type'):\n",
    "    \n",
    "    import matplotlib.pyplot as plt\n",
    "    %matplotlib inline\n",
    "    plt.style.use('dark_background')\n",
    "\n",
    "    (fig, ax1) = plt.subplots(1, figsize=(14, 5))\n",
    "\n",
    "    ax1.plot(df['x'], df['u'],'r*-',label=basis_functions_type)\n",
    "\n",
    "    ax1.set_xlabel(r'$x [cm]$', fontsize=18)\n",
    "    ax1.set_ylabel(r'$u_h(x)$ [g/cc]', fontsize=18, color='red')\n",
    "    ax1.tick_params(axis='y', labelcolor='red', labelsize=14)\n",
    "    ax1.tick_params(axis='x', labelsize=14)\n",
    "    ax1.legend(loc='center left', fontsize=12)\n",
    "    #ax1.set_ylim(0,1)\n",
    "    ax1.grid(True)\n",
    "\n",
    "    if 'diffFluxU_x' in df.columns:\n",
    "        # create a twin x axis to be shared\n",
    "        ax2 = ax1.twinx()\n",
    "\n",
    "        ax2.plot(df['x'], df['diffFluxU_x'],'b*-',label=flux_basis_functions_type)\n",
    "\n",
    "        ax2.set_ylabel(r\"$q_h(x)$ [g/cm2-s]\", fontsize=16, color='lightblue')\n",
    "        ax2.tick_params(axis='y', labelcolor='lightblue', labelsize=14)\n",
    "        ax2.legend(loc='center right', fontsize=12)\n",
    "        #ax2.set_ylim(0,2)\n",
    "        #ax2.grid(True)\n",
    "\n",
    "    plt.title(title, fontsize=20)\n",
    "    fig.tight_layout()  # otherwise the right y-label is slightly clipped\n",
    "    plt.show()\n",
    "    print('')"
   ]
  },
  {
   "cell_type": "code",
   "execution_count": 6,
   "metadata": {
    "code_folding": [
     2
    ]
   },
   "outputs": [],
   "source": [
    "'''Plot Function for Error Compared to Exact Dimensionless Solution'''\n",
    "\n",
    "def plot_solution_error(df, fem_type='No FEM type'):\n",
    "    \n",
    "    from engy_5310.toolkit import engy5310_p1_exact_solution\n",
    "\n",
    "    import matplotlib.pyplot as plt\n",
    "    %matplotlib inline\n",
    "    plt.style.use('dark_background')\n",
    "    \n",
    "    (u_hat, _, _) = engy5310_p1_exact_solution(x_a, x_b, u_a, u_b, diff_coeff, source_s)\n",
    "\n",
    "    L = df['x'].max() - df['x'].min()\n",
    "    x_mean = (df['x'].max() + df['x'].min())/2.0\n",
    "    x_hat = (df['x'] - x_mean)/L\n",
    "    a_hat = u_a/source_s*diff_coeff/L**2\n",
    "    b_hat = u_b/source_s*diff_coeff/L**2\n",
    "\n",
    "    uh_hat = df['u']/source_s*diff_coeff/L**2\n",
    "\n",
    "    plt.figure(1, figsize=(14, 5))\n",
    "    \n",
    "    plt.plot(x_hat, uh_hat,'r-*',label=fem_type)\n",
    "    \n",
    "    plt.plot(x_hat, u_hat(x_hat, a_hat, b_hat),'bx',label='Exact Solution')\n",
    "\n",
    "    plt.plot(x_hat, uh_hat-u_hat(x_hat, a_hat, b_hat),'x',color='magenta',label=r'$\\hat{u}_h-\\hat{u}$')\n",
    "    \n",
    "    plt.title('Dimensionless FEM Solution and Error', fontsize=20)\n",
    "    plt.ylabel(r'$\\hat{u}_h, \\hat{u}$', fontsize=18)\n",
    "    plt.xlabel(r'$\\hat{x}$', fontsize=18)\n",
    "    plt.xticks(fontsize=16)\n",
    "    plt.yticks(fontsize=16)\n",
    "    plt.legend(loc='best',fontsize=12)\n",
    "    plt.grid(True)\n",
    "    plt.show()"
   ]
  },
  {
   "cell_type": "code",
   "execution_count": 7,
   "metadata": {
    "code_folding": [
     2
    ]
   },
   "outputs": [],
   "source": [
    "'''Plot Function for Error Compared to Exact Dimensionless Solution'''\n",
    "\n",
    "def plot_flux_error(df, fem_type='No FEM type'):\n",
    "    \n",
    "    from engy_5310.toolkit import engy5310_p1_exact_solution\n",
    "        \n",
    "    import matplotlib.pyplot as plt\n",
    "    %matplotlib inline\n",
    "    plt.style.use('dark_background')\n",
    "    \n",
    "    (_, flux_hat, _) = engy5310_p1_exact_solution(x_a, x_b, u_a, u_b, diff_coeff, source_s)\n",
    "\n",
    "    L = df['x'].max() - df['x'].min()\n",
    "    x_mean = (df['x'].max() + df['x'].min())/2.0\n",
    "    x_hat = (df['x'] - x_mean)/L\n",
    "    \n",
    "    a_hat = u_a/source_s*diff_coeff/L**2\n",
    "    b_hat = u_b/source_s*diff_coeff/L**2\n",
    "\n",
    "    flux_h_hat = df['diffFluxU_x']/source_s/L\n",
    "\n",
    "    plt.figure(1, figsize=(14, 5))\n",
    "    \n",
    "    plt.plot(x_hat, flux_h_hat,'r-*',label=fem_type)\n",
    "    \n",
    "    plt.plot(x_hat, flux_hat(x_hat, a_hat, b_hat),'bx',label='Exact Solution')\n",
    "\n",
    "    plt.plot(x_hat, flux_h_hat-flux_hat(x_hat, a_hat, b_hat),'x',color='magenta',label=r'$\\hat{u}_h-\\hat{u}$')\n",
    "    \n",
    "    plt.title('Dimensionless FEM Solution and Error', fontsize=20)\n",
    "    plt.ylabel(r'$\\hat{u}_h, \\hat{u}$', fontsize=18)\n",
    "    plt.xlabel(r'$\\hat{x}$', fontsize=18)\n",
    "    plt.xticks(fontsize=16)\n",
    "    plt.yticks(fontsize=16)\n",
    "    plt.legend(loc='best',fontsize=12)\n",
    "    plt.grid(True)\n",
    "    plt.show()"
   ]
  },
  {
   "cell_type": "markdown",
   "metadata": {},
   "source": [
    "## [Natural (Normal Flux) Boundary Condition Case (Neumann)](#toc)<a id=\"nbc\"></a>\n",
    "\n",
    "The diffusion flux associated to $u$ is defined as\n",
    "\n",
    "\\begin{equation*}\n",
    " q(x) := -D\\,u'(x).\n",
    "\\end{equation*}\n",
    "\n",
    "The normal diffusion flux evaluated at boundary points is defined in 1D as:\n",
    "\n",
    "\\begin{align*}\n",
    " q_n(a) &:= - q(a),  \\\\\n",
    " q_n(b) &:= q(b).\n",
    "\\end{align*}\n",
    "\n",
    "Therefore a positive value of normal flux $q_n$ at any boundary point indicates that the quantity $u$ is removed at the boundary. Otherwise, when $q_n$ is negative, $u$ is greater at the boundary as compared to the interior. The *normal* qualification here refers to the direction of the outward pointing vector at the boundary. Since this is a 1D problem, at the exit $b$, the normal aligns with the coordinate $x$ direction. At $a$ the normal is pointing in the opposite direction of the coordinate system; therefore the minus sign in the above definition.\n",
    "\n",
    "In the literature, the **Neumann boundary condition** is given on the *normal derivative* (or normal gradient) of the unknown variable. This is not the same as the normal diffusion flux but related.\n",
    "\n",
    "Here we will employ a mix of Dirichlet boundary condition on the entry point and a normal flux boundary condition on the exit point. That is:\n",
    "\n",
    "\\begin{align*}\n",
    " u(a) &= A, \\\\\n",
    " -D\\,u'(b) &= q_b = q_n(b),\n",
    "\\end{align*}\n",
    "\n",
    "where $q_b$ is the value to be specified. If this value is positive, $u$  will be depleted at the boundary."
   ]
  },
  {
   "cell_type": "markdown",
   "metadata": {},
   "source": [
    "### [Strong Form of Problem Statement](#toc)<a id=\"nbcstrong\"></a>\n",
    "\n",
    "Solve the Poisson model problem. Find $u:[a,b]\\in\\Reals\\rightarrow\\Reals$ for $D > 0$ such that:\n",
    "\n",
    "\\begin{align*}\n",
    " -\\bigl(-D\\, u'\\bigr)'(x) + S &= 0 \\quad \\forall \\quad x\\in [a,b], \\\\\n",
    " u(a) &= A, \\\\\n",
    " q_n(b) &= q_b.\n",
    "\\end{align*}\n",
    "   \n",
    "Solve this problem analytically for the constants: diffusion coefficient, $D$, source, $S$, entry concentration, $A$, and exit flux, $q_b$. "
   ]
  },
  {
   "cell_type": "markdown",
   "metadata": {},
   "source": [
    "### [Variational Form of Problem Statement](#toc)<a id=\"nbcweak\"></a>\n",
    "\n",
    "The Galerkin weak formulation is as follows. Find $u \\in H^1\\!\\bigl([a,b]\\bigr)$ so that \n",
    "\n",
    "\\begin{align*}\n",
    " \\int\\limits_a^b -D\\, u'(x)\\,v'(x)\\,dx - q_n(b)\\,v(b) + \\int\\limits_a^b S\\,v(x)\\,dx  &= 0 \\quad \\forall \\quad v \\in H^1_0\\!\\bigl([a,b]\\bigr), \n",
    "\\end{align*}\n",
    "\n",
    "where $H^1\\!\\bigl([a,b]\\bigr) := \\bigl\\{ u:[a,b]\\in\\Reals\\rightarrow \\Reals \\mid \\int_a^b u'^2\\,dx < \\infty \\bigr\\}$ and \n",
    "$H^1_0\\!\\bigl([a,b]\\bigr) := \\bigl\\{ v \\mid v \\in H^1\\!\\bigl([a,b]\\bigr), v(a) = 0 \\bigr\\}$. This variational form is a modified Galerkin's weak form including the Neumann boundary condition."
   ]
  },
  {
   "cell_type": "markdown",
   "metadata": {},
   "source": [
    "### [Dirichlet-Neumann Energy](#toc)<a id=\"nbcenergy\"></a>\n",
    "\n",
    "The associated energy that the variational form minimizes is the **mixed Dirichlet/Neumann total energy**:\n",
    "\n",
    "\\begin{align*}\n",
    " \\Phi[u] := \\int\\limits_a^b \\,\\frac{1}{2}q^2 - D\\,S\\,u(x) \\,dx + D\\,q_n(b)\\,u(b).\n",
    "\\end{align*}"
   ]
  },
  {
   "cell_type": "markdown",
   "metadata": {},
   "source": [
    "### [Problem Setup](#toc)<a id=\"nbcsetup\"></a>\n",
    "\n",
    "The previously developed code for the Dirichlet boundary condition case remains unchanged and usable.\n",
    "To setup the new term in the weak form, there exists two options (you should do both): \n",
    "\n",
    " 1. The first, is to use the internal `MOOSE` framework implementation of the `NeumannBC` type in the boundary condition block of the input file. Start by just modifying your `MOOSE` boundary condition block as follows.\n",
    " 1. First, implement a new MOOSE kernel to be added to the weak form terms. This is the approach followed here and there is a template in the course repository, `EquationFluxBC` which can be used as a starting point. In the Input file blocks shown below, the `type = NormalFluxBC` was created in the `Engy5310P1App` for this example. This approach implements an extended version of the normal diffusion flux [(see also Notebook 08)](https://nbviewer.jupyter.org/github/dpploy/engy-5310/blob/main/notebooks/08-poisson-1d-robin.ipynb).\n"
   ]
  },
  {
   "cell_type": "markdown",
   "metadata": {},
   "source": [
    "#### [Use Neumann Boundary Condition from MOOSE](#toc)<a id=\"nfluxbc\"></a>\n",
    "\n",
    "```\n",
    "[BCs]\n",
    "  [entry]\n",
    "    type = DirichletBC  # part of MOOSE\n",
    "    variable = u\n",
    "    boundary = left\n",
    "    value = 3.00000e+00\n",
    "  []\n",
    "  [exit]\n",
    "    type = NeumannBC  # part of MOOSE\n",
    "    variable = u\n",
    "    boundary = right\n",
    "    value = 4.10000e-01   # part of MOOSE\n",
    "  []\n",
    "[]\n",
    "\n",
    "```"
   ]
  },
  {
   "cell_type": "markdown",
   "metadata": {},
   "source": [
    "#### [Code a Normal Flux Boundary Condition Kernel](#toc)<a id=\"nfluxbc\"></a>\n",
    "\n",
    "To make this useful for the [Robin boundary condition case](#rbc) later, implement a linear transfer function as [follows](#rbcsetup):\n",
    "\n",
    "\\begin{equation*}\n",
    " q_n(x) =  q_\\text{bias} + h\\,\\bigl(u(x) - u_\\infty\\bigr).\n",
    "\\end{equation*}\n",
    "\n",
    "but set $h$ to zero at the moment.\n",
    "\n",
    "1. `cd include`\n",
    "1. `mkdir bcs`\n",
    "1. `cd bcs`\n",
    "1. Create a `NormalFluxBC.h` class interface as folows:\n",
    " + Use the `EquationFluxBC.h` [course template](https://github.com/dpploy/engy-5310/blob/main/moose-app-templates/EquationFluxBC.h) as follows:\n",
    " + `cp *path-to*/moose-app-templates/EquationFluxBC.h .`\n",
    " + `mv EquationFluxBC.h NormalFluxBC.h`\n",
    " + Edit the file `NormalFluxBC.h` with a text editor by replacing all instances of `EquationFluxBC` with `NormalFluxBC`.\n",
    " + Suggestion: you will need to declare member variables named `_bias`, `_transferCoeff`, `_reference`, as `Real` data type.\n",
    "1. `cd ../..`\n",
    "1. `cd src`\n",
    "1. `mkdir kernels`\n",
    "1. `cd kernels`\n",
    "1. Create a `NormalFluxBC.C` class implementation as follows:\n",
    " + Use the `EquationFluxBC.C` [course template](https://github.com/dpploy/engy-5310/blob/main/moose-app-templates/EquationFluxBC.C) as follows.\n",
    " + `cp *path-to*/moose-app-templates/EquationFluxBC.C .`\n",
    " + `mv EquationFluxBC.C NormalFluxBC.C`\n",
    " + Edit the file `EquationFluxBC.C` with a text editor by replacing all instances of `EquationFluxBC` with `NormalFluxBC`.\n",
    " + You will need to program the *residual* and *Jacobian* methods. <span style=\"color:red\">This portion of the implementation is covered in class.</span>"
   ]
  },
  {
   "cell_type": "markdown",
   "metadata": {},
   "source": [
    "#### [\"Draining\" Boundary Condition (input file)](#toc)<a id=\"nbcinput1\"></a>\n",
    "\n",
    "The *draining* boundary condition uses a positive normal diffusion flux at the exit point, therefore there exists diffusion *removal* of material at that point.\n",
    "\n",
    "Using the previous `input.i` input file (edit with a text editor), the `exit` block was modified as follows:\n",
    "\n",
    "```\n",
    "[BCs]\n",
    "  [entry]\n",
    "    type = DirichletBC  # part of MOOSE\n",
    "    variable = u\n",
    "    boundary = left\n",
    "    value = 3.00000e+00\n",
    "  []\n",
    "  [exit]\n",
    "    type = NormalFluxBC  # user built\n",
    "    variable = u\n",
    "    boundary = right\n",
    "    bias = 4.10000e-01   # user built\n",
    "  []\n",
    "[]\n",
    "\n",
    "```\n",
    "\n",
    "\n",
    "Save the input file in the `.../engy5310p1/` directory."
   ]
  },
  {
   "cell_type": "markdown",
   "metadata": {},
   "source": [
    "#### [Run Application](#toc)<a id=\"nbcrun1\"></a>\n",
    "\n",
    "1. In the `engy5310p1/` directory run the application with the Linux shell command:\n",
    " + `./engy5310p1-opt -i input.i`"
   ]
  },
  {
   "cell_type": "markdown",
   "metadata": {},
   "source": [
    "#### [Quadratic Lagrange FEM](#toc)<a id=\"nbcquadfemresults1\"></a>\n",
    "\n",
    "Solve problem with parameter values:\n",
    "\n",
    "> + a = 0 cm\n",
    "> + b = 25 cm\n",
    "> + A = 3 g/cc\n",
    "> + qn_b = 0.41 g/cm^2-s  (the bias parameter)\n",
    "> + D = 0.1 cm^2/s\n",
    "> + S = 5e-2 g/cc-s\n",
    "\n",
    "FEM parameters:\n",
    "\n",
    "> + Basis Functions: Second Order Lagrangian\n",
    "> + num. of finite elements: 1"
   ]
  },
  {
   "cell_type": "code",
   "execution_count": 10,
   "metadata": {},
   "outputs": [],
   "source": [
    "'''FEM Solution'''\n",
    "\n",
    "x_a = 0\n",
    "x_b = 25\n",
    "u_a = 3\n",
    "\n",
    "diff_coeff = 0.1\n",
    "source_s = 5e-2\n",
    "\n",
    "qn_b = 0.41 # draining on the exit boundary; normal diffusion flux is positive\n",
    "\n",
    "n_felem = 1\n",
    "order = 'second'\n",
    "n_plot_pts = 2*n_felem + 1\n",
    "n_plot_pts = 10\n",
    "\n",
    "from engy_5310.toolkit import write_engy5310_p1_input_file\n",
    "\n",
    "write_engy5310_p1_input_file(x_a, x_b, u_a=u_a, qn_bias=qn_b, \n",
    "                             diff_coeff=diff_coeff, source_s=source_s, n_felem=n_felem, order=order, \n",
    "                             n_plot_pts=n_plot_pts, use_moose_neumann_bc=True)"
   ]
  },
  {
   "cell_type": "code",
   "execution_count": 11,
   "metadata": {
    "scrolled": true
   },
   "outputs": [
    {
     "name": "stdout",
     "output_type": "stream",
     "text": [
      "# Engy-5310 Problem 1: Poisson 1D FEM\r\n",
      "# UMass Lowell Nuclear Chemical Engineering\r\n",
      "# Prof. Valmor F. de Almeida\r\n",
      "# 26Mar21 14:17:53\r\n",
      "\r\n",
      "# Parameters\r\n",
      "xmin = 0.00000e+00\r\n",
      "xmax = 2.50000e+01\r\n",
      "diff_coeff = 1.00000e-01\r\n",
      "source_s = 5.00000e-02\r\n",
      "\r\n",
      "[Mesh]\r\n",
      "  [1d]\r\n",
      "    type = GeneratedMeshGenerator\r\n",
      "    dim = 1\r\n",
      "    xmin = ${replace xmin}\r\n",
      "    xmax = ${replace xmax}\r\n",
      "    nx = 1\r\n",
      "    elem_type = edge3\r\n",
      "  []\r\n",
      "[]\r\n",
      "\r\n",
      "[Variables]\r\n",
      "  [u]\r\n",
      "    order = second\r\n",
      "    family = lagrange\r\n",
      "  []\r\n",
      "[]\r\n",
      "\r\n",
      "[Kernels]\r\n",
      "  [diffusion-term]\r\n",
      "    type = DiffusionTerm\r\n",
      "    variable = u     # produced quantity\r\n",
      "    diffCoeff = ${replace diff_coeff}\r\n",
      "  []\r\n",
      "  [source-term]\r\n",
      "    type = SourceTerm\r\n",
      "    variable = u     # add to produced quantity\r\n",
      "    sourceS = ${replace source_s}\r\n",
      "  []\r\n",
      "[]\r\n",
      "\r\n",
      "[BCs]\r\n",
      "  [entry]\r\n",
      "    type = DirichletBC\r\n",
      "    variable = u\r\n",
      "    boundary = left\r\n",
      "    value = 3.00000e+00\r\n",
      "  []\r\n",
      "  [exit]\r\n",
      "    type = NeumannBC\r\n",
      "    variable = u\r\n",
      "    boundary = right\r\n",
      "    value = 4.10000e-01\r\n",
      "  []\r\n",
      "[]\r\n",
      "\r\n",
      "[Executioner]\r\n",
      "  type = Steady\r\n",
      "  solve_type = 'PJFNK'\r\n",
      "  petsc_options_iname = '-pc_type -pc_hypre_type'\r\n",
      "  petsc_options_value = 'hypre boomeramg'\r\n",
      "[]\r\n",
      "\r\n",
      "\r\n",
      "[VectorPostprocessors]\r\n",
      "  [x-data]\r\n",
      "    type = LineValueSampler\r\n",
      "    execute_on = 'timestep_end final'\r\n",
      "    variable = 'u'    # output data\r\n",
      "    start_point = '${replace xmin} 0 0'\r\n",
      "    end_point = '${replace xmax} 0 0'\r\n",
      "    num_points = 10\r\n",
      "    sort_by = id\r\n",
      "  []\r\n",
      "[]\r\n",
      "\r\n",
      "[Outputs]\r\n",
      "  console = true\r\n",
      "  [file-x-data]\r\n",
      "    type = CSV\r\n",
      "    file_base = 'output'\r\n",
      "    execute_on = 'final'\r\n",
      "    show = 'x-data'\r\n",
      "  []\r\n",
      "[]\r\n"
     ]
    }
   ],
   "source": [
    "'''Display MOOSE input file created'''\n",
    "\n",
    "!cat engy5310p1/new_input.i"
   ]
  },
  {
   "cell_type": "code",
   "execution_count": 12,
   "metadata": {},
   "outputs": [
    {
     "name": "stdout",
     "output_type": "stream",
     "text": [
      "\r\n",
      "\r\n",
      "Framework Information:\r\n",
      "MOOSE Version:           git commit 0667185f0e on 2021-03-15\r\n",
      "LibMesh Version:         ed76100f41840c34c146dd0a7f1ff5410370b489\r\n",
      "PETSc Version:           3.14.5\r\n",
      "SLEPc Version:           3.14.2\r\n",
      "Current Time:            Fri Mar 26 14:17:56 2021\r\n",
      "Executable Timestamp:    Fri Mar 26 13:23:25 2021\r\n",
      "\r\n",
      "Parallelism:\r\n",
      "  Num Processors:          1\r\n",
      "  Num Threads:             1\r\n",
      "\r\n",
      "Mesh: \r\n",
      "  Parallel Type:           replicated\r\n",
      "  Mesh Dimension:          1\r\n",
      "  Spatial Dimension:       1\r\n",
      "  Nodes:                   \r\n",
      "    Total:                 3\r\n",
      "    Local:                 3\r\n",
      "  Elems:                   \r\n",
      "    Total:                 1\r\n",
      "    Local:                 1\r\n",
      "  Num Subdomains:          1\r\n",
      "  Num Partitions:          1\r\n",
      "\r\n",
      "Nonlinear System:\r\n",
      "  Num DOFs:                3\r\n",
      "  Num Local DOFs:          3\r\n",
      "  Variables:               \"u\" \r\n",
      "  Finite Element Types:    \"LAGRANGE\" \r\n",
      "  Approximation Orders:    \"SECOND\" \r\n",
      "\r\n",
      "Execution Information:\r\n",
      "  Executioner:             Steady\r\n",
      "  Solver Mode:             Preconditioned JFNK\r\n",
      "  PETSc Preconditioner:    hypre boomeramg \r\n",
      "\r\n",
      " 0 Nonlinear |R| = \u001b[32m8.894383e-01\u001b[39m\r\n",
      "      0 Linear |R| = \u001b[32m8.894383e-01\u001b[39m\r\n",
      "      1 Linear |R| = \u001b[32m2.243907e-08\u001b[39m\r\n",
      " 1 Nonlinear |R| = \u001b[32m8.707371e-08\u001b[39m\r\n",
      "      0 Linear |R| = \u001b[32m8.707371e-08\u001b[39m\r\n",
      "      1 Linear |R| = \u001b[32m5.313781e-15\u001b[39m\r\n",
      " 2 Nonlinear |R| = \u001b[32m5.156565e-15\u001b[39m\r\n",
      "\u001b[32m Solve Converged!\u001b[39m\r\n"
     ]
    }
   ],
   "source": [
    "'''Run Engy5310P1 MOOSE App'''\n",
    "\n",
    "!engy5310p1/engy5310p1-opt -i engy5310p1/new_input.i"
   ]
  },
  {
   "cell_type": "code",
   "execution_count": 13,
   "metadata": {},
   "outputs": [
    {
     "data": {
      "image/png": "[encoded data removed]",
      "text/plain": [
       "<Figure size 1008x360 with 1 Axes>"
      ]
     },
     "metadata": {},
     "output_type": "display_data"
    },
    {
     "name": "stdout",
     "output_type": "stream",
     "text": [
      "\n"
     ]
    }
   ],
   "source": [
    "'''Show FEM Solution'''\n",
    "\n",
    "import pandas as pd\n",
    "df = pd.read_csv('output_x-data_0002.csv')\n",
    "\n",
    "plot_solution(df, title='Dirichlet/Draining Normal Flux FEM Solution', basis_functions_type='Quadratic Lagrange', flux_basis_functions_type='Linear Monomial')"
   ]
  },
  {
   "cell_type": "markdown",
   "metadata": {},
   "source": [
    "**Comments:**\n",
    "\n",
    "1. Because the flux at the exit is specified as positive, there is outgoing diffusion at the exit point of the domain, hence despite the constant source, the exit concentration is reduced to levels near the entry concentration. If the specified flux is too high compared to the source (or the source small compared to the flux) it will drive the concentration values at the exit to unphysical negative values.\n",
    "1. Note that 1 finite element was used."
   ]
  },
  {
   "cell_type": "markdown",
   "metadata": {},
   "source": [
    "#### [\"Feeding\" Boundary Condition (input file)](#toc)<a id=\"nbcinput2\"></a>\n",
    "\n",
    "The *feeding* boundary condition uses a negative normal diffusion flux at the exit point, therefore there exists diffusion *feed* of material at that point.\n",
    "\n",
    "In a similar way to the *draining* flux previously described the input file was modified as follows:\n",
    "\n",
    "```\n",
    "[exit]\n",
    "  type = NormalFluxBC\n",
    "  variable = u\n",
    "  boundary = right\n",
    "  bias = -0.5\n",
    "[]\n",
    "```\n",
    "\n",
    "\n",
    "Save the input file in the `.../engy5310p1/` directory."
   ]
  },
  {
   "cell_type": "markdown",
   "metadata": {},
   "source": [
    "#### [Run Application](#toc)<a id=\"nbcrun2\"></a>\n",
    "\n",
    "1. In the `engy5310p1/` directory run the application with the Linux shell command:\n",
    " + `./engy5310p1-opt -i input.i`"
   ]
  },
  {
   "cell_type": "markdown",
   "metadata": {},
   "source": [
    "#### [Quadratic Lagrange FEM](#toc)<a id=\"nbcquadfemresults2\"></a>\n",
    "\n",
    "Solve problem with parameter values:\n",
    "\n",
    "> + a = 0 cm\n",
    "> + b = 25 cm\n",
    "> + A = 3 g/cc\n",
    "> + qn_b = -0.5 g/cm^2-s\n",
    "> + D = 0.1 cm^2/s\n",
    "> + S = 1e-3 g/cc-s\n",
    "\n",
    "FEM parameters:\n",
    "\n",
    "> + Basis Functions: Second Order Lagrangian\n",
    "> + num. of finite elements: 1"
   ]
  },
  {
   "cell_type": "code",
   "execution_count": null,
   "metadata": {},
   "outputs": [],
   "source": [
    "'''FEM Solution'''\n",
    "\n",
    "x_a = 0\n",
    "x_b = 25\n",
    "u_a = 3\n",
    "\n",
    "diff_coeff = 0.1\n",
    "source_s = 5e-2\n",
    "\n",
    "qn_b = -0.5 # feeding on the exit boundary; normal flux is negative\n",
    "\n",
    "n_felem = 1\n",
    "order = 'second'\n",
    "#n_plot_pts = 2*n_felem + 1\n",
    "n_plot_pts = 10\n",
    "\n",
    "from engy_5310.toolkit import write_engy5310_p1_input_file\n",
    "\n",
    "write_engy5310_p1_input_file(x_a, x_b, u_a=u_a, qn_bias=qn_b, \n",
    "                             diff_coeff=diff_coeff, source_s=source_s, n_felem=n_felem, order=order, \n",
    "                             n_plot_pts=n_plot_pts, use_moose_neumann_bc=True)"
   ]
  },
  {
   "cell_type": "code",
   "execution_count": null,
   "metadata": {
    "scrolled": true
   },
   "outputs": [],
   "source": [
    "'''Display MOOSE input file created'''\n",
    "\n",
    "!cat engy5310p1/new_input.i"
   ]
  },
  {
   "cell_type": "code",
   "execution_count": null,
   "metadata": {},
   "outputs": [],
   "source": [
    "'''Run Engy5310P1 MOOSE App'''\n",
    "\n",
    "!engy5310p1/engy5310p1-opt -i engy5310p1/new_input.i"
   ]
  },
  {
   "cell_type": "code",
   "execution_count": null,
   "metadata": {},
   "outputs": [],
   "source": [
    "'''Show FEM Solution'''\n",
    "\n",
    "import pandas as pd\n",
    "df = pd.read_csv('output_x-data_0002.csv')\n",
    "\n",
    "plot_solution(df, title='Dirichlet/Feeding Normal Flux BC FEM Solution', basis_functions_type='Quadratic Lagrange', flux_basis_functions_type='Linear Monomial')"
   ]
  },
  {
   "cell_type": "markdown",
   "metadata": {},
   "source": [
    "**Comments:**\n",
    "\n",
    "1. Because the normal flux at the exit is specified as negative, there is incoming diffusion into the domain, hence the concentration is higher at the exit than the entry point. The average concentration in the domain is greatly increased at steady state.\n",
    "1. Note that 1 finite element was used."
   ]
  }
 ],
 "metadata": {
  "kernelspec": {
   "display_name": "Python 3",
   "language": "python",
   "name": "python3"
  },
  "language_info": {
   "codemirror_mode": {
    "name": "ipython",
    "version": 3
   },
   "file_extension": ".py",
   "mimetype": "text/x-python",
   "name": "python",
   "nbconvert_exporter": "python",
   "pygments_lexer": "ipython3",
   "version": "3.8.8"
  },
  "latex_envs": {
   "LaTeX_envs_menu_present": true,
   "autoclose": false,
   "autocomplete": true,
   "bibliofile": "biblio.bib",
   "cite_by": "apalike",
   "current_citInitial": 1,
   "eqLabelWithNumbers": true,
   "eqNumInitial": 1,
   "hotkeys": {
    "equation": "Ctrl-E",
    "itemize": "Ctrl-I"
   },
   "labels_anchors": false,
   "latex_user_defs": false,
   "report_style_numbering": false,
   "user_envs_cfg": false
  },
  "toc": {
   "base_numbering": 1,
   "nav_menu": {},
   "number_sections": true,
   "sideBar": true,
   "skip_h1_title": false,
   "title_cell": "Table of Contents",
   "title_sidebar": "Contents",
   "toc_cell": false,
   "toc_position": {
    "height": "calc(100% - 180px)",
    "left": "10px",
    "top": "150px",
    "width": "220.75px"
   },
   "toc_section_display": true,
   "toc_window_display": false
  }
 },
 "nbformat": 4,
 "nbformat_minor": 2
}

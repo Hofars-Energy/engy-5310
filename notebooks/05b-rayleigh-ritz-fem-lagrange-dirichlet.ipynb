{
 "cells": [
  {
   "cell_type": "markdown",
   "metadata": {},
   "source": [
    "ChEn-5310: Computational Continuum Transport Phenomena Fall 2021 UMass Lowell; Prof. V. F. de Almeida **29Sep21**\n",
    "\n",
    "# 05b. Rayleigh-Ritz Method w/ Finite Element Lagrange Basis Functions\n",
    "$  \n",
    "  \\newcommand{\\Amtrx}{\\boldsymbol{\\mathsf{A}}}\n",
    "  \\newcommand{\\Bmtrx}{\\boldsymbol{\\mathsf{B}}}\n",
    "  \\newcommand{\\Mmtrx}{\\boldsymbol{\\mathsf{M}}}\n",
    "  \\newcommand{\\Imtrx}{\\boldsymbol{\\mathsf{I}}}\n",
    "  \\newcommand{\\Pmtrx}{\\boldsymbol{\\mathsf{P}}}\n",
    "  \\newcommand{\\Lmtrx}{\\boldsymbol{\\mathsf{L}}}\n",
    "  \\newcommand{\\Umtrx}{\\boldsymbol{\\mathsf{U}}}\n",
    "  \\newcommand{\\Smtrx}{\\boldsymbol{\\mathsf{S}}}\n",
    "  \\newcommand{\\xvec}{\\boldsymbol{\\mathsf{x}}}\n",
    "  \\newcommand{\\avec}{\\boldsymbol{\\mathsf{a}}}\n",
    "  \\newcommand{\\bvec}{\\boldsymbol{\\mathsf{b}}}\n",
    "  \\newcommand{\\cvec}{\\boldsymbol{\\mathsf{c}}}\n",
    "  \\newcommand{\\rvec}{\\boldsymbol{\\mathsf{r}}}\n",
    "  \\newcommand{\\fvec}{\\boldsymbol{\\mathsf{f}}}\n",
    "  \\newcommand{\\mvec}{\\boldsymbol{\\mathsf{m}}}\n",
    "  \\newcommand{\\gvec}{\\boldsymbol{\\mathsf{g}}}\n",
    "  \\newcommand{\\zerovec}{\\boldsymbol{\\mathsf{0}}}\n",
    "  \\newcommand{\\norm}[1]{\\bigl\\lVert{#1}\\bigr\\rVert}\n",
    "  \\newcommand{\\transpose}[1]{{#1}^\\top}\n",
    "  \\DeclareMathOperator{\\rank}{rank}\n",
    "  \\newcommand{\\Reals}{\\mathbb{R}}\n",
    "  \\newcommand{\\thetavec}{\\boldsymbol{\\theta}}\n",
    "  \\newcommand{\\Ecal}{\\mathcal{E}}\n",
    "$"
   ]
  },
  {
   "cell_type": "markdown",
   "metadata": {},
   "source": [
    "---\n",
    "\n",
    "## Table of Contents<a id=\"toc\"></a>\n",
    "* [Objectives](#obj)\n",
    "1. [Poisson Problem with Dirichlet Boundary Conditions](#problem)\n",
    "1. [Rayleigh-Ritz Method with Built-in **Homogeneous** Dirichlet Boundary Conditions](#rayleigh-ritz-homogeneous)\n",
    "   + [Data](#data-homogeneous)\n",
    "   + [Finite Element Lagrange Basis Functions](#fem-lagrange-basis-homogeneous)\n",
    "   + [Results](#results-homogeneous)\n",
    "1. [Rayleigh-Ritz Method with Built-in **Inhomogeneous** Dirichlet Boundary Conditions](#rayleigh-ritz-inhomogeneous)\n",
    "   + [Data](#data-inhomogeneous)\n",
    "   + [Lift function](#lift-function)\n",
    "   + [Finite Element Lagrange Basis Functions](#fem-lagrange-basis-inhomogeneous)\n",
    "   + [Results](#results-inhomogeneous)\n",
    "---"
   ]
  },
  {
   "cell_type": "markdown",
   "metadata": {},
   "source": [
    "## [Objectives](#toc)<a id=\"obj\"></a>\n",
    "\n",
    " + Describe the Rayleigh-Ritz method for solving linear differential equations with symmetric positive definite operators ([OneNote notes: rayleigh-ritz-method](https://studentuml-my.sharepoint.com/:o:/g/personal/valmor_dealmeida_uml_edu/EsTzIb2Mcv5OkcSk0kSXXF8BXM4OnlzGfAd7sdcWLky-Gw?e=nglTrN).\n",
    " + Use the function approximation theory described in the course (see previous notebooks and notes).\n",
    " + Apply the finite element Lagrange basis functions."
   ]
  },
  {
   "cell_type": "markdown",
   "metadata": {},
   "source": [
    "## [Poisson Problem with Dirichlet Boundary Conditions](#toc)<a id=\"problem\"></a>\n",
    "\n",
    "The following sections describe what is referred to in the literature as the one-dimensional Poisson problem with Dirichlet boundary conditions. This is a classical boundary-value problem of mathematics."
   ]
  },
  {
   "cell_type": "markdown",
   "metadata": {},
   "source": [
    "Solve the Poisson model problem. Find $u:[a,b]\\subset\\Reals\\rightarrow\\Reals$ such that:\n",
    "\n",
    "\\begin{align*}\n",
    " -\\bigl(-D(x)\\, u'\\bigr)'(x) + S(x)\\,u(x) + f(x) &= 0 \\quad\\quad \\forall \\quad\\quad x\\in [a,b], \\\\\n",
    " u(a) &= u_a, \\\\\n",
    " u(b) &= u_b.\n",
    "\\end{align*}\n",
    "   \n",
    "This problem is linear and has an analytical solution for given data: diffusion coefficient, $D(x)$, source, $S(x)$ slope, source bias, $f(x)$. The *diffusion flux* associated to the quantity $u$, is denoted $q := -D(x)\\,u'$, and it is often of interest as a derived quantity.\n",
    "\n",
    "The values of the dependent variable are given on the two end points of the domain. This is called *essential* boundary conditions or  *Dirichlet boundary conditions*. If the values are equal to zero, the boundary condition is referred to as homogeneous."
   ]
  },
  {
   "cell_type": "markdown",
   "metadata": {},
   "source": [
    "## [Rayleigh-Ritz Method w/ Built-in Homogeneous Dirichlet Boundary Conditions](#toc)<a id=\"rayleigh-ritz-homogeneous\"></a>\n",
    "\n",
    "Find $u^*_N \\in V_N(a,b)\\subset V(a,b) = \\bigl\\{ u:[a,b]\\subset\\Reals\\rightarrow\\Reals  \\bigr\\}$ such that it minimizes the constrained Poisson energy norm:\n",
    "\n",
    "\\begin{equation*}\n",
    "  \\norm{u-u^*_N}^2_{\\Ecal} = \\min\\limits_{u_N\\, \\in\\, V_N} \\norm{u-u_N}^2_{\\Ecal},\n",
    "\\end{equation*}\n",
    "\n",
    "where \n",
    "$V_N(a,b) := \\bigl\\{ u_N = \\sum\\limits_{i=1}^N\\,c_i\\,\\phi_i \\mid u_N(a) = u_N(b) = 0, (u'_N,u'_N) < \\infty \\bigr\\}$\n",
    "and $\\{\\phi_i\\mid i=1\\ldots,N\\}$ is a basis of $V_N(a,b)$.\n",
    "\n",
    "The optimum coefficients $\\cvec^* := \\{c_i\\mid i=1,\\ldots,N\\}$ solve\n",
    "\n",
    "\\begin{equation*}\n",
    " \\overset{(N\\times N)}{\\Amtrx}\\,\\overset{(N\\times 1)}{\\cvec^*} = \\overset{(N\\times 1)}\\bvec ,\n",
    "\\end{equation*}\n",
    "\n",
    "where:\n",
    "  + $A_{i,j} = (D\\,\\phi'_i,\\phi'_j) + (S\\,\\phi_i,\\phi_j)$\n",
    "  + $b_i = (f,\\phi_i)$\n",
    "  \n",
    "This formulation only accommodates basis functions that satisfy the homogeneous boundary conditions."
   ]
  },
  {
   "cell_type": "markdown",
   "metadata": {},
   "source": [
    "### [Data (Homogeneous)](#toc)<a id=\"data-homogeneous\"></a>\n",
    "\n",
    "Solve problem with parameter values:\n",
    "\n",
    "> + a = 0 cm\n",
    "> + b = 25 cm\n",
    "> + $u_a$ = 0 g/cc\n",
    "> + $u_b$ = 0 g/cc\n",
    "> + D = 0.1 cm^2/s\n",
    "> + S = value below $s^{-1}$\n",
    "> + f = value below g/cc-s"
   ]
  },
  {
   "cell_type": "code",
   "execution_count": null,
   "metadata": {},
   "outputs": [],
   "source": [
    "'''Domain'''\n",
    "\n",
    "x_a = 0\n",
    "x_b = 25\n",
    "\n",
    "x_length = x_b - x_a"
   ]
  },
  {
   "cell_type": "code",
   "execution_count": null,
   "metadata": {},
   "outputs": [],
   "source": [
    "'''Parameters and data'''\n",
    "\n",
    "diff_coeff = 0.1\n",
    "source_bias_value = 1e-2\n",
    "source_slope_value = 0*-3.87e-1\n",
    "\n",
    "u_a = 0\n",
    "u_b = 0"
   ]
  },
  {
   "cell_type": "code",
   "execution_count": null,
   "metadata": {},
   "outputs": [],
   "source": [
    "'''Generate the source bias'''\n",
    "\n",
    "try:    \n",
    "    from engy_5310.toolkit import TargetFunction   \n",
    "except ModuleNotFoundError:\n",
    "    assert False, 'You need to provide your own code here. Bailing out.'\n",
    "\n",
    "shape_pts = [(x_a,source_bias_value), (x_b,source_bias_value)]\n",
    "#shape_pts = [(x_a,source_bias_value), ((x_a+x_b)/2,1.3*source_bias_value), (x_b,source_bias_value)]\n",
    "shape_pts = [(x_a,source_bias_value), ((x_b+x_a)/2,-2*source_bias_value/4), (x_b,source_bias_value)]\n",
    "#shape_pts = [(x_a,source_bias_value), ((x_b+x_a)/8,2*source_bias_value), ((x_b+x_a)/4,source_bias_value), (3*(x_b+x_a)/4,2*source_bias_value), (x_b,source_bias_value)]\n",
    "\n",
    "print('# shape pts = ', len(shape_pts))\n",
    "\n",
    "source_bias = TargetFunction(shape_pts, type='stepwise')\n",
    "source_bias = TargetFunction(shape_pts, type='linear')\n",
    "#source_bias = TargetFunction(shape_pts, type='legendre')\n",
    "  \n",
    "source_bias.plot(n_plot_pts=200, show_shape_pts=True, title='Source Bias')"
   ]
  },
  {
   "cell_type": "code",
   "execution_count": null,
   "metadata": {},
   "outputs": [],
   "source": [
    "'''Generate the source slope'''\n",
    "\n",
    "try:    \n",
    "    from engy_5310.toolkit import TargetFunction   \n",
    "except ModuleNotFoundError:\n",
    "    assert False, 'You need to provide your own code here. Bailing out.'\n",
    "\n",
    "shape_pts = [(x_a,source_slope_value), (x_b,source_slope_value)]\n",
    "shape_pts = [(x_a,source_slope_value), ((x_b+x_a)/2,source_slope_value/4), (x_b,source_slope_value)]\n",
    "shape_pts = [(x_a,source_slope_value), ((x_b+x_a)/8,4*source_slope_value), ((x_b+x_a)/4,source_slope_value/3), (3*(x_b+x_a)/4,2*source_slope_value), (x_b,source_slope_value)]\n",
    "\n",
    "print('# shape pts = ', len(shape_pts))\n",
    "\n",
    "source_slope = TargetFunction(shape_pts, type='legendre')\n",
    "source_slope = TargetFunction(shape_pts, type='linear')\n",
    "  \n",
    "source_slope.plot(n_plot_pts=200, show_shape_pts=True, y_label='S(x)', title='Source Slope')"
   ]
  },
  {
   "cell_type": "markdown",
   "metadata": {},
   "source": [
    "### [Finite Element Lagrange Basis Functions](#toc)<a id=\"fem-lagrange-basis-homogeneous\"></a>"
   ]
  },
  {
   "cell_type": "code",
   "execution_count": null,
   "metadata": {},
   "outputs": [],
   "source": [
    "'''Build the basis functions'''\n",
    "\n",
    "degree = 2\n",
    "n_elem = 12\n",
    "\n",
    "try:    \n",
    "    from engy_5310.toolkit import FEMBasis  \n",
    "except ModuleNotFoundError:\n",
    "    assert False, 'You need to provide your own code here. Bailing out.'\n",
    "    \n",
    "femlb = FEMBasis(degree=degree, n_elem=n_elem, x_min=x_a, x_max=x_b, bc_x_min='dirichlet', bc_x_max='dirichlet')\n",
    "femlb.plot(n_plot_pts=800)"
   ]
  },
  {
   "cell_type": "code",
   "execution_count": null,
   "metadata": {},
   "outputs": [],
   "source": [
    "'''Build the matrix of coefficients of the linear system'''\n",
    "\n",
    "import numpy as np\n",
    "n = len(femlb.basis_func_list)\n",
    "a_mtrx = np.zeros((n, n), dtype=np.float64)\n",
    "  \n",
    "for i,phi_prime_i in enumerate(femlb.basis_func_prime_list):\n",
    "    for j,phi_prime_j in enumerate(femlb.basis_func_prime_list):\n",
    "        (a_ij, _) = femlb.inner_product(phi_prime_j, phi_prime_i)\n",
    "        a_mtrx[i,j] = a_ij * diff_coeff\n",
    "        \n",
    "for i,phi_i in enumerate(femlb.basis_func_list):\n",
    "    for j,phi_j in enumerate(femlb.basis_func_list):\n",
    "        s_x_phi_j = lambda x: source_slope.values(x) * phi_j(x)\n",
    "        (a_ij, _) = femlb.inner_product(s_x_phi_j, phi_i)\n",
    "        a_mtrx[i,j] += a_ij"
   ]
  },
  {
   "cell_type": "code",
   "execution_count": null,
   "metadata": {},
   "outputs": [],
   "source": [
    "try:    \n",
    "    from engy_5310.toolkit import matrix_rank\n",
    "except ModuleNotFoundError:\n",
    "    assert False, 'You need to provide your own code here. Bailing out.'\n",
    "    \n",
    "if matrix_rank(a_mtrx) == min(a_mtrx.shape):\n",
    "    print('A is full rank.')\n",
    "else:\n",
    "    print('A is rank deficient.')"
   ]
  },
  {
   "cell_type": "code",
   "execution_count": null,
   "metadata": {},
   "outputs": [],
   "source": [
    "'''Build load vector'''\n",
    "\n",
    "b_vec = np.zeros(n, dtype=np.float64)\n",
    "\n",
    "for i, phi_i in enumerate(femlb.basis_func_list):\n",
    "    (b_vec[i], _) = femlb.inner_product(source_bias, phi_i)       "
   ]
  },
  {
   "cell_type": "code",
   "execution_count": null,
   "metadata": {},
   "outputs": [],
   "source": [
    "'''Compute optimal coefficient vector'''\n",
    "\n",
    "c_star_vec = np.linalg.solve(a_mtrx, b_vec)"
   ]
  },
  {
   "cell_type": "code",
   "execution_count": null,
   "metadata": {},
   "outputs": [],
   "source": [
    "'''Build the best approximation function in V_N'''\n",
    "\n",
    "def u_star(x):\n",
    "    return femlb.evaluation_matrix(x)@c_star_vec"
   ]
  },
  {
   "cell_type": "code",
   "execution_count": null,
   "metadata": {},
   "outputs": [],
   "source": [
    "'''Build the best approximation function in V_N'''\n",
    "\n",
    "def u_prime_star(x):\n",
    "    return femlb.evaluation_matrix(x, derivative=True)@c_star_vec"
   ]
  },
  {
   "cell_type": "markdown",
   "metadata": {},
   "source": [
    "### [Results: Homogeneous Boundary Conditions Case](#toc)<a id=\"results-homogeneous\"></a>"
   ]
  },
  {
   "cell_type": "code",
   "execution_count": null,
   "metadata": {},
   "outputs": [],
   "source": [
    "'''Rayleigh Ritz Method with FEM Lagrange Basis Functions'''\n",
    "\n",
    "n_pts = 500\n",
    "x = np.linspace(x_a, x_b, n_pts)\n",
    "u_values = u_star(x)\n",
    "\n",
    "import matplotlib.pyplot as plt\n",
    "#%matplotlib inline\n",
    "#plt.style.use('dark_background')\n",
    "plt.figure(1, figsize=(14, 5))\n",
    "\n",
    "plt.plot(x, u_values, 'r-', label='Rayleigh-Ritz Solution w/ Homogeneous Dirichlet BC')\n",
    "\n",
    "plt.title(r'Rayleigh-Ritz Method with Finite Element Lagrange Basis Functions (n='+str(len(femlb.basis_func_list))+')', fontsize=20)\n",
    "plt.ylabel(r'$u_N(x)$', fontsize=18)\n",
    "plt.xlabel(r'$x$', fontsize=18)\n",
    "plt.xticks(fontsize=16)\n",
    "plt.yticks(fontsize=16)\n",
    "plt.legend(loc='best',fontsize=12)\n",
    "plt.grid(True)\n",
    "plt.show()"
   ]
  },
  {
   "cell_type": "code",
   "execution_count": null,
   "metadata": {},
   "outputs": [],
   "source": [
    "'''Rayleigh-Ritz solution evaluated at the boundaries'''\n",
    "\n",
    "np.set_printoptions(precision=5)\n",
    "print('u_N(a) = ',u_star(x_a), ' u_N(b) = ',u_star(x_b))"
   ]
  },
  {
   "cell_type": "code",
   "execution_count": null,
   "metadata": {},
   "outputs": [],
   "source": [
    "left_flux = (-diff_coeff * float(u_prime_star(x_a)), 0.0)\n",
    "normal = np.array((-1,0))\n",
    "\n",
    "left_normal_flux = np.dot(np.array(left_flux), normal)\n",
    "left_normal_flux"
   ]
  },
  {
   "cell_type": "code",
   "execution_count": null,
   "metadata": {},
   "outputs": [],
   "source": [
    "right_flux = (-diff_coeff * float(u_prime_star(x_b)), 0.0)\n",
    "normal = np.array((1,0))\n",
    "\n",
    "right_normal_flux = np.dot(np.array(right_flux), normal)\n",
    "right_normal_flux"
   ]
  },
  {
   "cell_type": "code",
   "execution_count": null,
   "metadata": {},
   "outputs": [],
   "source": [
    "from scipy.integrate import quad\n",
    "source = lambda x: source_bias.values(x)\n",
    "(total_power, _) = quad(source, x_a, x_b)\n",
    "total_power"
   ]
  },
  {
   "cell_type": "code",
   "execution_count": null,
   "metadata": {},
   "outputs": [],
   "source": [
    "left_normal_flux + right_normal_flux - total_power"
   ]
  },
  {
   "cell_type": "markdown",
   "metadata": {},
   "source": [
    "## [Rayleigh-Ritz Method w/ Built-in Inhomogeneous Dirichlet Boundary Conditions](#toc)<a id=\"rayleigh-ritz-inhomogeneous\"></a>\n",
    "\n",
    "Find $u^*_N \\in V_N(a,b)\\subset V(a,b) = \\bigl\\{ u:[a,b]\\subset\\Reals\\rightarrow\\Reals  \\bigr\\}$ such that it minimizes the constrained Poisson energy norm:\n",
    "\n",
    "\\begin{equation*}\n",
    "  \\norm{u_0+w-u^*_N}^2_{\\Ecal} = \\min\\limits_{u_N\\, \\in\\, V_N} \\norm{u_0+w-u_N}^2_{\\Ecal},\n",
    "\\end{equation*}\n",
    "\n",
    "where \n",
    "$V_N(a,b) := \\bigl\\{ u_N = \\sum\\limits_{i=1}^N\\,c_i\\,\\phi_i \\mid u_N(a) = u_N(b) = 0, (u'_N,u'_N) < \\infty \\bigr\\}$, $\\{\\phi_i\\mid i=1\\ldots,N\\}$ is a basis of $V_N(a,b)$, and any $w \\in V$ with $w(a) = u_a$, $w(b) = u_b$ is called the *lift* function. $u_0 \\in V(a,b)$ is the solution of the homogeneous problem.\n",
    "\n",
    "The optimum coefficients $\\cvec^* := \\{c_i\\mid i=1,\\ldots,N\\}$ solve\n",
    "\n",
    "\\begin{equation*}\n",
    " \\overset{(N\\times N)}{\\Amtrx}\\,\\overset{(N\\times 1)}{\\cvec^*} = \\overset{(N\\times 1)}\\bvec ,\n",
    "\\end{equation*}\n",
    "\n",
    "where:\n",
    "  + $A_{i,j} = (D\\,\\phi'_i,\\phi'_j) + (S\\,\\phi_i,\\phi_j)$\n",
    "  + $b_i = (f,\\phi_i) - (D\\,w',\\phi'_i) + (S\\,w,\\phi_i)$\n",
    "  \n",
    "This formulation uses basis functions that satisfy homogeneous boundary conditions, however the linear algebraic problem for the optimum coefficients accounts for the inhomogeneous boundary condition data through the lift function $w$."
   ]
  },
  {
   "cell_type": "markdown",
   "metadata": {},
   "source": [
    "### [Data (Inhomogeneous)](#toc)<a id=\"data-inhomogeneous\"></a>\n",
    "\n",
    "Solve problem with parameter values:\n",
    "\n",
    "> + a = 0 cm\n",
    "> + b = 25 cm\n",
    "> + $u_a$ = 1 g/cc\n",
    "> + $u_b$ = 3 g/cc\n",
    "> + D = same value above cm^2/s\n",
    "> + S = same value above $s^{-1}$\n",
    "> + f = same value above g/cc-s"
   ]
  },
  {
   "cell_type": "code",
   "execution_count": null,
   "metadata": {},
   "outputs": [],
   "source": [
    "'''Parameters and data'''\n",
    "\n",
    "u_a = 2\n",
    "u_b = -3"
   ]
  },
  {
   "cell_type": "markdown",
   "metadata": {},
   "source": [
    "### [Lift Function](#toc)<a id=\"lift-function\"></a>\n",
    "Since $w\\in V(a,b)$, construct as follows $w = \\sum\\limits_{i=1}^N\\,\\alpha_i\\,\\phi_i$ such that $w(a) = u_a$ and $w(b) = u_b$."
   ]
  },
  {
   "cell_type": "code",
   "execution_count": null,
   "metadata": {},
   "outputs": [],
   "source": [
    "'''Build the lift basis functions'''\n",
    "\n",
    "degree = 1\n",
    "n_elem = 14\n",
    "\n",
    "try:    \n",
    "    from engy_5310.toolkit import FEMBasis  \n",
    "except ModuleNotFoundError:\n",
    "    assert False, 'You need to provide your own code here. Bailing out.'\n",
    "    \n",
    "lift_basis = FEMBasis(degree=degree, n_elem=n_elem, x_min=x_a, x_max=x_b)\n",
    "lift_basis.plot(n_plot_pts=300)"
   ]
  },
  {
   "cell_type": "code",
   "execution_count": null,
   "metadata": {},
   "outputs": [],
   "source": [
    "'''Build the coefficients of the lift function'''\n",
    "\n",
    "alpha_vec = np.zeros(len(lift_basis.basis_func_list))\n",
    "alpha_vec[0] = u_a\n",
    "if degree == 2:\n",
    "   alpha_vec[-2] = u_b\n",
    "else:\n",
    "   alpha_vec[-1] = u_b"
   ]
  },
  {
   "cell_type": "code",
   "execution_count": null,
   "metadata": {},
   "outputs": [],
   "source": [
    "'''Build the lift function'''\n",
    "\n",
    "def w_lift(x):\n",
    "    a_mtrx = lift_basis.evaluation_matrix(x)\n",
    "    return a_mtrx@alpha_vec"
   ]
  },
  {
   "cell_type": "code",
   "execution_count": null,
   "metadata": {},
   "outputs": [],
   "source": [
    "'''Build the lift function derivative'''\n",
    "\n",
    "def w_lift_prime(x):\n",
    "    a_mtrx = lift_basis.evaluation_matrix(x, derivative=True)\n",
    "    return a_mtrx@alpha_vec"
   ]
  },
  {
   "cell_type": "code",
   "execution_count": null,
   "metadata": {},
   "outputs": [],
   "source": [
    "'''Test boundary values'''\n",
    "\n",
    "print('w(a) = ',w_lift(x_a), ' w(b) = ', w_lift(x_b))"
   ]
  },
  {
   "cell_type": "code",
   "execution_count": null,
   "metadata": {},
   "outputs": [],
   "source": [
    "'''Rayleigh Ritz Method with Lagrange Basis Functions'''\n",
    "\n",
    "n_pts = 500\n",
    "x = np.linspace(x_a, x_b, n_pts)\n",
    "u_values = w_lift(x)\n",
    "\n",
    "import matplotlib.pyplot as plt\n",
    "#%matplotlib inline\n",
    "#plt.style.use('dark_background')\n",
    "plt.figure(1, figsize=(14, 5))\n",
    "\n",
    "plt.plot(x, u_values, 'r-', label='Lift function')\n",
    "\n",
    "plt.title(r'Rayleigh-Ritz Method with Finite Element Lagrange Basis Functions (n='+str(len(lift_basis.basis_func_list))+')', fontsize=20)\n",
    "plt.ylabel(r'$w(x)$', fontsize=18)\n",
    "plt.xlabel(r'$x$', fontsize=18)\n",
    "plt.xticks(fontsize=16)\n",
    "plt.yticks(fontsize=16)\n",
    "plt.legend(loc='best',fontsize=12)\n",
    "plt.grid(True)\n",
    "plt.show()"
   ]
  },
  {
   "cell_type": "markdown",
   "metadata": {},
   "source": [
    "### [Finite Element Lagrange Basis Functions](#toc)<a id=\"fem-lagrange-basis-inhomogeneous\"></a>"
   ]
  },
  {
   "cell_type": "code",
   "execution_count": null,
   "metadata": {},
   "outputs": [],
   "source": [
    "'''Build the basis functions'''\n",
    "\n",
    "degree = 2\n",
    "n_elem = 14\n",
    "\n",
    "try:    \n",
    "    from engy_5310.toolkit import FEMBasis  \n",
    "except ModuleNotFoundError:\n",
    "    assert False, 'You need to provide your own code here. Bailing out.'\n",
    "    \n",
    "femlb = FEMBasis(degree=degree, n_elem=n_elem, x_min=x_a, x_max=x_b, bc_x_min='dirichlet', bc_x_max='dirichlet')\n",
    "femlb.plot(n_plot_pts=300)"
   ]
  },
  {
   "cell_type": "code",
   "execution_count": null,
   "metadata": {},
   "outputs": [],
   "source": [
    "'''Build the matrix of coefficients of the linear system'''\n",
    "\n",
    "import numpy as np\n",
    "n = len(femlb.basis_func_list)\n",
    "a_mtrx = np.zeros((n, n), dtype=np.float64)\n",
    "  \n",
    "for i,phi_prime_i in enumerate(femlb.basis_func_prime_list):\n",
    "    for j,phi_prime_j in enumerate(femlb.basis_func_prime_list):\n",
    "        (a_ij, _) = femlb.inner_product(phi_prime_j, phi_prime_i)\n",
    "        a_mtrx[i,j] = a_ij * diff_coeff\n",
    "        \n",
    "for i,phi_i in enumerate(femlb.basis_func_list):\n",
    "    for j,phi_j in enumerate(femlb.basis_func_list):\n",
    "        s_x_phi_j = lambda x: source_slope.values(x) * phi_j(x)\n",
    "        (a_ij, _) = femlb.inner_product(s_x_phi_j, phi_i)\n",
    "        a_mtrx[i,j] += a_ij"
   ]
  },
  {
   "cell_type": "code",
   "execution_count": null,
   "metadata": {},
   "outputs": [],
   "source": [
    "try:    \n",
    "    from engy_5310.toolkit import matrix_rank\n",
    "except ModuleNotFoundError:\n",
    "    assert False, 'You need to provide your own code here. Bailing out.'\n",
    "    \n",
    "if matrix_rank(a_mtrx) == min(a_mtrx.shape):\n",
    "    print('A is full rank.')\n",
    "else:\n",
    "    print('A is rank deficient.')"
   ]
  },
  {
   "cell_type": "code",
   "execution_count": null,
   "metadata": {},
   "outputs": [],
   "source": [
    "'''Build load vector'''\n",
    "\n",
    "b_vec = np.zeros(n, dtype=np.float64)\n",
    "\n",
    "for i, phi_i in enumerate(femlb.basis_func_list):\n",
    "    (b_vec[i], _) = femlb.inner_product(source_bias, phi_i)\n",
    "    (term1, _) = femlb.inner_product(w_lift_prime, femlb.basis_func_prime_list[i])\n",
    "    b_vec[i] -= diff_coeff * term1\n",
    "    s_x_w = lambda x: source_slope.values(x) * w_lift(x)\n",
    "    (term2, _) = femlb.inner_product(s_x_w, phi_i)\n",
    "    b_vec[i] +=  term2"
   ]
  },
  {
   "cell_type": "code",
   "execution_count": null,
   "metadata": {},
   "outputs": [],
   "source": [
    "'''Compute optimal coefficient vector'''\n",
    "\n",
    "c_star_vec = np.linalg.solve(a_mtrx, b_vec)"
   ]
  },
  {
   "cell_type": "code",
   "execution_count": null,
   "metadata": {},
   "outputs": [],
   "source": [
    "'''Build the best approximation function in V_N'''\n",
    "\n",
    "def u_star(x):\n",
    "    u_0 = femlb.evaluation_matrix(x)@c_star_vec\n",
    "    w = lift_basis.evaluation_matrix(x)@alpha_vec\n",
    "    return u_0 + w"
   ]
  },
  {
   "cell_type": "markdown",
   "metadata": {},
   "source": [
    "### [Results: Inhomogeneous Boundary Conditions Case](#toc)<a id=\"results-inhomogeneous\"></a>"
   ]
  },
  {
   "cell_type": "code",
   "execution_count": null,
   "metadata": {},
   "outputs": [],
   "source": [
    "'''Rayleigh Ritz Method with Fourier Basis Functions'''\n",
    "\n",
    "n_pts = 800\n",
    "x = np.linspace(x_a, x_b, n_pts)\n",
    "u_values = u_star(x)\n",
    "\n",
    "import matplotlib.pyplot as plt\n",
    "#%matplotlib inline\n",
    "#plt.style.use('dark_background')\n",
    "plt.figure(1, figsize=(14, 5))\n",
    "\n",
    "plt.plot(x, u_values, 'r-', label='Rayleigh-Ritz Solution w/ Inhomogeneous Dirichlet BC')\n",
    "\n",
    "plt.title(r'Rayleigh-Ritz Method with Finite Element Lagrange Basis Functions (n='+str(len(femlb.basis_func_list))+')', fontsize=20)\n",
    "plt.ylabel(r'$u_N(x)$', fontsize=18)\n",
    "plt.xlabel(r'$x$', fontsize=18)\n",
    "plt.xticks(fontsize=16)\n",
    "plt.yticks(fontsize=16)\n",
    "plt.legend(loc='best',fontsize=12)\n",
    "plt.grid(True)\n",
    "plt.show()"
   ]
  },
  {
   "cell_type": "code",
   "execution_count": null,
   "metadata": {},
   "outputs": [],
   "source": [
    "'''Rayleigh-Ritz solution evaluated at the boundaries'''\n",
    "\n",
    "np.set_printoptions(precision=5)\n",
    "print('u_N(a) = ',u_star(x_a), ' u_N(b) = ',u_star(x_b))"
   ]
  },
  {
   "cell_type": "code",
   "execution_count": null,
   "metadata": {},
   "outputs": [],
   "source": []
  },
  {
   "cell_type": "code",
   "execution_count": null,
   "metadata": {},
   "outputs": [],
   "source": []
  }
 ],
 "metadata": {
  "kernelspec": {
   "display_name": "Python 3",
   "language": "python",
   "name": "python3"
  },
  "language_info": {
   "codemirror_mode": {
    "name": "ipython",
    "version": 3
   },
   "file_extension": ".py",
   "mimetype": "text/x-python",
   "name": "python",
   "nbconvert_exporter": "python",
   "pygments_lexer": "ipython3",
   "version": "3.9.6"
  },
  "latex_envs": {
   "LaTeX_envs_menu_present": true,
   "autoclose": false,
   "autocomplete": true,
   "bibliofile": "biblio.bib",
   "cite_by": "apalike",
   "current_citInitial": 1,
   "eqLabelWithNumbers": true,
   "eqNumInitial": 1,
   "hotkeys": {
    "equation": "Ctrl-E",
    "itemize": "Ctrl-I"
   },
   "labels_anchors": false,
   "latex_user_defs": false,
   "report_style_numbering": false,
   "user_envs_cfg": false
  },
  "toc": {
   "base_numbering": 1,
   "nav_menu": {},
   "number_sections": true,
   "sideBar": true,
   "skip_h1_title": false,
   "title_cell": "Table of Contents",
   "title_sidebar": "Contents",
   "toc_cell": false,
   "toc_position": {
    "height": "calc(100% - 180px)",
    "left": "10px",
    "top": "150px",
    "width": "220.75px"
   },
   "toc_section_display": true,
   "toc_window_display": false
  }
 },
 "nbformat": 4,
 "nbformat_minor": 2
}

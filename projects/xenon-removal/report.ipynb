{
 "cells": [
  {
   "cell_type": "markdown",
   "metadata": {},
   "source": [
    "**Engy-5310** Computational Continuum Transport Phenomena, UMass Lowell, Chem. Eng. Nuclear Program Spring 2021; Prof. V. F. de Almeida\n",
    "\n",
    "# Xenon-135 Removal from Molten Salt Reactors by Helium Gas Bubbles\n",
    "$  \n",
    "  \\newcommand{\\Amtrx}{\\boldsymbol{\\mathsf{A}}}\n",
    "  \\newcommand{\\Bmtrx}{\\boldsymbol{\\mathsf{B}}}\n",
    "  \\newcommand{\\Mmtrx}{\\boldsymbol{\\mathsf{M}}}\n",
    "  \\newcommand{\\Imtrx}{\\boldsymbol{\\mathsf{I}}}\n",
    "  \\newcommand{\\Pmtrx}{\\boldsymbol{\\mathsf{P}}}\n",
    "  \\newcommand{\\Lmtrx}{\\boldsymbol{\\mathsf{L}}}\n",
    "  \\newcommand{\\Umtrx}{\\boldsymbol{\\mathsf{U}}}\n",
    "  \\newcommand{\\Smtrx}{\\boldsymbol{\\mathsf{S}}}\n",
    "  \\newcommand{\\xvec}{\\boldsymbol{\\mathsf{x}}}\n",
    "  \\newcommand{\\uvar}{\\boldsymbol{u}}\n",
    "  \\newcommand{\\fvar}{\\boldsymbol{f}}\n",
    "  \\newcommand{\\avec}{\\boldsymbol{\\mathsf{a}}}\n",
    "  \\newcommand{\\bvec}{\\boldsymbol{\\mathsf{b}}}\n",
    "  \\newcommand{\\cvec}{\\boldsymbol{\\mathsf{c}}}\n",
    "  \\newcommand{\\rvec}{\\boldsymbol{\\mathsf{r}}}\n",
    "  \\newcommand{\\mvec}{\\boldsymbol{\\mathsf{m}}}\n",
    "  \\newcommand{\\gvec}{\\boldsymbol{\\mathsf{g}}}\n",
    "  \\newcommand{\\zerovec}{\\boldsymbol{\\mathsf{0}}}\n",
    "  \\newcommand{\\norm}[1]{\\bigl\\lVert{#1}\\bigr\\rVert}\n",
    "  \\newcommand{\\transpose}[1]{{#1}^\\top}\n",
    "  \\DeclareMathOperator{\\rank}{rank}\n",
    "  \\newcommand{\\Power}{\\mathcal{P}}\n",
    "$"
   ]
  },
  {
   "cell_type": "markdown",
   "metadata": {},
   "source": [
    "**Student(s):** Anadi Mondal <br>\n",
    "**Course:** Engy-5310 Computational Continuum Transport Phenomena  <br>\n",
    "**Mentor:**Prof. Subash L. Sharma \n",
    "\n",
    "UMass Lowell, Dept. of Chemical Engineering, Nuclear Energy Program \n",
    "<br>\n",
    "**27Mar2021**"
   ]
  },
  {
   "cell_type": "markdown",
   "metadata": {},
   "source": [
    "---\n",
    "## Table of Contents<a id=\"toc\"></a>\n",
    "* [Introduction](#intro)\n",
    "* [Problem Statement](#problem)\n",
    "* [Objectives](#obj)\n",
    "* [Approach](#app)\n",
    " + [Weak Form of Problem Statement](#weakform)\n",
    " + [MOOSE Kernels](#kernels)\n",
    " + [Setup](#setup)\n",
    " + [Tests](#tests)\n",
    "   - [1-D](#1d-test)\n",
    "   - [2-D](#1d-test)\n",
    "* [Results and Analysis](#ranalysis)\n",
    "* [Conclusions](#conclusions)\n",
    "* [References](#refs)\n",
    "---"
   ]
  },
  {
   "cell_type": "markdown",
   "metadata": {},
   "source": [
    "## [Introduction](#toc)<a id=\"intro\"></a>"
   ]
  },
  {
   "cell_type": "markdown",
   "metadata": {},
   "source": [
    "- Xenon-135 buildup in the molten salt reactor is dangerous for the sustaining running of reactor. As xenon has very high absorption cross section, it absorb neutron which hinders the continuous chain reaction for required power production. So, removing of xenon form the reactor core is must. One of the ways to remove xenon is to sparge helium gas as bubble in the reactor core because xenon is easily absorbed in helium bubble. The amount of xenon transfer to the helium is highly dependent on helium void fraction. If we increase the void fraction of helium in the system it will increase the interfacial area which is responsible for transferring xenon from salt to helium bubble."
   ]
  },
  {
   "cell_type": "markdown",
   "metadata": {},
   "source": [
    "## [Problem Statement](#toc)<a id=\"problem\"></a>"
   ]
  },
  {
   "cell_type": "markdown",
   "metadata": {},
   "source": [
    "- The Xe-135 is stripped from the Molten salt by interfacial Mass transfer process using the He Gas. The general transport equation for this is\n",
    "\n",
    "So the first step is in this direction is to simplify the problem. \n",
    "\n",
    "- The strong form of the two coupled equations are written as,\n",
    "\n",
    "The mass conservation equation of xenon in salt,\n",
    "\n",
    "\\begin{align*}\n",
    "( 1- \\alpha)\\times v\\, u_1' &= -\\bigl(-D_1\\,( 1-\\alpha)\\times u_1'\\bigr)'(x) - S(u_1, u_2) \\quad \\forall \\quad x\\in [a,b], \\\\\n",
    " u_1(a) &= A_1, \\\\\n",
    " u_1(b)' &= B_1.\n",
    "\\end{align*}\n",
    "\n",
    "And the conservation equation of xenon in helium gas is as follows,\n",
    "\n",
    "\n",
    "\\begin{align*}\n",
    " \\alpha\\times v\\, u_2' &= -\\bigl(-D_2\\,\\alpha\\times u_2'\\bigr)'(x) + S(u_1, u_2) \\quad \\forall \\quad x\\in [a,b], \\\\\n",
    " u_2(a) &= A_2, \\\\\n",
    " u_2(b)' &= B_2.\n",
    "\\end{align*}\n",
    "\n",
    "\n",
    "\n"
   ]
  },
  {
   "cell_type": "markdown",
   "metadata": {},
   "source": [
    "- Source coupling:\n",
    "\n",
    "\\begin{align*}\n",
    " S(u_1, u_2) = m \\times a_i\\bigl(u_1-H\\,u_2\\bigr)\n",
    "\\end{align*}\n",
    "\n",
    "Where,m= mass transfer coefficient,a_i= interfacial area, H= Henry Constant"
   ]
  },
  {
   "cell_type": "markdown",
   "metadata": {},
   "source": [
    "- Assumptions\n",
    "\n",
    "1.Considering a homogeneous model, means salt and helium bubble are flowing at same speed.\n",
    "\n",
    "2.Concentration change in one direction(1D problem)\n",
    "\n",
    "3.Steady State Case\n",
    "\n",
    "4.The system is dominated by convection ,so diffusion term is negligible, can be ignored\n"
   ]
  },
  {
   "cell_type": "markdown",
   "metadata": {},
   "source": [
    "## [Objectives](#toc)<a id=\"obj\"></a>"
   ]
  },
  {
   "cell_type": "markdown",
   "metadata": {},
   "source": [
    "- To determine the concentration change of Xenon in fuel salt\n",
    "- To determine the buildup of xenon in helium bubble\n"
   ]
  },
  {
   "cell_type": "markdown",
   "metadata": {},
   "source": [
    "## [Approach](#toc)<a id=\"app\"></a>"
   ]
  },
  {
   "cell_type": "markdown",
   "metadata": {},
   "source": [
    "- The weak form of the two conservation equation can be written as,\n",
    "\n",
    "The Galerkin weak formulation is as follows. Find $u_1 \\in H^1\\!\\bigl([a,b]\\bigr)$ and $u_2 \\in H^1\\!\\bigl([a,b]\\bigr)$\n",
    "so that \n",
    "\n",
    "\\begin{align*}\n",
    " \\int\\limits_a^b v\\, u_1'(x)\\, w(x)\\,dx + \\int\\limits_a^b D_1\\, u_1'(x)\\,w'(x)\\,dx + \\int\\limits_a^b S(u_1, u_2)\\,w(x)\\,dx &= 0 \\quad \\forall \\quad w \\in H^1_0\\!\\bigl([a,b]\\bigr), \\text{and}\n",
    " \\\\\n",
    "  \\int\\limits_a^b v\\, u_2'(x)\\, w(x)\\,dx + \\int\\limits_a^b D_2\\, u_2'(x)\\,w'(x)\\,dx - \\int\\limits_a^b S(u_1, u_2)\\,w(x)\\,dx &= 0 \\quad \\forall \\quad w \\in H^1_0\\!\\bigl([a,b]\\bigr),\n",
    "\\end{align*}\n",
    "\n",
    "where $H^1\\!\\bigl([a,b]\\bigr) := \\bigl\\{ u:[a,b]\\subset\\ Reals\\rightarrow \\ Reals \\mid \\int_a^b u'^2\\,dx < \\infty\\bigr\\}$ and $H^1_0\\!\\bigl([a,b]\\bigr) := \\bigl\\{ w \\mid w \\in H^1(a,b), w(a) = 0, w(b)' =0 \\bigr\\}$. Both function sets as just defined are Hilbert spaces. The function $w$ is called a test function. Because $w$, $u_1$, $u_2$ are sought in very similar sets of functions, this weak form is called Galerkin's weak form.\n",
    "\n",
    " 1. $\\pm S(u_1, u_2)\\,w(x)$."
   ]
  },
  {
   "cell_type": "markdown",
   "metadata": {},
   "source": [
    "- Need to use 3 MOOSE kernels\n",
    "1. Diffusion Kernel\n",
    "2. Convection Kernel\n",
    "3. Source Kernel"
   ]
  },
  {
   "cell_type": "markdown",
   "metadata": {},
   "source": [
    "Solve problem with parameter values:\n",
    "\n",
    "> + $a = 0$ ft\n",
    "> + $b = 6$ ft\n",
    "\n",
    "\n",
    "\n",
    "| $u_1$ **Parameter** | **Value**  | $u_2$ **Parameter** | **Value** |\n",
    "|:-------------------:|:----------:|:-------------------:|:---------:|\n",
    "| $A_1$               | 0.0459 mole/ft3     |  $A_2$              | 0 mole/ft3    |\n",
    "| $B_1$               | 0 mole/ft^2-hr     |  $B_2$              |  0 mole/ft^2-hr    |\n",
    "| $D_1$               | $5\\times 10^{-5}$ ft^2/hr |  $D_2$              | $9.2\\times 10^{-5}$ ft^2/hr  |\n",
    "\n",
    "\n",
    "FEM parameters:\n",
    "\n",
    "> + Basis Functions: First Order Lagrangian\n",
    "> + num. of finite elements: 20"
   ]
  },
  {
   "cell_type": "code",
   "execution_count": null,
   "metadata": {},
   "outputs": [],
   "source": [
    "\n",
    "'''Plot function for FEM Solution'''\n",
    "\n",
    "def plot_solution(df,\n",
    "                  dimension='Null',\n",
    "                  title='No Title', \n",
    "                  basis_functions_type='No basis functions type',\n",
    "                  flux_basis_functions_type='No basis functions type'):\n",
    "    \n",
    "    import matplotlib.pyplot as plt\n",
    "    %matplotlib inline\n",
    "    import numpy as np\n",
    "    plt.style.use('dark_background') \n",
    "    axial=\"x\"\n",
    "    axial_1=\"x1\"\n",
    "    axial_2=\"x2\"\n",
    "    (fig, ax1) = plt.subplots(1, figsize=(14, 5))\n",
    "    \n",
    "    #Plotting for concentration and flux of Xenon in Salt\n",
    "    \n",
    "    if (axial == dimension):\n",
    "        ax1.plot(df['x'], df['u'],'r*-',label=basis_functions_type)\n",
    "\n",
    "        ax1.set_xlabel(r'$x$ [ft]', fontsize=18)\n",
    "        ax1.set_ylabel(r'$u_h(x)$ [mole/ft3]', fontsize=18, color='red')\n",
    "\n",
    "        ax1.tick_params(axis='y', labelcolor='red', labelsize=14)\n",
    "        ax1.tick_params(axis='x', labelsize=14)\n",
    "        ax1.legend(loc='center left', fontsize=12)\n",
    "        ax1.grid(True)\n",
    "        \n",
    "        ## Flux Plot \n",
    "            \n",
    "        ax2 = ax1.twinx()\n",
    "\n",
    "        ax2.plot(df['x'], df['diffFluxU_x'],'b*-',label=flux_basis_functions_type)\n",
    "        \n",
    "        ax2.set_ylabel(r\"$q_h(x)$ [mole/ft2-hr]\", fontsize=16, color='lightblue')\n",
    "        ax2.tick_params(axis='y', labelcolor='lightblue', labelsize=14)\n",
    "        ax2.legend(loc='center right', fontsize=12)\n",
    "        \n",
    "     #Plotting for concentration and flux of Xenon in Helium\n",
    "    \n",
    "    if (axial_1 == dimension):\n",
    "        ax1.plot(df['x'], df['u2'],'r*-',label=basis_functions_type)\n",
    "\n",
    "        ax1.set_xlabel(r'$x$ [ft]', fontsize=18)\n",
    "        ax1.set_ylabel(r'$u_h(x)$ [mole/ft3]', fontsize=18, color='red')\n",
    "\n",
    "        ax1.tick_params(axis='y', labelcolor='red', labelsize=14)\n",
    "        ax1.tick_params(axis='x', labelsize=14)\n",
    "        ax1.legend(loc='center left', fontsize=12)\n",
    "        ax1.grid(True)\n",
    "        \n",
    "        ## Flux Plot \n",
    "            \n",
    "        ax2 = ax1.twinx()\n",
    "\n",
    "        ax2.plot(df['x'], df['diffFluxU2_x'],'b*-',label=flux_basis_functions_type)\n",
    "        \n",
    "        ax2.set_ylabel(r\"$q_h(x)$ [mole/ft2-hr]\", fontsize=16, color='lightblue')\n",
    "        ax2.tick_params(axis='y', labelcolor='lightblue', labelsize=14)\n",
    "        ax2.legend(loc='center right', fontsize=12)\n",
    "        \n",
    "        \n",
    "    if (axial_2 == dimension):\n",
    "        ax1.plot(df['x'], df['u'],'r*-',label=basis_functions_type)\n",
    "\n",
    "        ax1.set_xlabel(r'$x$ [ft]', fontsize=18)\n",
    "        ax1.set_ylabel(r'$u_h(x)$ [mole/ft3]', fontsize=18, color='red')\n",
    "\n",
    "        ax1.tick_params(axis='y', labelcolor='red', labelsize=14)\n",
    "        ax1.tick_params(axis='x', labelsize=14)\n",
    "        ax1.legend(loc='center left', fontsize=12)\n",
    "        ax1.grid(True)\n",
    "        \n",
    "        ## Flux Plot \n",
    "            \n",
    "        ax2 = ax1.twinx()\n",
    "\n",
    "        ax2.plot(df['x'], df['u2'],'b*-',label=flux_basis_functions_type)\n",
    "        \n",
    "        ax2.set_ylabel(r\"$q_h(x)$ [mole/ft2-hr]\", fontsize=16, color='lightblue')\n",
    "        ax2.tick_params(axis='y', labelcolor='lightblue', labelsize=14)\n",
    "        ax2.legend(loc='center right', fontsize=12)    \n",
    "        \n",
    "    \n",
    "    plt.title(title, fontsize=20)\n",
    "  \n",
    "    plt.show()\n",
    "    print('') \n",
    "    "
   ]
  },
  {
   "cell_type": "code",
   "execution_count": null,
   "metadata": {},
   "outputs": [],
   "source": [
    "'''Domain'''\n",
    "\n",
    "x_a = 0  #ft\n",
    "x_b = 6  #ft\n",
    "\n",
    "x_length = x_b - x_a"
   ]
  },
  {
   "cell_type": "code",
   "execution_count": null,
   "metadata": {},
   "outputs": [],
   "source": [
    "\n",
    "'''Parameters and data'''\n",
    "\n",
    "diff_coeff_1 = 0.00005 #ft^2/hr\n",
    "diff_coeff_2 = 0.000092 #ft^2/hr\n",
    "Mass_transfer_coeff = 2 #ft/hr\n",
    "vel = [14735.8 ,0 ,0]  # ft/hr\n",
    "Void_fraction = 0.002 \n",
    "Interfacial_area= 7.5 #1/ft\n",
    "Henry_constant= 2.08e-4 \n",
    "mesh_type = 'edge3'\n",
    "\n",
    "u_a = 0.0459   #mole/ft^3\n",
    "u_b = 0        #mole/ft2-hr\n",
    "u2_a = 0       #mole/ft^3\n",
    "u2_b = 0       #mole/ft2-hr"
   ]
  },
  {
   "cell_type": "markdown",
   "metadata": {},
   "source": [
    "'''FEM Solution'''\n",
    "\n",
    "n_felem = 20\n",
    "\n",
    "order = 'second'\n",
    "\n",
    "n_plot_pts = n_felem + 1\n",
    "    \n",
    "from tools.toolkit  import write_engy5310_p2_1d_input_file  \n",
    "\n",
    "\n",
    "write_engy5310_p2_1d_input_file(xmin=x_a, \n",
    "                                xmax=x_b, \n",
    "                                u_left=u_a,\n",
    "                                u_right=u_b, \n",
    "                                u2_left=u2_a, \n",
    "                                u2_right=u2_b, \n",
    "                                diff_coeff_1 = diff_coeff,\n",
    "                                diff_coeff_2 = diff_coeff_2 ,\n",
    "                                velocity=velocity, \n",
    "                                n_felem=n_felem, \n",
    "                                order=order,\n",
    "                                mesh_type = elem_type,\n",
    "                                n_plot_pts=n_plot_pts,\n",
    "                                compute_diffusion_flux=True,\n",
    "                                use_moose_neumann_bc = True,\n",
    "                                \n",
    "                                solver='fdp-newt-full')"
   ]
  },
  {
   "cell_type": "markdown",
   "metadata": {},
   "source": [
    "'''Display MOOSE input file created'''\n",
    "\n",
    "!cat engy5310p2/input.hit"
   ]
  },
  {
   "cell_type": "markdown",
   "metadata": {},
   "source": [
    "'''Run Engy5310P1 MOOSE App'''\n",
    "\n",
    "!engy5310p2/engy5310p2-opt -i engy5310p2/input.hit"
   ]
  },
  {
   "cell_type": "markdown",
   "metadata": {},
   "source": [
    "## [Results and Analysis](#toc)<a id=\"ranalysis\"></a>"
   ]
  },
  {
   "cell_type": "markdown",
   "metadata": {},
   "source": [
    "- From the graph we can see the concentration of xenon in salt is decreased by a small amount. As the system is dominated by convection, the diffusion has no effect on xenon transfer. Same amount of xenon concentration is increased in helium.Actually here I assumed a constant interfacial area and void. But both should increase from inlet to exit of pipe. For the simplification of model both terms were considered constant.\n"
   ]
  },
  {
   "cell_type": "code",
   "execution_count": null,
   "metadata": {},
   "outputs": [],
   "source": [
    "\n",
    "'''Show FEM Solution'''\n",
    "\n",
    "import pandas as pd\n",
    "df = pd.read_csv('output_x-data_0002.csv')\n",
    "    \n",
    "plot_solution(df, dimension='x', title='FEM Solution of Xenon in Salt', basis_functions_type='u-Second Lagrange', flux_basis_functions_type='q-First Monomial')"
   ]
  },
  {
   "cell_type": "code",
   "execution_count": null,
   "metadata": {
    "scrolled": true
   },
   "outputs": [],
   "source": [
    "\n",
    "'''Show FEM Solution'''\n",
    "\n",
    "import pandas as pd\n",
    "df = pd.read_csv('output_x-data_0002.csv')\n",
    "    \n",
    "plot_solution(df, dimension='x1', title='FEM Solution of Xenon in Helium ', basis_functions_type='u-Second Lagrange', flux_basis_functions_type='q-First Monomial')"
   ]
  },
  {
   "cell_type": "code",
   "execution_count": null,
   "metadata": {},
   "outputs": [],
   "source": [
    "'''Show FEM Solution'''\n",
    "\n",
    "import pandas as pd\n",
    "df = pd.read_excel (r'https://github.com/dpploy/engy-5310/blob/anadi/projects/xenon-removal/matlab.xlsx', sheet_name='matlab')\n",
    "#df = pd.read_excel('matlab.xlsx')\n",
    "    \n",
    "plot_solution(df, dimension='x2', title='FEM Solution of Xenon in Helium ', basis_functions_type='u-Second Lagrange', flux_basis_functions_type='q-First Monomial')"
   ]
  },
  {
   "cell_type": "markdown",
   "metadata": {},
   "source": [
    "## [Conclusions](#toc)<a id=\"conclusions\"></a>"
   ]
  },
  {
   "cell_type": "markdown",
   "metadata": {},
   "source": [
    "- The concentration of xenon in fuel salt is decreased due to transfer of xenon from salt to helium bubble. MOOSE and analytical solution gave the same result. To improve the result I need to consider several variable term in the governing equation. This is the simplest forms and considerations to simulate the concentration change of xenon in molten salt reactor."
   ]
  },
  {
   "cell_type": "markdown",
   "metadata": {},
   "source": [
    "## [References](#toc)<a id=\"refs\"></a>\n",
    "\n",
    "- [1] V. F. de Almeida, [*Engy-5310: Computational Continuum Transport Phenomena*](https://github.com/dpploy/engy-5310), University of Massachusetts Lowell, Dept. of Chemical Engineering (Nuclear Energy Program).\n",
    "- [2] Multiphysics Object-Oriented Simulation Environment [(MOOSE)](https://mooseframework.org)\n",
    "- [3] author, [reference]()\n",
    "- [4] author, [reference]()"
   ]
  }
 ],
 "metadata": {
  "kernelspec": {
   "display_name": "Python 3",
   "language": "python",
   "name": "python3"
  },
  "language_info": {
   "codemirror_mode": {
    "name": "ipython",
    "version": 3
   },
   "file_extension": ".py",
   "mimetype": "text/x-python",
   "name": "python",
   "nbconvert_exporter": "python",
   "pygments_lexer": "ipython3",
   "version": "3.8.5"
  },
  "latex_envs": {
   "LaTeX_envs_menu_present": true,
   "autoclose": false,
   "autocomplete": true,
   "bibliofile": "biblio.bib",
   "cite_by": "apalike",
   "current_citInitial": 1,
   "eqLabelWithNumbers": true,
   "eqNumInitial": 1,
   "hotkeys": {
    "equation": "Ctrl-E",
    "itemize": "Ctrl-I"
   },
   "labels_anchors": false,
   "latex_user_defs": false,
   "report_style_numbering": false,
   "user_envs_cfg": false
  }
 },
 "nbformat": 4,
 "nbformat_minor": 2
}

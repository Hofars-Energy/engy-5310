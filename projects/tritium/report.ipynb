{
 "cells": [
  {
   "cell_type": "markdown",
   "metadata": {},
   "source": [
    "**Engy-5310** Computational Continuum Transport Phenomena, UMass Lowell, Chem. Eng. Nuclear Program Spring 2021; Prof. V. F. de Almeida\n",
    "\n",
    "# Tritium Calculation for Molten Salt Reactor\n",
    "$  \n",
    "  \\newcommand{\\Amtrx}{\\boldsymbol{\\mathsf{A}}}\n",
    "  \\newcommand{\\Bmtrx}{\\boldsymbol{\\mathsf{B}}}\n",
    "  \\newcommand{\\Mmtrx}{\\boldsymbol{\\mathsf{M}}}\n",
    "  \\newcommand{\\Imtrx}{\\boldsymbol{\\mathsf{I}}}\n",
    "  \\newcommand{\\Pmtrx}{\\boldsymbol{\\mathsf{P}}}\n",
    "  \\newcommand{\\Lmtrx}{\\boldsymbol{\\mathsf{L}}}\n",
    "  \\newcommand{\\Umtrx}{\\boldsymbol{\\mathsf{U}}}\n",
    "  \\newcommand{\\Smtrx}{\\boldsymbol{\\mathsf{S}}}\n",
    "  \\newcommand{\\xvec}{\\boldsymbol{\\mathsf{x}}}\n",
    "  \\newcommand{\\uvar}{\\boldsymbol{u}}\n",
    "  \\newcommand{\\fvar}{\\boldsymbol{f}}\n",
    "  \\newcommand{\\avec}{\\boldsymbol{\\mathsf{a}}}\n",
    "  \\newcommand{\\bvec}{\\boldsymbol{\\mathsf{b}}}\n",
    "  \\newcommand{\\cvec}{\\boldsymbol{\\mathsf{c}}}\n",
    "  \\newcommand{\\rvec}{\\boldsymbol{\\mathsf{r}}}\n",
    "  \\newcommand{\\mvec}{\\boldsymbol{\\mathsf{m}}}\n",
    "  \\newcommand{\\gvec}{\\boldsymbol{\\mathsf{g}}}\n",
    "  \\newcommand{\\zerovec}{\\boldsymbol{\\mathsf{0}}}\n",
    "  \\newcommand{\\norm}[1]{\\bigl\\lVert{#1}\\bigr\\rVert}\n",
    "  \\newcommand{\\transpose}[1]{{#1}^\\top}\n",
    "  \\DeclareMathOperator{\\rank}{rank}\n",
    "  \\newcommand{\\Power}{\\mathcal{P}}\n",
    "$"
   ]
  },
  {
   "cell_type": "markdown",
   "metadata": {},
   "source": [
    "**Student(s):** Anthony Bowers  <br>\n",
    "**Course:** Engy-5310 Computational Continuum Transport Phenomena  <br>\n",
    "**Mentor:** Prof. Subash Sharma\n",
    "\n",
    "UMass Lowell, Dept. of Chemical Engineering, Nuclear Energy Program \n",
    "<br>\n",
    "**25Apr2021**"
   ]
  },
  {
   "cell_type": "markdown",
   "metadata": {},
   "source": [
    "---\n",
    "## Table of Contents<a id=\"toc\"></a>\n",
    "* [Introduction](#intro)\n",
    "* [Problem Statement](#problem)\n",
    "* [Objectives](#obj)\n",
    "* [Approach](#app)\n",
    " + [Weak Form of Problem Statement](#weakform)\n",
    " + [MOOSE Kernels](#kernels)\n",
    " + [Setup](#setup)\n",
    "* [Results and Analysis](#ranalysis)\n",
    "* [Conclusions](#conclusions)\n",
    "* [References](#refs)\n",
    "---"
   ]
  },
  {
   "cell_type": "markdown",
   "metadata": {},
   "source": [
    "## [Introduction](#toc)<a id=\"intro\"></a>"
   ]
  },
  {
   "attachments": {},
   "cell_type": "markdown",
   "metadata": {},
   "source": [
    "Recent technology advances are creating growing interest in nuclear reactors that require advance high temperature salt coolants like Molten Salt Reactor (MSR). In a MSR the fuel is dissolved in the coolant salt with operating temperature at a range of 700oC and 1000oC. At this temperature range the liquid salt produces tritium that can diffuse through metallic heat exchangers and escape the reactor system. To avoid exceeding allowable tritium releases to the environment, tritium removal from the salt coolant and barriers is required. \n",
    "\n",
    "In a lithium-containing MSR, the primary tritium-producing reactions as follow\n",
    "\n",
    "$${^{7}_{3}}LiF + n → {^{4}_{2}}He + TF $$\n",
    "$${^{7}_{3}}LiF + n → {^{4}_{2}}He + TF + n' $$\n",
    "$${^{19}_{9}}F + n → {^{17}_{8}}O + T $$\n",
    "$${^{9}_{4}}BeF_2 + n → {^{4}_{2}}He + {^{4}_{2}}He + 2F $$\n",
    "\n",
    "\n",
    "The production rate for the ternary fission reactions, seen above, in an FHR is given by Cisneros (2013). In addition to the production of tritium by ternary fission reactions, tritium is also produced by corrosion, where in an FHR the corrosion reaction (Oxidation of Cr) is given by. \n",
    "\n",
    "$$TF + Cr_{S.S} → CrF_2 + T_{2(g)} $$\n",
    "\n",
    "Therefore, the purpose of this project is to understand the tritium transport phenomena and select the correct model which will be tested in MOOSE. MOOSE is a partial differential solver using Finite Element Method (FEM) developed by Idaho National Laboratory. There are already existing models available in literature that have been benchmarks such as TRITium Diffusion EvolutionN and Transport (TRIDENT) developed by Stempien et al (2015,2016) at MIT. \n"
   ]
  },
  {
   "cell_type": "markdown",
   "metadata": {},
   "source": [
    "## [Problem Statement](#toc)<a id=\"problem\"></a>"
   ]
  },
  {
   "attachments": {},
   "cell_type": "markdown",
   "metadata": {},
   "source": [
    "Consider tritium flowing co-currently, at steady-state, in the main coolant leg with fuel-salt at an initial concentration, u ,and velocity, v. Tritium at the centerline of the bulk fluid is at its max concentration. Alternatively, no tritium is to be diffused into centerline. The latter case was considered in this model. Furthermore, sources indicate that tritium will diffuse into the pipe wall and the diffusion is limited by the mass transfer relation. The mass transfer coefficient was estimated using a Sherwood expression as such: \n",
    "\n",
    "$$Sh_{T_2,Pipe}=0.015Re^{0.83}Sc^{0.42}$$\n",
    "\n",
    "The concentration of tritium in the pipe wall for an infinite slab was assumed to be 0. Lastly, no tritium was to diffuse at the exit flow. "
   ]
  },
  {
   "cell_type": "code",
   "execution_count": null,
   "metadata": {},
   "outputs": [],
   "source": [
    "pip install pyvista"
   ]
  },
  {
   "cell_type": "code",
   "execution_count": 48,
   "metadata": {
    "code_folding": [
     2
    ]
   },
   "outputs": [],
   "source": [
    "'''Domain'''\n",
    "\n",
    "def show_domain():\n",
    "    import pyvista as pv\n",
    "    pv.set_plot_theme('paraview')\n",
    "\n",
    "    height = 150\n",
    "    radius = 7.5 \n",
    "    coolant = pv.Cylinder(center=(0,0,0), direction=(1,0,0), height=height, radius=radius)\n",
    "   \n",
    "\n",
    "    plo = pv.Plotter(notebook=True,shape=(1,1)) \n",
    "    plo.add_mesh(coolant, color='red', opacity=1.0,)\n",
    "    plo.add_axes(ylabel='Theta', xlabel='Z', zlabel='R')\n",
    "\n",
    "   \n",
    "    cpos = plo.show(window_size=[800, 600])"
   ]
  },
  {
   "cell_type": "code",
   "execution_count": 49,
   "metadata": {},
   "outputs": [
    {
     "data": {
      "image/png": "[encoded data removed]",
      "text/plain": [
       "<PIL.Image.Image image mode=RGB size=800x600 at 0x222618C4C70>"
      ]
     },
     "metadata": {},
     "output_type": "display_data"
    }
   ],
   "source": [
    "show_domain()"
   ]
  },
  {
   "cell_type": "markdown",
   "metadata": {},
   "source": [
    "## [Objectives](#toc)<a id=\"obj\"></a>"
   ]
  },
  {
   "cell_type": "markdown",
   "metadata": {},
   "source": [
    "1.\tObtain transport parameters of tritium in main coolant leg\n",
    "<br> a.\tPeclet number \n",
    "<br> b.\tReynolds number\n",
    "<br> c.\tDiffusion coefficients\n",
    "<br> d.\tFluid properties\n",
    "2.\tSet up analytical solution \n",
    "<br> a.\tSeparation of Variables\n",
    "<br> b.\tLaplace transform\n",
    "3.\tUse MOOSE to determine theoretical solution\n",
    "4.\tCompare analytical to MOOSE\n"
   ]
  },
  {
   "cell_type": "markdown",
   "metadata": {},
   "source": [
    "## [Approach](#toc)<a id=\"app\"></a>\n",
    "\n",
    "    "
   ]
  },
  {
   "attachments": {},
   "cell_type": "markdown",
   "metadata": {},
   "source": [
    "### [Strong Form of Problem Statement](#toc)<a id=\"strongform\"></a> \n",
    "\n",
    "<br>\n",
    "\n",
    "The transport of tritium follows a 2-D Poisson’s model such that for all $ u: [(z_1, z_2); (r_1, r_2)] $ ∈ Real → Real. Currently, this problem neglects the sink and source terms until further coupling mechanics is understood\n",
    "\n",
    "$$ vu'(z)=-(-Du')'(r)$$\n",
    "\n",
    "$$ u(z,_1, r_n) = a $$\n",
    "$$ q(z,_n, r_2) = k(u(r)-u_\\infty ) $$\n",
    "$$ q(z,_2, r_n) = 0 $$\n",
    "$$ q(z,_n, r_1) = 0 $$\n",
    "\n",
    "\n"
   ]
  },
  {
   "cell_type": "markdown",
   "metadata": {},
   "source": [
    "### [Weak Form of Problem Statement](#toc)<a id=\"weakform\"></a> \n"
   ]
  },
  {
   "cell_type": "markdown",
   "metadata": {},
   "source": [
    "### [MOOSE Kernels](#toc)<a id=\"kernels\"></a>\n",
    "\n",
    "The following MOOSE kernels were implemented to solve the [weak form](#weakform):\n",
    "1. X term: \n",
    " + [interface](./include/kernels/X.h) and [implementation](./src/kernels/X.C)."
   ]
  },
  {
   "cell_type": "markdown",
   "metadata": {},
   "source": [
    "### [Setup](#toc)<a id=\"setup\"></a>"
   ]
  },
  {
   "cell_type": "code",
   "execution_count": null,
   "metadata": {},
   "outputs": [],
   "source": [
    "'''Domain'''\n",
    "\n",
    "z_left = 0\n",
    "z_right =150 \n",
    "r_bottom=0\n",
    "r_top=7.5\n",
    "\n"
   ]
  },
  {
   "cell_type": "code",
   "execution_count": null,
   "metadata": {},
   "outputs": [],
   "source": [
    "'''Parameters'''\n",
    "\n",
    "diff_coeff = .000266493\n",
    "s_source = 0\n",
    "\n"
   ]
  },
  {
   "cell_type": "code",
   "execution_count": null,
   "metadata": {},
   "outputs": [],
   "source": [
    "'''Data (boundary conditions)'''\n",
    "\n",
    "u_inlet = 3.6e-07\n",
    "q_center=0\n",
    "q_bottom=0\n",
    "ambient_con = 0\n",
    "vel=5.45\n",
    "Mass_transfer_coef= 2.35e-03"
   ]
  },
  {
   "cell_type": "code",
   "execution_count": 8,
   "metadata": {},
   "outputs": [
    {
     "ename": "ModuleNotFoundError",
     "evalue": "No module named 'engy_5310_main'",
     "output_type": "error",
     "traceback": [
      "\u001b[1;31m---------------------------------------------------------------------------\u001b[0m",
      "\u001b[1;31mModuleNotFoundError\u001b[0m                       Traceback (most recent call last)",
      "\u001b[1;32m<ipython-input-8-bbcf6a55c90c>\u001b[0m in \u001b[0;36m<module>\u001b[1;34m\u001b[0m\n\u001b[0;32m     10\u001b[0m \u001b[0mn_plot_pts_y\u001b[0m \u001b[1;33m=\u001b[0m \u001b[0mn_felem_y\u001b[0m \u001b[1;33m+\u001b[0m \u001b[1;36m1\u001b[0m\u001b[1;33m\u001b[0m\u001b[1;33m\u001b[0m\u001b[0m\n\u001b[0;32m     11\u001b[0m \u001b[1;33m\u001b[0m\u001b[0m\n\u001b[1;32m---> 12\u001b[1;33m \u001b[1;32mfrom\u001b[0m \u001b[0mengy_5310_main\u001b[0m\u001b[1;33m.\u001b[0m\u001b[0mtoolkit\u001b[0m  \u001b[1;32mimport\u001b[0m \u001b[0mwrite_engy5310_p1_2d_input_file\u001b[0m\u001b[1;33m\u001b[0m\u001b[1;33m\u001b[0m\u001b[0m\n\u001b[0m\u001b[0;32m     13\u001b[0m \u001b[1;33m\u001b[0m\u001b[0m\n\u001b[0;32m     14\u001b[0m write_engy5310_p1_2d_input_file(xmin=z_right, \n",
      "\u001b[1;31mModuleNotFoundError\u001b[0m: No module named 'engy_5310_main'"
     ]
    }
   ],
   "source": [
    "'''FEM Solution'''\n",
    "\n",
    "n_felem_x = 1\n",
    "n_felem_y = 1\n",
    "\n",
    "order = 'second'\n",
    "\n",
    "n_plot_pts_x = n_felem_x + 1\n",
    "n_plot_pts_x = 20\n",
    "n_plot_pts_y = n_felem_y + 1\n",
    "\n",
    "from engy_5310_main.toolkit  import write_engy5310_p1_2d_input_file\n",
    "\n",
    "write_engy5310_p1_2d_input_file(xmin=z_right, \n",
    "                                xmax=z_left, \n",
    "                                yminx=r_bottom, \n",
    "                                ymax=r_top, \n",
    "                                u_inlet=u_inlet, \n",
    "                                flux_center=q_center,\n",
    "                                flux_bottom=q_bottom,\n",
    "                                reference=ambient_con,\n",
    "                                velocity=vel,\n",
    "                                transferCoeff=Mass_transfer_coef,\n",
    "                                diff_coeff=diff_coeff, \n",
    "                                source_s=source_s, \n",
    "                                n_felem_x=n_felem_x, \n",
    "                                n_felem_y=n_felem_y, \n",
    "                                order=order, \n",
    "                                n_plot_pts_x=n_plot_pts_x, \n",
    "                                n_plot_pts_y=n_plot_pts_y)\n",
    "\n",
    "\n",
    "\n",
    "#n_felem = 10\n",
    "\n",
    "#order = 'first'\n",
    "\n",
    "#n_plot_pts = n_felem + 1\n",
    "\n",
    "#from tools.toolkit import write_engy5310_p1_1d_input_file\n",
    "\n",
    "#write_engy5310_p1_1d_input_file(x_left=x_a, x_right=x_b, \n",
    "                                #u_left=u_a, \n",
    "                                #transfer_coeff_right=transfer_coeff_right,\n",
    "                                #diff_coeff=diff_coeff,\n",
    "                                #n_felem=n_felem, order=order, \n",
    "                                #n_plot_pts=n_plot_pts,\n",
    "                                #use_moose_neumann_bc=True,\n",
    "                                #file_name='input.hit')"
   ]
  },
  {
   "cell_type": "code",
   "execution_count": 5,
   "metadata": {},
   "outputs": [
    {
     "name": "stderr",
     "output_type": "stream",
     "text": [
      "'.' is not recognized as an internal or external command,\n",
      "operable program or batch file.\n"
     ]
    }
   ],
   "source": [
    "!./engy5310p1-opt -i tritium_2d_Horizontal.i"
   ]
  },
  {
   "cell_type": "markdown",
   "metadata": {},
   "source": [
    "## [Results and Analysis](#toc)<a id=\"ranalysis\"></a>"
   ]
  },
  {
   "attachments": {},
   "cell_type": "markdown",
   "metadata": {},
   "source": []
  },
  {
   "cell_type": "markdown",
   "metadata": {},
   "source": [
    "- Text..."
   ]
  },
  {
   "cell_type": "markdown",
   "metadata": {},
   "source": [
    "## [Conclusions](#toc)<a id=\"conclusions\"></a>"
   ]
  },
  {
   "cell_type": "markdown",
   "metadata": {},
   "source": [
    "- Text..."
   ]
  },
  {
   "cell_type": "markdown",
   "metadata": {},
   "source": [
    "- Text..."
   ]
  },
  {
   "cell_type": "markdown",
   "metadata": {},
   "source": [
    "## [References](#toc)<a id=\"refs\"></a>\n",
    "\n",
    "- [1] V. F. de Almeida, [*Engy-5310: Computational Continuum Transport Phenomena*](https://github.com/dpploy/engy-5310), University of Massachusetts Lowell, Dept. of Chemical Engineering (Nuclear Energy Program).\n",
    "- [2] Multiphysics Object-Oriented Simulation Environment [(MOOSE)](https://mooseframework.org)\n",
    "- [3] author, [reference]()\n",
    "- [4] author, [reference]()"
   ]
  }
 ],
 "metadata": {
  "kernelspec": {
   "display_name": "Python 3",
   "language": "python",
   "name": "python3"
  },
  "language_info": {
   "codemirror_mode": {
    "name": "ipython",
    "version": 3
   },
   "file_extension": ".py",
   "mimetype": "text/x-python",
   "name": "python",
   "nbconvert_exporter": "python",
   "pygments_lexer": "ipython3",
   "version": "3.8.5"
  },
  "latex_envs": {
   "LaTeX_envs_menu_present": true,
   "autoclose": false,
   "autocomplete": true,
   "bibliofile": "biblio.bib",
   "cite_by": "apalike",
   "current_citInitial": 1,
   "eqLabelWithNumbers": true,
   "eqNumInitial": 1,
   "hotkeys": {
    "equation": "Ctrl-E",
    "itemize": "Ctrl-I"
   },
   "labels_anchors": false,
   "latex_user_defs": false,
   "report_style_numbering": false,
   "user_envs_cfg": false
  }
 },
 "nbformat": 4,
 "nbformat_minor": 2
}

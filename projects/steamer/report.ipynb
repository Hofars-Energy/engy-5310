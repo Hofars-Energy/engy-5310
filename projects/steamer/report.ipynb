{
 "cells": [
  {
   "cell_type": "markdown",
   "metadata": {},
   "source": [
    "**Engy-5310** Computational Continuum Transport Phenomena, UMass Lowell, Chem. Eng. Nuclear Program Spring 2021; Prof. V. F. de Almeida\n",
    "\n",
    "# A Diffusion Drift-Flux Model for Two-Phase Mixture Flow\n",
    "$  \n",
    "  \\newcommand{\\Amtrx}{\\boldsymbol{\\mathsf{A}}}\n",
    "  \\newcommand{\\Bmtrx}{\\boldsymbol{\\mathsf{B}}}\n",
    "  \\newcommand{\\Mmtrx}{\\boldsymbol{\\mathsf{M}}}\n",
    "  \\newcommand{\\Imtrx}{\\boldsymbol{\\mathsf{I}}}\n",
    "  \\newcommand{\\Pmtrx}{\\boldsymbol{\\mathsf{P}}}\n",
    "  \\newcommand{\\Lmtrx}{\\boldsymbol{\\mathsf{L}}}\n",
    "  \\newcommand{\\Umtrx}{\\boldsymbol{\\mathsf{U}}}\n",
    "  \\newcommand{\\Smtrx}{\\boldsymbol{\\mathsf{S}}}\n",
    "  \\newcommand{\\xvec}{\\boldsymbol{\\mathsf{x}}}\n",
    "  \\newcommand{\\avec}{\\boldsymbol{\\mathsf{a}}}\n",
    "  \\newcommand{\\bvec}{\\boldsymbol{\\mathsf{b}}}\n",
    "  \\newcommand{\\cvec}{\\boldsymbol{\\mathsf{c}}}\n",
    "  \\newcommand{\\rvec}{\\boldsymbol{\\mathsf{r}}}\n",
    "  \\newcommand{\\fvec}{\\boldsymbol{\\mathsf{f}}}\n",
    "  \\newcommand{\\mvec}{\\boldsymbol{\\mathsf{m}}}\n",
    "  \\newcommand{\\gvec}{\\boldsymbol{\\mathsf{g}}}\n",
    "  \\newcommand{\\zerovec}{\\boldsymbol{\\mathsf{0}}}\n",
    "  \\newcommand{\\norm}[1]{\\bigl\\lVert{#1}\\bigr\\rVert}\n",
    "  \\newcommand{\\transpose}[1]{{#1}^\\top}\n",
    "  \\DeclareMathOperator{\\rank}{rank}\n",
    "  \\newcommand{\\Reals}{\\mathbb{R}}\n",
    "  \\newcommand{\\thetavec}{\\boldsymbol{\\theta}}\n",
    "$"
   ]
  },
  {
   "cell_type": "markdown",
   "metadata": {},
   "source": [
    "**Student(s):**  Nik Kemper and Jack Kennedy<br>\n",
    "**Course:** Engy-5310 Computational Continuum Transport Phenomena  <br>\n",
    "**Mentor:** Prof. Valmor F. de Almeida\n",
    "\n",
    "UMass Lowell, Dept. of Chemical Engineering, Nuclear Energy Program \n",
    "<br>\n",
    "**25Apr2021**"
   ]
  },
  {
   "cell_type": "markdown",
   "metadata": {},
   "source": [
    "---\n",
    "## Table of Contents<a id=\"toc\"></a>\n",
    "* [Introduction](#intro)\n",
    "* [Problem Statement](#problem)\n",
    "* [Objectives](#obj)\n",
    "* [Approach](#app)\n",
    "  + [Weak Form of Problem Statement](#weakform)\n",
    "  + [MOOSE Kernels](#kernels)\n",
    "  + [Setup](#setup)\n",
    "  + [Tests](#tests)\n",
    "   - [Solo mixture](#solomixture)\n",
    "   - [Solo vapor](#solovapor)\n",
    "* [Results and Analysis](#ranalysis)\n",
    "* [Conclusions](#conclusions)\n",
    "* [References](#refs)\n",
    "---\n",
    "\n",
    " + [MOOSE Kernels](#kernels)\n",
    " + [Setup](#setup)\n",
    " + [Tests](#tests)\n",
    "   - [Fuel](#fuel)"
   ]
  },
  {
   "cell_type": "markdown",
   "metadata": {},
   "source": [
    "## [Introduction](#toc)<a id=\"intro\"></a>"
   ]
  },
  {
   "cell_type": "markdown",
   "metadata": {},
   "source": [
    "- The volume-average method is used for deriving a two-phase mixture balance equation for the motion of two fluid phases. The balance equation for the vapor phase is closed by a diffusion drift-flux constitutive equation. Boundary conditions for a developing fluid flow are used in cylindrical coordinates. This model is a prototype of a mixture theory for two-phase fluid flow in various equipments for example, steam generation from liquid feed water."
   ]
  },
  {
   "cell_type": "markdown",
   "metadata": {},
   "source": [
    "- Text... "
   ]
  },
  {
   "cell_type": "markdown",
   "metadata": {},
   "source": [
    "## [Problem Statement](#toc)<a id=\"problem\"></a>"
   ]
  },
  {
   "cell_type": "markdown",
   "metadata": {},
   "source": [
    "Solve the convective-diffusive model problem for a two-phase, 1-D mixture flow with phase change in a pipe. Compute the mixture velocity $v:[a,b]\\subset\\Reals\\rightarrow\\Reals$ and vapor fraction $\\alpha:[a,b]\\subset\\Reals\\rightarrow\\Reals$ such that:\n",
    "\n",
    "\\begin{align*}\n",
    " \\text{d}_z\\bigl(\\rho\\,v\\bigr) &= 0 \\quad \\forall \\quad z\\in [a,b] \\\\\n",
    " \\text{d}_z\\bigl(\\alpha\\rho_\\text{v}\\,v\\bigr) -\\text{d}_z\\Bigl(\\alpha\\,w_\\ell\\,\\rho\\,D\\,\\text{d}_z w_\\text{v}\\Bigr) - S_\\text{v} & = 0 \\quad \\forall \\quad z\\in [a,b] \\\\\n",
    " v(a) &= v_0 \\\\\n",
    " \\alpha(a) &= 0, \\\\\n",
    " -\\rho\\,D \\,\\text{d}_z w_\\text{v}(b) &= 0,\n",
    "\\end{align*}\n",
    "where $v$ is the velocity of the mixture, $\\alpha$ is the vapor fraction, $w_\\text{v} = \\frac{\\rho_\\text{v}}{\\alpha\\rho_\\text{v} + (1-\\alpha)\\rho_\\ell}$ is the mass density ratio of the vapor (a similar definition is used for the liquid, $w_\\ell$), $\\rho_\\ell$ is the mass density of the liquid, $\\rho_\\text{v}$ is the mass density of the vapor, and $-\\rho\\,D \\,\\text{d}_z w_\\text{v}$ is a diffusion constitutive model of the drift-flux of the vapor, that is: $\\rho_\\text{v}\\,v_\\text{d}$, ($v_\\text{d}$ is the drift velocity). The vapor source term, $S_\\text{v}$ accounts for the mass transfered from the liquid phase into the vapor phase due to vaporization phase change. The inflow port of the pipe is located at $z=a$ where the vapor fraction and mixture velocity are known. The outflow port of the pipe is located at $z=b$ where the diffusive drift flux is zero.\n",
    "\n",
    "The equations conserve the total mass of the two phase flow system in the $[a,b]$ domain. The model is non-linear in the unknown variables."
   ]
  },
  {
   "cell_type": "code",
   "execution_count": null,
   "metadata": {
    "code_folding": [
     2
    ]
   },
   "outputs": [],
   "source": [
    "'''Domain'''\n",
    "\n",
    "def show_domain(screenshot=False):\n",
    "    import scipy.constants as unit\n",
    "    unit.meter = 0.10\n",
    "    unit.mm = unit.milli*unit.meter\n",
    "    \n",
    "    pipe_length = 1*unit.meter\n",
    "    pipe_id = 3/4*unit.inch\n",
    "    pipe_wall = 20*unit.mm\n",
    "    pipe_od = pipe_id + 2*pipe_wall\n",
    "    \n",
    "    import pyvista as pv\n",
    "    pv.set_plot_theme('paraview')\n",
    "     \n",
    "    radius_i = pipe_id/2\n",
    "    radius_o = pipe_od/2\n",
    "    fluid = pv.Cylinder(center=(0,0,0), direction=(0,0,1), height=pipe_length, radius=radius_i)\n",
    "    tmp1 = pv.Cylinder(center=(0,0,0), direction=(0,0,1), height=pipe_length, radius=radius_o)\n",
    "    tmp1 = tmp1.triangulate()\n",
    "    tmp2 = pv.Cylinder(center=(0,0,0), direction=(0,0,1), height=pipe_length*1.1, radius=radius_i)\n",
    "    tmp2 = tmp2.triangulate()\n",
    "    tmp2.flip_normals()\n",
    "    pipe = tmp1.boolean_cut(tmp2)\n",
    "\n",
    "    plo = pv.Plotter(notebook=True,shape=(1,1)) \n",
    "\n",
    "    plo.subplot(0,0)\n",
    "    plo.add_mesh(fluid, color='orange', opacity=1,)\n",
    "    plo.add_mesh(pipe, color='black', opacity=.99)\n",
    "    plo.add_axes(xlabel='R', ylabel='Theta', zlabel='Z')\n",
    "    \n",
    "    #plo.set_viewup([1,0,0])\n",
    "    cpos = plo.show(window_size=[800, 600])\n",
    "    if screenshot:\n",
    "        plo.screenshot('readme-domain.png')"
   ]
  },
  {
   "cell_type": "code",
   "execution_count": null,
   "metadata": {},
   "outputs": [],
   "source": [
    "show_domain(screenshot=False)"
   ]
  },
  {
   "cell_type": "markdown",
   "metadata": {},
   "source": [
    "- Text... "
   ]
  },
  {
   "cell_type": "markdown",
   "metadata": {},
   "source": [
    "- Text... "
   ]
  },
  {
   "cell_type": "markdown",
   "metadata": {},
   "source": [
    "## [Objectives](#toc)<a id=\"obj\"></a>"
   ]
  },
  {
   "cell_type": "markdown",
   "metadata": {},
   "source": [
    "- Text..."
   ]
  },
  {
   "cell_type": "markdown",
   "metadata": {},
   "source": [
    "- Text..."
   ]
  },
  {
   "cell_type": "markdown",
   "metadata": {},
   "source": [
    "## [Approach](#toc)<a id=\"app\"></a>"
   ]
  },
  {
   "cell_type": "markdown",
   "metadata": {},
   "source": [
    "### [Weak Form of Problem Statement](#toc)<a id=\"weakform\"></a> \n",
    "\n",
    "The Galerkin weak formulation of the [strong form](#problem) is as follows. Find $v \\in H^1\\!\\bigl([a,b]\\bigr)$ and $\\alpha \\in H^1\\!\\bigl([a,b]\\bigr)$\n",
    "so that \n",
    "\n",
    "\\begin{align*}\n",
    " \\int\\limits_a^b \\bigl(\\Delta\\rho\\,\\alpha'\\,v + \\rho\\, v'\\bigr)\\, \\theta\\, dz &= 0 \\quad \\forall \\quad \\theta \\in H^1_0\\!\\bigl([a,b]\\bigr), \\text{and}\n",
    " \\\\\n",
    "    \\int\\limits_a^b \\rho_\\text{v}\\,(\\alpha'\\,v + \\alpha\\,v')\\,\\theta\\,dz \n",
    "  - \\int\\limits_a^b \\alpha\\,w_\\ell\\,w_\\text{v}\\,\\Delta\\rho\\,D\\,\\alpha' \\theta'\\,dz \n",
    "  - \\int\\limits_a^b S_\\text{v}\\,\\theta\\,dz &= 0 \n",
    "  \\quad \\forall \\quad \\theta \\in H^1_0\\!\\bigl([a,b]\\bigr),\n",
    "\\end{align*}\n",
    "\n",
    "where $H^1\\!\\bigl([a,b]\\bigr) := \\bigl\\{ u:[a,b]\\subset\\Reals\\rightarrow \\Reals \\mid \\int_a^b u'^2\\,dx < \\infty\\bigr\\}$ and $H^1_0\\!\\bigl([a,b]\\bigr) := \\bigl\\{ w \\mid w \\in H^1(a,b), w(a) = 0 \\bigr\\}$. Both function sets as just defined are Hilbert spaces.\n",
    " \n",
    "The finite element implementation of this weak form is carried out within the multiphysics object oriented simulation environment, MOOSE, framework."
   ]
  },
  {
   "cell_type": "markdown",
   "metadata": {},
   "source": [
    "### [MOOSE Kernels](#toc)<a id=\"kernels\"></a>\n",
    "\n",
    "The following MOOSE kernels were implemented to solve the [weak form](#weakform):\n",
    "1. Mixture mass balance term: $\\bigl(\\Delta\\rho\\,\\alpha'\\,v + \\rho\\, v', \\theta\\bigr)$ \n",
    " + [interface](./include/kernels/MixtureMassBalDivergence.h) and [implementation](./src/kernels/MixtureMassBalDivergence.C).\n",
    "1. Vapor convection term: $\\bigl(\\rho_\\text{v}\\,(\\alpha'\\,v + \\alpha\\,v'),\\theta\\bigr)$ \n",
    " + [interface](./include/kernels/VaporConvection.h) and [implementation](./src/kernels/VaporConvection.C).\n",
    "1. Vapor drift-flux diffusion term: $-\\bigl(\\alpha\\,w_\\ell\\,w_\\text{v}\\,\\Delta\\rho\\,D\\,\\alpha', \\theta'\\bigr)$ \n",
    " + [interface](./include/kernels/VaporDriftFluxDiffusion.h) and [implementation](./src/kernels/VaporDriftFluxDiffusion.C).\n",
    "1. Initial guess for Newton's method: $q = c\\,z + b$ \n",
    " + [interface](./include/ig/InitialGuess.h) and [implementation](./src/ig/InitialGuess.C)."
   ]
  },
  {
   "cell_type": "markdown",
   "metadata": {},
   "source": [
    "### [Setup](#toc)<a id=\"setup\"></a>"
   ]
  },
  {
   "cell_type": "code",
   "execution_count": null,
   "metadata": {},
   "outputs": [],
   "source": [
    "'''Domain'''\n",
    "\n",
    "x_a = 0\n",
    "x_b = 25\n",
    "\n",
    "x_length = x_b - x_a"
   ]
  },
  {
   "cell_type": "code",
   "execution_count": 30,
   "metadata": {},
   "outputs": [],
   "source": [
    "'''Parameters'''\n",
    "\n",
    "rho_l = 1000\n",
    "rho_v = 1"
   ]
  },
  {
   "cell_type": "code",
   "execution_count": null,
   "metadata": {},
   "outputs": [],
   "source": [
    "'''Data (boundary conditions)'''\n",
    "\n",
    "alpha_a = 0\n",
    "v_a = 1"
   ]
  },
  {
   "cell_type": "code",
   "execution_count": 33,
   "metadata": {},
   "outputs": [],
   "source": [
    "'''Plot function for FEM Solution'''\n",
    "import matplotlib.pyplot as plt\n",
    "def plot_solution(df, \n",
    "                  title='No Title', \n",
    "                  u1_legend='no u1 legend',\n",
    "                  u2_legend='no u2 legend',\n",
    "                  u1_flux_legend='no u1 flux legend',\n",
    "                  u2_flux_legend='no u2 flux legend',\n",
    "                  save_plot=False):\n",
    "    \n",
    "    \n",
    "    %matplotlib inline\n",
    "    plt.style.use('dark_background')\n",
    "\n",
    "    (fig, ax1) = plt.subplots(1, figsize=(15, 6))\n",
    "\n",
    "    ax1.plot(df['x'], df['mixtureVelocity'],'r*-',label=u1_legend)\n",
    "    \n",
    "    ax1.set_xlabel(r'$x$ [m]', fontsize=18)\n",
    "    ax1.set_ylabel(r'$u_{1,h}(x)$', fontsize=18, color='red')\n",
    "    ax1.tick_params(axis='y', labelcolor='red', labelsize=14)\n",
    "    ax1.tick_params(axis='x', labelsize=14)\n",
    "    ax1.legend(loc='center left', fontsize=12)\n",
    "    #ax1.set_ylim(0,1)\n",
    "    ax1.grid(True, axis='x')\n",
    "\n",
    "    # create a twin x axis to be shared\n",
    "    ax2 = ax1.twinx()\n",
    "\n",
    "    ax2.plot(df['x'], df['vaporFraction'],'*-', color='yellow', label=u2_legend)\n",
    "        \n",
    "    ax2.set_ylabel(r\"$u_{2,h}(x)$\", fontsize=16, color='yellow')\n",
    "    ax2.tick_params(axis='y', labelcolor='yellow', labelsize=14)\n",
    "    ax2.legend(loc='center right', fontsize=12)\n",
    "    #ax2.set_ylim(0,2)\n",
    "    ax2.grid(True)\n",
    "\n",
    "    plt.title(title, fontsize=20)\n",
    "    fig.tight_layout()  # otherwise the right y-label is slightly clipped\n",
    "    if save_plot:\n",
    "        plt.savefig('readme-result.png')\n",
    "    plt.show()\n",
    "    print('')"
   ]
  },
  {
   "cell_type": "markdown",
   "metadata": {},
   "source": [
    "## <span style=\"color:red\"><b>**Pending:** parameters should deliver 100% vapor quality at end of pipe</b></span>"
   ]
  },
  {
   "cell_type": "code",
   "execution_count": null,
   "metadata": {},
   "outputs": [],
   "source": [
    "'''Input file'''\n",
    "!cat input.hit"
   ]
  },
  {
   "cell_type": "code",
   "execution_count": 19,
   "metadata": {},
   "outputs": [
    {
     "name": "stdout",
     "output_type": "stream",
     "text": [
      "\n",
      "\n",
      "Framework Information:\n",
      "MOOSE Version:           git commit a7f499ed31 on 2021-04-30\n",
      "LibMesh Version:         \n",
      "PETSc Version:           3.14.2\n",
      "SLEPc Version:           3.14.0\n",
      "Current Time:            Sun May  9 15:01:49 2021\n",
      "Executable Timestamp:    Sat May  1 13:46:36 2021\n",
      "\n",
      "Parallelism:\n",
      "  Num Processors:          1\n",
      "  Num Threads:             1\n",
      "\n",
      "Mesh: \n",
      "  Parallel Type:           replicated\n",
      "  Mesh Dimension:          1\n",
      "  Spatial Dimension:       1\n",
      "  Nodes:                   \n",
      "    Total:                 101\n",
      "    Local:                 101\n",
      "  Elems:                   \n",
      "    Total:                 100\n",
      "    Local:                 100\n",
      "  Num Subdomains:          1\n",
      "  Num Partitions:          1\n",
      "\n",
      "Nonlinear System:\n",
      "  Num DOFs:                202\n",
      "  Num Local DOFs:          202\n",
      "  Variables:               { \"mixtureVelocity\" \"vaporFraction\" } \n",
      "  Finite Element Types:    \"LAGRANGE\" \n",
      "  Approximation Orders:    \"FIRST\" \n",
      "\n",
      "Execution Information:\n",
      "  Executioner:             Steady\n",
      "  Solver Mode:             NEWTON\n",
      "  PETSc Preconditioner:    lu \n",
      "  MOOSE Preconditioner:    FDP\n",
      "\n",
      " 0 Nonlinear |R| = \u001b[32m2.503648e+04\u001b[39m\n",
      "      0 Linear |R| = \u001b[32m2.503648e+04\u001b[39m\n",
      "      1 Linear |R| = \u001b[33m2.407387e+04\u001b[39m\n",
      "      2 Linear |R| = \u001b[32m6.733689e+02\u001b[39m\n",
      "      3 Linear |R| = \u001b[32m7.814144e+01\u001b[39m\n",
      "      4 Linear |R| = \u001b[32m1.279396e+00\u001b[39m\n",
      "      5 Linear |R| = \u001b[32m3.839371e-02\u001b[39m\n",
      " 1 Nonlinear |R| = \u001b[32m2.312011e+04\u001b[39m\n",
      "      0 Linear |R| = \u001b[32m2.312011e+04\u001b[39m\n",
      "      1 Linear |R| = \u001b[32m1.086441e-01\u001b[39m\n",
      " 2 Nonlinear |R| = \u001b[32m6.956439e+01\u001b[39m\n",
      "      0 Linear |R| = \u001b[32m6.956439e+01\u001b[39m\n",
      "      1 Linear |R| = \u001b[32m1.263047e-08\u001b[39m\n",
      " 3 Nonlinear |R| = \u001b[32m1.096144e-01\u001b[39m\n",
      "      0 Linear |R| = \u001b[32m1.096144e-01\u001b[39m\n",
      "      1 Linear |R| = \u001b[32m8.268862e-13\u001b[39m\n",
      " 4 Nonlinear |R| = \u001b[32m6.188209e-07\u001b[39m\n",
      "\u001b[32m Solve Converged!\u001b[39m\n"
     ]
    }
   ],
   "source": [
    "!./steamer-opt -i input.hit"
   ]
  },
  {
   "cell_type": "code",
   "execution_count": 27,
   "metadata": {},
   "outputs": [
    {
     "data": {
      "image/png": "[encoded data removed]",
      "text/plain": [
       "<Figure size 1080x432 with 2 Axes>"
      ]
     },
     "metadata": {},
     "output_type": "display_data"
    },
    {
     "name": "stdout",
     "output_type": "stream",
     "text": [
      "\n"
     ]
    }
   ],
   "source": [
    "'''Show FEM Solution'''\n",
    "\n",
    "import pandas as pd\n",
    "df = pd.read_csv('output_x-data_0002.csv')\n",
    "    \n",
    "plot_solution(df, title='Non-Linear, Coupled, 1-D Two-Phase Flow Drift-Flux Diffusion Model FEM Solution', \n",
    "              u1_legend=r'Mixture Velocity Linear Lagrange', u2_legend=r'Vapor Fraction Linear Lagrange', save_plot=False)"
   ]
  },
  {
   "cell_type": "code",
   "execution_count": 39,
   "metadata": {
    "scrolled": false
   },
   "outputs": [
    {
     "data": {
      "image/png": "[encoded data removed]",
      "text/plain": [
       "<Figure size 432x288 with 1 Axes>"
      ]
     },
     "metadata": {},
     "output_type": "display_data"
    }
   ],
   "source": [
    "df\n",
    "x = df['id']\n",
    "v = df['mixtureVelocity']\n",
    "alpha = df['vaporFraction']\n",
    "rho = rho_v * alpha + (1-alpha)*rho_l\n",
    "df['x [m]'] = x\n",
    "df['rho [kg/m-3]'] = rho\n",
    "df['q [kg/m-2]'] = rho * v\n",
    "df.plot(kind='line',x='x [m]',y=['rho [kg/m-3]', 'q [kg/m-2]'])\n",
    "plt.show()"
   ]
  },
  {
   "cell_type": "markdown",
   "metadata": {},
   "source": [
    "### [Tests](#toc)<a id=\"tests\"></a>\n",
    "\n",
    "To get each kernel to converge, each kernel was isolated, and the variables were fixed and solved for as knowns, then the variables were relaxed to auxvariables, and finally returned to normal variables to test their individual converge.\n",
    "\n",
    "For example, with the mixture mass balance kernel (MMB), the vapor fraction was first fixed to be a linear relation between zero at the entrance and 1 at the exit. Using this, the vapor velocity could be modelled and adjusted until a reasonable model was developed. One interesting model output that as discovered was an oscillation of the vapor velocity that clearly didn’t match with the expected acceleration of our velocity. \n",
    "    \n",
    "This model was fixed by adding a diffusion term to help account for the fact that the Peclet Number was essentially infinite. The inclusion of an artificial mass diffusion rate reduces the Peclet Number and allows us to adjust for the actual diffusion involved with our vapor fraction being linear. \n",
    "    \n",
    "After this vapor velocity function matched the expected velocity change involved with making the velocity equal to the ratio of density of the phases, the boundary conditions for the vapor velocity were considered. Up until this point a Neumann Boundary condition was used; however, it was pointed out that it was not always the case that the vapor velocities derivative would be 0 at the boundary, so the boundary was adjusted to include the diffusion coefficient. \n"
   ]
  },
  {
   "cell_type": "markdown",
   "metadata": {},
   "source": [
    "#### [Solo Mixture](#toc)<a id=\"solomixture\"></a>"
   ]
  },
  {
   "cell_type": "code",
   "execution_count": 4,
   "metadata": {},
   "outputs": [
    {
     "name": "stdout",
     "output_type": "stream",
     "text": [
      "# Engy-5310 Project: Steamer\r\n",
      "# UMass Lowell Nuclear Chemical Engineering\r\n",
      "# Nikolaus R. Kemper and Jack J. F. Kennedy\r\n",
      "# Sat May  1 12:18:50 PM EST 2021\r\n",
      "#\r\n",
      "\r\n",
      "# Parameters\r\n",
      "xmin = 0.00000e+00  # [m]\r\n",
      "xmax = 2.50000e+01  # [m]\r\n",
      "diff_coeff = 2.00000e+00 # [unit]\r\n",
      "artificial_viscosity = 0.0001 # [unit] this should be small enough but not zero\r\n",
      "source_s = 0.1 # [unit]\r\n",
      "rho_l = 1000.0000 # [kg/m^3]\r\n",
      "rho_v = 1.00000   # [kg/m^3]\r\n",
      "mixture_velocity_left = 0.9367 # [m/s]\r\n",
      "vapor_fraction_left = 0.0  # []\r\n",
      "\r\n",
      "[Mesh]\r\n",
      "  [1d]\r\n",
      "    type = GeneratedMeshGenerator\r\n",
      "    dim = 1\r\n",
      "    xmin = ${replace xmin}\r\n",
      "    xmax = ${replace xmax}\r\n",
      "    nx = 100\r\n",
      "    #elem_type = edge3\r\n",
      "  []\r\n",
      "[]\r\n",
      "\r\n",
      "[Variables]\r\n",
      "  [mixtureVelocity]\r\n",
      "    order = first\r\n",
      "    family = lagrange\r\n",
      "    #initial_condition = ${fparse mixture_velocity_left}\r\n",
      "    [InitialCondition]\r\n",
      "      type = InitialGuess\r\n",
      "      bias = ${replace mixture_velocity_left}\r\n",
      "      coefficient = 0\r\n",
      "    []\r\n",
      "  []\r\n",
      "  #[vaporFraction]\r\n",
      "  #  order = first\r\n",
      "  #  family = lagrange\r\n",
      "  #  #initial_condition = 0.5\r\n",
      "  #  [InitialCondition]\r\n",
      "  #    type = InitialGuess\r\n",
      "  #    bias = 0.5\r\n",
      "  #    coefficient = 0\r\n",
      "  #  []\r\n",
      "  #[]\r\n",
      "[]\r\n",
      "\r\n",
      "# Tests\r\n",
      "[AuxVariables]\r\n",
      "  [vaporFraction]\r\n",
      "    order = first\r\n",
      "    family = lagrange\r\n",
      "    [InitialCondition]\r\n",
      "      type = InitialGuess\r\n",
      "      coefficient = ${fparse 4/100}\r\n",
      "      bias = 0\r\n",
      "    []\r\n",
      "  []\r\n",
      "#  [mixtureVelocity]\r\n",
      "#    order = first\r\n",
      "#    family = lagrange\r\n",
      "#    [InitialCondition]\r\n",
      "#      type = InitialGuess\r\n",
      "#      #coefficient = ${fparse 9/10}\r\n",
      "#      coefficient = ${fparse 0}\r\n",
      "#      bias = ${replace mixture_velocity_left}\r\n",
      "#    []\r\n",
      "#  []\r\n",
      "[]\r\n",
      "\r\n",
      "[Functions]\r\n",
      "  [alpha]\r\n",
      "    type = ParsedFunction\r\n",
      "    value = x*6.0/25\r\n",
      "    #vars = 'alpha'\r\n",
      "    #vals = '16'\r\n",
      "  []\r\n",
      "[]\r\n",
      "\r\n",
      "[Kernels]\r\n",
      "  [mixture-convection]\r\n",
      "    type = MixtureMassBalDivergence\r\n",
      "    variable = mixtureVelocity\r\n",
      "    rhoV = ${replace rho_v}\r\n",
      "    rhoL = ${replace rho_l}\r\n",
      "    vaporFraction = vaporFraction\r\n",
      "  []\r\n",
      "  #[mixture-artificial-viscosity]\r\n",
      "  #  type = ArtificialViscosity\r\n",
      "  #  variable = mixtureVelocity\r\n",
      "  #  viscosity = ${replace artificial_viscosity}\r\n",
      "  #[]\r\n",
      "  #[vapor-convection]\r\n",
      "  #  type = VaporConvection\r\n",
      "  #  variable = vaporFraction\r\n",
      "  #  rhoV = ${replace rho_v}\r\n",
      "  #  rhoL = ${replace rho_l}\r\n",
      "  #  velocity = mixtureVelocity\r\n",
      "  #[]\r\n",
      "  #[vapor-driftflux-diffusion]\r\n",
      "  #  type = VaporDriftFluxDiffusion\r\n",
      "  #  variable = vaporFraction\r\n",
      "  #  diffCoeff = ${replace diff_coeff}\r\n",
      "  #  rhoV = ${replace rho_v}\r\n",
      "  #  rhoL = ${replace rho_l}\r\n",
      "  #  velocity = mixtureVelocity\r\n",
      "  #[]\r\n",
      "  #[vapor-mass-transfer-source]\r\n",
      "  #  type = VaporMassTransferSource\r\n",
      "  #  variable = vaporFraction     # add to produced quantity\r\n",
      "  #  sourceS = ${replace source_s}\r\n",
      "  #[]\r\n",
      "[]\r\n",
      "\r\n",
      "[BCs]\r\n",
      "  [entry-mixture-velocity]\r\n",
      "    type = DirichletBC\r\n",
      "    variable = mixtureVelocity\r\n",
      "    boundary = left\r\n",
      "    value = ${fparse mixture_velocity_left}\r\n",
      "  []\r\n",
      "  #[exit-mixture-velocity]\r\n",
      "  #  type = NeumannBC\r\n",
      "  #  variable = mixtureVelocity\r\n",
      "  #  boundary = right\r\n",
      "  #  value = 0.000843\r\n",
      "  #[]\r\n",
      "  # Test\r\n",
      "  [exit-mixture-velocity]\r\n",
      "    type = VacuumBC\r\n",
      "    variable = mixtureVelocity\r\n",
      "    boundary = right\r\n",
      "    alpha = 1\r\n",
      "  []\r\n",
      "  #[entry-vapor-fraction]\r\n",
      "  #  type = DirichletBC\r\n",
      "  #  variable = vaporFraction\r\n",
      "  #  boundary = left\r\n",
      "  #  value = ${replace vapor_fraction_left}\r\n",
      "  #[]\r\n",
      "  #[exit-vapor-fraction]\r\n",
      "  #  type = NeumannBC\r\n",
      "  #  variable = vaporFraction\r\n",
      "  #  boundary = right\r\n",
      "  #  value = ${fparse vapor_fraction_left}\r\n",
      "  #[]\r\n",
      "[]\r\n",
      "\r\n",
      "[Preconditioning]\r\n",
      "  active = 'fdp-newt-full'\r\n",
      "  [fdp-newt-full]\r\n",
      "    type = FDP\r\n",
      "    full = true\r\n",
      "    solve_type = 'NEWTON'\r\n",
      "    petsc_options_iname = '-pc_type -mat_fd_coloring_err -mat_fd_type'\r\n",
      "    petsc_options_value = 'lu  1e-8          ds'\r\n",
      "  []\r\n",
      "[]\r\n",
      "[Executioner]\r\n",
      "  type = Steady\r\n",
      "[]\r\n",
      "\r\n",
      "[VectorPostprocessors]\r\n",
      "  [x-data]\r\n",
      "    type = LineValueSampler\r\n",
      "    execute_on = 'timestep_end final'\r\n",
      "    variable = 'mixtureVelocity vaporFraction'    # output data\r\n",
      "    start_point = '${replace xmin} 0 0'\r\n",
      "    end_point = '${replace xmax} 0 0'\r\n",
      "    num_points = 51\r\n",
      "    sort_by = id\r\n",
      "  []\r\n",
      "[]\r\n",
      "\r\n",
      "[Outputs]\r\n",
      "  console = true\r\n",
      "  [file-x-data]\r\n",
      "    type = CSV\r\n",
      "    file_base = 'output'\r\n",
      "    execute_on = 'final'\r\n",
      "    show = 'x-data'\r\n",
      "  []\r\n",
      "[]\r\n"
     ]
    }
   ],
   "source": [
    "!cat inputSoloMixture.hit"
   ]
  },
  {
   "cell_type": "code",
   "execution_count": 40,
   "metadata": {},
   "outputs": [
    {
     "name": "stdout",
     "output_type": "stream",
     "text": [
      "\r\n",
      "\r\n",
      "Framework Information:\r\n",
      "MOOSE Version:           git commit a7f499ed31 on 2021-04-30\r\n",
      "LibMesh Version:         \r\n",
      "PETSc Version:           3.14.2\r\n",
      "SLEPc Version:           3.14.0\r\n",
      "Current Time:            Sun May  9 15:22:13 2021\r\n",
      "Executable Timestamp:    Sat May  1 13:46:36 2021\r\n",
      "\r\n",
      "Parallelism:\r\n",
      "  Num Processors:          1\r\n",
      "  Num Threads:             1\r\n",
      "\r\n",
      "Mesh: \r\n",
      "  Parallel Type:           replicated\r\n",
      "  Mesh Dimension:          1\r\n",
      "  Spatial Dimension:       1\r\n",
      "  Nodes:                   \r\n",
      "    Total:                 101\r\n",
      "    Local:                 101\r\n",
      "  Elems:                   \r\n",
      "    Total:                 100\r\n",
      "    Local:                 100\r\n",
      "  Num Subdomains:          1\r\n",
      "  Num Partitions:          1\r\n",
      "\r\n",
      "Nonlinear System:\r\n",
      "  Num DOFs:                101\r\n",
      "  Num Local DOFs:          101\r\n",
      "  Variables:               \"mixtureVelocity\" \r\n",
      "  Finite Element Types:    \"LAGRANGE\" \r\n",
      "  Approximation Orders:    \"FIRST\" \r\n",
      "\r\n",
      "Auxiliary System:\r\n",
      "  Num DOFs:                101\r\n",
      "  Num Local DOFs:          101\r\n",
      "  Variables:               \"vaporFraction\" \r\n",
      "  Finite Element Types:    \"LAGRANGE\" \r\n",
      "  Approximation Orders:    \"FIRST\" \r\n",
      "\r\n",
      "Execution Information:\r\n",
      "  Executioner:             Steady\r\n",
      "  Solver Mode:             NEWTON\r\n",
      "  PETSc Preconditioner:    lu \r\n",
      "  MOOSE Preconditioner:    FDP\r\n",
      "\r\n",
      "\r\n",
      "\u001b[33m\r\n",
      "*** Warning ***\r\n",
      "/home/jack/Desktop/engy-5310/projects/steamer/inputSoloMixture.hit:10: unused parameter 'diff_coeff'\r\n",
      "/home/jack/Desktop/engy-5310/projects/steamer/inputSoloMixture.hit:11: unused parameter 'artificial_viscosity'\r\n",
      "/home/jack/Desktop/engy-5310/projects/steamer/inputSoloMixture.hit:12: unused parameter 'source_s'\r\n",
      "/home/jack/Desktop/engy-5310/projects/steamer/inputSoloMixture.hit:16: unused parameter 'vapor_fraction_left'\r\n",
      "\u001b[39m\r\n",
      " 0 Nonlinear |R| = \u001b[32m9.320243e+01\u001b[39m\r\n",
      "      0 Linear |R| = \u001b[32m9.320243e+01\u001b[39m\r\n",
      "      1 Linear |R| = \u001b[32m6.243859e-11\u001b[39m\r\n",
      " 1 Nonlinear |R| = \u001b[32m3.379667e-06\u001b[39m\r\n",
      "      0 Linear |R| = \u001b[32m3.379667e-06\u001b[39m\r\n",
      "      1 Linear |R| = \u001b[32m8.749916e-19\u001b[39m\r\n",
      " 2 Nonlinear |R| = \u001b[32m2.865541e-12\u001b[39m\r\n",
      "\u001b[32m Solve Converged!\u001b[39m\r\n"
     ]
    }
   ],
   "source": [
    "!./steamer-opt -i inputSoloMixture.hit"
   ]
  },
  {
   "cell_type": "code",
   "execution_count": 41,
   "metadata": {},
   "outputs": [
    {
     "data": {
      "image/png": "[encoded data removed]",
      "text/plain": [
       "<Figure size 1080x432 with 2 Axes>"
      ]
     },
     "metadata": {},
     "output_type": "display_data"
    },
    {
     "name": "stdout",
     "output_type": "stream",
     "text": [
      "\n"
     ]
    }
   ],
   "source": [
    "'''Show FEM Solution'''\n",
    "\n",
    "import pandas as pd\n",
    "df = pd.read_csv('output_x-data_0002.csv')\n",
    "    \n",
    "plot_solution(df, title='Non-Linear, Solo Mixture, 1-D Two-Phase Flow Drift-Flux Diffusion Model FEM Solution', \n",
    "              u1_legend=r'Mixture Velocity Linear Lagrange', u2_legend=r'Vapor Fraction Linear Lagrange', save_plot=False)"
   ]
  },
  {
   "cell_type": "code",
   "execution_count": 52,
   "metadata": {},
   "outputs": [
    {
     "data": {
      "image/png": "[encoded data removed]",
      "text/plain": [
       "<Figure size 432x288 with 1 Axes>"
      ]
     },
     "metadata": {},
     "output_type": "display_data"
    }
   ],
   "source": [
    "df\n",
    "x = df['id']\n",
    "v = df['mixtureVelocity']\n",
    "alpha = df['vaporFraction']\n",
    "rho = rho_v * alpha + (1-alpha)*rho_l\n",
    "df['x [m]'] = x\n",
    "df['rho [kg/m-3]'] = rho\n",
    "df['q [kg/m-2]'] = rho * v\n",
    "df.plot(kind='line',x='x [m]',y=['rho [kg/m-3]', 'q [kg/m-2]'])\n",
    "plt.show()"
   ]
  },
  {
   "cell_type": "markdown",
   "metadata": {},
   "source": [
    "#### [Solo Vapor](#toc)<a id=\"solovapor\"></a>"
   ]
  },
  {
   "cell_type": "code",
   "execution_count": 8,
   "metadata": {},
   "outputs": [
    {
     "name": "stdout",
     "output_type": "stream",
     "text": [
      "#Engy-5310 Project: Steamer\r\n",
      "# UMass Lowell Nuclear Chemical Engineering\r\n",
      "# Nikolaus R. Kemper and Jack J. F. Kennedy\r\n",
      "# Sat May  1 12:18:50 PM EST 2021\r\n",
      "#\r\n",
      "\r\n",
      "# Parameters\r\n",
      "xmin = 0.00000e+00  # [m]\r\n",
      "xmax = 2.50000e+01  # [m]\r\n",
      "diff_coeff = 2.00000e+00 # [unit]\r\n",
      "artificial_viscosity = 0.0001 # [unit] this should be small enough but not zero\r\n",
      "source_s = 0.1 # [unit]\r\n",
      "rho_l = 1000.0000 # [kg/m^3]\r\n",
      "rho_v = 1.00000   # [kg/m^3]\r\n",
      "mixture_velocity_left = 0.9367 # [m/s]\r\n",
      "vapor_fraction_left = 0.0  # []\r\n",
      "\r\n",
      "[Mesh]\r\n",
      " [1d]\r\n",
      "   type = GeneratedMeshGenerator\r\n",
      "   dim = 1\r\n",
      "   xmin = ${replace xmin}\r\n",
      "   xmax = ${replace xmax}\r\n",
      "   nx = 100\r\n",
      "   #elem_type = edge3\r\n",
      " []\r\n",
      "[]\r\n",
      "\r\n",
      "[Variables]\r\n",
      " #[mixtureVelocity]\r\n",
      "  # order = first\r\n",
      "  # family = lagrange\r\n",
      "   #initial_condition = ${fparse mixture_velocity_left}\r\n",
      "  # [InitialCondition]\r\n",
      "  #   type = InitialGuess\r\n",
      "  #   bias = ${replace mixture_velocity_left}\r\n",
      "  #   coefficient = 0\r\n",
      "   #[]\r\n",
      " #[]\r\n",
      " [vaporFraction]\r\n",
      "   order = first\r\n",
      "   family = lagrange\r\n",
      "   #initial_condition = 0.5\r\n",
      "   [InitialCondition]\r\n",
      "     type = InitialGuess\r\n",
      "     bias = 0.5\r\n",
      "     coefficient = 0\r\n",
      "   []\r\n",
      " []\r\n",
      "[]\r\n",
      "\r\n",
      "# Tests\r\n",
      " [AuxVariables]\r\n",
      "# [vaporFraction]\r\n",
      "#   order = first\r\n",
      "#   family = lagrange\r\n",
      "#   [InitialCondition]\r\n",
      "#     type = InitialGuess\r\n",
      "#     coefficient = ${fparse 4/100}\r\n",
      "#     bias = 0\r\n",
      "#   []\r\n",
      "# []\r\n",
      "  [mixtureVelocity]\r\n",
      "    order = first\r\n",
      "    family = lagrange\r\n",
      "    [InitialCondition]\r\n",
      "      type = InitialGuess\r\n",
      "      #coefficient = ${fparse 9/10}\r\n",
      "      coefficient = ${fparse 4/100}\r\n",
      "      bias = ${replace mixture_velocity_left}\r\n",
      "    []\r\n",
      "  []\r\n",
      "[]\r\n",
      "\r\n",
      "[Functions]\r\n",
      " [alpha]\r\n",
      "   type = ParsedFunction\r\n",
      "   value = x*6.0/25\r\n",
      "   #vars = 'alpha'\r\n",
      "   #vals = '16'\r\n",
      " []\r\n",
      "[]\r\n",
      "\r\n",
      "[Kernels]\r\n",
      " #[mixture-convection]\r\n",
      " # type = MixtureMassBalDivergence\r\n",
      "  # variable = mixtureVelocity\r\n",
      "   # rhoV = ${replace rho_v}\r\n",
      "   # rhoL = ${replace rho_l}\r\n",
      "   # vaporFraction = vaporFraction\r\n",
      " #[]\r\n",
      " #[mixture-artificial-viscosity]\r\n",
      " #  type = ArtificialViscosity\r\n",
      " #  variable = mixtureVelocity\r\n",
      " #  viscosity = ${replace artificial_viscosity}\r\n",
      " #[]\r\n",
      " [vapor-convection]\r\n",
      "   type = VaporConvection\r\n",
      "   variable = vaporFraction\r\n",
      "   rhoV = ${replace rho_v}\r\n",
      "   rhoL = ${replace rho_l}\r\n",
      "   velocity = mixtureVelocity\r\n",
      " []\r\n",
      " #[vapor-driftflux-diffusion]\r\n",
      " #  type = VaporDriftFluxDiffusion\r\n",
      " #  variable = vaporFraction\r\n",
      " #  diffCoeff = ${replace diff_coeff}\r\n",
      " #  rhoV = ${replace rho_v}\r\n",
      " #  rhoL = ${replace rho_l}\r\n",
      " #  velocity = mixtureVelocity\r\n",
      " #[]\r\n",
      " #[vapor-mass-transfer-source]\r\n",
      " #  type = VaporMassTransferSource\r\n",
      " #  variable = vaporFraction     # add to produced quantity\r\n",
      " #  sourceS = ${replace source_s}\r\n",
      " #[]\r\n",
      "[]\r\n",
      "\r\n",
      "[BCs]\r\n",
      " #[entry-mixture-velocity]\r\n",
      "  # type = DirichletBC\r\n",
      "  # variable = mixtureVelocity\r\n",
      "  # boundary = left\r\n",
      "  # value = ${fparse mixture_velocity_left}\r\n",
      "# []\r\n",
      " #[exit-mixture-velocity]\r\n",
      " #  type = NeumannBC\r\n",
      " #  variable = mixtureVelocity\r\n",
      " #  boundary = right\r\n",
      " #  value = 0.000843\r\n",
      " #[]\r\n",
      " # Test\r\n",
      " #[exit-mixture-velocity]\r\n",
      "#   type = VacuumBC\r\n",
      "#   variable = mixtureVelocity\r\n",
      "#   boundary = right\r\n",
      "#   alpha = 1\r\n",
      " #[]\r\n",
      " [entry-vapor-fraction]\r\n",
      "   type = DirichletBC\r\n",
      "   variable = vaporFraction\r\n",
      "   boundary = left\r\n",
      "   value = ${replace vapor_fraction_left}\r\n",
      " []\r\n",
      " [exit-vapor-fraction]\r\n",
      "   type = NeumannBC\r\n",
      "   variable = vaporFraction\r\n",
      "   boundary = right\r\n",
      "   value = ${fparse vapor_fraction_left}\r\n",
      " []\r\n",
      "[]\r\n",
      "\r\n",
      "[Preconditioning]\r\n",
      " active = 'fdp-newt-full'\r\n",
      " [fdp-newt-full]\r\n",
      "   type = FDP\r\n",
      "   full = true\r\n",
      "   solve_type = 'NEWTON'\r\n",
      "   petsc_options_iname = '-pc_type -mat_fd_coloring_err -mat_fd_type'\r\n",
      "   petsc_options_value = 'lu  1e-8          ds'\r\n",
      " []\r\n",
      "[]\r\n",
      "[Executioner]\r\n",
      " type = Steady\r\n",
      "[]\r\n",
      "\r\n",
      "[VectorPostprocessors]\r\n",
      " [x-data]\r\n",
      "   type = LineValueSampler\r\n",
      "   execute_on = 'timestep_end final'\r\n",
      "   variable = 'mixtureVelocity vaporFraction'    # output data\r\n",
      "   start_point = '${replace xmin} 0 0'\r\n",
      "   end_point = '${replace xmax} 0 0'\r\n",
      "   num_points = 51\r\n",
      "   sort_by = id\r\n",
      " []\r\n",
      "[]\r\n",
      "\r\n",
      "[Outputs]\r\n",
      " console = true\r\n",
      " [file-x-data]\r\n",
      "   type = CSV\r\n",
      "   file_base = 'output'\r\n",
      "   execute_on = 'final'\r\n",
      "   show = 'x-data'\r\n",
      " []\r\n",
      "[]\r\n"
     ]
    }
   ],
   "source": [
    "'''Input file'''\n",
    "!cat inputSoloVapor.hit"
   ]
  },
  {
   "cell_type": "code",
   "execution_count": 53,
   "metadata": {},
   "outputs": [
    {
     "name": "stdout",
     "output_type": "stream",
     "text": [
      "\n",
      "\n",
      "Framework Information:\n",
      "MOOSE Version:           git commit a7f499ed31 on 2021-04-30\n",
      "LibMesh Version:         \n",
      "PETSc Version:           3.14.2\n",
      "SLEPc Version:           3.14.0\n",
      "Current Time:            Sun May  9 15:52:13 2021\n",
      "Executable Timestamp:    Sat May  1 13:46:36 2021\n",
      "\n",
      "Parallelism:\n",
      "  Num Processors:          1\n",
      "  Num Threads:             1\n",
      "\n",
      "Mesh: \n",
      "  Parallel Type:           replicated\n",
      "  Mesh Dimension:          1\n",
      "  Spatial Dimension:       1\n",
      "  Nodes:                   \n",
      "    Total:                 101\n",
      "    Local:                 101\n",
      "  Elems:                   \n",
      "    Total:                 100\n",
      "    Local:                 100\n",
      "  Num Subdomains:          1\n",
      "  Num Partitions:          1\n",
      "\n",
      "Nonlinear System:\n",
      "  Num DOFs:                101\n",
      "  Num Local DOFs:          101\n",
      "  Variables:               \"vaporFraction\" \n",
      "  Finite Element Types:    \"LAGRANGE\" \n",
      "  Approximation Orders:    \"FIRST\" \n",
      "\n",
      "Auxiliary System:\n",
      "  Num DOFs:                101\n",
      "  Num Local DOFs:          101\n",
      "  Variables:               \"mixtureVelocity\" \n",
      "  Finite Element Types:    \"LAGRANGE\" \n",
      "  Approximation Orders:    \"FIRST\" \n",
      "\n",
      "Execution Information:\n",
      "  Executioner:             Steady\n",
      "  Solver Mode:             NEWTON\n",
      "  PETSc Preconditioner:    lu \n",
      "  MOOSE Preconditioner:    FDP\n",
      "\n",
      " 0 Nonlinear |R| = \u001b[32m2.386300e+00\u001b[39m\n",
      "      0 Linear |R| = \u001b[32m2.386300e+00\u001b[39m\n",
      "      1 Linear |R| = \u001b[32m8.387479e-15\u001b[39m\n",
      " 1 Nonlinear |R| = \u001b[32m2.157693e+00\u001b[39m\n",
      "      0 Linear |R| = \u001b[32m2.157693e+00\u001b[39m\n",
      "      1 Linear |R| = \u001b[32m7.422052e-15\u001b[39m\n",
      " 2 Nonlinear |R| = \u001b[32m1.324116e+00\u001b[39m\n",
      "      0 Linear |R| = \u001b[32m1.324116e+00\u001b[39m\n",
      "      1 Linear |R| = \u001b[32m1.981907e-14\u001b[39m\n",
      " 3 Nonlinear |R| = \u001b[32m5.152964e-01\u001b[39m\n",
      "      0 Linear |R| = \u001b[32m5.152964e-01\u001b[39m\n",
      "      1 Linear |R| = \u001b[32m3.898717e-15\u001b[39m\n",
      " 4 Nonlinear |R| = \u001b[32m1.630206e-01\u001b[39m\n",
      "      0 Linear |R| = \u001b[32m1.630206e-01\u001b[39m\n",
      "      1 Linear |R| = \u001b[32m6.654344e-16\u001b[39m\n",
      " 5 Nonlinear |R| = \u001b[32m2.462442e-02\u001b[39m\n",
      "      0 Linear |R| = \u001b[32m2.462442e-02\u001b[39m\n",
      "      1 Linear |R| = \u001b[32m5.656723e-17\u001b[39m\n",
      " 6 Nonlinear |R| = \u001b[32m4.666513e-04\u001b[39m\n",
      "      0 Linear |R| = \u001b[32m4.666513e-04\u001b[39m\n",
      "      1 Linear |R| = \u001b[32m4.796494e-19\u001b[39m\n",
      " 7 Nonlinear |R| = \u001b[32m9.225183e-08\u001b[39m\n",
      "      0 Linear |R| = \u001b[32m9.225183e-08\u001b[39m\n",
      "      1 Linear |R| = \u001b[32m1.966179e-23\u001b[39m\n",
      " 8 Nonlinear |R| = \u001b[32m3.992454e-14\u001b[39m\n",
      "\u001b[32m Solve Converged!\u001b[39m\n"
     ]
    }
   ],
   "source": [
    "!./steamer-opt -i inputSoloVapor.hit"
   ]
  },
  {
   "cell_type": "code",
   "execution_count": 54,
   "metadata": {},
   "outputs": [
    {
     "data": {
      "image/png": "[encoded data removed]",
      "text/plain": [
       "<Figure size 1080x432 with 2 Axes>"
      ]
     },
     "metadata": {},
     "output_type": "display_data"
    },
    {
     "name": "stdout",
     "output_type": "stream",
     "text": [
      "\n"
     ]
    }
   ],
   "source": [
    "'''Show FEM Solution'''\n",
    "\n",
    "df = pd.read_csv('output_x-data_0002.csv')\n",
    "    \n",
    "plot_solution(df, title='Non-Linear, Solo Vapor, 1-D Two-Phase Flow Drift-Flux Diffusion Model FEM Solution', \n",
    "              u1_legend=r'Mixture Velocity Linear Lagrange', u2_legend=r'Vapor Fraction Linear Lagrange', save_plot=False)"
   ]
  },
  {
   "cell_type": "code",
   "execution_count": 51,
   "metadata": {},
   "outputs": [
    {
     "data": {
      "image/png": "[encoded data removed]",
      "text/plain": [
       "<Figure size 432x288 with 1 Axes>"
      ]
     },
     "metadata": {},
     "output_type": "display_data"
    }
   ],
   "source": [
    "df\n",
    "x = df['id']\n",
    "v = df['mixtureVelocity']\n",
    "alpha = df['vaporFraction']\n",
    "rho = rho_v * alpha + (1-alpha)*rho_l\n",
    "df['x [m]'] = x\n",
    "df['rho [kg/m-3]'] = rho\n",
    "df['q [kg/m-2]'] = rho * v\n",
    "df.plot(kind='line',x='x [m]',y=['rho [kg/m-3]', 'q [kg/m-2]'])\n",
    "plt.show()"
   ]
  },
  {
   "cell_type": "code",
   "execution_count": null,
   "metadata": {},
   "outputs": [],
   "source": [
    "'''Show FEM Solution'''\n",
    "\n",
    "import pandas as pd\n",
    "df = pd.read_csv('output_x-data_0002.csv')\n",
    "    \n",
    "plot_solution(df, title='Non-Linear, Coupled, 1-D Two-Phase Flow Drift-Flux Diffusion Model FEM Solution', \n",
    "              u1_legend=r'Mixture Velocity Linear Lagrange', u2_legend=r'Vapor Fraction Linear Lagrange', save_plot=False)"
   ]
  },
  {
   "cell_type": "markdown",
   "metadata": {},
   "source": [
    "## <span style=\"color:red\"><b>**Pending:** plot of $\\rho$ and $\\rho v$; need to create the fields</b></span>"
   ]
  },
  {
   "cell_type": "markdown",
   "metadata": {},
   "source": [
    "## [Results and Analysis](#toc)<a id=\"ranalysis\"></a>"
   ]
  },
  {
   "cell_type": "markdown",
   "metadata": {},
   "source": [
    "Looking at the solution plot, the vapor fraction and mixture velocity are shown to be highly dependent on not just the boundary conditions, but also the coefficient parameters. Specifically, the diff_coeff, artificial_viscosity, and source_s coefficients make a very significant difference upon further inspection. \n",
    "\n",
    "By using the input file input.hit, you can see that the vapor fraction quickly rises at the beginning and then tappers out towards the end. Because the ending vapor fraction is not defined by a Dirichlet boundary condition, the final value is not currently equal to 1. It can also be seen that our mixture velocity is nowhere close to where the predicted value. The mixture velocity should approach:\n",
    "\\begin{align*}\n",
    "\\\\\n",
    "V(b) = V_\\text{0}\\, *  \\rho_\\text{v}\\ / \\rho_\\text{l}\\\n",
    "\\\\\n",
    "\\\\\n",
    "\\end{align*}\n",
    "Which in this case should be 936.7 m/s using a no-slip condition; however, currently the model is only at about 3.43 m/s at a final vapor fraction of 72.8% which. The error between our model and the expected no slip conditions increases as Z increases to a final value of 0.025% at Z=b. This error can be reduced more by adding more points.\n",
    "\n",
    "This program can also be modified to achieve a vapor fraction close to 100%, however due to the nature of this problem, the change in velocity can get quite steep and may introduce more convergence errors."
   ]
  },
  {
   "cell_type": "markdown",
   "metadata": {},
   "source": [
    "## [Conclusions](#toc)<a id=\"conclusions\"></a>"
   ]
  },
  {
   "cell_type": "markdown",
   "metadata": {},
   "source": [
    "- Text..."
   ]
  },
  {
   "cell_type": "markdown",
   "metadata": {},
   "source": [
    "- Text..."
   ]
  },
  {
   "cell_type": "markdown",
   "metadata": {},
   "source": [
    "## [References](#toc)<a id=\"refs\"></a>\n",
    "\n",
    "- [1] V. F. de Almeida, [*Engy-5310: Computational Continuum Transport Phenomena*](https://github.com/dpploy/engy-5310), University of Massachusetts Lowell, Dept. of Chemical Engineering (Nuclear Energy Program).\n",
    "- [2] Multiphysics Object-Oriented Simulation Environment [(MOOSE)](https://mooseframework.org)\n",
    "- [3] Neil E. Todreas and Mujid S. Kazimi (2011), [Nuclear Systems Volume 1: Thermal Hydraulic Fundamentals (Second Edition)], CRC Press\n",
    "- [4] L. S. Tong and Joel Weisman (1996), [Thermal Analysis of Pressurized Water Reactors (Third Edition)], ANS, ISBN: 0-89448-038-3"
   ]
  },
  {
   "cell_type": "code",
   "execution_count": null,
   "metadata": {},
   "outputs": [],
   "source": []
  }
 ],
 "metadata": {
  "kernelspec": {
   "display_name": "Python 3",
   "language": "python",
   "name": "python3"
  },
  "language_info": {
   "codemirror_mode": {
    "name": "ipython",
    "version": 3
   },
   "file_extension": ".py",
   "mimetype": "text/x-python",
   "name": "python",
   "nbconvert_exporter": "python",
   "pygments_lexer": "ipython3",
   "version": "3.8.5"
  },
  "latex_envs": {
   "LaTeX_envs_menu_present": true,
   "autoclose": false,
   "autocomplete": true,
   "bibliofile": "biblio.bib",
   "cite_by": "apalike",
   "current_citInitial": 1,
   "eqLabelWithNumbers": true,
   "eqNumInitial": 1,
   "hotkeys": {
    "equation": "Ctrl-E",
    "itemize": "Ctrl-I"
   },
   "labels_anchors": false,
   "latex_user_defs": false,
   "report_style_numbering": false,
   "user_envs_cfg": false
  }
 },
 "nbformat": 4,
 "nbformat_minor": 2
}

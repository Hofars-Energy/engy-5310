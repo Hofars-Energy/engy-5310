{
 "cells": [
  {
   "cell_type": "markdown",
   "metadata": {},
   "source": [
    "**Engy-5310** Computational Continuum Transport Phenomena, UMass Lowell, Chem. Eng. Nuclear Program Spring 2021; Prof. V. F. de Almeida\n",
    "\n",
    "# A Diffusion Drift-Flux Model for Two-Phase Mixture Flow\n",
    "$  \n",
    "  \\newcommand{\\Amtrx}{\\boldsymbol{\\mathsf{A}}}\n",
    "  \\newcommand{\\Bmtrx}{\\boldsymbol{\\mathsf{B}}}\n",
    "  \\newcommand{\\Mmtrx}{\\boldsymbol{\\mathsf{M}}}\n",
    "  \\newcommand{\\Imtrx}{\\boldsymbol{\\mathsf{I}}}\n",
    "  \\newcommand{\\Pmtrx}{\\boldsymbol{\\mathsf{P}}}\n",
    "  \\newcommand{\\Lmtrx}{\\boldsymbol{\\mathsf{L}}}\n",
    "  \\newcommand{\\Umtrx}{\\boldsymbol{\\mathsf{U}}}\n",
    "  \\newcommand{\\Smtrx}{\\boldsymbol{\\mathsf{S}}}\n",
    "  \\newcommand{\\xvec}{\\boldsymbol{\\mathsf{x}}}\n",
    "  \\newcommand{\\avec}{\\boldsymbol{\\mathsf{a}}}\n",
    "  \\newcommand{\\bvec}{\\boldsymbol{\\mathsf{b}}}\n",
    "  \\newcommand{\\cvec}{\\boldsymbol{\\mathsf{c}}}\n",
    "  \\newcommand{\\rvec}{\\boldsymbol{\\mathsf{r}}}\n",
    "  \\newcommand{\\fvec}{\\boldsymbol{\\mathsf{f}}}\n",
    "  \\newcommand{\\mvec}{\\boldsymbol{\\mathsf{m}}}\n",
    "  \\newcommand{\\gvec}{\\boldsymbol{\\mathsf{g}}}\n",
    "  \\newcommand{\\zerovec}{\\boldsymbol{\\mathsf{0}}}\n",
    "  \\newcommand{\\norm}[1]{\\bigl\\lVert{#1}\\bigr\\rVert}\n",
    "  \\newcommand{\\transpose}[1]{{#1}^\\top}\n",
    "  \\DeclareMathOperator{\\rank}{rank}\n",
    "  \\newcommand{\\Reals}{\\mathbb{R}}\n",
    "  \\newcommand{\\thetavec}{\\boldsymbol{\\theta}}\n",
    "$"
   ]
  },
  {
   "cell_type": "markdown",
   "metadata": {},
   "source": [
    "**Student(s):**  Nik Kemper and Jack Kennedy<br>\n",
    "**Course:** Engy-5310 Computational Continuum Transport Phenomena  <br>\n",
    "**Mentor:** Prof. Valmor F. de Almeida\n",
    "\n",
    "UMass Lowell, Dept. of Chemical Engineering, Nuclear Energy Program \n",
    "<br>\n",
    "**25Apr2021**"
   ]
  },
  {
   "cell_type": "markdown",
   "metadata": {},
   "source": [
    "---\n",
    "## Table of Contents<a id=\"toc\"></a>\n",
    "* [Introduction](#intro)\n",
    "* [Problem Statement](#problem)\n",
    "* [Objectives](#obj)\n",
    "* [Approach](#app)\n",
    "  + [Weak Form of Problem Statement](#weakform)\n",
    "  + [MOOSE Kernels](#kernels)\n",
    "  + [Setup](#setup)\n",
    "* [Results and Analysis](#ranalysis)\n",
    "* [Conclusions](#conclusions)\n",
    "* [References](#refs)\n",
    "---"
   ]
  },
  {
   "cell_type": "markdown",
   "metadata": {},
   "source": [
    "## [Introduction](#toc)<a id=\"intro\"></a>"
   ]
  },
  {
   "cell_type": "markdown",
   "metadata": {},
   "source": [
    "- The volume-average method is used for deriving a two-phase mixture balance equation for the motion of two fluid phases. The balance equation for the vapor phase is closed by a diffusion drift-flux constitutive equation. Boundary conditions for a developing fluid flow are used in cylindrical coordinates. This model is a prototype of a mixture theory for two-phase fluid flow in various equipments for example, steam generation from liquid feed water."
   ]
  },
  {
   "cell_type": "markdown",
   "metadata": {},
   "source": [
    "- Text... "
   ]
  },
  {
   "cell_type": "markdown",
   "metadata": {},
   "source": [
    "## [Problem Statement](#toc)<a id=\"problem\"></a>"
   ]
  },
  {
   "cell_type": "markdown",
   "metadata": {},
   "source": [
    "Solve the convective-diffusive model problem for a two-phase, 1-D mixture flow with phase change in a pipe. Compute the mixture velocity $v:[a,b]\\subset\\Reals\\rightarrow\\Reals$ and vapor fraction $\\alpha:[a,b]\\subset\\Reals\\rightarrow\\Reals$ such that:\n",
    "\n",
    "\\begin{align*}\n",
    " \\text{d}_z\\bigl(\\rho\\,v\\bigr) &= 0 \\quad \\forall \\quad z\\in [a,b] \\\\\n",
    " \\text{d}_z\\bigl(\\alpha\\rho_\\text{v}\\,v\\bigr) -\\text{d}_z\\Bigl(\\alpha\\,w_\\ell\\,\\rho\\,D\\,\\text{d}_z w_\\text{v}\\Bigr) - S_\\text{v} & = 0 \\quad \\forall \\quad z\\in [a,b] \\\\\n",
    " v(a) &= v_0 \\\\\n",
    " \\alpha(a) &= 0, \\\\\n",
    " -\\rho\\,D \\,\\text{d}_z w_\\text{v}(b) &= 0,\n",
    "\\end{align*}\n",
    "where $v$ is the velocity of the mixture, $\\alpha$ is the vapor fraction, $w_\\text{v} = \\frac{\\rho_\\text{v}}{\\alpha\\rho_\\text{v} + (1-\\alpha)\\rho_\\ell}$ is the mass fraction of the vapor (a similar definition is used for the liquid), $\\rho_\\ell$ is the mass density of the liquid, $\\rho_\\text{v}$ is the mass density of the vapor, and $-\\rho\\,D \\,\\text{d}_z w_\\text{v}$ is a diffusion constitutive model of the drift-flux of the vapor, that is: $\\rho_\\text{v}\\,v_\\text{d}$, ($v_\\text{d}$ is the drift velocity). The vapor source term, $S_\\text{v}$ accounts for the mass transfered from the liquid phase into the vapor phase due to vaporization phase change. The inflow port of the pipe is located at $z=a$ where the vapor fraction and mixture velocity are known. The outflow port of the pipe is located at $z=b$ where the diffusive drift flux is zero.\n",
    "\n",
    "The equations conserve the total mass of the two phase flow system in the $[a,b]$ domain. The model is non-linear in the unknown variables."
   ]
  },
  {
   "cell_type": "code",
   "execution_count": 1,
   "metadata": {
    "code_folding": [
     2
    ]
   },
   "outputs": [],
   "source": [
    "'''Domain'''\n",
    "\n",
    "def show_domain():\n",
    "    import scipy.constants as unit\n",
    "    unit.meter = 0.10\n",
    "    unit.mm = unit.milli*unit.meter\n",
    "    \n",
    "    pipe_length = 1*unit.meter\n",
    "    pipe_id = 3/4*unit.inch\n",
    "    pipe_wall = 10*unit.mm\n",
    "    pipe_od = pipe_id + 2*pipe_wall\n",
    "    \n",
    "    import pyvista as pv\n",
    "    pv.set_plot_theme('paraview')\n",
    "     \n",
    "    radius_i = pipe_id/2\n",
    "    radius_o = pipe_od/2\n",
    "    fluid = pv.Cylinder(center=(0,0,0), direction=(0,0,1), height=pipe_length, radius=radius_i)\n",
    "    tmp1 = pv.Cylinder(center=(0,0,0), direction=(0,0,1), height=pipe_length, radius=radius_o)\n",
    "    tmp1 = tmp1.triangulate()\n",
    "    tmp2 = pv.Cylinder(center=(0,0,0), direction=(0,0,1), height=pipe_length*1.1, radius=radius_i)\n",
    "    tmp2 = tmp2.triangulate()\n",
    "    tmp2.flip_normals()\n",
    "    pipe = tmp1.boolean_cut(tmp2)\n",
    "\n",
    "    plo = pv.Plotter(notebook=True,shape=(1,1)) \n",
    "\n",
    "    plo.subplot(0,0)\n",
    "    plo.add_mesh(fluid, color='orange', opacity=1,)\n",
    "    plo.add_mesh(pipe, color='black', opacity=.99)\n",
    "    plo.add_axes(xlabel='R', ylabel='Theta', zlabel='Z')\n",
    "    cpos = plo.show(window_size=[800, 600])"
   ]
  },
  {
   "cell_type": "code",
   "execution_count": 2,
   "metadata": {},
   "outputs": [
    {
     "name": "stdout",
     "output_type": "stream",
     "text": [
      "Requirement already satisfied: scipy in /home/yeboinik14/miniconda3/envs/moose/lib/python3.7/site-packages (1.6.2)\n",
      "Requirement already satisfied: numpy<1.23.0,>=1.16.5 in /home/yeboinik14/miniconda3/envs/moose/lib/python3.7/site-packages (from scipy) (1.20.2)\n",
      "Requirement already satisfied: pyvista in /home/yeboinik14/miniconda3/envs/moose/lib/python3.7/site-packages (0.29.1)\n",
      "Requirement already satisfied: imageio in /home/yeboinik14/miniconda3/envs/moose/lib/python3.7/site-packages (from pyvista) (2.9.0)\n",
      "Requirement already satisfied: transforms3d==0.3.1 in /home/yeboinik14/miniconda3/envs/moose/lib/python3.7/site-packages (from pyvista) (0.3.1)\n",
      "Requirement already satisfied: scooby>=0.5.1 in /home/yeboinik14/miniconda3/envs/moose/lib/python3.7/site-packages (from pyvista) (0.5.7)\n",
      "Requirement already satisfied: appdirs in /home/yeboinik14/miniconda3/envs/moose/lib/python3.7/site-packages (from pyvista) (1.4.4)\n",
      "Requirement already satisfied: vtk in /home/yeboinik14/miniconda3/envs/moose/lib/python3.7/site-packages (from pyvista) (8.2.0)\n",
      "Requirement already satisfied: meshio<5.0,>=4.0.3 in /home/yeboinik14/miniconda3/envs/moose/lib/python3.7/site-packages (from pyvista) (4.3.13)\n",
      "Requirement already satisfied: numpy in /home/yeboinik14/miniconda3/envs/moose/lib/python3.7/site-packages (from pyvista) (1.20.2)\n",
      "Requirement already satisfied: pillow in /home/yeboinik14/miniconda3/envs/moose/lib/python3.7/site-packages (from pyvista) (8.1.0)\n",
      "Requirement already satisfied: importlib-metadata in /home/yeboinik14/miniconda3/envs/moose/lib/python3.7/site-packages (from meshio<5.0,>=4.0.3->pyvista) (4.0.1)\n",
      "Requirement already satisfied: typing-extensions>=3.6.4 in /home/yeboinik14/miniconda3/envs/moose/lib/python3.7/site-packages (from importlib-metadata->meshio<5.0,>=4.0.3->pyvista) (3.7.4.3)\n",
      "Requirement already satisfied: zipp>=0.5 in /home/yeboinik14/miniconda3/envs/moose/lib/python3.7/site-packages (from importlib-metadata->meshio<5.0,>=4.0.3->pyvista) (3.4.1)\n"
     ]
    },
    {
     "ename": "ModuleNotFoundError",
     "evalue": "No module named 'scipy'",
     "output_type": "error",
     "traceback": [
      "\u001b[0;31m---------------------------------------------------------------------------\u001b[0m",
      "\u001b[0;31mModuleNotFoundError\u001b[0m                       Traceback (most recent call last)",
      "\u001b[0;32m<ipython-input-2-070be055561a>\u001b[0m in \u001b[0;36m<module>\u001b[0;34m\u001b[0m\n\u001b[1;32m      3\u001b[0m \u001b[0mget_ipython\u001b[0m\u001b[0;34m(\u001b[0m\u001b[0;34m)\u001b[0m\u001b[0;34m.\u001b[0m\u001b[0msystem\u001b[0m\u001b[0;34m(\u001b[0m\u001b[0;34m'pip install pyvista'\u001b[0m\u001b[0;34m)\u001b[0m\u001b[0;34m\u001b[0m\u001b[0;34m\u001b[0m\u001b[0m\n\u001b[1;32m      4\u001b[0m \u001b[0;34m\u001b[0m\u001b[0m\n\u001b[0;32m----> 5\u001b[0;31m \u001b[0mshow_domain\u001b[0m\u001b[0;34m(\u001b[0m\u001b[0;34m)\u001b[0m\u001b[0;34m\u001b[0m\u001b[0;34m\u001b[0m\u001b[0m\n\u001b[0m",
      "\u001b[0;32m<ipython-input-1-5f928399004d>\u001b[0m in \u001b[0;36mshow_domain\u001b[0;34m()\u001b[0m\n\u001b[1;32m      2\u001b[0m \u001b[0;34m\u001b[0m\u001b[0m\n\u001b[1;32m      3\u001b[0m \u001b[0;32mdef\u001b[0m \u001b[0mshow_domain\u001b[0m\u001b[0;34m(\u001b[0m\u001b[0;34m)\u001b[0m\u001b[0;34m:\u001b[0m\u001b[0;34m\u001b[0m\u001b[0;34m\u001b[0m\u001b[0m\n\u001b[0;32m----> 4\u001b[0;31m     \u001b[0;32mimport\u001b[0m \u001b[0mscipy\u001b[0m\u001b[0;34m.\u001b[0m\u001b[0mconstants\u001b[0m \u001b[0;32mas\u001b[0m \u001b[0munit\u001b[0m\u001b[0;34m\u001b[0m\u001b[0;34m\u001b[0m\u001b[0m\n\u001b[0m\u001b[1;32m      5\u001b[0m     \u001b[0munit\u001b[0m\u001b[0;34m.\u001b[0m\u001b[0mmeter\u001b[0m \u001b[0;34m=\u001b[0m \u001b[0;36m0.10\u001b[0m\u001b[0;34m\u001b[0m\u001b[0;34m\u001b[0m\u001b[0m\n\u001b[1;32m      6\u001b[0m     \u001b[0munit\u001b[0m\u001b[0;34m.\u001b[0m\u001b[0mmm\u001b[0m \u001b[0;34m=\u001b[0m \u001b[0munit\u001b[0m\u001b[0;34m.\u001b[0m\u001b[0mmilli\u001b[0m\u001b[0;34m*\u001b[0m\u001b[0munit\u001b[0m\u001b[0;34m.\u001b[0m\u001b[0mmeter\u001b[0m\u001b[0;34m\u001b[0m\u001b[0;34m\u001b[0m\u001b[0m\n",
      "\u001b[0;31mModuleNotFoundError\u001b[0m: No module named 'scipy'"
     ]
    }
   ],
   "source": [
    "!pip install scipy\n",
    "\n",
    "!pip install pyvista\n",
    "\n",
    "show_domain()"
   ]
  },
  {
   "cell_type": "markdown",
   "metadata": {},
   "source": [
    "- Text... "
   ]
  },
  {
   "cell_type": "markdown",
   "metadata": {},
   "source": [
    "- Text... "
   ]
  },
  {
   "cell_type": "markdown",
   "metadata": {},
   "source": [
    "## [Objectives](#toc)<a id=\"obj\"></a>"
   ]
  },
  {
   "cell_type": "markdown",
   "metadata": {},
   "source": [
    "- Text..."
   ]
  },
  {
   "cell_type": "markdown",
   "metadata": {},
   "source": [
    "- Text..."
   ]
  },
  {
   "cell_type": "markdown",
   "metadata": {},
   "source": [
    "## [Approach](#toc)<a id=\"app\"></a>"
   ]
  },
  {
   "cell_type": "markdown",
   "metadata": {},
   "source": [
    "### [Weak Form of Problem Statement](#toc)<a id=\"weakform\"></a> \n",
    "\n",
    "The Galerkin weak formulation of the [strong form](#problem) is as follows. Find $v \\in H^1\\!\\bigl([a,b]\\bigr)$ and $\\alpha \\in H^1\\!\\bigl([a,b]\\bigr)$\n",
    "so that \n",
    "\n",
    "\\begin{align*}\n",
    " \\int\\limits_a^b \\bigl(\\Delta\\rho\\,\\alpha'\\,v + \\rho\\, v'\\bigr)\\, \\theta\\, dz &= 0 \\quad \\forall \\quad \\theta \\in H^1_0\\!\\bigl([a,b]\\bigr), \\text{and}\n",
    " \\\\\n",
    "    \\int\\limits_a^b \\rho_\\text{v}\\,(\\alpha'\\,v + \\alpha\\,v')\\,\\theta\\,dz \n",
    "  - \\int\\limits_a^b \\alpha\\,w_\\ell\\,w_\\text{v}\\,\\Delta\\rho\\,D\\,\\alpha' \\theta\\,dz \n",
    "  - \\int\\limits_a^b S_\\text{v}\\,\\theta\\,dz &= 0 \n",
    "  \\quad \\forall \\quad \\theta \\in H^1_0\\!\\bigl([a,b]\\bigr),\n",
    "\\end{align*}\n",
    "\n",
    "where $H^1\\!\\bigl([a,b]\\bigr) := \\bigl\\{ u:[a,b]\\subset\\Reals\\rightarrow \\Reals \\mid \\int_a^b u'^2\\,dx < \\infty\\bigr\\}$ and $H^1_0\\!\\bigl([a,b]\\bigr) := \\bigl\\{ w \\mid w \\in H^1(a,b), w(a) = 0 \\bigr\\}$. Both function sets as just defined are Hilbert spaces.\n",
    " \n",
    "The finite element implementation of this weak form is carried out within the multiphysics object oriented simulation environment, MOOSE, framework."
   ]
  },
  {
   "cell_type": "markdown",
   "metadata": {},
   "source": [
    "### [MOOSE Kernels](#toc)<a id=\"kernels\"></a>\n",
    "\n",
    "The following MOOSE kernels were implemented to solve the [weak form](#weakform):\n",
    "1. Mixture mass balance term: $\\bigl(\\Delta\\rho\\,\\alpha'\\,v + \\rho\\, v', \\theta\\bigr)$ \n",
    " + [interface](./include/kernels/MixtureMassBalDivergence.h) and [implementation](./src/kernels/MixtureMassBalDivergence.C).\n",
    "1. Vapor convection term: $\\bigl(\\rho_\\text{v}\\,(\\alpha'\\,v + \\alpha\\,v'),\\theta\\bigr)$ \n",
    " + [interface](./include/kernels/VaporConvection.h) and [implementation](./src/kernels/VaporConvection.C).\n",
    "1. Vapor drift-flux diffusion term: $-\\bigl(\\alpha\\,w_\\ell\\,w_\\text{v}\\,\\Delta\\rho\\,D\\,\\alpha', \\theta\\bigr)$ \n",
    " + [interface](./include/kernels/VaporDriftFluxDiffusion.h) and [implementation](./src/kernels/VaporDriftFluxDiffusion.C)."
   ]
  },
  {
   "cell_type": "markdown",
   "metadata": {},
   "source": [
    "### [Setup](#toc)<a id=\"setup\"></a>"
   ]
  },
  {
   "cell_type": "code",
   "execution_count": null,
   "metadata": {},
   "outputs": [],
   "source": [
    "'''Domain'''\n",
    "\n",
    "x_a = 0\n",
    "x_b = 1000\n",
    "\n",
    "x_length = x_b - x_a"
   ]
  },
  {
   "cell_type": "code",
   "execution_count": null,
   "metadata": {},
   "outputs": [],
   "source": [
    "'''Parameters'''\n",
    "\n",
    "rho_l = 1000\n",
    "rho_v = 2"
   ]
  },
  {
   "cell_type": "code",
   "execution_count": null,
   "metadata": {},
   "outputs": [],
   "source": [
    "'''Data (boundary conditions)'''\n",
    "\n",
    "alpha_a = 0\n",
    "v_a = 1"
   ]
  },
  {
   "cell_type": "code",
   "execution_count": null,
   "metadata": {},
   "outputs": [],
   "source": [
    "'''FEM Solution'''\n"
   ]
  },
  {
   "cell_type": "code",
   "execution_count": null,
   "metadata": {},
   "outputs": [],
   "source": [
    "!./steamer-opt -i input.hit"
   ]
  },
  {
   "cell_type": "markdown",
   "metadata": {},
   "source": [
    "## [Results and Analysis](#toc)<a id=\"ranalysis\"></a>"
   ]
  },
  {
   "cell_type": "markdown",
   "metadata": {},
   "source": [
    "- Text..."
   ]
  },
  {
   "cell_type": "markdown",
   "metadata": {},
   "source": [
    "- Text..."
   ]
  },
  {
   "cell_type": "markdown",
   "metadata": {},
   "source": [
    "## [Conclusions](#toc)<a id=\"conclusions\"></a>"
   ]
  },
  {
   "cell_type": "markdown",
   "metadata": {},
   "source": [
    "- Text..."
   ]
  },
  {
   "cell_type": "markdown",
   "metadata": {},
   "source": [
    "- Text..."
   ]
  },
  {
   "cell_type": "markdown",
   "metadata": {},
   "source": [
    "## [References](#toc)<a id=\"refs\"></a>\n",
    "\n",
    "- [1] V. F. de Almeida, [*Engy-5310: Computational Continuum Transport Phenomena*](https://github.com/dpploy/engy-5310), University of Massachusetts Lowell, Dept. of Chemical Engineering (Nuclear Energy Program).\n",
    "- [2] Multiphysics Object-Oriented Simulation Environment [(MOOSE)](https://mooseframework.org)\n",
    "- [3] author, [reference]()\n",
    "- [4] author, [reference]()"
   ]
  }
 ],
 "metadata": {
  "kernelspec": {
   "display_name": "Python 3",
   "language": "python",
   "name": "python3"
  },
  "language_info": {
   "codemirror_mode": {
    "name": "ipython",
    "version": 3
   },
   "file_extension": ".py",
   "mimetype": "text/x-python",
   "name": "python",
   "nbconvert_exporter": "python",
   "pygments_lexer": "ipython3",
   "version": "3.8.5"
  },
  "latex_envs": {
   "LaTeX_envs_menu_present": true,
   "autoclose": false,
   "autocomplete": true,
   "bibliofile": "biblio.bib",
   "cite_by": "apalike",
   "current_citInitial": 1,
   "eqLabelWithNumbers": true,
   "eqNumInitial": 1,
   "hotkeys": {
    "equation": "Ctrl-E",
    "itemize": "Ctrl-I"
   },
   "labels_anchors": false,
   "latex_user_defs": false,
   "report_style_numbering": false,
   "user_envs_cfg": false
  }
 },
 "nbformat": 4,
 "nbformat_minor": 2
}

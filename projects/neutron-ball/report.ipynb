{
 "cells": [
  {
   "cell_type": "markdown",
   "metadata": {},
   "source": [
    "**Engy-5310** Computational Continuum Transport Phenomena, UMass Lowell, Chem. Eng. Nuclear Program Spring 2021; Prof. V. F. de Almeida\n",
    "\n",
    "# Neutron Diffusion on a Spherical Domain with a Free Surface Boundary\n",
    "$  \n",
    "  \\newcommand{\\Amtrx}{\\boldsymbol{\\mathsf{A}}}\n",
    "  \\newcommand{\\Bmtrx}{\\boldsymbol{\\mathsf{B}}}\n",
    "  \\newcommand{\\Mmtrx}{\\boldsymbol{\\mathsf{M}}}\n",
    "  \\newcommand{\\Imtrx}{\\boldsymbol{\\mathsf{I}}}\n",
    "  \\newcommand{\\Pmtrx}{\\boldsymbol{\\mathsf{P}}}\n",
    "  \\newcommand{\\Lmtrx}{\\boldsymbol{\\mathsf{L}}}\n",
    "  \\newcommand{\\Umtrx}{\\boldsymbol{\\mathsf{U}}}\n",
    "  \\newcommand{\\Smtrx}{\\boldsymbol{\\mathsf{S}}}\n",
    "  \\newcommand{\\xvec}{\\boldsymbol{\\mathsf{x}}}\n",
    "  \\newcommand{\\avec}{\\boldsymbol{\\mathsf{a}}}\n",
    "  \\newcommand{\\bvec}{\\boldsymbol{\\mathsf{b}}}\n",
    "  \\newcommand{\\cvec}{\\boldsymbol{\\mathsf{c}}}\n",
    "  \\newcommand{\\rvec}{\\boldsymbol{\\mathsf{r}}}\n",
    "  \\newcommand{\\fvec}{\\boldsymbol{\\mathsf{f}}}\n",
    "  \\newcommand{\\mvec}{\\boldsymbol{\\mathsf{m}}}\n",
    "  \\newcommand{\\gvec}{\\boldsymbol{\\mathsf{g}}}\n",
    "  \\newcommand{\\zerovec}{\\boldsymbol{\\mathsf{0}}}\n",
    "  \\newcommand{\\norm}[1]{\\bigl\\lVert{#1}\\bigr\\rVert}\n",
    "  \\newcommand{\\transpose}[1]{{#1}^\\top}\n",
    "  \\DeclareMathOperator{\\rank}{rank}\n",
    "  \\newcommand{\\Reals}{\\mathbb{R}}\n",
    "  \\newcommand{\\thetavec}{\\boldsymbol{\\theta}}\n",
    "$"
   ]
  },
  {
   "cell_type": "markdown",
   "metadata": {},
   "source": [
    "**Student(s):**  <br>\n",
    "**Course:** Engy-5310 Computational Continuum Transport Phenomena  <br>\n",
    "**Mentor:** \n",
    "\n",
    "UMass Lowell, Dept. of Chemical Engineering, Nuclear Energy Program \n",
    "<br>\n",
    "**27Mar2021**"
   ]
  },
  {
   "cell_type": "markdown",
   "metadata": {},
   "source": [
    "---\n",
    "## Table of Contents<a id=\"toc\"></a>\n",
    "* [Introduction](#intro)\n",
    "* [Problem Statement](#problem)\n",
    "* [Objectives](#obj)\n",
    "* [Approach](#app)\n",
    " + [Analytical Solution](#analyticalsol)\n",
    " + [Weak Form of Problem Statement](#weakform)\n",
    " + [MOOSE Kernels](#kernels)\n",
    " + [Setup](#setup)\n",
    "    - [One-Group Energy](#onegroupenergy)\n",
    "* [Results and Analysis](#ranalysis)\n",
    "* [Conclusions](#conclusions)\n",
    "* [References](#refs)\n",
    "---"
   ]
  },
  {
   "cell_type": "markdown",
   "metadata": {},
   "source": [
    "## [Introduction](#toc)<a id=\"intro\"></a>"
   ]
  },
  {
   "cell_type": "markdown",
   "metadata": {},
   "source": [
    "- Introduction to motivation for neutron transport problems"
   ]
  },
  {
   "cell_type": "markdown",
   "metadata": {},
   "source": [
    "## [Problem Statement](#toc)<a id=\"problem\"></a>\n",
    "#### Outline:\n",
    "1. Define strong form of the PDE and analytic approach for neutron diffusion.\n",
    "    - Define the point source solution for a homogenous and attenuating medium.\n",
    "    - Define the integral transport equation solution for the point source solution. \n",
    "2. Define the Galerkin weak form of the problem\n",
    "    - Set the integral weak form for the FEM\n",
    "    - Define the boundary conditions for 1 group and multi group diffusion equations.\n",
    "3. Define the diffusion equation differences for each approximation."
   ]
  },
  {
   "cell_type": "markdown",
   "metadata": {},
   "source": [
    "### [Strong Form of Problem Statement](#toc)<a id=\"strongform\"></a>\n",
    "\n",
    "This investigation looks to determine how FEM computation of the neutron diffusion equation compare to linear transport theory given standard assumptions about the definition of the diffusion coefficient in homogenous mediums far from and close to voids. Defining diffusion coefficients for neutron transport is an active field of research and includes approximations such as isotropic scattering, linear in angle, nonlocal weighting of nearby average transport properties, Monte Carlo study and experiment.\n",
    "\n",
    "The multi-group (energy group) time independent neutron diffusion equation (NDE) in written assuming azimuthal symmetry as\n",
    "\n",
    "Compute $\\Phi_g:[r_\\text{i},r_\\text{o}]\\subset\\Reals\\rightarrow\\Reals$ such that:\n",
    "\n",
    "\\begin{align*}\n",
    "  \\nabla \\cdot D_g \\nabla \\Phi_g(r) - \\Sigma_{g,r} \\Phi_g(r) + S_{g'\\rightarrow g} &= 0 \\\\\n",
    "   J_{n,g}(r_\\text{i}) &= \\Phi_{0,g}, \\\\\n",
    "   J_{n,g}(r_\\text{o}) &= \\frac{\\alpha}{2}\\Phi_g(r_\\text{o}).\n",
    "\\end{align*}\n",
    "\n",
    "where the source term $S_{g'\\rightarrow g} := \\sum_{g'=1}^{G} \\int_\\Omega \\Sigma_{s,g'\\rightarrow g}\\, f_{s,g'\\rightarrow g}(\\mu)\\,d\\Omega$ is the group down-scattering contribution for each group $g$. This will be defined in greater detail later\n",
    "\n",
    "The neutron scalar flux is: $\\Phi(r)\\ [n/cm^2 s]$. The total macroscopic cross section is: $\\Sigma_{tot} = \\Sigma_{non-el} + \\Sigma_{el} \\approx \\Sigma_{abs} + \\Sigma_{el}$\n",
    "\n",
    "And the removal cross section for the multi group cross section is $ \\Sigma_{r} = \\Sigma_{tot} - \\bar{\\mu}\\Sigma_{s} $"
   ]
  },
  {
   "cell_type": "markdown",
   "metadata": {},
   "source": [
    "### Domain\n",
    "Describe domain here."
   ]
  },
  {
   "cell_type": "code",
   "execution_count": 1,
   "metadata": {
    "code_folding": [
     0
    ]
   },
   "outputs": [],
   "source": [
    "import numpy as np\n",
    "import matplotlib.pyplot as plt\n",
    "def show_domain(screenshot=False):\n",
    "    import pyvista as pv\n",
    "    pv.set_plot_theme('paraview')\n",
    "\n",
    "    radius_i = 1\n",
    "    radius_o = 20 * radius_i\n",
    "    outer = pv.Sphere(center=(0,0,0), direction=(0,0,1), radius=radius_o)\n",
    "    inner = pv.Sphere(center=(0,0,0), direction=(0,0,1), radius=radius_i)\n",
    "\n",
    "    plo = pv.Plotter(notebook=True, shape=(1,1)) \n",
    "\n",
    "    plo.subplot(0,0)\n",
    "    plo.add_mesh(outer, color='yellow', opacity=0.99,)\n",
    "    plo.add_mesh(inner, color='red', opacity=1)\n",
    "    plo.add_axes(xlabel='R', ylabel='Theta', zlabel='Phi')\n",
    "\n",
    "    cpos = plo.show(window_size=[800, 600])\n",
    "    if screenshot:\n",
    "        plo.screenshot('domain.png')"
   ]
  },
  {
   "cell_type": "code",
   "execution_count": 2,
   "metadata": {},
   "outputs": [
    {
     "ename": "ModuleNotFoundError",
     "evalue": "No module named 'pyvista'",
     "output_type": "error",
     "traceback": [
      "\u001b[0;31m------------------------------------------------------------------------\u001b[0m",
      "\u001b[0;31mModuleNotFoundError\u001b[0m                    Traceback (most recent call last)",
      "\u001b[0;32m<ipython-input-2-40c2782efb1a>\u001b[0m in \u001b[0;36m<module>\u001b[0;34m\u001b[0m\n\u001b[0;32m----> 1\u001b[0;31m \u001b[0mshow_domain\u001b[0m\u001b[0;34m(\u001b[0m\u001b[0;34m)\u001b[0m\u001b[0;34m\u001b[0m\u001b[0;34m\u001b[0m\u001b[0m\n\u001b[0m",
      "\u001b[0;32m<ipython-input-1-eedb021b1ed1>\u001b[0m in \u001b[0;36mshow_domain\u001b[0;34m(screenshot)\u001b[0m\n\u001b[1;32m      2\u001b[0m \u001b[0;32mimport\u001b[0m \u001b[0mmatplotlib\u001b[0m\u001b[0;34m.\u001b[0m\u001b[0mpyplot\u001b[0m \u001b[0;32mas\u001b[0m \u001b[0mplt\u001b[0m\u001b[0;34m\u001b[0m\u001b[0;34m\u001b[0m\u001b[0m\n\u001b[1;32m      3\u001b[0m \u001b[0;32mdef\u001b[0m \u001b[0mshow_domain\u001b[0m\u001b[0;34m(\u001b[0m\u001b[0mscreenshot\u001b[0m\u001b[0;34m=\u001b[0m\u001b[0;32mFalse\u001b[0m\u001b[0;34m)\u001b[0m\u001b[0;34m:\u001b[0m\u001b[0;34m\u001b[0m\u001b[0;34m\u001b[0m\u001b[0m\n\u001b[0;32m----> 4\u001b[0;31m     \u001b[0;32mimport\u001b[0m \u001b[0mpyvista\u001b[0m \u001b[0;32mas\u001b[0m \u001b[0mpv\u001b[0m\u001b[0;34m\u001b[0m\u001b[0;34m\u001b[0m\u001b[0m\n\u001b[0m\u001b[1;32m      5\u001b[0m     \u001b[0mpv\u001b[0m\u001b[0;34m.\u001b[0m\u001b[0mset_plot_theme\u001b[0m\u001b[0;34m(\u001b[0m\u001b[0;34m'paraview'\u001b[0m\u001b[0;34m)\u001b[0m\u001b[0;34m\u001b[0m\u001b[0;34m\u001b[0m\u001b[0m\n\u001b[1;32m      6\u001b[0m \u001b[0;34m\u001b[0m\u001b[0m\n",
      "\u001b[0;31mModuleNotFoundError\u001b[0m: No module named 'pyvista'"
     ]
    }
   ],
   "source": [
    "show_domain()"
   ]
  },
  {
   "cell_type": "markdown",
   "metadata": {},
   "source": [
    "- In the NDE boundary conditions above, Dirichlet boundary conditions are assumed for the neutron density from a point source. Alternatively, interface coupling may be considered between a small sphere's inner surface with the second domain where Neumann BC for neutron current $J$ are given. \n",
    "- For the Galerkin FEM formulation, this is equivalent to the asymptotic assumption for the integral linear transport method as long as the inner sphere's source is not infinity. "
   ]
  },
  {
   "cell_type": "markdown",
   "metadata": {},
   "source": [
    "## [Approach](#toc)<a id=\"app\"></a>"
   ]
  },
  {
   "cell_type": "markdown",
   "metadata": {},
   "source": [
    "### [Analytic Solution - 1 Group](#toc)<a id=\"analyticalsol\"></a> \n",
    "\n",
    "A general solution is commonly given without the asymptotic condition as:\n",
    "\n",
    "\\begin{align*}\n",
    "    \\Phi(r) =  \\frac{S_0 e^{-\\kappa r}}{4\\pi Dr} \\ \\ \\ (2)\n",
    "\\end{align*}\n",
    "\n",
    "On the other hand, linear transport theory does provide a result at the asymptotic limit for moderately absorbing mediums given that the source flux is not infinity. The integral transport equation is written:\n",
    "\n",
    "\n",
    "\\begin{align*}\n",
    "    \\Phi(r) = \\int dV\\  \\frac{S_0 e^{- \\Sigma_t r}}{4 \\pi r^2} [c \\Sigma_t \\Phi(r') + S_0 \\delta(r')] \\ \\ \\ (3)\n",
    "\\end{align*}\n",
    "\n",
    "In this solution we will currently assume $S_0 = \\Phi_0$ for a single distributed source."
   ]
  },
  {
   "cell_type": "markdown",
   "metadata": {},
   "source": [
    "### [Weak Form of Problem Statement](#toc)<a id=\"weakform\"></a> \n",
    "\n",
    "The Galerkin weak formulation of the [strong form](#strongform) is as follows for Dirichlet BC. Find $\\Phi_{g=1} \\in H^1\\!\\bigl([r_\\text{i},r_\\text{o}]\\bigr)$ and $\\Phi_{g=2} \\in H^1\\!\\bigl([r_\\text{i},r_\\text{o}]\\bigr)$\n",
    "so that \n",
    "\n",
    "\\begin{align*}\n",
    "\\int\\limits_a^b D\\, \\Phi_1'(r)\\,\\psi'(r)\\,dr - \\int\\limits_a^b S(\\Phi_1, \\Phi_2)\\,\\psi(r)\\,dr &= 0 \\quad \\forall \\quad \\psi \\in H^1_0\\!\\bigl([a,b]\\bigr), \\text{and}\n",
    "\\end{align*}\n",
    "\n",
    "where $H^1\\!\\bigl([r_\\text{i},r_\\text{o}]\\bigr) := \\bigl\\{ \\Phi:[r_\\text{i},r_\\text{o}]\\subset\\Reals\\rightarrow \\Reals \\mid \\int_{r_i}^{r_o} \\Phi'^2\\,dr < \\infty\\bigr\\}$ and $H^1_0\\!\\bigl([r_\\text{i},r_\\text{o}]\\bigr) := \\bigl\\{ \\psi \\mid \\psi \\in H^1(r_i,r_o), \\psi(r_i) = 0, \\psi(r_o) =0 \\bigr\\}$. Both function sets as just defined are Hilbert spaces. The function $\\psi$ is called a test function. Because $\\psi$, $\\Phi_{g=1}$, $\\Phi_{g=2}$ are sought in very similar sets of functions, this weak form is called Galerkin's weak form.\n",
    "\n",
    "\\begin{align*}\n",
    "   \\psi = \\sum_{i=1}^{N} a_n \\psi_n   \\ \\ \\ (1B)\n",
    "\\end{align*}\n",
    "\n",
    "\n",
    "#### [Weak Form of Problem Derivation](#toc)<a id=\"weakformDerivation\"></a> \n",
    "\n",
    "\n",
    "\n",
    "1. Multiply NDE by a test function $\\psi$.\n",
    "2. Integrate over spatial and angular domain.\n",
    "3. Use divergence theorem to set the boundary condition across the domain surface.\n",
    "\n",
    "The weak form and boundary condition becomes:\n",
    "\n",
    "\\begin{align*}\n",
    "    ( \\nabla \\psi, D \\nabla \\Phi  )\\ - < \\psi, D \\nabla \\Phi \\cdot \\bar{n_b} > +\\ (\\psi , \\Sigma_{tot} \\Phi) = 0 \\ \\ \\ (1B)\n",
    "\\end{align*}\n",
    "\n",
    "This weak form contains the volume and surface integral as written with parenthesis and brackets respectively. The boundary conditions for the partial currents at the surface given as $\\Gamma^{\\pm}$ must be solved for:\n",
    "\n",
    "\\begin{align*}\n",
    "    \\Gamma^{+} = J^{out}({R_S}) = \\nabla \\Phi \\cdot \\bar{n_b}\n",
    "\\end{align*}\n",
    "\n",
    "\\begin{align*}\n",
    "    \\Gamma^{-} = J^{in}({R_S}) = 0\n",
    "\\end{align*}\n",
    "\n",
    "One option is to use the homogenous Neumann boundary condition, which is equivalent to the Robin boundary condition such that the reflectivity at the boundary is 0 as:\n",
    "\n",
    "\\begin{align*}\n",
    "    \\frac{1}{4} \\Phi + \\frac{1}{2} D \\nabla \\Phi \\cdot \\bar{n_b} = J^{-} = \\frac{\\Phi}{4} - \\frac{J}{2} = \\frac{\\Phi}{4} - \\frac{D \\nabla \\Phi}{2}\n",
    "\\end{align*}\n",
    "\n",
    "Solving for the weak form boundary condition and multiplying our test function $\\psi$:\n",
    "\n",
    "\\begin{align*}\n",
    "     \\psi (D \\nabla \\Phi \\cdot \\bar{n_b}) = \\psi( \\frac{1}{2} D \\nabla \\Phi)\n",
    "\\end{align*}\n",
    "\n",
    "#### [Weak Form Steady State 3 Group NDE for non-multiplying medium](#toc)<a id=\"weakformResult\"></a> \n",
    "\n",
    "Assuming no upscattering from group 2 to group 1:\n",
    "\n",
    "\\begin{align*}\n",
    "    -\\nabla \\cdot D_1 \\nabla \\Phi_1(r)  + \\Sigma_{r,1} \\Phi_1(r) =  - \\Sigma_{s,1 \\rightarrow 2} \\Phi_1(r) \\ \\ \\ (r) \n",
    "\\end{align*}\n",
    "\n",
    "\\begin{align*}\n",
    "    -\\nabla \\cdot D_2 \\nabla \\Phi_2(r)  + \\Sigma_{r,2} \\Phi(r) =  \\Sigma_{s,1 \\rightarrow 2} \\Phi_1(r) - \\Sigma_{s,2 \\rightarrow 3} \\Phi_2(r) \\ \\ \\ (r) \n",
    "\\end{align*}\n",
    "\n",
    "\\begin{align*}\n",
    "    -\\nabla \\cdot D_3 \\nabla \\Phi_3(r)  + \\Sigma_{r,3} \\Phi(r) =  \\Sigma_{s,1 \\rightarrow 3} \\Phi_1(r) + \\Sigma_{s,2 \\rightarrow 3} \\Phi_2(r)  \\ \\ \\ (r) \n",
    "\\end{align*}\n",
    "\n",
    "\n",
    "\\begin{align*}\n",
    "\\int\\limits_{r_i}^{r_o} D_1\\, \\Phi_1'(r)\\,\\psi'(r)\\,dr - \\int\\limits_{r_i}^{r_o} \\Sigma_{r,1} \\Phi_1(r)\\,\\psi(r)\\,dr - \\int\\limits_{r_i}^{r_o} \\Sigma_{s,1 \\rightarrow 2} \\Phi_1(r)\\,\\psi(r)\\,dr -\\int\\limits_{r_i}^{r_o} \\Sigma_{s,1 \\rightarrow 3} \\Phi_1(r)\\,\\psi(r)\\,dr  &= 0 \\quad \\forall \\quad \\psi \\in H^1_0\\!\\bigl([r_i,r_o]\\bigr), \\text{and}\n",
    " \\\\\n",
    "\\int\\limits_{r_i}^{r_o} D_2\\, \\Phi_2'(r)\\,\\psi'(r)\\,dr - \\int\\limits_{r_i}^{r_o} \\Sigma_{r,2} \\Phi_2(r)\\,\\psi(r)\\,dr + \\int\\limits_{r_i}^{r_o} \\Sigma_{s,1 \\rightarrow 2} \\Phi_2(r)\\,\\psi(r)\\,dr -\\int\\limits_{r_i}^{r_o} \\Sigma_{s,2 \\rightarrow 3} \\Phi_2(r)\\,\\psi(r)\\,dr  &= 0 \\quad \\forall \\quad \\psi \\in H^1_0\\!\\bigl([r_i,r_o]\\bigr), \\text{and}\n",
    " \\\\\n",
    "\\int\\limits_{r_i}^{r_o} D_3\\, \\Phi_3'(r)\\,\\psi'(r)\\,dr - \\int\\limits_{r_i}^{r_o} \\Sigma_{r,3} \\Phi_3(r)\\,\\psi(r)\\,dr + \\int\\limits_{r_i}^{r_o} \\Sigma_{s,1 \\rightarrow 3} \\Phi_1(r)\\,\\psi(r)\\,dr +\\int\\limits_{r_i}^{r_o} \\Sigma_{s,2 \\rightarrow 3} \\Phi_2(r)\\,\\psi(r)\\,dr  &= 0 \\quad \\forall \\quad \\psi \\in H^1_0\\!\\bigl([r_i,r_o]\\bigr)\n",
    "\\end{align*}\n",
    "\n",
    "\n",
    "#### [Point source approximation](#toc)<a id=\"weakformApprox\"></a> \n",
    "\n",
    "Here we will assume that Dirichlet BC may be applied to an isotropic point neutron source in terms of neutron density at the origin. \n",
    "    "
   ]
  },
  {
   "cell_type": "markdown",
   "metadata": {},
   "source": [
    "\n",
    "\n"
   ]
  },
  {
   "cell_type": "markdown",
   "metadata": {},
   "source": [
    "### [MOOSE Kernels](#toc)<a id=\"kernels\"></a>\n",
    "\n",
    "The following MOOSE kernels were implemented to solve the one group [weak form](#weakform):\n",
    "1. Diffusion term: $D \\nabla \\Phi \\cdot \\nabla \\psi$\n",
    " + [interface](./include/kernels/DiffusionTerm.h) and [implementation](./src/kernels/DiffusionTerm.C).\n",
    "2. Absorption (removal) term: $ \\Sigma_{r}\\Phi \\psi = (\\Sigma_{tot} - \\bar{\\mu}\\Sigma_{s})\\Phi \\psi$\n",
    " + [interface](./include/kernels/AbsorptionTerm.h) and [implementation](./src/kernels/AbsorptionTerm.C).\n",
    "3. Source term: $ S(\\Phi_g) = \\sum_{n \\neq g}^{G} \\Sigma_{s,n \\rightarrow g} \\ \\Phi_n $\n",
    " + [interface](./include/kernels/SourceTerm.h) and [implementation](./src/kernels/SourceTerm.C)."
   ]
  },
  {
   "cell_type": "markdown",
   "metadata": {},
   "source": [
    "### [Setup](#toc)<a id=\"setup\"></a>\n",
    "A simplified version of the NDE assumes a scalar velocity, allowing a decoupling of the neutron flux to calculate the neutron density $n(r)$: \n",
    "\n",
    "$$ \\Phi(r) = v n(r)$$\n",
    "\n",
    "This is accomplished with a known flux, and calculating the relativistic neutron velocity using the particle's kinetic energy, E and speed of light $c = 3\\times 10^{10} \\ cm/s$:\n",
    "\n",
    "$$ \\frac{v}{c} = \\left( 1- \\left( \\frac{1}{\\frac{E}{938.5} + 1}  \\right)^2 \\right)^{1/2} $$"
   ]
  },
  {
   "cell_type": "markdown",
   "metadata": {},
   "source": [
    "#### [One-Group Energy](#toc)<a id=\"onegroupenergy\"></a>"
   ]
  },
  {
   "cell_type": "markdown",
   "metadata": {},
   "source": [
    "## [Results and Analysis](#toc)<a id=\"ranalysis\"></a>"
   ]
  },
  {
   "cell_type": "markdown",
   "metadata": {},
   "source": [
    "- Text..."
   ]
  },
  {
   "cell_type": "code",
   "execution_count": null,
   "metadata": {
    "code_folding": [
     2
    ]
   },
   "outputs": [],
   "source": [
    "'''Plot function for FEM Solution'''\n",
    "\n",
    "def plot_solution(df, \n",
    "                  title='No Title', \n",
    "                  basis_functions_type='No basis functions type',\n",
    "                  flux_basis_functions_type='No basis functions type'):\n",
    "    \n",
    "    import matplotlib.pyplot as plt\n",
    "    %matplotlib inline\n",
    "    plt.style.use('dark_background')\n",
    "\n",
    "    (fig, ax1) = plt.subplots(1, figsize=(14, 5))\n",
    "\n",
    "    ax1.plot(df['x'], df['u'].abs()*2.4e9,'r*-',label=basis_functions_type)\n",
    "\n",
    "    ax1.set_xlabel(r'$x$ [cm]', fontsize=18)\n",
    "    ax1.set_ylabel(r'$u_h(x)$ [g/cc]', fontsize=18, color='red')\n",
    "    ax1.set_xscale('log')\n",
    "    ax1.set_yscale('log')\n",
    "\n",
    "    ax1.tick_params(axis='y', labelcolor='red', labelsize=14)\n",
    "    ax1.tick_params(axis='x', labelsize=14)\n",
    "    ax1.legend(loc='center left', fontsize=12)\n",
    "    ax1.set_ylim(1e-12,1e12)\n",
    "    ax1.grid(True)\n",
    "\n",
    "    plt.title(title, fontsize=20)\n",
    "    fig.tight_layout()  # otherwise the right y-label is slightly clipped\n",
    "    plt.show()\n",
    "    print('')"
   ]
  },
  {
   "cell_type": "code",
   "execution_count": null,
   "metadata": {},
   "outputs": [],
   "source": [
    "# !./neutron-ball-opt -i input2G.hit\n",
    "# mooOut1G = np.genfromtxt('./output2G_x-data_0002.csv',delimiter=\",\",comments = '#')\n"
   ]
  },
  {
   "cell_type": "code",
   "execution_count": 17,
   "metadata": {},
   "outputs": [
    {
     "name": "stdout",
     "output_type": "stream",
     "text": [
      "\n",
      "\n",
      "Framework Information:\n",
      "MOOSE Version:           git commit 39ab14682c on 2021-05-04\n",
      "LibMesh Version:         \n",
      "PETSc Version:           3.14.2\n",
      "SLEPc Version:           3.14.0\n",
      "Current Time:            Mon May 10 00:23:06 2021\n",
      "Executable Timestamp:    Sun May  9 15:58:02 2021\n",
      "\n",
      "Parallelism:\n",
      "  Num Processors:          1\n",
      "  Num Threads:             1\n",
      "\n",
      "Mesh: \n",
      "  Parallel Type:           replicated\n",
      "  Mesh Dimension:          1\n",
      "  Spatial Dimension:       1\n",
      "  Nodes:                   \n",
      "    Total:                 9001\n",
      "    Local:                 9001\n",
      "  Elems:                   \n",
      "    Total:                 3000\n",
      "    Local:                 3000\n",
      "  Num Subdomains:          1\n",
      "  Num Partitions:          1\n",
      "\n",
      "Nonlinear System:\n",
      "  Num DOFs:                27003\n",
      "  Num Local DOFs:          27003\n",
      "  Variables:               { \"u1\" \"u2\" \"u3\" } \n",
      "  Finite Element Types:    \"LAGRANGE\" \n",
      "  Approximation Orders:    \"THIRD\" \n",
      "\n",
      "Execution Information:\n",
      "  Executioner:             Steady\n",
      "  Solver Mode:             NEWTON\n",
      "  PETSc Preconditioner:    lu \n",
      "  MOOSE Preconditioner:    FDP\n",
      "\n",
      "\n",
      "\u001b[33m\n",
      "*** Warning ***\n",
      "/Users/pauljohnson/project/engy-5310/projects/neutron-ball/input-test.hit:12: unused parameter 'velocity'\n",
      "/Users/pauljohnson/project/engy-5310/projects/neutron-ball/input-test.hit:13: unused parameter 'transfer_coeff_right'\n",
      "\u001b[39m\n",
      " 0 Nonlinear |R| = \u001b[32m3.260820e+07\u001b[39m\n",
      "      0 Linear |R| = \u001b[32m3.260820e+07\u001b[39m\n",
      "      1 Linear |R| = \u001b[32m1.695442e-05\u001b[39m\n",
      " 1 Nonlinear |R| = \u001b[32m2.559713e+01\u001b[39m\n",
      "      0 Linear |R| = \u001b[32m2.559713e+01\u001b[39m\n",
      "      1 Linear |R| = \u001b[32m2.039856e-14\u001b[39m\n",
      " 2 Nonlinear |R| = \u001b[32m3.775330e-11\u001b[39m\n",
      "\u001b[32m Solve Converged!\u001b[39m\n",
      "\n",
      "Outlier Variable Residual Norms:\n",
      "  u1: \u001b[31m3.775330e-11\u001b[39m\n"
     ]
    },
    {
     "data": {
      "text/plain": [
       "<matplotlib.legend.Legend at 0x7fcf3b5d2f70>"
      ]
     },
     "execution_count": 17,
     "metadata": {},
     "output_type": "execute_result"
    },
    {
     "data": {
      "image/png": "[encoded data removed]",
      "text/plain": [
       "<Figure size 864x432 with 1 Axes>"
      ]
     },
     "metadata": {},
     "output_type": "display_data"
    }
   ],
   "source": [
    "!./neutron-ball-opt -i input-test.hit\n",
    "import pandas as pd\n",
    "import matplotlib.pyplot as plt\n",
    "# Import seaborn\n",
    "import seaborn as sns\n",
    "# Apply the default theme\n",
    "sns.set_theme()\n",
    "df = pd.read_csv('output1G_x-data_0002.csv')\n",
    "data = df.to_numpy();\n",
    "data[:,1:4]*=2.4e9\n",
    "plt.plot(data[:,4], data[:,1],label=\"Group 1\")\n",
    "# plt.plot(data[:,4], data[:,2],label=\"Group 2\")\n",
    "# plt.plot(data[:,4], data[:,3],label=\"Group 3\")\n",
    "\"\"\"Analytic solution\"\"\"\n",
    "_Phi_a = lambda S0,SigR, r: S0*np.exp(-SigR*r)/(4*np.pi*r**2)\n",
    "_Phi_b = lambda S0,Diff,SigR,r: S0*np.exp(-SigR*r)/(4*np.pi*r*Diff)\n",
    "# 1-Group versions a and b\n",
    "_Phi1a = _Phi_a(2.393e9*4.17, 0.13, data[:,4])\n",
    "\n",
    "sigR_alt = 0.16-0.8*0.13\n",
    "_Phi1b = _Phi_b(2.393e9*4.17,2.04,sigR_alt, data[:,4])\n",
    "\n",
    "plt.plot(data[:,4], _Phi1a,label=\"Analytic - Basic\")\n",
    "plt.plot(data[:,4], _Phi1b,label=\"Analytic - Integral Eq. Solution\")\n",
    "\n",
    "plt.legend()\n",
    "plt.xscale('log')\n",
    "plt.yscale('log')\n",
    "plt.xlim([1e-1, 1e3])\n",
    "plt.ylim([1e-12, 1e12])\n",
    "plt.ylabel('$|v| n(r)\\ (cm^{-2}s)$')\n",
    "plt.xlabel('Radius $cm$')\n",
    "plt.grid(color='b', ls = '-.', lw = 0.25)\n",
    "plt.rcParams['figure.figsize'] = [12, 6]\n",
    "plt.legend(loc=2, fontsize = 'medium')"
   ]
  },
  {
   "cell_type": "code",
   "execution_count": 3,
   "metadata": {},
   "outputs": [
    {
     "name": "stdout",
     "output_type": "stream",
     "text": [
      "\n",
      "\n",
      "Framework Information:\n",
      "MOOSE Version:           git commit 39ab14682c on 2021-05-04\n",
      "LibMesh Version:         \n",
      "PETSc Version:           3.14.2\n",
      "SLEPc Version:           3.14.0\n",
      "Current Time:            Mon May 10 00:08:21 2021\n",
      "Executable Timestamp:    Sun May  9 15:58:02 2021\n",
      "\n",
      "Parallelism:\n",
      "  Num Processors:          1\n",
      "  Num Threads:             1\n",
      "\n",
      "Mesh: \n",
      "  Parallel Type:           replicated\n",
      "  Mesh Dimension:          1\n",
      "  Spatial Dimension:       1\n",
      "  Nodes:                   \n",
      "    Total:                 36001\n",
      "    Local:                 36001\n",
      "  Elems:                   \n",
      "    Total:                 12000\n",
      "    Local:                 12000\n",
      "  Num Subdomains:          1\n",
      "  Num Partitions:          1\n",
      "\n",
      "Nonlinear System:\n",
      "  Num DOFs:                108003\n",
      "  Num Local DOFs:          108003\n",
      "  Variables:               { \"u1\" \"u2\" \"u3\" } \n",
      "  Finite Element Types:    \"LAGRANGE\" \n",
      "  Approximation Orders:    \"THIRD\" \n",
      "\n",
      "Execution Information:\n",
      "  Executioner:             Steady\n",
      "  Solver Mode:             NEWTON\n",
      "  PETSc Preconditioner:    lu \n",
      "  MOOSE Preconditioner:    FDP\n",
      "\n",
      "\n",
      "\u001b[33m\n",
      "*** Warning ***\n",
      "/Users/pauljohnson/project/engy-5310/projects/neutron-ball/input2G.hit:12: unused parameter 'velocity'\n",
      "/Users/pauljohnson/project/engy-5310/projects/neutron-ball/input2G.hit:13: unused parameter 'transfer_coeff_right'\n",
      "\u001b[39m\n",
      " 0 Nonlinear |R| = \u001b[32m5.843563e+07\u001b[39m\n",
      "      0 Linear |R| = \u001b[32m5.843563e+07\u001b[39m\n",
      "      1 Linear |R| = \u001b[32m5.029362e-04\u001b[39m\n",
      " 1 Nonlinear |R| = \u001b[32m5.169922e+02\u001b[39m\n",
      "      0 Linear |R| = \u001b[32m5.169922e+02\u001b[39m\n",
      "      1 Linear |R| = \u001b[32m3.890113e-12\u001b[39m\n",
      " 2 Nonlinear |R| = \u001b[32m2.308097e-08\u001b[39m\n",
      "\u001b[32m Solve Converged!\u001b[39m\n",
      "\n",
      "Outlier Variable Residual Norms:\n",
      "  u1: \u001b[31m2.155271e-08\u001b[39m\n"
     ]
    }
   ],
   "source": []
  },
  {
   "cell_type": "markdown",
   "metadata": {},
   "source": [
    "- Text..."
   ]
  },
  {
   "cell_type": "markdown",
   "metadata": {},
   "source": [
    "## [Conclusions](#toc)<a id=\"conclusions\"></a>"
   ]
  },
  {
   "cell_type": "markdown",
   "metadata": {},
   "source": [
    "- Text..."
   ]
  },
  {
   "cell_type": "markdown",
   "metadata": {},
   "source": [
    "- Text..."
   ]
  },
  {
   "cell_type": "markdown",
   "metadata": {},
   "source": [
    "## [References](#toc)<a id=\"refs\"></a>\n",
    "\n",
    "- [1] V. F. de Almeida, [*Engy-5310: Computational Continuum Transport Phenomena*](https://github.com/dpploy/engy-5310), University of Massachusetts Lowell, Dept. of Chemical Engineering (Nuclear Energy Program).\n",
    "- [2] Multiphysics Object-Oriented Simulation Environment [(MOOSE)](https://mooseframework.org)\n",
    "- [3] author, [reference]()\n",
    "- [4] author, [reference]()"
   ]
  },
  {
   "cell_type": "code",
   "execution_count": 18,
   "metadata": {},
   "outputs": [
    {
     "name": "stdout",
     "output_type": "stream",
     "text": [
      "\n",
      "\n",
      "Framework Information:\n",
      "MOOSE Version:           git commit 39ab14682c on 2021-05-04\n",
      "LibMesh Version:         \n",
      "PETSc Version:           3.14.2\n",
      "SLEPc Version:           3.14.0\n",
      "Current Time:            Mon May 10 00:23:14 2021\n",
      "Executable Timestamp:    Sun May  9 15:58:02 2021\n",
      "\n",
      "Parallelism:\n",
      "  Num Processors:          1\n",
      "  Num Threads:             1\n",
      "\n",
      "Mesh: \n",
      "  Parallel Type:           replicated\n",
      "  Mesh Dimension:          1\n",
      "  Spatial Dimension:       1\n",
      "  Nodes:                   \n",
      "    Total:                 15001\n",
      "    Local:                 15001\n",
      "  Elems:                   \n",
      "    Total:                 5000\n",
      "    Local:                 5000\n",
      "  Num Subdomains:          1\n",
      "  Num Partitions:          1\n",
      "\n",
      "Nonlinear System:\n",
      "  Num DOFs:                45003\n",
      "  Num Local DOFs:          45003\n",
      "  Variables:               { \"u1\" \"u2\" \"u3\" } \n",
      "  Finite Element Types:    \"LAGRANGE\" \n",
      "  Approximation Orders:    \"THIRD\" \n",
      "\n",
      "Execution Information:\n",
      "  Executioner:             Steady\n",
      "  Solver Mode:             NEWTON\n",
      "  PETSc Preconditioner:    lu \n",
      "  MOOSE Preconditioner:    FDP\n",
      "\n",
      "\n",
      "\u001b[33m\n",
      "*** Warning ***\n",
      "/Users/pauljohnson/project/engy-5310/projects/neutron-ball/input2G.hit:12: unused parameter 'velocity'\n",
      "/Users/pauljohnson/project/engy-5310/projects/neutron-ball/input2G.hit:13: unused parameter 'transfer_coeff_right'\n",
      "\u001b[39m\n",
      " 0 Nonlinear |R| = \u001b[32m6.927111e+07\u001b[39m\n",
      "      0 Linear |R| = \u001b[32m6.927111e+07\u001b[39m\n",
      "      1 Linear |R| = \u001b[32m1.370886e-04\u001b[39m\n",
      " 1 Nonlinear |R| = \u001b[32m9.075552e+01\u001b[39m\n",
      "      0 Linear |R| = \u001b[32m9.075552e+01\u001b[39m\n",
      "      1 Linear |R| = \u001b[32m1.826284e-13\u001b[39m\n",
      " 2 Nonlinear |R| = \u001b[32m1.797177e-09\u001b[39m\n",
      "\u001b[32m Solve Converged!\u001b[39m\n",
      "\n",
      "Outlier Variable Residual Norms:\n",
      "  u1: \u001b[31m1.754706e-09\u001b[39m\n"
     ]
    },
    {
     "data": {
      "text/plain": [
       "<matplotlib.legend.Legend at 0x7fcf1d4dc070>"
      ]
     },
     "execution_count": 18,
     "metadata": {},
     "output_type": "execute_result"
    },
    {
     "data": {
      "image/png": "[encoded data removed]",
      "text/plain": [
       "<Figure size 864x432 with 1 Axes>"
      ]
     },
     "metadata": {},
     "output_type": "display_data"
    }
   ],
   "source": [
    "# 1/(0.16-0.8*0.13)/3\n",
    "!./neutron-ball-opt -i input2G.hit\n",
    "import pandas as pd\n",
    "import matplotlib.pyplot as plt\n",
    "# Import seaborn\n",
    "import seaborn as sns\n",
    "# Apply the default theme\n",
    "sns.set_theme()\n",
    "df = pd.read_csv('output1G_x-data_0002.csv')\n",
    "data = df.to_numpy();\n",
    "data[:,1:4]*=2.4e9\n",
    "plt.plot(data[:,4], data[:,1],label=\"Group 1\")\n",
    "plt.plot(data[:,4], data[:,1]+data[:,2]+data[:,3],label=\"Group All\")\n",
    "# plt.plot(data[:,4], data[:,3],label=\"Group 3\")\n",
    "\"\"\"Analytic solution\"\"\"\n",
    "_Phi_a = lambda S0,SigR, r: S0*np.exp(-SigR*r)/(4*np.pi*r**2)\n",
    "_Phi_b = lambda S0,Diff,SigR,r: S0*np.exp(-SigR*r)/(4*np.pi*r*Diff)\n",
    "# 1-Group versions a and b\n",
    "_Phi1a = _Phi_a(2.393e9*4.17, 0.13, data[:,4])\n",
    "\n",
    "sigR_alt = 0.16-0.8*0.13\n",
    "_Phi1b = _Phi_b(2.393e9*4.17,2.04,sigR_alt, data[:,4])\n",
    "\n",
    "plt.plot(data[:,4], _Phi1a,label=\"Analytic\")\n",
    "plt.plot(data[:,4], _Phi1b,label=\"Analytic2\")\n",
    "\n",
    "plt.legend()\n",
    "plt.xscale('log')\n",
    "plt.yscale('log')\n",
    "plt.xlim([1e-1, 1e3])\n",
    "plt.ylim([1e-12, 1e12])\n",
    "plt.ylabel('$|v| n(r)\\ (cm^{-2}s)$')\n",
    "plt.xlabel('Radius $cm$')\n",
    "plt.grid(color='b', ls = '-.', lw = 0.25)\n",
    "plt.rcParams['figure.figsize'] = [12, 6]\n",
    "plt.legend(loc=2, fontsize = 'medium')"
   ]
  },
  {
   "cell_type": "code",
   "execution_count": null,
   "metadata": {},
   "outputs": [],
   "source": []
  }
 ],
 "metadata": {
  "kernelspec": {
   "display_name": "Python 3",
   "language": "python",
   "name": "python3"
  },
  "language_info": {
   "codemirror_mode": {
    "name": "ipython",
    "version": 3
   },
   "file_extension": ".py",
   "mimetype": "text/x-python",
   "name": "python",
   "nbconvert_exporter": "python",
   "pygments_lexer": "ipython3",
   "version": "3.8.5"
  },
  "latex_envs": {
   "LaTeX_envs_menu_present": true,
   "autoclose": false,
   "autocomplete": true,
   "bibliofile": "biblio.bib",
   "cite_by": "apalike",
   "current_citInitial": 1,
   "eqLabelWithNumbers": true,
   "eqNumInitial": 1,
   "hotkeys": {
    "equation": "Ctrl-E",
    "itemize": "Ctrl-I"
   },
   "labels_anchors": false,
   "latex_user_defs": false,
   "report_style_numbering": false,
   "user_envs_cfg": false
  }
 },
 "nbformat": 4,
 "nbformat_minor": 4
}

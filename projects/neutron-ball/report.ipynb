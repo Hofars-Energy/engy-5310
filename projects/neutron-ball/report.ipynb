{
 "cells": [
  {
   "cell_type": "markdown",
   "metadata": {},
   "source": [
    "**Engy-5310** Computational Continuum Transport Phenomena, UMass Lowell, Chem. Eng. Nuclear Program Spring 2021; Prof. V. F. de Almeida\n",
    "\n",
    "# Neutron Diffusion on a Spherical Domain in Vacuum\n",
    "$  \n",
    "  \\newcommand{\\Amtrx}{\\boldsymbol{\\mathsf{A}}}\n",
    "  \\newcommand{\\Bmtrx}{\\boldsymbol{\\mathsf{B}}}\n",
    "  \\newcommand{\\Mmtrx}{\\boldsymbol{\\mathsf{M}}}\n",
    "  \\newcommand{\\Imtrx}{\\boldsymbol{\\mathsf{I}}}\n",
    "  \\newcommand{\\Pmtrx}{\\boldsymbol{\\mathsf{P}}}\n",
    "  \\newcommand{\\Lmtrx}{\\boldsymbol{\\mathsf{L}}}\n",
    "  \\newcommand{\\Umtrx}{\\boldsymbol{\\mathsf{U}}}\n",
    "  \\newcommand{\\Smtrx}{\\boldsymbol{\\mathsf{S}}}\n",
    "  \\newcommand{\\xvec}{\\boldsymbol{\\mathsf{x}}}\n",
    "  \\newcommand{\\avec}{\\boldsymbol{\\mathsf{a}}}\n",
    "  \\newcommand{\\bvec}{\\boldsymbol{\\mathsf{b}}}\n",
    "  \\newcommand{\\cvec}{\\boldsymbol{\\mathsf{c}}}\n",
    "  \\newcommand{\\rvec}{\\boldsymbol{\\mathsf{r}}}\n",
    "  \\newcommand{\\fvec}{\\boldsymbol{\\mathsf{f}}}\n",
    "  \\newcommand{\\mvec}{\\boldsymbol{\\mathsf{m}}}\n",
    "  \\newcommand{\\gvec}{\\boldsymbol{\\mathsf{g}}}\n",
    "  \\newcommand{\\zerovec}{\\boldsymbol{\\mathsf{0}}}\n",
    "  \\newcommand{\\norm}[1]{\\bigl\\lVert{#1}\\bigr\\rVert}\n",
    "  \\newcommand{\\transpose}[1]{{#1}^\\top}\n",
    "  \\DeclareMathOperator{\\rank}{rank}\n",
    "  \\newcommand{\\Reals}{\\mathbb{R}}\n",
    "  \\newcommand{\\thetavec}{\\boldsymbol{\\theta}}\n",
    "$"
   ]
  },
  {
   "cell_type": "markdown",
   "metadata": {},
   "source": [
    "**Student(s):**  <br>\n",
    "**Course:** Engy-5310 Computational Continuum Transport Phenomena  <br>\n",
    "**Mentor:** \n",
    "\n",
    "UMass Lowell, Dept. of Chemical Engineering, Nuclear Energy Program \n",
    "<br>\n",
    "**27Mar2021**"
   ]
  },
  {
   "cell_type": "markdown",
   "metadata": {},
   "source": [
    "---\n",
    "## Table of Contents<a id=\"toc\"></a>\n",
    "* [Introduction](#intro)\n",
    "* [Problem Statement](#problem)\n",
    "* [Objectives](#obj)\n",
    "* [Approach](#app)\n",
    " + [Analytical Solution](#analyticalsol)\n",
    " + [Weak Form of Problem Statement](#weakform)\n",
    " + [MOOSE Kernels](#kernels)\n",
    " + [Setup](#setup)\n",
    "* [Results and Analysis](#ranalysis)\n",
    "* [Conclusions](#conclusions)\n",
    "* [References](#refs)\n",
    "---"
   ]
  },
  {
   "cell_type": "markdown",
   "metadata": {},
   "source": [
    "## [Introduction](#toc)<a id=\"intro\"></a>"
   ]
  },
  {
   "cell_type": "markdown",
   "metadata": {},
   "source": [
    "- Introduction to motivation for neutron transport problems"
   ]
  },
  {
   "cell_type": "markdown",
   "metadata": {},
   "source": []
  },
  {
   "cell_type": "markdown",
   "metadata": {},
   "source": [
    "## [Problem Statement](#toc)<a id=\"problem\"></a>"
   ]
  },
  {
   "cell_type": "markdown",
   "metadata": {},
   "source": [
    "### [Strong Form of Problem Statement](#toc)<a id=\"dbcstrong\"></a>\n",
    "\n",
    "This investigation looks to determine how FEM computation of the neutron diffusion equation compare to linear transport theory given standard assumptions about the definition of the diffusion coefficient in homogenous mediums far from and close to voids. Defining diffusion coefficients for neutron transport is an active field of research and includes approximations such as isotropic scattering, linear in angle, nonlocal weighting of nearby average transport properties, Monte Carlo study and experiment.\n",
    "\n",
    "Understanding the connection between linear transport theory and diffusion theory is important for analysis of radiative transfer and neutron transport under certain physical conditions for reactor research and dosimetry studies. Here we will compare the analytic linear transport result for non-absorbing and moderately absorbing mediums given a point source in spherical geometry.\n",
    "\n",
    "The multi-group (energy group) time independent neutron diffusion equation (NDE) in written assuming azimuthal symmetry as\n",
    "\n",
    "\\begin{align*}\n",
    "    \\nabla \\cdot D_g \\nabla \\Phi_g(r) \\Sigma_{g,r} \\Phi_g(r) = S_0 + \\sum_{g'=1}^{G} \\int_{\\Omega}^{} \\Sigma_{s,g'\\rightarrow g} f_{s,g'\\rightarrow g}(\\mu) \\,d\\Omega  \\ \\ \\ (1)\n",
    "\\end{align*}\n",
    "\n",
    "The 1-group (NDE) for a non-multiplying medium is:\n",
    "\n",
    "\\begin{align*}\n",
    "    \\nabla \\cdot D \\nabla \\Phi(r) -\\Sigma_{abs} \\Phi(r) + S' = 0 \\ \\ \\ (2)\n",
    "\\end{align*}\n",
    "\n",
    "The neutron scalar flux is: $\\Phi(r)\\ [n/cm^2 s]$ \n",
    "\n",
    "The total macroscopic cross section is: $\\Sigma_{tot} = \\Sigma_{non-el} + \\Sigma_{el} \\approx \\Sigma_{abs} + \\Sigma_{el}$\n",
    "\n",
    "And the removal cross section for the multi group cross section is $ \\Sigma_{r} = \\Sigma_{tot} - \\bar{\\mu}\\Sigma_{s} $\n",
    "\n",
    "For brevity, $S' = Q^{fis}_{ext} + Q^{sc}_{in}$, is written as the combined source for exterior sources and fission sources or scatter in from out of group (up and down scatter). The full _scatter in term_ requires a _group averaged scatter cross section_ that further requires a _transfer function_ differential in post collision direction $\\Omega \\cdot \\Omega '$. \n",
    "\n",
    "Here for the free surface (vacuum) boundary condition. The neutron density at the outer boundary $\\Phi(r) = |v| n(r) = 0$ if $ n_b\\cdot \\Omega < 0 $.\n",
    "\n"
   ]
  },
  {
   "cell_type": "markdown",
   "metadata": {},
   "source": []
  },
  {
   "cell_type": "code",
   "execution_count": 11,
   "metadata": {},
   "outputs": [],
   "source": [
    "# import pyvista as pv\n",
    "# # pv.set_plot_theme('paraview')\n",
    "\n",
    "# radius_i = 1\n",
    "# radius_o = 20 * radius_i\n",
    "# outer = pv.Sphere(center=(0,0,0), direction=(0,0,1), radius=radius_o)\n",
    "# inner = pv.Sphere(center=(0,0,0), direction=(0,0,1), radius=radius_i)\n",
    "\n",
    "# plo = pv.Plotter(notebook=True, shape=(1,1)) \n",
    "\n",
    "# plo.subplot(0,0)\n",
    "# plo.add_mesh(outer, color='lightblue', opacity=0.99,)\n",
    "# plo.add_mesh(inner, color='red', opacity=1)\n",
    "# plo.add_axes(xlabel='R', ylabel='Theta', zlabel='Phi')\n",
    "\n",
    "# cpos = plo.show(window_size=[800, 600])"
   ]
  },
  {
   "cell_type": "code",
   "execution_count": null,
   "metadata": {},
   "outputs": [],
   "source": []
  },
  {
   "cell_type": "markdown",
   "metadata": {},
   "source": []
  },
  {
   "cell_type": "markdown",
   "metadata": {},
   "source": [
    "- Text... "
   ]
  },
  {
   "cell_type": "markdown",
   "metadata": {},
   "source": [
    "## [Objectives](#toc)<a id=\"obj\"></a>"
   ]
  },
  {
   "cell_type": "markdown",
   "metadata": {},
   "source": [
    "1. Gather Cross Section Data to provide study parameters\n",
    "2. Set up two analytical solutions\n",
    "    - Set up the non-asymptotic analytic solution __complete__  \n",
    "    - Set up the asymptotic analytic solution with transient __almost complete__  \n",
    "3. Use MOOSE to calculate diffusion equation (1)\n",
    "    - Set up spherical coordinate system: __complete__\n",
    "    - Identify best test functions for problem domain: __unknown__  \n",
    "    - \"Absorption\" term $\\Sigma_{tot}\\Phi $ is causing strong oscillations when included __unknown__  \n",
    "    "
   ]
  },
  {
   "cell_type": "markdown",
   "metadata": {},
   "source": []
  },
  {
   "cell_type": "markdown",
   "metadata": {},
   "source": [
    "## [Approach](#toc)<a id=\"app\"></a>"
   ]
  },
  {
   "cell_type": "markdown",
   "metadata": {},
   "source": [
    "### [Analytic Solution](#toc)<a id=\"analyticalsol\"></a> \n",
    "\n",
    "A general solution is commonly given without the asymptotic condition as:\n",
    "\n",
    "\\begin{align*}\n",
    "    \\Phi(r) =  \\frac{S_0 e^{-\\kappa r}}{4\\pi Dr} \\ \\ \\ (2)\n",
    "\\end{align*}\n",
    "\n",
    "On the other hand, linear transport theory does provide a result at the asymptotic limit for moderately absorbing mediums given that the source flux is not infinity. The integral transport equation is written:\n",
    "\n",
    "\n",
    "\\begin{align*}\n",
    "    \\Phi(r) = \\int dV\\  \\frac{S_0 e^{- \\Sigma_t r}}{4 \\pi r^2} [c \\Sigma_t \\Phi(r') + S_0 \\delta(r')] \\ \\ \\ (3)\n",
    "\\end{align*}\n",
    "\n",
    "In this solution we will currently assume $S_0 = \\Phi_0$ for a single distributed source."
   ]
  },
  {
   "cell_type": "markdown",
   "metadata": {},
   "source": [
    "### [Weak Form of Problem Statement](#toc)<a id=\"weakform\"></a> \n",
    "\n",
    "\n",
    "#### 1 Group NDE  Weak Form:\n",
    "\n",
    "1. Multiply NDE by a test function $\\phi$.\n",
    "2. Integrate over spatial and angular domain.\n",
    "3. Use divergence theorem to set the boundary condition across the domain surface.\n",
    "\n",
    "The weak form and boundary condition becomes:\n",
    "\n",
    "\\begin{align*}\n",
    "    ( \\nabla \\phi, D \\nabla \\Phi  )\\ - < \\phi, D \\nabla \\Phi \\cdot \\bar{n_b} > +\\ (\\phi , \\Sigma_{tot} \\Phi) = 0 \\ \\ \\ (1B)\n",
    "\\end{align*}\n",
    "\n",
    "This weak form contains the volume and surface integral as written with parenthesis and brackets respectively. The boundary conditions for the partial currents at the surface given as $\\Gamma^{\\pm}$ must be solved for:\n",
    "\n",
    "\\begin{align*}\n",
    "    \\Gamma^{+} = J^{out}({R_S}) = \\nabla \\Phi \\cdot \\bar{n_b}\n",
    "\\end{align*}\n",
    "\n",
    "\\begin{align*}\n",
    "    \\Gamma^{-} = J^{in}({R_S}) = 0\n",
    "\\end{align*}\n",
    "\n",
    "Here we will use the homogenous Neumann boundary condition, which is equivalent to the Robin boundary condition such that the reflectivity at the boundary is 0 as:\n",
    "\n",
    "\\begin{align*}\n",
    "    \\frac{1}{4} \\Phi + \\frac{1}{2} D \\nabla \\Phi \\cdot \\bar{n_b} = J^{-} = \\frac{\\Phi}{4} - \\frac{J}{2} = \\frac{\\Phi}{4} - \\frac{D \\nabla \\Phi}{2}\n",
    "\\end{align*}\n",
    "\n",
    "Solving for the weak form boundary condition and multiplying our test function $\\phi$:\n",
    "\n",
    "\\begin{align*}\n",
    "     \\phi (D \\nabla \\Phi \\cdot \\bar{n_b}) = \\phi( \\frac{1}{2} D \\nabla \\Phi)\n",
    "\\end{align*}\n",
    "\n",
    "#### 2 Group NDE  Weak Form:\n",
    "\n",
    "Assuming no upscattering from group 2 to group 1:\n",
    "\n",
    "\\begin{align*}\n",
    "    -\\nabla \\cdot D_1 \\nabla \\Phi_1(r)  + \\Sigma_{r,1} \\Phi(r) =  0 \\ \\ \\ (X) \n",
    "\\end{align*}\n",
    "\n",
    "\\begin{align*}\n",
    "    -\\nabla \\cdot D_2 \\nabla \\Phi_2(r)  + \\Sigma_{r,2} \\Phi(r) =  \\Sigma_{s,1 \\rightarrow 2} \\Phi_1(r) \\ \\ \\ (X) \n",
    "\\end{align*}\n"
   ]
  },
  {
   "cell_type": "markdown",
   "metadata": {},
   "source": []
  },
  {
   "cell_type": "code",
   "execution_count": 20,
   "metadata": {},
   "outputs": [
    {
     "data": {
      "image/png": "[encoded data removed]",
      "text/plain": [
       "<Figure size 432x288 with 1 Axes>"
      ]
     },
     "metadata": {},
     "output_type": "display_data"
    }
   ],
   "source": [
    "import numpy as np\n",
    "import matplotlib.pyplot as plt\n",
    "file2 = np.genfromtxt('./SigTot_Al.csv',delimiter=\",\",comments = '#')\n",
    "file1 = np.genfromtxt('./SigEl_Al.csv',delimiter=\",\",comments = '#')\n",
    "plt.xscale(\"linear\")\n",
    "plt.yscale(\"linear\")\n",
    "plt.xlim([1, 3])\n",
    "plt.ylim([1, 6])\n",
    "plt.xlabel(r'Energy [MeV]', fontsize=18)\n",
    "plt.ylabel(r'Cross Section [barns]', fontsize=18)\n",
    "plt.plot(file1[1:,0]*1e-6, file1[1:,1],label=\"Elastic Sc. C.S. - Avg. 2.225 b\")\n",
    "plt.plot(file2[1:,0]*1e-6, file2[1:,1],label=\"Total Sc. C.S. - Avg. 2.767 b\")\n",
    "plt.legend()\n",
    "plt.show()"
   ]
  },
  {
   "cell_type": "markdown",
   "metadata": {},
   "source": [
    "### [MOOSE Kernels](#toc)<a id=\"kernels\"></a>\n",
    "\n",
    "The following MOOSE kernels were implemented to solve the [weak form](#weakform):\n",
    "1. Diffusion term weak form integrand: $D \\nabla \\Phi \\cdot \\nabla \\phi$ (MOOSE kernel) [interface](./include/kernels/DiffusionTerm.h) and [implementation](./src/kernels/DiffusionTerm.C)."
   ]
  },
  {
   "cell_type": "markdown",
   "metadata": {},
   "source": [
    "### [Setup](#toc)<a id=\"setup\"></a>"
   ]
  },
  {
   "cell_type": "markdown",
   "metadata": {},
   "source": [
    "## [Results and Analysis](#toc)<a id=\"ranalysis\"></a>"
   ]
  },
  {
   "cell_type": "markdown",
   "metadata": {},
   "source": [
    "- Text..."
   ]
  },
  {
   "cell_type": "code",
   "execution_count": 21,
   "metadata": {
    "code_folding": []
   },
   "outputs": [],
   "source": [
    "'''Plot function for FEM Solution'''\n",
    "\n",
    "def plot_solution(df, \n",
    "                  title='No Title', \n",
    "                  basis_functions_type='No basis functions type',\n",
    "                  flux_basis_functions_type='No basis functions type'):\n",
    "    \n",
    "    import matplotlib.pyplot as plt\n",
    "    %matplotlib inline\n",
    "    plt.style.use('dark_background')\n",
    "\n",
    "    (fig, ax1) = plt.subplots(1, figsize=(14, 5))\n",
    "\n",
    "    ax1.plot(df['x'], df['u'].abs()*2.4e9,'r*-',label=basis_functions_type)\n",
    "\n",
    "    ax1.set_xlabel(r'$x$ [cm]', fontsize=18)\n",
    "    ax1.set_ylabel(r'$u_h(x)$ [g/cc]', fontsize=18, color='red')\n",
    "    ax1.set_xscale('log')\n",
    "    ax1.set_yscale('log')\n",
    "\n",
    "    ax1.tick_params(axis='y', labelcolor='red', labelsize=14)\n",
    "    ax1.tick_params(axis='x', labelsize=14)\n",
    "    ax1.legend(loc='center left', fontsize=12)\n",
    "    ax1.set_ylim(1e-12,1e12)\n",
    "    ax1.grid(True)\n",
    "\n",
    "    plt.title(title, fontsize=20)\n",
    "    fig.tight_layout()  # otherwise the right y-label is slightly clipped\n",
    "    plt.show()\n",
    "    print('')"
   ]
  },
  {
   "cell_type": "code",
   "execution_count": null,
   "metadata": {},
   "outputs": [
    {
     "name": "stdout",
     "output_type": "stream",
     "text": [
      "\r\n",
      "\u001b[33m\r\n",
      "*** Warning, This code is deprecated and will be removed in future versions:\r\n",
      "The parameter 'use_legacy_dirichlet_bc' is no longer valid.\r\n",
      "\r\n",
      "All Dirichlet boundary conditions are preset by default.\r\n",
      "\r\n",
      "Remove said parameter in main to remove this deprecation warning.\u001b[39m\r\n",
      "Stack frames: 9\r\n",
      "0: 0   libmesh_opt.0.dylib                 0x0000000106b8341b libMesh::print_trace(std::__1::basic_ostream<char, std::__1::char_traits<char> >&) + 1067\r\n",
      "1: 1   libmoose-opt.0.dylib                0x00000001062c820e void moose::internal::mooseDeprecatedStream<libMesh::BasicOStreamProxy<char, std::__1::char_traits<char> >, char const (&) [62], char const (&) [59], char const (&) [26], std::__1::basic_string<char, std::__1::char_traits<char>, std::__1::allocator<char> > const&, char const (&) [37]>(libMesh::BasicOStreamProxy<char, std::__1::char_traits<char> >&, bool, char const (&) [62], char const (&) [59], char const (&) [26], std::__1::basic_string<char, std::__1::char_traits<char>, std::__1::allocator<char> > const&, char const (&) [37]) + 830\r\n",
      "2: 2   libmoose-opt.0.dylib                0x00000001062c35b5 MooseApp::MooseApp(InputParameters) + 9349\r\n",
      "3: 3   libneutron-ball-opt.0.dylib         0x0000000105759019 NeutronBallApp::NeutronBallApp(InputParameters) + 57\r\n",
      "4: 4   libneutron-ball-opt.0.dylib         0x0000000105759236 std::__1::shared_ptr<MooseApp> buildApp<NeutronBallApp>(InputParameters const&) + 118\r\n",
      "5: 5   libmoose-opt.0.dylib                0x0000000106250874 AppFactory::createShared(std::__1::basic_string<char, std::__1::char_traits<char>, std::__1::allocator<char> > const&, std::__1::basic_string<char, std::__1::char_traits<char>, std::__1::allocator<char> > const&, InputParameters, int) + 612\r\n",
      "6: 6   libmoose-opt.0.dylib                0x0000000106251066 AppFactory::createAppShared(std::__1::basic_string<char, std::__1::char_traits<char>, std::__1::allocator<char> > const&, int, char**, int) + 550\r\n",
      "7: 7   neutron-ball-opt                    0x0000000105742c12 main + 114\r\n",
      "8: 8   libdyld.dylib                       0x00007fff20505621 start + 1\r\n",
      "\r\n",
      "\r\n",
      "\r\n",
      "\u001b[31m\r\n",
      "*** ERROR ***\r\n",
      "/Users/pauljohnson/Documents/GitHub/engy-5310/projects/neutron-ball/input1G.hit:50: missing required parameter 'Kernels/source-term/type'\r\n",
      "\tDoc String: \"A string representing the Moose Object that will be built by this Action\"\r\n",
      "\u001b[39m\r\n",
      "\r\n",
      "Stack frames: 15\r\n",
      "0: 0   libmesh_opt.0.dylib                 0x0000000106b8341b libMesh::print_trace(std::__1::basic_ostream<char, std::__1::char_traits<char> >&) + 1067\r\n",
      "1: 1   libmoose-opt.0.dylib                0x00000001062edb14 moose::internal::mooseErrorRaw(std::__1::basic_string<char, std::__1::char_traits<char>, std::__1::allocator<char> >, std::__1::basic_string<char, std::__1::char_traits<char>, std::__1::allocator<char> >) + 852\r\n",
      "2: 2   libmoose-opt.0.dylib                0x000000010582f008 void mooseError<std::__1::basic_string<char, std::__1::char_traits<char>, std::__1::allocator<char> > >(std::__1::basic_string<char, std::__1::char_traits<char>, std::__1::allocator<char> >&&) + 280\r\n",
      "3: 3   libmoose-opt.0.dylib                0x0000000106207471 InputParameters::checkParams(std::__1::basic_string<char, std::__1::char_traits<char>, std::__1::allocator<char> > const&) + 7729\r\n",
      "4: 4   libmoose-opt.0.dylib                0x0000000105e61ca4 ActionFactory::create(std::__1::basic_string<char, std::__1::char_traits<char>, std::__1::allocator<char> > const&, std::__1::basic_string<char, std::__1::char_traits<char>, std::__1::allocator<char> > const&, InputParameters&) + 404\r\n",
      "5: 5   libmoose-opt.0.dylib                0x0000000105cc38df Parser::walkRaw(std::__1::basic_string<char, std::__1::char_traits<char>, std::__1::allocator<char> >, std::__1::basic_string<char, std::__1::char_traits<char>, std::__1::allocator<char> >, hit::Node*) + 1375\r\n",
      "6: 6   libmoose-opt.0.dylib                0x0000000105cbabee Parser::walk(std::__1::basic_string<char, std::__1::char_traits<char>, std::__1::allocator<char> > const&, std::__1::basic_string<char, std::__1::char_traits<char>, std::__1::allocator<char> > const&, hit::Node*) + 334\r\n",
      "7: 7   libhit-opt.0.dylib                  0x0000000106ad8039 hit::Node::walk(hit::Walker*, hit::NodeType) + 105\r\n",
      "8: 8   libhit-opt.0.dylib                  0x0000000106ad807e hit::Node::walk(hit::Walker*, hit::NodeType) + 174\r\n",
      "9: 9   libhit-opt.0.dylib                  0x0000000106ad807e hit::Node::walk(hit::Walker*, hit::NodeType) + 174\r\n",
      "10: 10  libmoose-opt.0.dylib                0x0000000105cc71e7 Parser::parse(std::__1::basic_string<char, std::__1::char_traits<char>, std::__1::allocator<char> > const&) + 3431\r\n",
      "11: 11  libmoose-opt.0.dylib                0x00000001062bf921 MooseApp::setupOptions() + 11217\r\n",
      "12: 12  libmoose-opt.0.dylib                0x00000001062bc052 MooseApp::run() + 2674\r\n",
      "13: 13  neutron-ball-opt                    0x0000000105742c2b main + 139\r\n",
      "14: 14  libdyld.dylib                       0x00007fff20505621 start + 1\r\n",
      "application called MPI_Abort(MPI_COMM_WORLD, 1) - process 0\r\n",
      "[unset]: write_line error; fd=-1 buf=:cmd=abort exitcode=1\r\n",
      ":\r\n",
      "system msg for write_line failure : Bad file descriptor\r\n"
     ]
    }
   ],
   "source": [
    "# !./neutron-ball-opt -i input2G.hit\n",
    "# mooOut1G = np.genfromtxt('./output2G_x-data_0002.csv',delimiter=\",\",comments = '#')\n",
    "!./neutron-ball-opt -i input1G.hit\n",
    "mooOut1G = np.genfromtxt('./output1G_x-data_0002.csv',delimiter=\",\",comments = '#')"
   ]
  },
  {
   "cell_type": "code",
   "execution_count": null,
   "metadata": {},
   "outputs": [],
   "source": []
  },
  {
   "cell_type": "code",
   "execution_count": 19,
   "metadata": {},
   "outputs": [
    {
     "data": {
      "image/png": "[encoded data removed]",
      "text/plain": [
       "<Figure size 1008x360 with 1 Axes>"
      ]
     },
     "metadata": {},
     "output_type": "display_data"
    },
    {
     "name": "stdout",
     "output_type": "stream",
     "text": [
      "\n"
     ]
    }
   ],
   "source": [
    "\n",
    "import pandas as pd\n",
    "df = pd.read_csv('output1G_x-data_0002.csv')\n",
    "plot_solution(df, title='Dirichlet BC FEM Solution', basis_functions_type='Linear Lagrange', flux_basis_functions_type='Constant Monomial')\n"
   ]
  },
  {
   "cell_type": "code",
   "execution_count": null,
   "metadata": {},
   "outputs": [],
   "source": []
  },
  {
   "cell_type": "markdown",
   "metadata": {},
   "source": [
    "- Text..."
   ]
  },
  {
   "cell_type": "markdown",
   "metadata": {},
   "source": [
    "## [Conclusions](#toc)<a id=\"conclusions\"></a>"
   ]
  },
  {
   "cell_type": "markdown",
   "metadata": {},
   "source": [
    "- Text..."
   ]
  },
  {
   "cell_type": "markdown",
   "metadata": {},
   "source": [
    "- Text..."
   ]
  },
  {
   "cell_type": "markdown",
   "metadata": {},
   "source": [
    "## [References](#toc)<a id=\"refs\"></a>\n",
    "\n",
    "- [1] V. F. de Almeida, [*Engy-5310: Computational Continuum Transport Phenomena*](https://github.com/dpploy/engy-5310), University of Massachusetts Lowell, Dept. of Chemical Engineering (Nuclear Energy Program).\n",
    "- [2] Multiphysics Object-Oriented Simulation Environment [(MOOSE)](https://mooseframework.org)\n",
    "- [3] author, [reference]()\n",
    "- [4] author, [reference]()"
   ]
  },
  {
   "cell_type": "code",
   "execution_count": null,
   "metadata": {},
   "outputs": [],
   "source": []
  },
  {
   "cell_type": "code",
   "execution_count": null,
   "metadata": {},
   "outputs": [],
   "source": []
  }
 ],
 "metadata": {
  "kernelspec": {
   "display_name": "Python 3",
   "language": "python",
   "name": "python3"
  },
  "language_info": {
   "codemirror_mode": {
    "name": "ipython",
    "version": 3
   },
   "file_extension": ".py",
   "mimetype": "text/x-python",
   "name": "python",
   "nbconvert_exporter": "python",
   "pygments_lexer": "ipython3",
   "version": "3.8.8"
  },
  "latex_envs": {
   "LaTeX_envs_menu_present": true,
   "autoclose": false,
   "autocomplete": true,
   "bibliofile": "biblio.bib",
   "cite_by": "apalike",
   "current_citInitial": 1,
   "eqLabelWithNumbers": true,
   "eqNumInitial": 1,
   "hotkeys": {
    "equation": "Ctrl-E",
    "itemize": "Ctrl-I"
   },
   "labels_anchors": false,
   "latex_user_defs": false,
   "report_style_numbering": false,
   "user_envs_cfg": false
  }
 },
 "nbformat": 4,
 "nbformat_minor": 4
}

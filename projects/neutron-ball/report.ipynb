{
 "cells": [
  {
   "cell_type": "markdown",
   "metadata": {},
   "source": [
    "**Engy-5310** Computational Continuum Transport Phenomena, UMass Lowell, Chem. Eng. Nuclear Program Spring 2021; Prof. V. F. de Almeida\n",
    "\n",
    "# Neutron Diffusion on a Spherical Domain in Vacuum\n",
    "$  \n",
    "  \\newcommand{\\Amtrx}{\\boldsymbol{\\mathsf{A}}}\n",
    "  \\newcommand{\\Bmtrx}{\\boldsymbol{\\mathsf{B}}}\n",
    "  \\newcommand{\\Mmtrx}{\\boldsymbol{\\mathsf{M}}}\n",
    "  \\newcommand{\\Imtrx}{\\boldsymbol{\\mathsf{I}}}\n",
    "  \\newcommand{\\Pmtrx}{\\boldsymbol{\\mathsf{P}}}\n",
    "  \\newcommand{\\Lmtrx}{\\boldsymbol{\\mathsf{L}}}\n",
    "  \\newcommand{\\Umtrx}{\\boldsymbol{\\mathsf{U}}}\n",
    "  \\newcommand{\\Smtrx}{\\boldsymbol{\\mathsf{S}}}\n",
    "  \\newcommand{\\xvec}{\\boldsymbol{\\mathsf{x}}}\n",
    "  \\newcommand{\\avec}{\\boldsymbol{\\mathsf{a}}}\n",
    "  \\newcommand{\\bvec}{\\boldsymbol{\\mathsf{b}}}\n",
    "  \\newcommand{\\cvec}{\\boldsymbol{\\mathsf{c}}}\n",
    "  \\newcommand{\\rvec}{\\boldsymbol{\\mathsf{r}}}\n",
    "  \\newcommand{\\fvec}{\\boldsymbol{\\mathsf{f}}}\n",
    "  \\newcommand{\\mvec}{\\boldsymbol{\\mathsf{m}}}\n",
    "  \\newcommand{\\gvec}{\\boldsymbol{\\mathsf{g}}}\n",
    "  \\newcommand{\\zerovec}{\\boldsymbol{\\mathsf{0}}}\n",
    "  \\newcommand{\\norm}[1]{\\bigl\\lVert{#1}\\bigr\\rVert}\n",
    "  \\newcommand{\\transpose}[1]{{#1}^\\top}\n",
    "  \\DeclareMathOperator{\\rank}{rank}\n",
    "  \\newcommand{\\Reals}{\\mathbb{R}}\n",
    "  \\newcommand{\\thetavec}{\\boldsymbol{\\theta}}\n",
    "$"
   ]
  },
  {
   "cell_type": "markdown",
   "metadata": {},
   "source": [
    "**Student(s):**  <br>\n",
    "**Course:** Engy-5310 Computational Continuum Transport Phenomena  <br>\n",
    "**Mentor:** \n",
    "\n",
    "UMass Lowell, Dept. of Chemical Engineering, Nuclear Energy Program \n",
    "<br>\n",
    "**27Mar2021**"
   ]
  },
  {
   "cell_type": "markdown",
   "metadata": {},
   "source": [
    "---\n",
    "## Table of Contents<a id=\"toc\"></a>\n",
    "* [Introduction](#intro)\n",
    "* [Problem Statement](#problem)\n",
    "* [Objectives](#obj)\n",
    "* [Approach](#app)\n",
    " + [Analytical Solution](#analyticalsol)\n",
    " + [Weak Form of Problem Statement](#weakform)\n",
    " + [MOOSE Kernels](#kernels)\n",
    " + [Setup](#setup)\n",
    "    - [One-Group Energy](#onegroupenergy)\n",
    "* [Results and Analysis](#ranalysis)\n",
    "* [Conclusions](#conclusions)\n",
    "* [References](#refs)\n",
    "---"
   ]
  },
  {
   "cell_type": "markdown",
   "metadata": {},
   "source": [
    "## [Introduction](#toc)<a id=\"intro\"></a>"
   ]
  },
  {
   "cell_type": "markdown",
   "metadata": {},
   "source": [
    "- Introduction to motivation for neutron transport problems"
   ]
  },
  {
   "cell_type": "markdown",
   "metadata": {},
   "source": [
    "## [Problem Statement](#toc)<a id=\"problem\"></a>\n",
    "#### Outline:\n",
    "1. Define strong form of the PDE and analytic approach for neutron diffusion.\n",
    "    - Define the point source solution for a homogenous and attenuating medium.\n",
    "    - Define the integral transport equation solution for the point source solution. \n",
    "2. Define the Galerkin weak form of the problem\n",
    "    - Set the integral weak form for the FEM\n",
    "    - Define the boundary conditions for 1 group and multi group diffusion equations.\n",
    "3. Define the diffusion equation differences for each approximation."
   ]
  },
  {
   "cell_type": "markdown",
   "metadata": {},
   "source": [
    "### [Strong Form of Problem Statement](#toc)<a id=\"strongform\"></a>\n",
    "\n",
    "This investigation looks to determine how FEM computation of the neutron diffusion equation compare to linear transport theory given standard assumptions about the definition of the diffusion coefficient in homogenous mediums far from and close to voids. Defining diffusion coefficients for neutron transport is an active field of research and includes approximations such as isotropic scattering, linear in angle, nonlocal weighting of nearby average transport properties, Monte Carlo study and experiment.\n",
    "\n",
    "Understanding the connection between linear transport theory and diffusion theory is important for analysis of radiative transfer and neutron transport under certain physical conditions for reactor research and dosimetry studies. Here we will compare the analytic linear transport result for non-absorbing and moderately absorbing mediums given a point source in spherical geometry.\n",
    "\n",
    "The multi-group (energy group) time independent neutron diffusion equation (NDE) in written assuming azimuthal symmetry as\n",
    "\n",
    "Compute $\\Phi_g:[r_\\text{i},r_\\text{o}]\\subset\\Reals\\rightarrow\\Reals$ such that:\n",
    "\n",
    "\\begin{align*}\n",
    "  \\nabla \\cdot D_g \\nabla \\Phi_g(r) - \\Sigma_{g,r} \\Phi_g(r) + S_{g'\\rightarrow g} &= 0 \\\\\n",
    "   J_{n,g}(r_\\text{i}) &= \\Phi_{0,g}, \\\\\n",
    "   J_{n,g}(r_\\text{o}) &= \\frac{\\alpha}{2}\\Phi_g(r_\\text{o}).\n",
    "\\end{align*}\n",
    "\n",
    "where the source term $S_{g'\\rightarrow g} := \\sum_{g'=1}^{G} \\int_\\Omega \\Sigma_{s,g'\\rightarrow g}\\, f_{s,g'\\rightarrow g}(\\mu)\\,d\\Omega$ is the group down-scattering contribution for each group $g$. \n",
    "\n",
    "The neutron scalar flux is: $\\Phi(r)\\ [n/cm^2 s]$. Here for the free surface (vacuum) boundary condition. The neutron density at the outer boundary $\\Phi(r) = |v| n(r) = 0$ if $ n_b\\cdot \\Omega < 0 $.\n",
    "\n",
    "\n",
    "\n",
    "The total macroscopic cross section is: $\\Sigma_{tot} = \\Sigma_{non-el} + \\Sigma_{el} \\approx \\Sigma_{abs} + \\Sigma_{el}$\n",
    "\n",
    "And the removal cross section for the multi group cross section is $ \\Sigma_{r} = \\Sigma_{tot} - \\bar{\\mu}\\Sigma_{s} $\n",
    "\n",
    "For brevity, $S' = Q^{fis}_{ext} + Q^{sc}_{in}$, is written as the combined source for exterior sources and fission sources or scatter in from out of group (up and down scatter). The full _scatter in term_ requires a _group averaged scatter cross section_ that further requires a _transfer function_ differential in post collision direction $\\Omega \\cdot \\Omega '$. \n",
    "\n",
    "\n"
   ]
  },
  {
   "cell_type": "markdown",
   "metadata": {},
   "source": [
    "### Domain\n",
    "Describe domain here."
   ]
  },
  {
   "cell_type": "code",
   "execution_count": 1,
   "metadata": {
    "code_folding": [
     0
    ]
   },
   "outputs": [],
   "source": [
    "def show_domain(screenshot=False):\n",
    "    import pyvista as pv\n",
    "    pv.set_plot_theme('paraview')\n",
    "\n",
    "    radius_i = 1\n",
    "    radius_o = 20 * radius_i\n",
    "    outer = pv.Sphere(center=(0,0,0), direction=(0,0,1), radius=radius_o)\n",
    "    inner = pv.Sphere(center=(0,0,0), direction=(0,0,1), radius=radius_i)\n",
    "\n",
    "    plo = pv.Plotter(notebook=True, shape=(1,1)) \n",
    "\n",
    "    plo.subplot(0,0)\n",
    "    plo.add_mesh(outer, color='yellow', opacity=0.99,)\n",
    "    plo.add_mesh(inner, color='red', opacity=1)\n",
    "    plo.add_axes(xlabel='R', ylabel='Theta', zlabel='Phi')\n",
    "\n",
    "    cpos = plo.show(window_size=[800, 600])\n",
    "    if screenshot:\n",
    "        plo.screenshot('domain.png')"
   ]
  },
  {
   "cell_type": "code",
   "execution_count": 3,
   "metadata": {},
   "outputs": [
    {
     "data": {
      "image/png": "[encoded data removed]",
      "text/plain": [
       "<PIL.Image.Image image mode=RGB size=800x600 at 0x7F0678200FA0>"
      ]
     },
     "metadata": {},
     "output_type": "display_data"
    }
   ],
   "source": [
    "show_domain()"
   ]
  },
  {
   "cell_type": "markdown",
   "metadata": {},
   "source": [
    "- In the NDE boundary conditions above, Dirichlet boundary conditions are assumed for the neutron density from a point source. Alternatively, interface coupling may be considered between a small sphere's inner surface with the second domain where Neumann BC for neutron current $J$ are given. \n",
    "- For the Galerkin FEM formulation, this is equivalent to the asymptotic assumption for the integral linear transport method as long as the inner sphere's source is not infinity. "
   ]
  },
  {
   "cell_type": "markdown",
   "metadata": {},
   "source": [
    "## [Approach](#toc)<a id=\"app\"></a>"
   ]
  },
  {
   "cell_type": "markdown",
   "metadata": {},
   "source": [
    "### [Analytic Solution - 1 Group](#toc)<a id=\"analyticalsol\"></a> \n",
    "\n",
    "A general solution is commonly given without the asymptotic condition as:\n",
    "\n",
    "\\begin{align*}\n",
    "    \\Phi(r) =  \\frac{S_0 e^{-\\kappa r}}{4\\pi Dr} \\ \\ \\ (2)\n",
    "\\end{align*}\n",
    "\n",
    "On the other hand, linear transport theory does provide a result at the asymptotic limit for moderately absorbing mediums given that the source flux is not infinity. The integral transport equation is written:\n",
    "\n",
    "\n",
    "\\begin{align*}\n",
    "    \\Phi(r) = \\int dV\\  \\frac{S_0 e^{- \\Sigma_t r}}{4 \\pi r^2} [c \\Sigma_t \\Phi(r') + S_0 \\delta(r')] \\ \\ \\ (3)\n",
    "\\end{align*}\n",
    "\n",
    "In this solution we will currently assume $S_0 = \\Phi_0$ for a single distributed source."
   ]
  },
  {
   "cell_type": "markdown",
   "metadata": {},
   "source": [
    "### [Weak Form of Problem Statement](#toc)<a id=\"weakform\"></a> \n",
    "\n",
    "The Galerkin weak formulation of the [strong form](#strongform) is as follows. Find $\\Phi_{g=1} \\in H^1\\!\\bigl([r_\\text{i},r_\\text{o}]\\bigr)$ and $\\Phi_{g=2} \\in H^1\\!\\bigl([r_\\text{i},r_\\text{o}]\\bigr)$\n",
    "so that \n",
    "\n",
    "\\begin{align*}\n",
    "\\int\\limits_a^b D\\, \\Phi_1'(r)\\,\\psi'(r)\\,dr - \\int\\limits_a^b S(\\Phi_1, \\Phi_2)\\,\\psi(r)\\,dr &= 0 \\quad \\forall \\quad \\psi \\in H^1_0\\!\\bigl([a,b]\\bigr), \\text{and}\n",
    "\\end{align*}\n",
    "\n",
    "where $H^1\\!\\bigl([r_\\text{i},r_\\text{o}]\\bigr) := \\bigl\\{ \\Phi:[r_\\text{i},r_\\text{o}]\\subset\\Reals\\rightarrow \\Reals \\mid \\int_{r_i}^{r_o} \\Phi'^2\\,dr < \\infty\\bigr\\}$ and $H^1_0\\!\\bigl([r_\\text{i},r_\\text{o}]\\bigr) := \\bigl\\{ \\psi \\mid \\psi \\in H^1(r_i,r_o), \\psi(r_i) = 0, \\psi(r_o) =0 \\bigr\\}$. Both function sets as just defined are Hilbert spaces. The function $\\psi$ is called a test function. Because $w$, $\\Phi_{g=1}$, $\\Phi_{g=2}$ are sought in very similar sets of functions, this weak form is called Galerkin's weak form.\n",
    "\n",
    "1. Multiply NDE by a test function $\\psi$.\n",
    "2. Integrate over spatial and angular domain.\n",
    "3. Use divergence theorem to set the boundary condition across the domain surface.\n",
    "\n",
    "The weak form and boundary condition becomes:\n",
    "\n",
    "\\begin{align*}\n",
    "    ( \\nabla \\psi, D \\nabla \\Phi  )\\ - < \\psi, D \\nabla \\Phi \\cdot \\bar{n_b} > +\\ (\\psi , \\Sigma_{tot} \\Phi) = 0 \\ \\ \\ (1B)\n",
    "\\end{align*}\n",
    "\n",
    "This weak form contains the volume and surface integral as written with parenthesis and brackets respectively. The boundary conditions for the partial currents at the surface given as $\\Gamma^{\\pm}$ must be solved for:\n",
    "\n",
    "\\begin{align*}\n",
    "    \\Gamma^{+} = J^{out}({R_S}) = \\nabla \\Phi \\cdot \\bar{n_b}\n",
    "\\end{align*}\n",
    "\n",
    "\\begin{align*}\n",
    "    \\Gamma^{-} = J^{in}({R_S}) = 0\n",
    "\\end{align*}\n",
    "\n",
    "Here we will use the homogenous Neumann boundary condition, which is equivalent to the Robin boundary condition such that the reflectivity at the boundary is 0 as:\n",
    "\n",
    "\\begin{align*}\n",
    "    \\frac{1}{4} \\Phi + \\frac{1}{2} D \\nabla \\Phi \\cdot \\bar{n_b} = J^{-} = \\frac{\\Phi}{4} - \\frac{J}{2} = \\frac{\\Phi}{4} - \\frac{D \\nabla \\Phi}{2}\n",
    "\\end{align*}\n",
    "\n",
    "Solving for the weak form boundary condition and multiplying our test function $\\psi$:\n",
    "\n",
    "\\begin{align*}\n",
    "     \\psi (D \\nabla \\Phi \\cdot \\bar{n_b}) = \\psi( \\frac{1}{2} D \\nabla \\Phi)\n",
    "\\end{align*}\n",
    "\n",
    "#### Steady State 3 Group NDE Weak Form for non-multiplying medium:\n",
    "\n",
    "Assuming no upscattering from group 2 to group 1:\n",
    "\n",
    "\\begin{align*}\n",
    "    -\\nabla \\cdot D_1 \\nabla \\Phi_1(r)  + \\Sigma_{r,1} \\Phi_1(r) =  - \\Sigma_{s,1 \\rightarrow 2} \\Phi_1(r) \\ \\ \\ (r) \n",
    "\\end{align*}\n",
    "\n",
    "\\begin{align*}\n",
    "    -\\nabla \\cdot D_2 \\nabla \\Phi_2(r)  + \\Sigma_{r,2} \\Phi(r) =  \\Sigma_{s,1 \\rightarrow 2} \\Phi_1(r) - \\Sigma_{s,2 \\rightarrow 3} \\Phi_2(r) \\ \\ \\ (r) \n",
    "\\end{align*}\n",
    "\n",
    "\\begin{align*}\n",
    "    -\\nabla \\cdot D_3 \\nabla \\Phi_3(r)  + \\Sigma_{r,3} \\Phi(r) =  \\Sigma_{s,1 \\rightarrow 3} \\Phi_1(r) + \\Sigma_{s,2 \\rightarrow 3} \\Phi_2(r)  \\ \\ \\ (r) \n",
    "\\end{align*}\n",
    "\n",
    "<!-- \n",
    "\\begin{align*}\n",
    "\\int\\limits_a^b D\\, \\Phi_1'(r)\\,\\psi'(r)\\,dr - \\int\\limits_a^b \\Sigma_{r,1} \\Phi_1(r)\\,\\psi(r)\\,dr &= 0 \\quad \\forall \\quad \\psi \\in H^1_0\\!\\bigl([a,b]\\bigr), \\text{and}\n",
    " \\\\\n",
    "  \\int\\limits_a^b \\, \\Phi_2'(r)\\, \\psi(r)\\,dr + \\int\\limits_a^b D\\, \\Phi_2'(r)\\,\\psi'(r)\\,dr + \\int\\limits_a^b S(\\Phi_1, \\Phi_2)\\,\\psi(r)\\,dr &= 0 \\quad \\forall \\quad \\psi \\in H^1_0\\!\\bigl([a,b]\\bigr),\n",
    "\\end{align*} -->\n",
    "\n",
    "\n",
    "\n",
    "    "
   ]
  },
  {
   "cell_type": "markdown",
   "metadata": {},
   "source": [
    "\n",
    "\\begin{align*}\n",
    "\\int\\limits_{r_i}^{r_o} D_1\\, \\Phi_1'(r)\\,\\psi'(r)\\,dr - \\int\\limits_{r_i}^{r_o} \\Sigma_{r,1} \\Phi_1(r)\\,\\psi(r)\\,dr - \\int\\limits_{r_i}^{r_o} \\Sigma_{s,1 \\rightarrow 2} \\Phi_1(r)\\,\\psi(r)\\,dr -\\int\\limits_{r_i}^{r_o} \\Sigma_{s,1 \\rightarrow 3} \\Phi_1(r)\\,\\psi(r)\\,dr  &= 0 \\quad \\forall \\quad \\psi \\in H^1_0\\!\\bigl([r_i,r_o]\\bigr), \\text{and}\n",
    " \\\\\n",
    "\\int\\limits_{r_i}^{r_o} D_2\\, \\Phi_2'(r)\\,\\psi'(r)\\,dr - \\int\\limits_{r_i}^{r_o} \\Sigma_{r,2} \\Phi_2(r)\\,\\psi(r)\\,dr + \\int\\limits_{r_i}^{r_o} \\Sigma_{s,1 \\rightarrow 2} \\Phi_2(r)\\,\\psi(r)\\,dr -\\int\\limits_{r_i}^{r_o} \\Sigma_{s,2 \\rightarrow 3} \\Phi_2(r)\\,\\psi(r)\\,dr  &= 0 \\quad \\forall \\quad \\psi \\in H^1_0\\!\\bigl([r_i,r_o]\\bigr), \\text{and}\n",
    " \\\\\n",
    "\\int\\limits_{r_i}^{r_o} D_3\\, \\Phi_3'(r)\\,\\psi'(r)\\,dr - \\int\\limits_{r_i}^{r_o} \\Sigma_{r,3} \\Phi_3(r)\\,\\psi(r)\\,dr + \\int\\limits_{r_i}^{r_o} \\Sigma_{s,1 \\rightarrow 3} \\Phi_1(r)\\,\\psi(r)\\,dr +\\int\\limits_{r_i}^{r_o} \\Sigma_{s,2 \\rightarrow 3} \\Phi_2(r)\\,\\psi(r)\\,dr  &= 0 \\quad \\forall \\quad \\psi \\in H^1_0\\!\\bigl([r_i,r_o]\\bigr)\n",
    "\\end{align*}\n",
    "\n",
    "\n",
    "\n",
    "\n"
   ]
  },
  {
   "cell_type": "code",
   "execution_count": null,
   "metadata": {},
   "outputs": [],
   "source": []
  },
  {
   "cell_type": "markdown",
   "metadata": {},
   "source": [
    "### [MOOSE Kernels](#toc)<a id=\"kernels\"></a>\n",
    "\n",
    "The following MOOSE kernels were implemented to solve the [weak form](#weakform):\n",
    "1. Diffusion term: $D \\nabla \\Phi \\cdot \\nabla \\phi$\n",
    " + [interface](./include/kernels/DiffusionTerm.h) and [implementation](./src/kernels/DiffusionTerm.C)."
   ]
  },
  {
   "cell_type": "markdown",
   "metadata": {},
   "source": [
    "### [Setup](#toc)<a id=\"setup\"></a>"
   ]
  },
  {
   "cell_type": "markdown",
   "metadata": {},
   "source": [
    "#### [One-Group Energy](#toc)<a id=\"onegroupenergy\"></a>"
   ]
  },
  {
   "cell_type": "markdown",
   "metadata": {},
   "source": [
    "## [Results and Analysis](#toc)<a id=\"ranalysis\"></a>"
   ]
  },
  {
   "cell_type": "markdown",
   "metadata": {},
   "source": [
    "- Text..."
   ]
  },
  {
   "cell_type": "code",
   "execution_count": 4,
   "metadata": {
    "code_folding": [
     2
    ]
   },
   "outputs": [],
   "source": [
    "'''Plot function for FEM Solution'''\n",
    "\n",
    "def plot_solution(df, \n",
    "                  title='No Title', \n",
    "                  basis_functions_type='No basis functions type',\n",
    "                  flux_basis_functions_type='No basis functions type'):\n",
    "    \n",
    "    import matplotlib.pyplot as plt\n",
    "    %matplotlib inline\n",
    "    plt.style.use('dark_background')\n",
    "\n",
    "    (fig, ax1) = plt.subplots(1, figsize=(14, 5))\n",
    "\n",
    "    ax1.plot(df['x'], df['u'].abs()*2.4e9,'r*-',label=basis_functions_type)\n",
    "\n",
    "    ax1.set_xlabel(r'$x$ [cm]', fontsize=18)\n",
    "    ax1.set_ylabel(r'$u_h(x)$ [g/cc]', fontsize=18, color='red')\n",
    "    ax1.set_xscale('log')\n",
    "    ax1.set_yscale('log')\n",
    "\n",
    "    ax1.tick_params(axis='y', labelcolor='red', labelsize=14)\n",
    "    ax1.tick_params(axis='x', labelsize=14)\n",
    "    ax1.legend(loc='center left', fontsize=12)\n",
    "    ax1.set_ylim(1e-12,1e12)\n",
    "    ax1.grid(True)\n",
    "\n",
    "    plt.title(title, fontsize=20)\n",
    "    fig.tight_layout()  # otherwise the right y-label is slightly clipped\n",
    "    plt.show()\n",
    "    print('')"
   ]
  },
  {
   "cell_type": "code",
   "execution_count": 9,
   "metadata": {},
   "outputs": [
    {
     "name": "stdout",
     "output_type": "stream",
     "text": [
      "\n",
      "\n",
      "\u001b[31m\n",
      "*** ERROR ***\n",
      "/Users/pauljohnson/project/engy-5310/projects/neutron-ball/input1G.hit:50: missing required parameter 'Kernels/source-term/type'\n",
      "\tDoc String: \"A string representing the Moose Object that will be built by this Action\"\n",
      "\u001b[39m\n",
      "\n",
      "Stack frames: 15\n",
      "0: 0   libmesh_opt.0.dylib                 0x0000000102ac941b libMesh::print_trace(std::__1::basic_ostream<char, std::__1::char_traits<char> >&) + 1067\n",
      "1: 1   libmoose-opt.0.dylib                0x00000001021edf74 moose::internal::mooseErrorRaw(std::__1::basic_string<char, std::__1::char_traits<char>, std::__1::allocator<char> >, std::__1::basic_string<char, std::__1::char_traits<char>, std::__1::allocator<char> >) + 852\n",
      "2: 2   libmoose-opt.0.dylib                0x00000001016c5038 void mooseError<std::__1::basic_string<char, std::__1::char_traits<char>, std::__1::allocator<char> > >(std::__1::basic_string<char, std::__1::char_traits<char>, std::__1::allocator<char> >&&) + 280\n",
      "3: 3   libmoose-opt.0.dylib                0x00000001021011bb InputParameters::checkParams(std::__1::basic_string<char, std::__1::char_traits<char>, std::__1::allocator<char> > const&) + 6939\n",
      "4: 4   libmoose-opt.0.dylib                0x0000000101d08817 ActionFactory::create(std::__1::basic_string<char, std::__1::char_traits<char>, std::__1::allocator<char> > const&, std::__1::basic_string<char, std::__1::char_traits<char>, std::__1::allocator<char> > const&, InputParameters&) + 183\n",
      "5: 5   libmoose-opt.0.dylib                0x0000000101b5a9ff Parser::walkRaw(std::__1::basic_string<char, std::__1::char_traits<char>, std::__1::allocator<char> >, std::__1::basic_string<char, std::__1::char_traits<char>, std::__1::allocator<char> >, hit::Node*) + 1375\n",
      "6: 6   libmoose-opt.0.dylib                0x0000000101b51d0e Parser::walk(std::__1::basic_string<char, std::__1::char_traits<char>, std::__1::allocator<char> > const&, std::__1::basic_string<char, std::__1::char_traits<char>, std::__1::allocator<char> > const&, hit::Node*) + 334\n",
      "7: 7   libhit-opt.0.dylib                  0x0000000102a20039 hit::Node::walk(hit::Walker*, hit::NodeType) + 105\n",
      "8: 8   libhit-opt.0.dylib                  0x0000000102a2007e hit::Node::walk(hit::Walker*, hit::NodeType) + 174\n",
      "9: 9   libhit-opt.0.dylib                  0x0000000102a2007e hit::Node::walk(hit::Walker*, hit::NodeType) + 174\n",
      "10: 10  libmoose-opt.0.dylib                0x0000000101b5e377 Parser::parse(std::__1::basic_string<char, std::__1::char_traits<char>, std::__1::allocator<char> > const&) + 3431\n",
      "11: 11  libmoose-opt.0.dylib                0x00000001021bfa31 MooseApp::setupOptions() + 11217\n",
      "12: 12  libmoose-opt.0.dylib                0x00000001021bc162 MooseApp::run() + 2674\n",
      "13: 13  neutron-ball-opt                    0x00000001015dbc2b main + 139\n",
      "14: 14  libdyld.dylib                       0x00007fff203e4f3d start + 1\n",
      "application called MPI_Abort(MPI_COMM_WORLD, 1) - process 0\n",
      "[unset]: write_line error; fd=-1 buf=:cmd=abort exitcode=1\n",
      ":\n",
      "system msg for write_line failure : Bad file descriptor\n"
     ]
    }
   ],
   "source": [
    "# !./neutron-ball-opt -i input2G.hit\n",
    "# mooOut1G = np.genfromtxt('./output2G_x-data_0002.csv',delimiter=\",\",comments = '#')\n",
    "!./neutron-ball-opt -i input1G.hit\n",
    "mooOut1G = np.genfromtxt('./output1G_x-data_0002.csv',delimiter=\",\",comments = '#')"
   ]
  },
  {
   "cell_type": "code",
   "execution_count": null,
   "metadata": {},
   "outputs": [],
   "source": []
  },
  {
   "cell_type": "code",
   "execution_count": 8,
   "metadata": {},
   "outputs": [
    {
     "ename": "KeyError",
     "evalue": "'u'",
     "output_type": "error",
     "traceback": [
      "\u001b[0;31m---------------------------------------------------------------------------\u001b[0m",
      "\u001b[0;31mKeyError\u001b[0m                                  Traceback (most recent call last)",
      "\u001b[0;32m~/opt/anaconda3/lib/python3.8/site-packages/pandas/core/indexes/base.py\u001b[0m in \u001b[0;36mget_loc\u001b[0;34m(self, key, method, tolerance)\u001b[0m\n\u001b[1;32m   2894\u001b[0m             \u001b[0;32mtry\u001b[0m\u001b[0;34m:\u001b[0m\u001b[0;34m\u001b[0m\u001b[0;34m\u001b[0m\u001b[0m\n\u001b[0;32m-> 2895\u001b[0;31m                 \u001b[0;32mreturn\u001b[0m \u001b[0mself\u001b[0m\u001b[0;34m.\u001b[0m\u001b[0m_engine\u001b[0m\u001b[0;34m.\u001b[0m\u001b[0mget_loc\u001b[0m\u001b[0;34m(\u001b[0m\u001b[0mcasted_key\u001b[0m\u001b[0;34m)\u001b[0m\u001b[0;34m\u001b[0m\u001b[0;34m\u001b[0m\u001b[0m\n\u001b[0m\u001b[1;32m   2896\u001b[0m             \u001b[0;32mexcept\u001b[0m \u001b[0mKeyError\u001b[0m \u001b[0;32mas\u001b[0m \u001b[0merr\u001b[0m\u001b[0;34m:\u001b[0m\u001b[0;34m\u001b[0m\u001b[0;34m\u001b[0m\u001b[0m\n",
      "\u001b[0;32mpandas/_libs/index.pyx\u001b[0m in \u001b[0;36mpandas._libs.index.IndexEngine.get_loc\u001b[0;34m()\u001b[0m\n",
      "\u001b[0;32mpandas/_libs/index.pyx\u001b[0m in \u001b[0;36mpandas._libs.index.IndexEngine.get_loc\u001b[0;34m()\u001b[0m\n",
      "\u001b[0;32mpandas/_libs/hashtable_class_helper.pxi\u001b[0m in \u001b[0;36mpandas._libs.hashtable.PyObjectHashTable.get_item\u001b[0;34m()\u001b[0m\n",
      "\u001b[0;32mpandas/_libs/hashtable_class_helper.pxi\u001b[0m in \u001b[0;36mpandas._libs.hashtable.PyObjectHashTable.get_item\u001b[0;34m()\u001b[0m\n",
      "\u001b[0;31mKeyError\u001b[0m: 'u'",
      "\nThe above exception was the direct cause of the following exception:\n",
      "\u001b[0;31mKeyError\u001b[0m                                  Traceback (most recent call last)",
      "\u001b[0;32m<ipython-input-8-5edd9e32a62d>\u001b[0m in \u001b[0;36m<module>\u001b[0;34m\u001b[0m\n\u001b[1;32m      1\u001b[0m \u001b[0;32mimport\u001b[0m \u001b[0mpandas\u001b[0m \u001b[0;32mas\u001b[0m \u001b[0mpd\u001b[0m\u001b[0;34m\u001b[0m\u001b[0;34m\u001b[0m\u001b[0m\n\u001b[1;32m      2\u001b[0m \u001b[0mdf\u001b[0m \u001b[0;34m=\u001b[0m \u001b[0mpd\u001b[0m\u001b[0;34m.\u001b[0m\u001b[0mread_csv\u001b[0m\u001b[0;34m(\u001b[0m\u001b[0;34m'output1G_x-data_0002.csv'\u001b[0m\u001b[0;34m)\u001b[0m\u001b[0;34m\u001b[0m\u001b[0;34m\u001b[0m\u001b[0m\n\u001b[0;32m----> 3\u001b[0;31m \u001b[0mplot_solution\u001b[0m\u001b[0;34m(\u001b[0m\u001b[0mdf\u001b[0m\u001b[0;34m,\u001b[0m \u001b[0mtitle\u001b[0m\u001b[0;34m=\u001b[0m\u001b[0;34m'Dirichlet BC FEM Solution'\u001b[0m\u001b[0;34m,\u001b[0m \u001b[0mbasis_functions_type\u001b[0m\u001b[0;34m=\u001b[0m\u001b[0;34m'Linear Lagrange'\u001b[0m\u001b[0;34m,\u001b[0m \u001b[0mflux_basis_functions_type\u001b[0m\u001b[0;34m=\u001b[0m\u001b[0;34m'Constant Monomial'\u001b[0m\u001b[0;34m)\u001b[0m\u001b[0;34m\u001b[0m\u001b[0;34m\u001b[0m\u001b[0m\n\u001b[0m",
      "\u001b[0;32m<ipython-input-4-9c912e5c1e53>\u001b[0m in \u001b[0;36mplot_solution\u001b[0;34m(df, title, basis_functions_type, flux_basis_functions_type)\u001b[0m\n\u001b[1;32m     12\u001b[0m     \u001b[0;34m(\u001b[0m\u001b[0mfig\u001b[0m\u001b[0;34m,\u001b[0m \u001b[0max1\u001b[0m\u001b[0;34m)\u001b[0m \u001b[0;34m=\u001b[0m \u001b[0mplt\u001b[0m\u001b[0;34m.\u001b[0m\u001b[0msubplots\u001b[0m\u001b[0;34m(\u001b[0m\u001b[0;36m1\u001b[0m\u001b[0;34m,\u001b[0m \u001b[0mfigsize\u001b[0m\u001b[0;34m=\u001b[0m\u001b[0;34m(\u001b[0m\u001b[0;36m14\u001b[0m\u001b[0;34m,\u001b[0m \u001b[0;36m5\u001b[0m\u001b[0;34m)\u001b[0m\u001b[0;34m)\u001b[0m\u001b[0;34m\u001b[0m\u001b[0;34m\u001b[0m\u001b[0m\n\u001b[1;32m     13\u001b[0m \u001b[0;34m\u001b[0m\u001b[0m\n\u001b[0;32m---> 14\u001b[0;31m     \u001b[0max1\u001b[0m\u001b[0;34m.\u001b[0m\u001b[0mplot\u001b[0m\u001b[0;34m(\u001b[0m\u001b[0mdf\u001b[0m\u001b[0;34m[\u001b[0m\u001b[0;34m'x'\u001b[0m\u001b[0;34m]\u001b[0m\u001b[0;34m,\u001b[0m \u001b[0mdf\u001b[0m\u001b[0;34m[\u001b[0m\u001b[0;34m'u'\u001b[0m\u001b[0;34m]\u001b[0m\u001b[0;34m.\u001b[0m\u001b[0mabs\u001b[0m\u001b[0;34m(\u001b[0m\u001b[0;34m)\u001b[0m\u001b[0;34m*\u001b[0m\u001b[0;36m2.4e9\u001b[0m\u001b[0;34m,\u001b[0m\u001b[0;34m'r*-'\u001b[0m\u001b[0;34m,\u001b[0m\u001b[0mlabel\u001b[0m\u001b[0;34m=\u001b[0m\u001b[0mbasis_functions_type\u001b[0m\u001b[0;34m)\u001b[0m\u001b[0;34m\u001b[0m\u001b[0;34m\u001b[0m\u001b[0m\n\u001b[0m\u001b[1;32m     15\u001b[0m \u001b[0;34m\u001b[0m\u001b[0m\n\u001b[1;32m     16\u001b[0m     \u001b[0max1\u001b[0m\u001b[0;34m.\u001b[0m\u001b[0mset_xlabel\u001b[0m\u001b[0;34m(\u001b[0m\u001b[0;34mr'$x$ [cm]'\u001b[0m\u001b[0;34m,\u001b[0m \u001b[0mfontsize\u001b[0m\u001b[0;34m=\u001b[0m\u001b[0;36m18\u001b[0m\u001b[0;34m)\u001b[0m\u001b[0;34m\u001b[0m\u001b[0;34m\u001b[0m\u001b[0m\n",
      "\u001b[0;32m~/opt/anaconda3/lib/python3.8/site-packages/pandas/core/frame.py\u001b[0m in \u001b[0;36m__getitem__\u001b[0;34m(self, key)\u001b[0m\n\u001b[1;32m   2900\u001b[0m             \u001b[0;32mif\u001b[0m \u001b[0mself\u001b[0m\u001b[0;34m.\u001b[0m\u001b[0mcolumns\u001b[0m\u001b[0;34m.\u001b[0m\u001b[0mnlevels\u001b[0m \u001b[0;34m>\u001b[0m \u001b[0;36m1\u001b[0m\u001b[0;34m:\u001b[0m\u001b[0;34m\u001b[0m\u001b[0;34m\u001b[0m\u001b[0m\n\u001b[1;32m   2901\u001b[0m                 \u001b[0;32mreturn\u001b[0m \u001b[0mself\u001b[0m\u001b[0;34m.\u001b[0m\u001b[0m_getitem_multilevel\u001b[0m\u001b[0;34m(\u001b[0m\u001b[0mkey\u001b[0m\u001b[0;34m)\u001b[0m\u001b[0;34m\u001b[0m\u001b[0;34m\u001b[0m\u001b[0m\n\u001b[0;32m-> 2902\u001b[0;31m             \u001b[0mindexer\u001b[0m \u001b[0;34m=\u001b[0m \u001b[0mself\u001b[0m\u001b[0;34m.\u001b[0m\u001b[0mcolumns\u001b[0m\u001b[0;34m.\u001b[0m\u001b[0mget_loc\u001b[0m\u001b[0;34m(\u001b[0m\u001b[0mkey\u001b[0m\u001b[0;34m)\u001b[0m\u001b[0;34m\u001b[0m\u001b[0;34m\u001b[0m\u001b[0m\n\u001b[0m\u001b[1;32m   2903\u001b[0m             \u001b[0;32mif\u001b[0m \u001b[0mis_integer\u001b[0m\u001b[0;34m(\u001b[0m\u001b[0mindexer\u001b[0m\u001b[0;34m)\u001b[0m\u001b[0;34m:\u001b[0m\u001b[0;34m\u001b[0m\u001b[0;34m\u001b[0m\u001b[0m\n\u001b[1;32m   2904\u001b[0m                 \u001b[0mindexer\u001b[0m \u001b[0;34m=\u001b[0m \u001b[0;34m[\u001b[0m\u001b[0mindexer\u001b[0m\u001b[0;34m]\u001b[0m\u001b[0;34m\u001b[0m\u001b[0;34m\u001b[0m\u001b[0m\n",
      "\u001b[0;32m~/opt/anaconda3/lib/python3.8/site-packages/pandas/core/indexes/base.py\u001b[0m in \u001b[0;36mget_loc\u001b[0;34m(self, key, method, tolerance)\u001b[0m\n\u001b[1;32m   2895\u001b[0m                 \u001b[0;32mreturn\u001b[0m \u001b[0mself\u001b[0m\u001b[0;34m.\u001b[0m\u001b[0m_engine\u001b[0m\u001b[0;34m.\u001b[0m\u001b[0mget_loc\u001b[0m\u001b[0;34m(\u001b[0m\u001b[0mcasted_key\u001b[0m\u001b[0;34m)\u001b[0m\u001b[0;34m\u001b[0m\u001b[0;34m\u001b[0m\u001b[0m\n\u001b[1;32m   2896\u001b[0m             \u001b[0;32mexcept\u001b[0m \u001b[0mKeyError\u001b[0m \u001b[0;32mas\u001b[0m \u001b[0merr\u001b[0m\u001b[0;34m:\u001b[0m\u001b[0;34m\u001b[0m\u001b[0;34m\u001b[0m\u001b[0m\n\u001b[0;32m-> 2897\u001b[0;31m                 \u001b[0;32mraise\u001b[0m \u001b[0mKeyError\u001b[0m\u001b[0;34m(\u001b[0m\u001b[0mkey\u001b[0m\u001b[0;34m)\u001b[0m \u001b[0;32mfrom\u001b[0m \u001b[0merr\u001b[0m\u001b[0;34m\u001b[0m\u001b[0;34m\u001b[0m\u001b[0m\n\u001b[0m\u001b[1;32m   2898\u001b[0m \u001b[0;34m\u001b[0m\u001b[0m\n\u001b[1;32m   2899\u001b[0m         \u001b[0;32mif\u001b[0m \u001b[0mtolerance\u001b[0m \u001b[0;32mis\u001b[0m \u001b[0;32mnot\u001b[0m \u001b[0;32mNone\u001b[0m\u001b[0;34m:\u001b[0m\u001b[0;34m\u001b[0m\u001b[0;34m\u001b[0m\u001b[0m\n",
      "\u001b[0;31mKeyError\u001b[0m: 'u'"
     ]
    },
    {
     "data": {
      "image/png": "[encoded data removed]",
      "text/plain": [
       "<Figure size 1008x360 with 1 Axes>"
      ]
     },
     "metadata": {},
     "output_type": "display_data"
    }
   ],
   "source": [
    "\n",
    "import pandas as pd\n",
    "df = pd.read_csv('output1G_x-data_0002.csv')\n",
    "plot_solution(df, title='Dirichlet BC FEM Solution', basis_functions_type='Linear Lagrange', flux_basis_functions_type='Constant Monomial')\n"
   ]
  },
  {
   "cell_type": "code",
   "execution_count": null,
   "metadata": {},
   "outputs": [],
   "source": []
  },
  {
   "cell_type": "markdown",
   "metadata": {},
   "source": [
    "- Text..."
   ]
  },
  {
   "cell_type": "markdown",
   "metadata": {},
   "source": [
    "## [Conclusions](#toc)<a id=\"conclusions\"></a>"
   ]
  },
  {
   "cell_type": "markdown",
   "metadata": {},
   "source": [
    "- Text..."
   ]
  },
  {
   "cell_type": "markdown",
   "metadata": {},
   "source": [
    "- Text..."
   ]
  },
  {
   "cell_type": "markdown",
   "metadata": {},
   "source": [
    "## [References](#toc)<a id=\"refs\"></a>\n",
    "\n",
    "- [1] V. F. de Almeida, [*Engy-5310: Computational Continuum Transport Phenomena*](https://github.com/dpploy/engy-5310), University of Massachusetts Lowell, Dept. of Chemical Engineering (Nuclear Energy Program).\n",
    "- [2] Multiphysics Object-Oriented Simulation Environment [(MOOSE)](https://mooseframework.org)\n",
    "- [3] author, [reference]()\n",
    "- [4] author, [reference]()"
   ]
  },
  {
   "cell_type": "code",
   "execution_count": null,
   "metadata": {},
   "outputs": [],
   "source": []
  },
  {
   "cell_type": "code",
   "execution_count": null,
   "metadata": {},
   "outputs": [],
   "source": []
  }
 ],
 "metadata": {
  "kernelspec": {
   "display_name": "Python 3",
   "language": "python",
   "name": "python3"
  },
  "language_info": {
   "codemirror_mode": {
    "name": "ipython",
    "version": 3
   },
   "file_extension": ".py",
   "mimetype": "text/x-python",
   "name": "python",
   "nbconvert_exporter": "python",
   "pygments_lexer": "ipython3",
   "version": "3.8.5"
  },
  "latex_envs": {
   "LaTeX_envs_menu_present": true,
   "autoclose": false,
   "autocomplete": true,
   "bibliofile": "biblio.bib",
   "cite_by": "apalike",
   "current_citInitial": 1,
   "eqLabelWithNumbers": true,
   "eqNumInitial": 1,
   "hotkeys": {
    "equation": "Ctrl-E",
    "itemize": "Ctrl-I"
   },
   "labels_anchors": false,
   "latex_user_defs": false,
   "report_style_numbering": false,
   "user_envs_cfg": false
  }
 },
 "nbformat": 4,
 "nbformat_minor": 4
}

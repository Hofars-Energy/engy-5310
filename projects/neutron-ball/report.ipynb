{
 "cells": [
  {
   "cell_type": "markdown",
   "metadata": {},
   "source": [
    "**Engy-5310** Computational Continuum Transport Phenomena, UMass Lowell, Chem. Eng. Nuclear Program Spring 2021; Prof. V. F. de Almeida\n",
    "\n",
    "# Neutron Diffusion on a Spherical Domain in Vacuum\n",
    "$  \n",
    "  \\newcommand{\\Amtrx}{\\boldsymbol{\\mathsf{A}}}\n",
    "  \\newcommand{\\Bmtrx}{\\boldsymbol{\\mathsf{B}}}\n",
    "  \\newcommand{\\Mmtrx}{\\boldsymbol{\\mathsf{M}}}\n",
    "  \\newcommand{\\Imtrx}{\\boldsymbol{\\mathsf{I}}}\n",
    "  \\newcommand{\\Pmtrx}{\\boldsymbol{\\mathsf{P}}}\n",
    "  \\newcommand{\\Lmtrx}{\\boldsymbol{\\mathsf{L}}}\n",
    "  \\newcommand{\\Umtrx}{\\boldsymbol{\\mathsf{U}}}\n",
    "  \\newcommand{\\Smtrx}{\\boldsymbol{\\mathsf{S}}}\n",
    "  \\newcommand{\\xvec}{\\boldsymbol{\\mathsf{x}}}\n",
    "  \\newcommand{\\avec}{\\boldsymbol{\\mathsf{a}}}\n",
    "  \\newcommand{\\bvec}{\\boldsymbol{\\mathsf{b}}}\n",
    "  \\newcommand{\\cvec}{\\boldsymbol{\\mathsf{c}}}\n",
    "  \\newcommand{\\rvec}{\\boldsymbol{\\mathsf{r}}}\n",
    "  \\newcommand{\\fvec}{\\boldsymbol{\\mathsf{f}}}\n",
    "  \\newcommand{\\mvec}{\\boldsymbol{\\mathsf{m}}}\n",
    "  \\newcommand{\\gvec}{\\boldsymbol{\\mathsf{g}}}\n",
    "  \\newcommand{\\zerovec}{\\boldsymbol{\\mathsf{0}}}\n",
    "  \\newcommand{\\norm}[1]{\\bigl\\lVert{#1}\\bigr\\rVert}\n",
    "  \\newcommand{\\transpose}[1]{{#1}^\\top}\n",
    "  \\DeclareMathOperator{\\rank}{rank}\n",
    "  \\newcommand{\\Reals}{\\mathbb{R}}\n",
    "  \\newcommand{\\thetavec}{\\boldsymbol{\\theta}}\n",
    "$"
   ]
  },
  {
   "cell_type": "markdown",
   "metadata": {},
   "source": [
    "**Student(s):**  <br>\n",
    "**Course:** Engy-5310 Computational Continuum Transport Phenomena  <br>\n",
    "**Mentor:** \n",
    "\n",
    "UMass Lowell, Dept. of Chemical Engineering, Nuclear Energy Program \n",
    "<br>\n",
    "**27Mar2021**"
   ]
  },
  {
   "cell_type": "markdown",
   "metadata": {},
   "source": [
    "---\n",
    "## Table of Contents<a id=\"toc\"></a>\n",
    "* [Introduction](#intro)\n",
    "* [Problem Statement](#problem)\n",
    "* [Objectives](#obj)\n",
    "* [Approach](#app)\n",
    " + [Setup](#setup)\n",
    "* [Results and Analysis](#ranalysis)\n",
    "* [Conclusions](#conclusions)\n",
    "* [References](#refs)\n",
    "---"
   ]
  },
  {
   "cell_type": "markdown",
   "metadata": {},
   "source": [
    "## [Introduction](#toc)<a id=\"intro\"></a>"
   ]
  },
  {
   "cell_type": "markdown",
   "metadata": {},
   "source": [
    "- Text... "
   ]
  },
  {
   "cell_type": "markdown",
   "metadata": {},
   "source": [
    "- Text... "
   ]
  },
  {
   "cell_type": "markdown",
   "metadata": {},
   "source": [
    "## [Problem Statement](#toc)<a id=\"problem\"></a>"
   ]
  },
  {
   "cell_type": "markdown",
   "metadata": {},
   "source": [
    "### [Analytic Solution Statement](#toc)<a id=\"dbcstrong\"></a> \n",
    "\n",
    "A general solution is commonly given without the asymptotic condition as:\n",
    "\n",
    "\\begin{align*}\n",
    "    \\Phi(r) =  \\frac{S_0 e^{-\\kappa r}}{4\\pi Dr} \\ \\ \\ (2)\n",
    "\\end{align*}\n",
    "\n",
    "On the other hand, linear transport theory does provide a result at the asymptotic limit for moderately absorbing mediums given that the source flux is not infinity. The integral transport equation is written:\n",
    "\n",
    "\n",
    "\\begin{align*}\n",
    "    \\Phi(r) = \\int dV\\  \\frac{S_0 e^{- \\Sigma_t r}}{4 \\pi r^2} [c \\Sigma_t \\Phi(r') + S_0 \\delta(r')] \\ \\ \\ (3)\n",
    "\\end{align*}\n",
    "\n",
    "In this solution we will currently assume $S_0 = 0$ for a single distributed source.\n",
    "\n",
    "### [Weak Form Statement](#toc)<a id=\"dbcstrong\"></a> \n",
    "\n",
    "\n",
    "The weak form of the neutron diffusion equation (NDE) is arrived to by:\n",
    "\n",
    "1. Multiply NDE by a test function $\\phi$.\n",
    "2. Integrate over spatial and angular domain.\n",
    "3. Use divergence theorem to set the boundary condition across the domain surface.\n",
    "\n",
    "The weak form and boundary condition becomes:\n",
    "\n",
    "\\begin{align*}\n",
    "    ( \\nabla \\phi, D \\nabla \\Phi  )\\ - < \\phi, D \\nabla \\Phi \\cdot \\bar{n_b} > +\\ (\\phi , \\Sigma_{tot} \\Phi) = 0 \\ \\ \\ (1B)\n",
    "\\end{align*}\n",
    "\n",
    "This weak form contains the volume and surface integral as written with parenthesis and brackets respectively. The boundary conditions for the partial currents at the surface given as $\\Gamma^{\\pm}$ must be solved for:\n",
    "\n",
    "\\begin{align*}\n",
    "    \\Gamma^{+} = J^{out}({R_S}) = \\nabla \\Phi \\cdot \\bar{n_b}\n",
    "\\end{align*}\n",
    "\n",
    "\\begin{align*}\n",
    "    \\Gamma^{-} = J^{in}({R_S}) = 0\n",
    "\\end{align*}\n",
    "\n",
    "Here we will use the homogenous Neumann boundary condition, which is equivalent to the Robin boundary condition such that the reflectivity at the boundary is 0 as:\n",
    "\n",
    "\\begin{align*}\n",
    "    \\frac{1}{4} \\Phi + \\frac{1}{2} D \\nabla \\Phi \\cdot \\bar{n_b} = J^{-} = \\frac{\\Phi}{4} - \\frac{J}{2} = \\frac{\\Phi}{4} - \\frac{D \\nabla \\Phi}{2}\n",
    "\\end{align*}\n",
    "\n",
    "Solving for the weak form boundary condition and multiplying our test function $\\phi$:\n",
    "\n",
    "\\begin{align*}\n",
    "     \\phi (D \\nabla \\Phi \\cdot \\bar{n_b}) = \\phi( \\frac{1}{2} D \\nabla \\Phi)\n",
    "\\end{align*}\n",
    "\n",
    "__These boundary conditiions are not fitting - VacuumBC condition is sought instead__"
   ]
  },
  {
   "cell_type": "code",
   "execution_count": 1,
   "metadata": {},
   "outputs": [],
   "source": [
    "# import pyvista as pv\n",
    "# #pv.set_plot_theme('paraview')\n",
    "\n",
    "# radius_i = 1\n",
    "# radius_o = 20 * radius_i\n",
    "# outer = pv.Sphere(center=(0,0,0), direction=(0,0,1), radius=radius_o)\n",
    "# inner = pv.Sphere(center=(0,0,0), direction=(0,0,1), radius=radius_i)\n",
    "\n",
    "# plo = pv.Plotter(notebook=True, shape=(1,1)) \n",
    "\n",
    "# plo.subplot(0,0)\n",
    "# plo.add_mesh(outer, color='lightblue', opacity=0.99,)\n",
    "# plo.add_mesh(inner, color='red', opacity=1)\n",
    "# plo.add_axes(xlabel='R', ylabel='Theta', zlabel='Phi')\n",
    "\n",
    "# cpos = plo.show(window_size=[800, 600])"
   ]
  },
  {
   "cell_type": "markdown",
   "metadata": {},
   "source": [
    "### [Strong Form of Problem Statement](#toc)<a id=\"dbcstrong\"></a>\n",
    "\n",
    "The neutron intensity, in the diffusion limit, in a spherical domain with a concentrated finite source at the origin, gives rise to a Poisson model problem for the neutron intensity $I:[a,b]\\in\\Reals\\rightarrow\\Reals$ such that:\n",
    "\n",
    "\\begin{align*}\n",
    " -\\bigl(-D\\, I'\\bigr)'(r) - \\Sigma_a\\, I &= 0 \\quad \\forall \\quad r\\in [a,b], \\\\\n",
    " q_n(a)^- &= S, \\\\\n",
    " q_n(b)^+ &= \\frac{\\alpha}{2}\\, I.\n",
    "\\end{align*}\n",
    "   \n",
    "This problem has an analytical solution for constant values of $D$, $S$, and $\\Sigma_a$. The outer boundary condition on the forward normal flux of neutrons implies that the backward normal flux is null, $q_n(b)^- = 0$. The particular value of $\\alpha$ depends on the model assumed for the neutron distribution at the outer boundary. The model used here is as follows:\n",
    "\n",
    "\\begin{align*}\n",
    "\\text{Place holder for vacuum model}\n",
    "\\end{align*}"
   ]
  },
  {
   "cell_type": "markdown",
   "metadata": {},
   "source": [
    "- Text... "
   ]
  },
  {
   "cell_type": "markdown",
   "metadata": {},
   "source": [
    "## [Objectives](#toc)<a id=\"obj\"></a>"
   ]
  },
  {
   "cell_type": "markdown",
   "metadata": {},
   "source": [
    "- Text..."
   ]
  },
  {
   "cell_type": "markdown",
   "metadata": {},
   "source": [
    "- Text..."
   ]
  },
  {
   "cell_type": "markdown",
   "metadata": {},
   "source": [
    "## [Approach](#toc)<a id=\"app\"></a>"
   ]
  },
  {
   "cell_type": "markdown",
   "metadata": {},
   "source": [
    "- Text..."
   ]
  },
  {
   "cell_type": "markdown",
   "metadata": {},
   "source": [
    "### [Setup](#toc)<a id=\"setup\"></a>"
   ]
  },
  {
   "cell_type": "code",
   "execution_count": 2,
   "metadata": {},
   "outputs": [],
   "source": [
    "'''Domain'''\n",
    "\n",
    "x_a = 0\n",
    "x_b = 1000\n",
    "\n",
    "x_length = x_b - x_a"
   ]
  },
  {
   "cell_type": "code",
   "execution_count": 5,
   "metadata": {},
   "outputs": [],
   "source": [
    "'''Parameters and data'''\n",
    "\n",
    "diff_coeff = 2.04\n",
    "s_source = 0\n",
    "\n",
    "u_a = 4.17\n",
    "transfer_coeff_right = 2.0"
   ]
  },
  {
   "cell_type": "code",
   "execution_count": 6,
   "metadata": {},
   "outputs": [],
   "source": [
    "# '''FEM Solution'''\n",
    "\n",
    "# n_felem = 10\n",
    "\n",
    "# order = 'first'\n",
    "\n",
    "# n_plot_pts = n_felem + 1\n",
    "\n",
    "# from tools.toolkit import write_engy5310_p1_1d_input_file\n",
    "\n",
    "# write_engy5310_p1_1d_input_file(x_left=x_a, x_right=x_b, \n",
    "#                                 u_left=u_a, \n",
    "#                                 transfer_coeff_right=transfer_coeff_right,\n",
    "#                                 diff_coeff=diff_coeff,\n",
    "#                                 n_felem=n_felem, order=order, \n",
    "#                                 n_plot_pts=n_plot_pts,\n",
    "#                                 use_moose_neumann_bc=True,\n",
    "#                                 file_name='input.hit')"
   ]
  },
  {
   "cell_type": "code",
   "execution_count": 7,
   "metadata": {},
   "outputs": [
    {
     "name": "stdout",
     "output_type": "stream",
     "text": [
      "\n",
      "\u001b[33m\n",
      "*** Warning, This code is deprecated and will be removed in future versions:\n",
      "The parameter 'use_legacy_dirichlet_bc' is no longer valid.\n",
      "\n",
      "All Dirichlet boundary conditions are preset by default.\n",
      "\n",
      "Remove said parameter in main to remove this deprecation warning.\u001b[39m\n",
      "Stack frames: 10\n",
      "0: 0   libmesh_opt.0.dylib                 0x000000010f79841b libMesh::print_trace(std::__1::basic_ostream<char, std::__1::char_traits<char> >&) + 1067\n",
      "1: 1   libmoose-opt.0.dylib                0x000000010eed620e void moose::internal::mooseDeprecatedStream<libMesh::BasicOStreamProxy<char, std::__1::char_traits<char> >, char const (&) [62], char const (&) [59], char const (&) [26], std::__1::basic_string<char, std::__1::char_traits<char>, std::__1::allocator<char> > const&, char const (&) [37]>(libMesh::BasicOStreamProxy<char, std::__1::char_traits<char> >&, bool, char const (&) [62], char const (&) [59], char const (&) [26], std::__1::basic_string<char, std::__1::char_traits<char>, std::__1::allocator<char> > const&, char const (&) [37]) + 830\n",
      "2: 2   libmoose-opt.0.dylib                0x000000010eed15b5 MooseApp::MooseApp(InputParameters) + 9349\n",
      "3: 3   libneutron-ball-opt.0.dylib         0x000000010e366019 NeutronBallApp::NeutronBallApp(InputParameters) + 57\n",
      "4: 4   libneutron-ball-opt.0.dylib         0x000000010e366236 std::__1::shared_ptr<MooseApp> buildApp<NeutronBallApp>(InputParameters const&) + 118\n",
      "5: 5   libmoose-opt.0.dylib                0x000000010ee5e874 AppFactory::createShared(std::__1::basic_string<char, std::__1::char_traits<char>, std::__1::allocator<char> > const&, std::__1::basic_string<char, std::__1::char_traits<char>, std::__1::allocator<char> > const&, InputParameters, int) + 612\n",
      "6: 6   libmoose-opt.0.dylib                0x000000010ee5f066 AppFactory::createAppShared(std::__1::basic_string<char, std::__1::char_traits<char>, std::__1::allocator<char> > const&, int, char**, int) + 550\n",
      "7: 7   neutron-ball-opt                    0x000000010e34cc12 main + 114\n",
      "8: 8   libdyld.dylib                       0x00007fff205ed621 start + 1\n",
      "9: 9   ???                                 0x0000000000000003 0x0 + 3\n",
      "\n",
      "\n",
      "\n",
      "Framework Information:\n",
      "MOOSE Version:           git commit f07bdea446 on 2021-04-21\n",
      "LibMesh Version:         \n",
      "PETSc Version:           3.14.2\n",
      "SLEPc Version:           3.14.0\n",
      "Current Time:            Fri Apr 23 18:51:39 2021\n",
      "Executable Timestamp:    Fri Apr 23 18:19:52 2021\n",
      "\n",
      "Parallelism:\n",
      "  Num Processors:          1\n",
      "  Num Threads:             1\n",
      "\n",
      "Mesh: \n",
      "  Parallel Type:           replicated\n",
      "  Mesh Dimension:          1\n",
      "  Spatial Dimension:       1\n",
      "  Nodes:                   \n",
      "    Total:                 21\n",
      "    Local:                 21\n",
      "  Elems:                   \n",
      "    Total:                 10\n",
      "    Local:                 10\n",
      "  Num Subdomains:          1\n",
      "  Num Partitions:          1\n",
      "\n",
      "Nonlinear System:\n",
      "  Num DOFs:                21\n",
      "  Num Local DOFs:          21\n",
      "  Variables:               \"u\" \n",
      "  Finite Element Types:    \"LAGRANGE\" \n",
      "  Approximation Orders:    \"SECOND\" \n",
      "\n",
      "Execution Information:\n",
      "  Executioner:             Steady\n",
      "  Solver Mode:             Preconditioned JFNK\n",
      "  PETSc Preconditioner:    hypre boomeramg \n",
      "\n",
      " 0 Nonlinear |R| = \u001b[32m3.172243e-01\u001b[39m\n",
      "      0 Linear |R| = \u001b[32m3.172243e-01\u001b[39m\n",
      "      1 Linear |R| = \u001b[32m1.655131e-09\u001b[39m\n",
      " 1 Nonlinear |R| = \u001b[32m2.954041e-09\u001b[39m\n",
      "\u001b[32m Solve Converged!\u001b[39m\n"
     ]
    }
   ],
   "source": [
    "!./neutron-ball-opt -i input.hit"
   ]
  },
  {
   "cell_type": "markdown",
   "metadata": {},
   "source": [
    "- Text..."
   ]
  },
  {
   "cell_type": "markdown",
   "metadata": {},
   "source": [
    "## [Results and Analysis](#toc)<a id=\"ranalysis\"></a>"
   ]
  },
  {
   "cell_type": "markdown",
   "metadata": {},
   "source": [
    "- Text..."
   ]
  },
  {
   "cell_type": "code",
   "execution_count": 8,
   "metadata": {
    "code_folding": []
   },
   "outputs": [],
   "source": [
    "'''Plot function for FEM Solution'''\n",
    "\n",
    "def plot_solution(df, \n",
    "                  title='No Title', \n",
    "                  basis_functions_type='No basis functions type',\n",
    "                  flux_basis_functions_type='No basis functions type'):\n",
    "    \n",
    "    import matplotlib.pyplot as plt\n",
    "    %matplotlib inline\n",
    "    plt.style.use('dark_background')\n",
    "\n",
    "    (fig, ax1) = plt.subplots(1, figsize=(14, 5))\n",
    "\n",
    "    ax1.plot(df['x'], df['u'].abs()*2.4e9,'r*-',label=basis_functions_type)\n",
    "\n",
    "    ax1.set_xlabel(r'$x$ [cm]', fontsize=18)\n",
    "    ax1.set_ylabel(r'$u_h(x)$ [g/cc]', fontsize=18, color='red')\n",
    "    ax1.set_xscale('log')\n",
    "    ax1.set_yscale('log')\n",
    "\n",
    "    ax1.tick_params(axis='y', labelcolor='red', labelsize=14)\n",
    "    ax1.tick_params(axis='x', labelsize=14)\n",
    "    ax1.legend(loc='center left', fontsize=12)\n",
    "    ax1.set_ylim(1e-20,1e12)\n",
    "    ax1.grid(True)\n",
    "\n",
    "    if 'diffFluxU_x' in df.columns:\n",
    "        # create a twin x axis to be shared\n",
    "        ax2 = ax1.twinx()\n",
    "\n",
    "        ax2.plot(df['x'], df['diffFluxU_x'],'b*-',label=flux_basis_functions_type)\n",
    "\n",
    "        ax2.set_ylabel(r\"$q_h(x)$ [g/cm2-s]\", fontsize=16, color='lightblue')\n",
    "        ax2.tick_params(axis='y', labelcolor='lightblue', labelsize=14)\n",
    "        ax2.legend(loc='center right', fontsize=12)\n",
    "        #ax2.set_ylim(0,2)\n",
    "        #ax2.grid(True)\n",
    "\n",
    "    plt.title(title, fontsize=20)\n",
    "    fig.tight_layout()  # otherwise the right y-label is slightly clipped\n",
    "    plt.show()\n",
    "    print('')"
   ]
  },
  {
   "cell_type": "code",
   "execution_count": 9,
   "metadata": {},
   "outputs": [
    {
     "ename": "ImportError",
     "evalue": "Unable to import required dependencies:\nnumpy: \n\nIMPORTANT: PLEASE READ THIS FOR ADVICE ON HOW TO SOLVE THIS ISSUE!\n\nImporting the numpy C-extensions failed. This error can happen for\nmany reasons, often due to issues with your setup or how NumPy was\ninstalled.\n\nWe have compiled some common reasons and troubleshooting tips at:\n\n    https://numpy.org/devdocs/user/troubleshooting-importerror.html\n\nPlease note and check the following:\n\n  * The Python version is: Python3.8 from \"/Users/pauljohnson/opt/anaconda3/bin/python\"\n  * The NumPy version is: \"1.20.1\"\n\nand make sure that they are the versions you expect.\nPlease carefully study the documentation linked above for further help.\n\nOriginal error was: dlopen(/Users/pauljohnson/opt/anaconda3/lib/python3.8/site-packages/numpy/core/_multiarray_umath.cpython-38-darwin.so, 2): Library not loaded: @rpath/libopenblas.dylib\n  Referenced from: /Users/pauljohnson/opt/anaconda3/lib/python3.8/site-packages/numpy/core/_multiarray_umath.cpython-38-darwin.so\n  Reason: image not found\n",
     "output_type": "error",
     "traceback": [
      "\u001b[0;31m---------------------------------------------------------------------------\u001b[0m",
      "\u001b[0;31mImportError\u001b[0m                               Traceback (most recent call last)",
      "\u001b[0;32m<ipython-input-9-9f8ddcb1bc59>\u001b[0m in \u001b[0;36m<module>\u001b[0;34m\u001b[0m\n\u001b[0;32m----> 1\u001b[0;31m \u001b[0;32mimport\u001b[0m \u001b[0mpandas\u001b[0m \u001b[0;32mas\u001b[0m \u001b[0mpd\u001b[0m\u001b[0;34m\u001b[0m\u001b[0;34m\u001b[0m\u001b[0m\n\u001b[0m\u001b[1;32m      2\u001b[0m \u001b[0mdf\u001b[0m \u001b[0;34m=\u001b[0m \u001b[0mpd\u001b[0m\u001b[0;34m.\u001b[0m\u001b[0mread_csv\u001b[0m\u001b[0;34m(\u001b[0m\u001b[0;34m'output_x-data_0002.csv'\u001b[0m\u001b[0;34m)\u001b[0m\u001b[0;34m\u001b[0m\u001b[0;34m\u001b[0m\u001b[0m\n\u001b[1;32m      3\u001b[0m \u001b[0;34m\u001b[0m\u001b[0m\n\u001b[1;32m      4\u001b[0m \u001b[0mplot_solution\u001b[0m\u001b[0;34m(\u001b[0m\u001b[0mdf\u001b[0m\u001b[0;34m,\u001b[0m \u001b[0mtitle\u001b[0m\u001b[0;34m=\u001b[0m\u001b[0;34m'Dirichlet BC FEM Solution'\u001b[0m\u001b[0;34m,\u001b[0m \u001b[0mbasis_functions_type\u001b[0m\u001b[0;34m=\u001b[0m\u001b[0;34m'Linear Lagrange'\u001b[0m\u001b[0;34m,\u001b[0m \u001b[0mflux_basis_functions_type\u001b[0m\u001b[0;34m=\u001b[0m\u001b[0;34m'Constant Monomial'\u001b[0m\u001b[0;34m)\u001b[0m\u001b[0;34m\u001b[0m\u001b[0;34m\u001b[0m\u001b[0m\n",
      "\u001b[0;32m~/opt/anaconda3/lib/python3.8/site-packages/pandas/__init__.py\u001b[0m in \u001b[0;36m<module>\u001b[0;34m\u001b[0m\n\u001b[1;32m     14\u001b[0m \u001b[0;34m\u001b[0m\u001b[0m\n\u001b[1;32m     15\u001b[0m \u001b[0;32mif\u001b[0m \u001b[0mmissing_dependencies\u001b[0m\u001b[0;34m:\u001b[0m\u001b[0;34m\u001b[0m\u001b[0;34m\u001b[0m\u001b[0m\n\u001b[0;32m---> 16\u001b[0;31m     raise ImportError(\n\u001b[0m\u001b[1;32m     17\u001b[0m         \u001b[0;34m\"Unable to import required dependencies:\\n\"\u001b[0m \u001b[0;34m+\u001b[0m \u001b[0;34m\"\\n\"\u001b[0m\u001b[0;34m.\u001b[0m\u001b[0mjoin\u001b[0m\u001b[0;34m(\u001b[0m\u001b[0mmissing_dependencies\u001b[0m\u001b[0;34m)\u001b[0m\u001b[0;34m\u001b[0m\u001b[0;34m\u001b[0m\u001b[0m\n\u001b[1;32m     18\u001b[0m     )\n",
      "\u001b[0;31mImportError\u001b[0m: Unable to import required dependencies:\nnumpy: \n\nIMPORTANT: PLEASE READ THIS FOR ADVICE ON HOW TO SOLVE THIS ISSUE!\n\nImporting the numpy C-extensions failed. This error can happen for\nmany reasons, often due to issues with your setup or how NumPy was\ninstalled.\n\nWe have compiled some common reasons and troubleshooting tips at:\n\n    https://numpy.org/devdocs/user/troubleshooting-importerror.html\n\nPlease note and check the following:\n\n  * The Python version is: Python3.8 from \"/Users/pauljohnson/opt/anaconda3/bin/python\"\n  * The NumPy version is: \"1.20.1\"\n\nand make sure that they are the versions you expect.\nPlease carefully study the documentation linked above for further help.\n\nOriginal error was: dlopen(/Users/pauljohnson/opt/anaconda3/lib/python3.8/site-packages/numpy/core/_multiarray_umath.cpython-38-darwin.so, 2): Library not loaded: @rpath/libopenblas.dylib\n  Referenced from: /Users/pauljohnson/opt/anaconda3/lib/python3.8/site-packages/numpy/core/_multiarray_umath.cpython-38-darwin.so\n  Reason: image not found\n"
     ]
    }
   ],
   "source": [
    "import pandas as pd\n",
    "df = pd.read_csv('output_x-data_0002.csv')\n",
    "plot_solution(df, title='Dirichlet BC FEM Solution', basis_functions_type='Linear Lagrange', flux_basis_functions_type='Constant Monomial')"
   ]
  },
  {
   "cell_type": "markdown",
   "metadata": {},
   "source": [
    "- Text..."
   ]
  },
  {
   "cell_type": "markdown",
   "metadata": {},
   "source": [
    "## [Conclusions](#toc)<a id=\"conclusions\"></a>"
   ]
  },
  {
   "cell_type": "markdown",
   "metadata": {},
   "source": [
    "- Text..."
   ]
  },
  {
   "cell_type": "markdown",
   "metadata": {},
   "source": [
    "- Text..."
   ]
  },
  {
   "cell_type": "markdown",
   "metadata": {},
   "source": [
    "## [References](#toc)<a id=\"refs\"></a>\n",
    "\n",
    "- [1] V. F. de Almeida, [*Engy-5310: Computational Continuum Transport Phenomena*](https://github.com/dpploy/engy-5310), University of Massachusetts Lowell, Dept. of Chemical Engineering (Nuclear Energy Program).\n",
    "- [2] Multiphysics Object-Oriented Simulation Environment [(MOOSE)](https://mooseframework.org)\n",
    "- [3] author, [reference]()\n",
    "- [4] author, [reference]()"
   ]
  }
 ],
 "metadata": {
  "kernelspec": {
   "display_name": "Python 3",
   "language": "python",
   "name": "python3"
  },
  "language_info": {
   "codemirror_mode": {
    "name": "ipython",
    "version": 3
   },
   "file_extension": ".py",
   "mimetype": "text/x-python",
   "name": "python",
   "nbconvert_exporter": "python",
   "pygments_lexer": "ipython3",
   "version": "3.8.5"
  },
  "latex_envs": {
   "LaTeX_envs_menu_present": true,
   "autoclose": false,
   "autocomplete": true,
   "bibliofile": "biblio.bib",
   "cite_by": "apalike",
   "current_citInitial": 1,
   "eqLabelWithNumbers": true,
   "eqNumInitial": 1,
   "hotkeys": {
    "equation": "Ctrl-E",
    "itemize": "Ctrl-I"
   },
   "labels_anchors": false,
   "latex_user_defs": false,
   "report_style_numbering": false,
   "user_envs_cfg": false
  }
 },
 "nbformat": 4,
 "nbformat_minor": 4
}

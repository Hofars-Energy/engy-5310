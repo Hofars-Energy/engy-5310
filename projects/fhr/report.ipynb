{
 "cells": [
  {
   "cell_type": "code",
   "execution_count": 2,
   "metadata": {},
   "outputs": [],
   "source": [
    "from IPython.display import Image\n"
   ]
  },
  {
   "cell_type": "markdown",
   "metadata": {},
   "source": [
    "**Engy-5310** Computational Continuum Transport Phenomena, UMass Lowell, Chem. Eng. Nuclear Program Spring 2021; Prof. V. F. de Almeida\n",
    "\n",
    "# Fluoride Salt Cooled High-Temperature Channel Flow\n",
    "$  \n",
    "  \\newcommand{\\Amtrx}{\\boldsymbol{\\mathsf{A}}}\n",
    "  \\newcommand{\\Bmtrx}{\\boldsymbol{\\mathsf{B}}}\n",
    "  \\newcommand{\\Mmtrx}{\\boldsymbol{\\mathsf{M}}}\n",
    "  \\newcommand{\\Imtrx}{\\boldsymbol{\\mathsf{I}}}\n",
    "  \\newcommand{\\Pmtrx}{\\boldsymbol{\\mathsf{P}}}\n",
    "  \\newcommand{\\Lmtrx}{\\boldsymbol{\\mathsf{L}}}\n",
    "  \\newcommand{\\Umtrx}{\\boldsymbol{\\mathsf{U}}}\n",
    "  \\newcommand{\\Smtrx}{\\boldsymbol{\\mathsf{S}}}\n",
    "  \\newcommand{\\xvec}{\\boldsymbol{\\mathsf{x}}}\n",
    "  \\newcommand{\\uvar}{\\boldsymbol{u}}\n",
    "  \\newcommand{\\fvar}{\\boldsymbol{f}}\n",
    "  \\newcommand{\\normal}{\\boldsymbol{n}}\n",
    "  \\newcommand{\\avec}{\\boldsymbol{\\mathsf{a}}}\n",
    "  \\newcommand{\\bvec}{\\boldsymbol{\\mathsf{b}}}\n",
    "  \\newcommand{\\cvec}{\\boldsymbol{\\mathsf{c}}}\n",
    "  \\newcommand{\\rvec}{\\boldsymbol{\\mathsf{r}}}\n",
    "  \\newcommand{\\mvec}{\\boldsymbol{\\mathsf{m}}}\n",
    "  \\newcommand{\\gvec}{\\boldsymbol{\\mathsf{g}}}\n",
    "  \\newcommand{\\zerovec}{\\boldsymbol{\\mathsf{0}}}\n",
    "  \\newcommand{\\norm}[1]{\\bigl\\lVert{#1}\\bigr\\rVert}\n",
    "  \\newcommand{\\transpose}[1]{{#1}^\\top}\n",
    "  \\DeclareMathOperator{\\rank}{rank}\n",
    "  \\newcommand{\\Power}{\\mathcal{P}}\n",
    "$"
   ]
  },
  {
   "cell_type": "markdown",
   "metadata": {},
   "source": [
    "**Student(s):**  Austin Rotker <br>\n",
    "**Course:** Engy-5310 Computational Continuum Transport Phenomena  <br>\n",
    "**Mentor:** Prof. Valmor F. de Almeida\n",
    "\n",
    "UMass Lowell, Dept. of Chemical Engineering, Nuclear Energy Program \n",
    "<br>\n",
    "**27Mar2021**"
   ]
  },
  {
   "cell_type": "markdown",
   "metadata": {},
   "source": [
    "---\n",
    "## Table of Contents<a id=\"toc\"></a>\n",
    "* [Introduction](#intro)\n",
    "* [Problem Statement](#problem)\n",
    "* [Strong Form](#strong)\n",
    "* [Weak Form](#weak)\n",
    "* [Objectives](#obj)\n",
    "* [Approach](#app)\n",
    "* [Results and Analysis](#ranalysis)\n",
    "* [Conclusions](#conclusions)\n",
    "* [References](#refs)\n",
    "---"
   ]
  },
  {
   "cell_type": "markdown",
   "metadata": {},
   "source": [
    "## [Introduction](#toc)<a id=\"intro\"></a>"
   ]
  },
  {
   "cell_type": "markdown",
   "metadata": {},
   "source": [
    "The Fluoride-Cooled High Temperature Reactor (FHR) is a generation IV design which boasts attractive safety features and economic properties; The FLIBE/NAFZIRF coolant proposed for use in FHRs is supplied to the secondary coolant loop at temperatures approaching 700 $^{\\circ}$C, far in excess of outflow coolant temperatures seen in water-cooled designs, which results in higher Brayton cycle efficiency and opens the door for use in applications which require very high temperature process heat. Furthermore, cooling during shutdown is accomplished through natural convection, improving safety and reliability as well as lowering capital costs significantly.\n",
    "\n",
    "The design itself shares similarities with the High Temperature Gas-Cooled Reactor (HTGR). Fuel is present in the form of spherical pellets rather than the cylindrical ones used in more conventional reactors; The reactor itself consists of an anular space within concentric cylinders within which the primary coolant flows and the fuel pellets are introduced. As the fuel pellets are less dense than the surrounding salt, they will slowly be buoyed up to the top of the reactor if they are introduced continuously at the bottom, with a residence time of about two months. Pellets can hence be introduced and removed from the reactor continuously, with no need to shut down for refueling. Primary coolant also flows within this channel around the fuel pebbles, as shown in the following diagram:\n",
    "\n",
    "\n",
    "\n",
    "Significant amounts of coolant also flow through the central graphite reflector in channels a few centimeters in diameter:\n",
    "\n",
    "Holes on the sides of the channels allow for cross flow into the reactor for more efficient heat transfer, although this will not be considered in the model which is to follow.\n",
    "\n",
    "\n"
   ]
  },
  {
   "cell_type": "markdown",
   "metadata": {},
   "source": [
    "## [Problem Statement](#toc)<a id=\"problem\"></a>"
   ]
  },
  {
   "cell_type": "markdown",
   "metadata": {},
   "source": [
    "Consider FLIBE coolant flowing with a constant velocity $u$ = 2 m/s through the outer coolant flow channels of the graphite reflector, with outer radius $R_o$ = 11.4 cm, inner radius $R_i$ = 10cm, and active length $L$ = 12.0 m. Assume no cross flow from the reactor channel into the reflector outer coolant flow channel, and vice versa. that salt enters the bottom of the reflector flow channels with constant temperature $T_i$ = 600$^{\\circ}$C. Assume shutdown mode, and thus flow is driven only by natural convection. Bulk fluid leaves the reactor at 700$^{\\circ}$C.\n",
    "\n",
    "\n",
    "\n",
    "\n",
    "\n",
    "\n",
    "\n",
    "\n",
    "\n",
    "\n",
    "\n",
    "\n",
    "\n",
    "\n"
   ]
  },
  {
   "cell_type": "markdown",
   "metadata": {},
   "source": [
    "### [Strong Form](#toc)<a id=\"strong\"></a>\n",
    "We begin with the strong form for heat conduction through the graphite on either side of the coolant channel.\n",
    "\n",
    "\\begin{align*}\n",
    "\\rho c_p \\frac{dT}{dt} &= -k \\nabla^2 T = -k \\frac{d^2}{dr^2} - k \\frac{d^2}{dz^2}\n",
    "\\end{align*}\n",
    "\n",
    "With the following boundary conditions:\n",
    "\n",
    "\\begin{align*}\n",
    "T(r, 0) &= T_0 \\; \\text{(A)} \\\\\n",
    "\\frac{dT}{dz}(r, Z) &= 0 \\; \\text{(B)} \\\\\n",
    "k \\nabla T(0, z) + h(T(0, z) - T_f(z)) &= 0 \\; \\text{(C)} \\\\\n",
    "k \\nabla T(r, z) + h(T_o(z) - T(R, z)) &= 0 \\; \\text{(D)} \\\\\n",
    "\\end{align*}\n",
    "\n",
    "A: Given temperature at the bottom of the reflector (from coolant inflow temperature). (Dirichlett) \n",
    "\n",
    "B: Zero heat flux across the top boundary of the reflector. (Neumann) \n",
    "\n",
    "C: All heat conducted to the inner boundary is transferred to the coolant flowing through the coolant flow channels within the graphite reflector. (Robin) \n",
    "\n",
    "D: All heat conducted away from the outer boundary is transferred to the system by the coolantg flowing outside the reflector. (Robin)\n",
    "\n",
    "The equations describing the flow of fluid within the conduit are as follows:\n",
    "\n",
    "\\begin{align*}\n",
    "\\rho c_p (\\frac{dT}{dt} + v \\cdot \\nabla T) &= -k \\nabla^2 T \\\\\n",
    "\\rho \\nabla \\cdot (v \\otimes v) &= \\nabla \\cdot (-p - \\mu(\\nabla v \\cdot \\nabla v^T) + \\rho_0 + \\beta(T - T_{ref}) \\\\\n",
    "\\nabla \\cdot v &= 0\n",
    "\\end{align*}\n",
    "\n",
    "With the following boundary conditions on temperature:\n",
    "\\begin{align*}\n",
    "T(r, 0) &= T_0 \\; (A)\\\\\n",
    "k \\nabla T(0, z) + h(T_w(z) - T(0, z)) &= 0 \\; (B)\\\\\n",
    "\\frac{dT}{dz}(r, Z) &= 0 \\; (C)\n",
    "\\end{align*}\n",
    "\n",
    "A: Given temperature at the bottom of the reflector (from coolant inflow temperature). (Dirichlett)\n",
    "\n",
    "B: All heat transferred into the fluid from the wall is carried out by conduction and convection. (Robin)\n",
    "\n",
    "C: No heat flux across the outflow boundary. (Neumann)\n",
    "\n",
    "And the following boundary conditions on pressure:\n",
    "\n",
    "\\begin{align*}\n",
    "p(r, 0) &= P_0 \\; (A)\\\\\n",
    "\\frac{dp(r, Z)}{dz} &= - \\tau \\vec{n} \\; (B)\\\\\n",
    "\\frac{dp(R, z)}{dx} &= 0 \\; (C) \n",
    "\\end{align*}\n",
    "\n",
    "A: Given pressure at the bottom of the reflector(from pumping and system pressure). (Dirichlett)\n",
    "\n",
    "B: No temperature change at the outflow surface and hence no change in buoyancy. Thus the traction vector sums to zero and the rate of change of pressure is simply equal to the sum of the viscous forces acting along the normal boundary vector (in this case, the Z-direction).\n",
    "\n",
    "C: The pressure gradient across the bounadry is equal to zero (no pressure flux through the walls of the channel).\n",
    "\n",
    "Note that, in all cases, the velocity $v$ is specified at all points within the liquid phase, and therefore its divergence and gradient are specified as well. Additionally, as we assume steady flow, $\\frac{dv}{dz} = 0$.\n",
    "\n",
    "\n"
   ]
  },
  {
   "cell_type": "markdown",
   "metadata": {},
   "source": [
    "|  |\n",
    "|:---:|\n",
    "| <img width=\"380\" src=\"pictures/ProblemStatement.png\" title=\"sketch\"> |\n",
    "| <p style=\"text-align:center;\"><b>Domain sketch.</b></p> |"
    "### [Weak (Variational) Form](#toc)<a id=\"strong\"></a>\n",
    "Taking $u$ as our  test function, we may arrive at the variational forms.\n",
    "\n",
    "For the heat balance in the solid phase:\n",
    "\\begin{align*}\n",
    "0 &= \\int_\\Omega -k \\nabla T \\cdot \\nabla u + \\int_{d \\Omega} \\frac{dT}{d \\vec{n}} u \\ dS\n",
    "\\end{align*}\n",
    "\n",
    "For the heat balance in the liquid phase:\n",
    "\\begin{align*}\n",
    "\\int_\\Omega \\rho c_p v \\cdot \\nabla T u &= \\int_\\Omega -k \\nabla T \\cdot \\nabla u + \\int_{d \\Omega} \\frac{dT}{d \\vec{n}} u \\ dS\n",
    "\\end{align*}\n",
    "\n",
    "For the momentum balance in the liquid phase:\n",
    "\\begin{align*}\n",
    "\\int_\\Omega \\rho \\nabla \\cdot (v \\otimes v) u &= \\int_\\Omega -p \\nabla u + \\int_{d \\Omega} \\frac{dp}{d \\vec{n}} u \\ dS - \\int_\\Omega \\nabla \\cdot \\mu (\\nabla v \\cdot \\nabla v^T) u \n",
    "\\end{align*}\n"
   ]
  },
  {
   "cell_type": "markdown",
   "metadata": {},
   "source": [
    "## [Objectives](#toc)<a id=\"obj\"></a>"
   ]
  },
  {
   "cell_type": "markdown",
   "metadata": {},
   "source": [
    "### [Strong Form Heat Conduction in the Solid Phase](#toc)<a id=\"strong\"></a>\n",
    "The strong form of the governing equation for heat conduction in the graphite on either side of the coolant channel reads\n",
    "\n",
    "\\begin{align*}\n",
    "\\rho c_p\\,\\partial_t T &= k \\nabla^2 T + S = k \\Bigl(\\partial^2_{r^2} T + \\partial^2_{z^2} T\\Bigr).\n",
    "\\end{align*}\n",
    "\n",
    "With the following boundary conditions:\n",
    "\n",
    "\\begin{align*}\n",
    "T(r, 0) &= T_0 \\quad &\\text{(A)} \\\\\n",
    "\\partial_z T(r, L) &= 0 \\quad &\\text{(B)} \\\\\n",
    " \\nabla T - h\\,\\bigl(T(R_\\text{i}, z) - T_\\text{b,i}(z)\\bigr) &= 0 \\quad &\\text{(C)} \\\\\n",
    " -\\nabla T + h\\,(T(R_\\text{o}, z) - T_\\text{b,o}(z)) &= 0 \\quad  &\\text{(D)} \\\\\n",
    "\\end{align*}\n",
    "\n",
    "where: \n",
    "A: is the given temperature at the bottom of the reflector (Dirichlet);\n",
    "\n",
    "B: is the heat flux across the top boundary of the reflector (Neumann);\n",
    "\n",
    "C: all heat conducted to the inner boundary is transferred to the coolant flowing through the coolant flow channels within the graphite reflector (Robin);\n",
    "\n",
    "and D: all heat conducted away from the outer boundary is transferred to the system by the coolantg flowing outside the reflector (Robin)."
   ]
  },
  {
   "cell_type": "markdown",
   "metadata": {},
   "source": [
    "### [Weak (Variational) Form of the Heat Conduction in the Solid Phase](#toc)<a id=\"strong\"></a>\n",
    "The associated steady-state, Galerkin weak form is\n",
    "\n",
    "\\begin{align*}\n",
    "0 &= \\int_\\Omega -k\\, \\nabla T \\cdot \\nabla u \\, dV + \\int_{\\partial\\Omega} k\\,\\partial_\\normal T \\, u \\, dS\n",
    "\\end{align*}"
   ]
  },
  {
   "cell_type": "markdown",
   "metadata": {},
   "source": [
    "### [Strong Form Fluid Flow and Heat Transport in the Salt](#toc)<a id=\"strong\"></a>\n",
    "We begin with the strong form for heat conduction through the graphite on either side of the coolant channel.\n",
    "\n",
    "\\begin{align*}\n",
    "\\rho c_p \\frac{dT}{dt} &= -k \\nabla^2 T = -k \\Bigl(\\frac{d^2}{dr^2} + \\frac{d^2}{dz^2}\\Bigr)\n",
    "\\end{align*}\n",
    "\n",
    "With the following boundary conditions:\n",
    "\n",
    "\\begin{align*}\n",
    "T(r, 0) &= T_0 \\quad &\\text{(A)} \\\\\n",
    "\\frac{dT}{dz}(r, Z) &= 0 \\quad &\\text{(B)} \\\\\n",
    "k\\, \\nabla T(R_\\text{i}, z) - h\\,\\bigl(T(R_\\text{i}, z) - T_\\text{b,i}(z)\\bigr) &= 0 \\quad &\\text{(C)} \\\\\n",
    "-k\\, \\nabla T(R_\\text{o}, z) + h(T(R_\\text{o}, z) - T_\\text{b,o}(z)) &= 0 \\quad  &\\text{(D)} \\\\\n",
    "\\end{align*}\n",
    "\n",
    "A: Given temperature at the bottom of the reflector (Dirichlet).\n",
    "\n",
    "B: Zero heat flux across the top boundary of the reflector (Neumann). \n",
    "\n",
    "C: All heat conducted to the inner boundary is transferred to the coolant flowing through the coolant flow channels within the graphite reflector (Robin).\n",
    "\n",
    "D: All heat conducted away from the outer boundary is transferred to the system by the coolantg flowing outside the reflector (Robin).\n",
    "\n",
    "The equations describing the flow of fluid within the conduit are as follows:\n",
    "\n",
    "\\begin{align*}\n",
    "\\rho c_p (\\frac{dT}{dt} + v \\cdot \\nabla T) &= -k \\nabla^2 T \\\\\n",
    "\\rho \\nabla \\cdot (v \\otimes v) &= \\nabla \\cdot (-p - \\mu(\\nabla v \\cdot \\nabla v^T) + \\rho_0 + \\beta(T - T_{ref}) \\\\\n",
    "\\nabla \\cdot v &= 0\n",
    "\\end{align*}\n",
    "\n",
    "With the following boundary conditions on temperature:\n",
    "\\begin{align*}\n",
    "T(r, 0) &= T_0 \\; (A)\\\\\n",
    "- k \\nabla T(R, z) + h(T(R, z) - T_w(z)) &= 0 \\; (B)\\\\\n",
    "\\frac{dT}{dz}(r, Z) &= 0 \\; (C)\n",
    "\\end{align*}\n",
    "\n",
    "A: Given temperature at the bottom of the reflector (from coolant inflow temperature). (Dirichlett)\n",
    "\n",
    "B: All heat transferred into the fluid from the wall is carried out by conduction and convection. (Robin)\n",
    "\n",
    "C: No heat flux across the outflow boundary. (Neumann)\n",
    "\n",
    "And the following boundary conditions on pressure:\n",
    "\n",
    "\\begin{align*}\n",
    "p(r, 0) &= P_0 \\; (A)\\\\\n",
    "\\frac{dp(r, Z)}{dz} &= - \\tau \\vec{n} \\; (B)\\\\\n",
    "\\frac{dp(R, z)}{dx} &= 0 \\; (C) \n",
    "\\end{align*}\n",
    "\n",
    "A: Given pressure at the bottom of the reflector(from pumping and system pressure). (Dirichlett)\n",
    "\n",
    "B: No temperature change at the outflow surface and hence no change in buoyancy. Thus the traction vector sums to zero and the rate of change of pressure is simply equal to the sum of the viscous forces acting along the normal boundary vector (in this case, the Z-direction).\n",
    "\n",
    "C: The pressure gradient across the bounadry is equal to zero (no pressure flux through the walls of the channel).\n",
    "\n",
    "Note that, in all cases, the velocity $v$ is specified at all points within the liquid phase, and therefore its divergence and gradient are specified as well. Additionally, as we assume steady flow, $\\frac{dv}{dz} = 0$.\n",
    "\n",
    "\n"
   ]
  },
  {
   "cell_type": "markdown",
   "metadata": {},
   "source": [
    "### [Weak (Variational) Forms of All Relevant Equations](#toc)<a id=\"strong\"></a>\n",
    "Taking $u$ as our  test function, we may arrive at the variational forms.\n",
    "\n",
    "For the heat balance in the solid phase:\n",
    "\\begin{align*}\n",
    "0 &= \\int_\\Omega -k \\nabla T \\cdot \\nabla u + \\int_{d \\Omega} \\frac{dT}{d \\vec{n}} u \\ dS\n",
    "\\end{align*}\n",
    "\n",
    "For the heat balance in the liquid phase:\n",
    "\\begin{align*}\n",
    "\\int_\\Omega \\rho c_p v \\cdot \\nabla T u &= \\int_\\Omega -k \\nabla T \\cdot \\nabla u + \\int_{d \\Omega} \\frac{dT}{d \\vec{n}} u \\ dS\n",
    "\\end{align*}\n",
    "\n",
    "For the momentum balance in the liquid phase:\n",
    "\\begin{align*}\n",
    "\\int_\\Omega \\rho \\nabla \\cdot (v \\otimes v) u &= \\int_\\Omega -p \\nabla u + \\int_{d \\Omega} \\frac{dp}{d \\vec{n}} u \\ dS - \\int_\\Omega \\nabla \\cdot \\mu (\\nabla v \\cdot \\nabla v^T) u + \\int_\\Omega (\\rho_0 + \\beta T_{ref})u + \\int_\\Omega T u\n",
    "\\end{align*}\n"
   ]
  },
  {
   "cell_type": "markdown",
   "metadata": {},
   "source": [
    "## [Objectives](#toc)<a id=\"obj\"></a>"
   ]
  },
  {
   "cell_type": "markdown",
   "metadata": {},
   "source": [
    "- Determine the maximum temperature and pressure within the reflector flow channels\n",
    "- Determine the decay heat power absorbed by the system at steady state\n",
    "- Analyze heat flux across the surface of the pipe"
   ]
  },
  {
   "cell_type": "markdown",
   "metadata": {},
   "source": [
    "## [Current Progress](#toc)<a id=\"ranalysis\"></a>"
   ]
  },
  {
   "cell_type": "markdown",
   "metadata": {},
   "source": [
    "Completed:\n",
    "\n",
    "$\\bullet$ Kernels for each phase\n",
    "\n",
    "$\\bullet$ Dirichlett, Neumann BC's\n",
    "\n",
    "\n",
    "Remaining work:\n",
    "\n",
    "$\\bullet$ Custom BC coupling along the solid/liquid boundary\n",
    "\n",
    "$\\bullet$ Custom Robin BC w/ outside fluid temperature as a function of distance\n",
    "\n",
    "$\\bullet$ implement the proper velocity functionals to model viscous flow\n",
    "\n",
    "$\\bullet$ Bugfixes\n",
    "\n"
   ]
  },
  {
   "cell_type": "markdown",
   "metadata": {},
   "source": [
    "## [Conclusions](#toc)<a id=\"conclusions\"></a>"
   ]
  },
  {
   "cell_type": "markdown",
   "metadata": {},
   "source": [
    "## [References](#toc)<a id=\"refs\"></a>\n",
    "\n",
    "- [1] V. F. de Almeida, [*Engy-5310: Computational Continuum Transport Phenomena*](https://github.com/dpploy/engy-5310), University of Massachusetts Lowell, Dept. of Chemical Engineering (Nuclear Energy Program).\n",
    "- [2] Multiphysics Object-Oriented Simulation Environment [(MOOSE)](https://mooseframework.org)\n",
    "- [3] Andreades, Charalampos et. al, [*Technical Description of the “Mark 1” Pebble-Bed Fluoride-Salt-Cooled High-Temperature Reactor (PB-FHR) Power Plant*](https://web.mit.edu/nse/pdf/researchstaff/forsberg/FHR%20Point%20Design%2014-002%20UCB.pdf), University of California Berkely, Dept. of Nuclear Engineering. 2014. \n",
    "- [4] author, [reference]()"
   ]
  },
  {
   "cell_type": "code",
   "execution_count": null,
   "metadata": {},
   "outputs": [],
   "source": []
  }
 ],
 "metadata": {
  "kernelspec": {
   "display_name": "Python 3",
   "language": "python",
   "name": "python3"
  },
  "language_info": {
   "codemirror_mode": {
    "name": "ipython",
    "version": 3
   },
   "file_extension": ".py",
   "mimetype": "text/x-python",
   "name": "python",
   "nbconvert_exporter": "python",
   "pygments_lexer": "ipython3",
   "version": "3.8.5"
  },
  "latex_envs": {
   "LaTeX_envs_menu_present": true,
   "autoclose": false,
   "autocomplete": true,
   "bibliofile": "biblio.bib",
   "cite_by": "apalike",
   "current_citInitial": 1,
   "eqLabelWithNumbers": true,
   "eqNumInitial": 1,
   "hotkeys": {
    "equation": "Ctrl-E",
    "itemize": "Ctrl-I"
   },
   "labels_anchors": false,
   "latex_user_defs": false,
   "report_style_numbering": false,
   "user_envs_cfg": false
  }
 },
 "nbformat": 4,
 "nbformat_minor": 2
}

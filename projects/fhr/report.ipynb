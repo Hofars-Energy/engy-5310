{
 "cells": [
  {
   "cell_type": "markdown",
   "metadata": {},
   "source": [
    "**Engy-5310** Computational Continuum Transport Phenomena, UMass Lowell, Chem. Eng. Nuclear Program Spring 2021; Prof. V. F. de Almeida\n",
    "\n",
    "# Fluoride Salt Cooled High-Temperature Channel Flow\n",
    "$  \n",
    "  \\newcommand{\\Amtrx}{\\boldsymbol{\\mathsf{A}}}\n",
    "  \\newcommand{\\Bmtrx}{\\boldsymbol{\\mathsf{B}}}\n",
    "  \\newcommand{\\Mmtrx}{\\boldsymbol{\\mathsf{M}}}\n",
    "  \\newcommand{\\Imtrx}{\\boldsymbol{\\mathsf{I}}}\n",
    "  \\newcommand{\\Pmtrx}{\\boldsymbol{\\mathsf{P}}}\n",
    "  \\newcommand{\\Lmtrx}{\\boldsymbol{\\mathsf{L}}}\n",
    "  \\newcommand{\\Umtrx}{\\boldsymbol{\\mathsf{U}}}\n",
    "  \\newcommand{\\Smtrx}{\\boldsymbol{\\mathsf{S}}}\n",
    "  \\newcommand{\\xvec}{\\boldsymbol{\\mathsf{x}}}\n",
    "  \\newcommand{\\avec}{\\boldsymbol{\\mathsf{a}}}\n",
    "  \\newcommand{\\bvec}{\\boldsymbol{\\mathsf{b}}}\n",
    "  \\newcommand{\\cvec}{\\boldsymbol{\\mathsf{c}}}\n",
    "  \\newcommand{\\rvec}{\\boldsymbol{\\mathsf{r}}}\n",
    "  \\newcommand{\\fvec}{\\boldsymbol{\\mathsf{f}}}\n",
    "  \\newcommand{\\mvec}{\\boldsymbol{\\mathsf{m}}}\n",
    "  \\newcommand{\\gvec}{\\boldsymbol{\\mathsf{g}}}\n",
    "  \\newcommand{\\flux}{\\boldsymbol{q}}\n",
    "  \\newcommand{\\fluxc}{\\boldsymbol{q}_\\text{c}}\n",
    "  \\newcommand{\\fluxf}{\\boldsymbol{q}_\\text{f}}\n",
    "  \\newcommand{\\velocity}{\\boldsymbol{v}}\n",
    "  \\newcommand{\\normal}{\\boldsymbol{n}}\n",
    "  \\newcommand{\\xpoint}{\\boldsymbol{x}}\n",
    "  \\newcommand{\\Tc}{T_\\text{c}}\n",
    "  \\newcommand{\\wc}{w_\\text{c}}\n",
    "  \\newcommand{\\Tf}{T_\\text{f}}\n",
    "  \\newcommand{\\wf}{w_\\text{f}}\n",
    "  \\newcommand{\\wI}{w_\\text{I}}\n",
    "  \\newcommand{\\Ri}{R_\\text{i}}\n",
    "  \\newcommand{\\Ro}{R_\\text{o}}\n",
    "  \\newcommand{\\Omegac}{\\Omega_\\text{c}}\n",
    "  \\newcommand{\\Omegaf}{\\Omega_\\text{f}}\n",
    "  \\newcommand{\\zerovec}{\\boldsymbol{\\mathsf{0}}}\n",
    "  \\newcommand{\\norm}[1]{\\bigl\\lVert{#1}\\bigr\\rVert}\n",
    "  \\newcommand{\\transpose}[1]{{#1}^\\top}\n",
    "  \\DeclareMathOperator{\\rank}{rank}\n",
    "  \\DeclareMathOperator{\\div}{div}\n",
    "  \\DeclareMathOperator{\\gradx}{grad_\\xpoint}\n",
    "  \\DeclareMathOperator{\\divx}{div_\\xpoint}\n",
    "  \\DeclareMathOperator{\\grad}{grad}\n",
    "  \\newcommand{\\Reals}{\\mathbb{R}}\n",
    "  \\newcommand{\\thetavec}{\\boldsymbol{\\theta}}\n",
    "$"
   ]
  },
  {
   "cell_type": "markdown",
   "metadata": {},
   "source": [
    "**Student(s):**  Austin Rotker <br>\n",
    "**Course:** Engy-5310 Computational Continuum Transport Phenomena  <br>\n",
    "**Mentor and Collaborator:** Prof. Valmor F. de Almeida\n",
    "\n",
    "UMass Lowell, Dept. of Chemical Engineering, Nuclear Energy Program \n",
    "<br>\n",
    "**25Apr2021**"
   ]
  },
  {
   "cell_type": "markdown",
   "metadata": {},
   "source": [
    "---\n",
    "## Table of Contents<a id=\"toc\"></a>\n",
    "* [Introduction](#intro)\n",
    "* [Problem Statement](#problem)\n",
    "* [Objectives](#obj)\n",
    "* [Approach](#app)\n",
    " + [Weak Form of Problem Statement](#weakform)\n",
    " + [MOOSE Kernels](#kernels)\n",
    " + [Setup](#setup)\n",
    " + [Tests](#tests)\n",
    "   - [Fuel](#fuel)\n",
    "* [Results and Analysis](#ranalysis)\n",
    "* [Conclusions](#conclusions)\n",
    "* [References](#refs)\n",
    "---"
   ]
  },
  {
   "cell_type": "markdown",
   "metadata": {},
   "source": [
    "## [Introduction](#toc)<a id=\"intro\"></a>"
   ]
  },
  {
   "cell_type": "markdown",
   "metadata": {},
   "source": [
    "The Fluoride-Cooled High Temperature Reactor (FHR) is a generation IV design which boasts attractive safety features and economic properties; The FLIBE/NAFZIRF coolant proposed for use in FHRs is supplied to the secondary coolant loop at temperatures approaching 700 $^{\\circ}$C, far in excess of outflow coolant temperatures seen in water-cooled designs, which results in higher Brayton cycle efficiency and opens the door for use in applications that can take advantage of very high temperature process heat. Furthermore, cooling during shutdown is accomplished through natural convection, improving safety and reliability as well as lowering capital costs significantly.\n",
    "\n",
    "The particular design of interest shares similarities with a High Temperature Gas-Cooled Reactor (HTGR). Fuel is present as compacts encapsulated in a graphite prismatic core. The flow of salt through an annular cylindrical space is of interest to this design, therefore the present study analyses the conjugated heat transport between salt and solid fuel. The resulting mathematical problem has two field equations coupled at a domain interface."
   ]
  },
  {
   "cell_type": "markdown",
   "metadata": {},
   "source": [
    "## [Problem Statement](#toc)<a id=\"problem\"></a>"
   ]
  },
  {
   "cell_type": "markdown",
   "metadata": {},
   "source": [
    "Solve the Peclet heat transfer equation for the coolant temperature field \n",
    "mixture velocity $\\Tc:\\Omegac\\subset\\Reals^2\\rightarrow\\Reals$, and the Poisson equation for the fuel temperature field $\\Tf:\\Omegaf\\subset\\Reals^2\\rightarrow\\Reals$ such that\n",
    "\n",
    "\\begin{align*}\n",
    "\\rho c_p\\,\\gradx\\Tc\\cdot\\velocity &= - \\divx\\fluxc \\quad &\\forall \\quad \\xpoint\\in\\Omegac, \\\\\n",
    "                                0 &= - \\divx\\fluxf + S \\quad &\\forall \\quad \\xpoint\\in\\Omegaf,\n",
    "\\end{align*}\n",
    "\n",
    "with the following boundary conditions for the salt\n",
    "\n",
    "\\begin{align*}\n",
    " \\Tc(r, 0) &= {\\Tc}_0 \\quad &0 \\le r \\le \\Ri \\quad & \\text{inflow}, \\\\\n",
    " q_{\\text{c},z}(r, L) &= 0 \\quad &0 \\le r \\le \\Ri  \\quad & \\text{outflow}, \\\\\n",
    " q_{\\text{c},r}(0, z) &= 0 \\quad &0 \\le z \\le L \\quad & \\text{centerline},\n",
    "\\end{align*}\n",
    "\n",
    "and the following boundary conditions for the fuel\n",
    "\n",
    "\\begin{align*}\n",
    " q_{\\text{f},z}(r, 0) &= 0 \\quad &\\Ri \\le r \\le \\Ro \\quad & \\text{bottom}, \\\\\n",
    " q_{\\text{f},z}(r, L) &= 0 \\quad &\\Ri \\le r \\le \\Ro \\quad & \\text{top}, \\\\\n",
    " q_{\\text{f},r}(\\Ro, z) &= h_\\text{o}\\,\\bigl(\\Tf(\\Ro, z) - T_\\infty(z)\\bigr) \\quad &0 \\le z \\le L \\quad & \\text{external surface}.\n",
    "\\end{align*}\n",
    "\n",
    "A separate and independent model is required for the the interface between coolant and fuel, that is\n",
    "\n",
    "\\begin{align*}\n",
    " q_{\\text{c},r}(\\Ri, z) &= q_{\\text{f},r}(\\Ri, z) \\quad &0 \\le z \\le L \\quad & \\text{normal heat flux continuity} \\\\\n",
    " \\Tf(\\Ri, z) - \\Tc(\\Ri,z) &= -\\frac{1}{h_\\text{i}} q_{\\text{c},r}(\\Ri, z) + C_\\text{i}\\,\\Tf \\quad &0 \\le z \\le L \\quad & \\text{temperature jump} .\n",
    "\\end{align*}\n",
    "\n",
    "That is, no interfacial thermal resistance is taken into account, therefore the normal heat flux is continuous at the interface. A temperature jump at the interface exists as a function of the interfacial normal flux and the temperature in the fuel. The coefficients $h_\\text{i}$ (convective heat transfer) and $0 \\le C_\\text{i} < 1$ (interface adsorption) try to capture the underlying interfacial phenomena of thermal energy transfer."
   ]
  },
  {
   "cell_type": "markdown",
   "metadata": {},
   "source": [
    "### Domain\n",
    "Consider FLIBE coolant flowing with a constant velocity $u$ = 2 m/s through the outer coolant flow channels of the graphite block, with outer radius $\\Ro$ = 11.4 cm, inner radius $\\Ri$ = 10cm, and active length $L$ = 12.0 m. Assume no cross flow from the reactor channel into the outer coolant flow channel, and vice versa. That salt enters the bottom of the flow channels with constant temperature ${\\Tc}_0$ = 600$^{\\circ}$C."
   ]
  },
  {
   "cell_type": "code",
   "execution_count": 1,
   "metadata": {
    "code_folding": [
     2
    ]
   },
   "outputs": [],
   "source": [
    "'''Domain'''\n",
    "\n",
    "def show_domain(screenshot=False):\n",
    "    import pyvista as pv\n",
    "    pv.set_plot_theme('paraview')\n",
    "\n",
    "    height = 4.5*(3/4+2*1)\n",
    "    radius_i = 3/4 / 2\n",
    "    radius_o = radius_i + 1\n",
    "    coolant = pv.Cylinder(center=(0,0,0), direction=(0,0,1), height=height, radius=radius_i)\n",
    "    pin = pv.Cylinder(center=(0,0,0), direction=(0,0,1), height=height, radius=radius_o)\n",
    "    coolant_o = pv.Cylinder(center=(0,0,0), direction=(0,0,1), height=height, radius=radius_o + 1)\n",
    "\n",
    "    plo = pv.Plotter(notebook=True, shape=(1,2)) \n",
    "\n",
    "    plo.subplot(0,0)\n",
    "    plo.add_mesh(coolant, color='red', opacity=1.0,)\n",
    "    plo.add_mesh(pin, color='tan', opacity=0.99)\n",
    "    plo.add_mesh(coolant_o, color='red', opacity=0.99)\n",
    "    plo.add_axes(xlabel='R', ylabel='Theta', zlabel='Z')\n",
    "\n",
    "    pin = pin.triangulate()\n",
    "    tmp = pv.Cylinder(center=(0,0,0), direction=(0,0,1), height=height*1.1, radius=radius_i).triangulate()\n",
    "    tmp.flip_normals()\n",
    "\n",
    "    pin = pin.boolean_cut(tmp)\n",
    "    plo.subplot(0,1)\n",
    "    plo.add_mesh(pin, 'grey')\n",
    "    plo.add_mesh(pv.Cylinder(center=(0,0,0), direction=(0,0,1), height=height*.98, radius=radius_i), 'red')\n",
    "    plo.add_mesh(coolant_o, color='red', opacity=0.99)\n",
    "    \n",
    "    cpos = plo.show(window_size=[800, 600])\n",
    "    if screenshot:\n",
    "        plo.screenshot('domain.png')"
   ]
  },
  {
   "cell_type": "code",
   "execution_count": 3,
   "metadata": {
    "scrolled": false
   },
   "outputs": [
    {
     "data": {
      "image/png": "[encoded data removed]",
      "text/plain": [
       "<PIL.Image.Image image mode=RGB size=800x600 at 0x7FDB76313B50>"
      ]
     },
     "metadata": {},
     "output_type": "display_data"
    }
   ],
   "source": [
    "show_domain()"
   ]
  },
  {
   "cell_type": "markdown",
   "metadata": {},
   "source": [
    "## [Objectives](#toc)<a id=\"obj\"></a>"
   ]
  },
  {
   "cell_type": "markdown",
   "metadata": {},
   "source": [
    "- State a consistent Galerkin weak form of the [strong problem](#problem).\n",
    "- Apply finite element basis functions from MOOSE/Libmesh to obtain an algebraic system of equations.\n",
    "- Using MOOSE/PETSc solvers, compute the temperature fields in the salt and fuel domains in steady state."
   ]
  },
  {
   "cell_type": "markdown",
   "metadata": {},
   "source": [
    "## [Approach](#toc)<a id=\"app\"></a>"
   ]
  },
  {
   "cell_type": "markdown",
   "metadata": {},
   "source": [
    "A Galerkin weak formulation follows below and the implementation of the integrands as MOOSE kernels are described next."
   ]
  },
  {
   "cell_type": "markdown",
   "metadata": {},
   "source": [
    "### [Weak Form of Problem Statement](#toc)<a id=\"weakform\"></a> \n",
    "\n",
    "The weak form on the coolant domain is: find $\\Tc \\in H^1\\!\\bigl(\\Omegac\\bigr)$ such that\n",
    "\n",
    "\\begin{align*}\n",
    " \\int_{\\Omegac} \\rho_\\text{c} c_{p,\\text{c}}\\, \\grad_\\xpoint \\Tc \\cdot \\velocity \\, \\wc \\, da\n",
    " - \\int_{\\Omegac} \\fluxc \\cdot \\grad_\\xpoint \\wc \\, da &= 0 \\quad \\forall \\quad \\wc \\in H^1_0\\!\\bigl(\\Omegac\\bigr), \n",
    "\\end{align*}\n",
    "\n",
    "where $H^1\\!\\bigl(\\Omegac\\bigr) := \\bigl\\{ \\Tc:\\Omegac\\subset\\Reals^2\\rightarrow \\Reals \\mid \\int_{\\Omegac} \\grad_\\xpoint \\Tc\\cdot\\grad_\\xpoint \\Tc\\,da < \\infty \\bigr\\}$ and \n",
    "$H^1_0\\!\\bigl(\\Omegac\\bigr) := \\bigl\\{ \\wc \\mid \\wc \\in H^1(\\Omegac), \\wc(r,0) = 0 \\ \\ \\forall \\ \\ 0 \\le r \\le \\Ri \\bigr\\}$. \n",
    "Both function sets, as just defined, are Hilbert spaces. $\\wc$ is the coolant test function. It assumes zero value on the inflow boundary of the domain.\n",
    "\n",
    "<br>\n",
    "\n",
    "The weak form on the fuel domain is: find $\\Tf \\in H^1\\!\\bigl(\\Omegaf\\bigr)$ such that\n",
    "\n",
    "\\begin{align*}\n",
    " - \\int_{\\Omegaf} \\fluxf \\cdot \\grad_\\xpoint \\wf \\, da \n",
    " + \\int_{\\partial{\\Omegaf}_\\text{o}} h_\\text{o}\\,\\bigl(\\Tf(\\Ro, z) - T_\\infty(z)\\bigr) \\wf \\, dl\n",
    " - \\int_{\\Omegaf} S \\, \\wf \\, da\n",
    " &= 0 \\quad \\forall \\quad w_\\text{f} \\in H^1\\!\\bigl(\\Omegaf\\bigr).\n",
    "\\end{align*}\n",
    "\n",
    "Note that the interface condition on temperature is what sets the temperature level on the fuel domain. However this has not been included in the forgoing yet. Therefore we add the weak forms of the interface conditions as follows:\n",
    "\n",
    "\\begin{align*}\n",
    "\\int_{\\partial\\Omega_I} \\bigl(q_{\\text{c},r}(\\Ri, z) - q_{\\text{f},r}(\\Ri, z)\\bigr) \\, \\wI \\, dl &= 0 \\quad \\forall \\quad \\wI  \\in L_2\\!\\bigl(\\partial\\Omega_\\text{I}\\bigr), \\\\\n",
    "\\int_{\\partial\\Omega_I} \\Bigl( (1-C_\\text{i})\\,\\Tf(\\Ri, z) - \\Tc(\\Ri,z) + \\frac{1}{h_\\text{i}} q_{\\text{c},r}(\\Ri, z) \\Bigr) \\wI \\, dl &= 0 \\quad \\forall \\quad \\wI  \\in L_2\\!\\bigl(\\partial\\Omega_\\text{I}\\bigr)  .\n",
    "\\end{align*}\n",
    "\n",
    "Note that the interface test function, $\\wI$, could be discontinuous at the interface. \n",
    "\n",
    "When all combined, the weak forms above reproduce the solution of the [strong problem](#strong) if the strong solution is smooth enough. This can be verified by using the divergence theorem on the diffusion terms to obtain an inner product with the test functions. Under some smooth conditions, the weak solution also solves the strong problem.\n",
    "\n",
    "The numerical solution will be obtained by implementing a finite element approximation of the Hilbert spaces above using finitel element basis functions. The MOOSE framework will be used as described next."
   ]
  },
  {
   "cell_type": "markdown",
   "metadata": {},
   "source": [
    "### [MOOSE Kernels](#toc)<a id=\"kernels\"></a>\n",
    "\n",
    "The following MOOSE kernels were implemented to solve the [weak form](#weakform):\n",
    "1. Heat conduction by diffusion (coolant and fuel):\n",
    " + [definition](./include/kernels/HeatConduction.h) and [implementation](./src/kernels/HeatConduction.C).\n",
    "1. Heat convection on the coolant domain:\n",
    " + [definition](./include/kernels/HeatConvection.h) and [implementation](./src/kernels/HeatConvection.C).\n",
    "1. Surface heat transfer on the fuel exterior surface:\n",
    " + [definition](./include/kernels/HeatConvection.h) and [implementation](./src/kernels/HeatConvection.C)."
   ]
  },
  {
   "cell_type": "markdown",
   "metadata": {},
   "source": [
    "### [Setup](#toc)<a id=\"setup\"></a>"
   ]
  },
  {
   "cell_type": "code",
   "execution_count": null,
   "metadata": {},
   "outputs": [],
   "source": [
    "'''Domain'''\n",
    "\n",
    "x_a = 0\n",
    "x_b = 1000\n",
    "\n",
    "x_length = x_b - x_a"
   ]
  },
  {
   "cell_type": "code",
   "execution_count": null,
   "metadata": {},
   "outputs": [],
   "source": [
    "'''Parameters'''\n",
    "\n",
    "diff_coeff = 2.04\n",
    "s_source = 0"
   ]
  },
  {
   "cell_type": "code",
   "execution_count": null,
   "metadata": {},
   "outputs": [],
   "source": [
    "'''Data (boundary conditions)'''\n",
    "\n",
    "u_a = 4.17\n",
    "transfer_coeff_right = 2.0"
   ]
  },
  {
   "cell_type": "markdown",
   "metadata": {},
   "source": [
    "### [Tests](#toc)<a id=\"tests\"></a>"
   ]
  },
  {
   "cell_type": "markdown",
   "metadata": {},
   "source": [
    "#### [Fuel](#toc)<a id=\"fuel\"></a>"
   ]
  },
  {
   "cell_type": "code",
   "execution_count": null,
   "metadata": {},
   "outputs": [],
   "source": [
    "'''FEM Solution'''\n",
    "\n",
    "n_felem = 10\n",
    "\n",
    "order = 'first'\n",
    "\n",
    "n_plot_pts = n_felem + 1\n",
    "\n",
    "from tools.toolkit import write_engy5310_p1_1d_input_file\n",
    "\n",
    "write_engy5310_p1_1d_input_file(x_left=x_a, x_right=x_b, \n",
    "                                u_left=u_a, \n",
    "                                transfer_coeff_right=transfer_coeff_right,\n",
    "                                diff_coeff=diff_coeff,\n",
    "                                n_felem=n_felem, order=order, \n",
    "                                n_plot_pts=n_plot_pts,\n",
    "                                use_moose_neumann_bc=True,\n",
    "                                file_name='input.hit')"
   ]
  },
  {
   "cell_type": "code",
   "execution_count": null,
   "metadata": {},
   "outputs": [],
   "source": [
    "'''Input file'''\n",
    "!cat input.hit"
   ]
  },
  {
   "cell_type": "code",
   "execution_count": null,
   "metadata": {},
   "outputs": [],
   "source": [
    "'''Run Engy5310P1 MOOSE App'''\n",
    "\n",
    "!./fhr-opt -i input.hit"
   ]
  },
  {
   "cell_type": "code",
   "execution_count": null,
   "metadata": {},
   "outputs": [],
   "source": [
    "'''Show 2D solution'''\n",
    "\n",
    "import pyvista as pv\n",
    "poisson = pv.read('out_000_0.vtu')\n",
    "plo = pv.Plotter()   \n",
    "plo.add_mesh(poisson, scalars='T', cmap='plasma', stitle='Temperature [K]')\n",
    "plo.add_axes(xlabel='R', ylabel='Z', zlabel='Theta')\n",
    "plo.set_viewup([1,0,0])\n",
    "plo.screenshot('test.png')\n",
    "cpos = plo.show(window_size=[800, 600])\n",
    "#plotter.set_background('white')"
   ]
  },
  {
   "cell_type": "markdown",
   "metadata": {},
   "source": [
    "## [Results and Analysis](#toc)<a id=\"ranalysis\"></a>"
   ]
  },
  {
   "cell_type": "code",
   "execution_count": null,
   "metadata": {},
   "outputs": [],
   "source": [
    "'''Show 2D solution'''\n",
    "\n",
    "import pyvista as pv\n",
    "poisson = pv.read('out_000_0.vtu')\n",
    "plo = pv.Plotter()   \n",
    "plo.add_mesh(poisson, scalars='T', cmap='plasma', stitle='Temperature [K]')\n",
    "plo.add_axes(xlabel='R', ylabel='Z', zlabel='Theta')\n",
    "plo.set_viewup([1,0,0])\n",
    "plo.screenshot('test.png')\n",
    "cpos = plo.show(window_size=[800, 600])\n",
    "#plotter.set_background('white')"
   ]
  },
  {
   "cell_type": "markdown",
   "metadata": {},
   "source": [
    "## [Conclusions](#toc)<a id=\"conclusions\"></a>"
   ]
  },
  {
   "cell_type": "markdown",
   "metadata": {},
   "source": [
    "## [References](#toc)<a id=\"refs\"></a>\n",
    "\n",
    "- [1] V. F. de Almeida, [*Engy-5310: Computational Continuum Transport Phenomena*](https://github.com/dpploy/engy-5310), University of Massachusetts Lowell, Dept. of Chemical Engineering (Nuclear Energy Program).\n",
    "- [2] Multiphysics Object-Oriented Simulation Environment [(MOOSE)](https://mooseframework.org)\n",
    "- [3] Andreades, Charalampos et. al, [*Technical Description of the “Mark 1” Pebble-Bed Fluoride-Salt-Cooled High-Temperature Reactor (PB-FHR) Power Plant*](https://web.mit.edu/nse/pdf/researchstaff/forsberg/FHR%20Point%20Design%2014-002%20UCB.pdf), University of California Berkely, Dept. of Nuclear Engineering. 2014. \n",
    "- [4] author, [reference]()"
   ]
  },
  {
   "cell_type": "code",
   "execution_count": null,
   "metadata": {},
   "outputs": [],
   "source": []
  }
 ],
 "metadata": {
  "kernelspec": {
   "display_name": "Python 3",
   "language": "python",
   "name": "python3"
  },
  "language_info": {
   "codemirror_mode": {
    "name": "ipython",
    "version": 3
   },
   "file_extension": ".py",
   "mimetype": "text/x-python",
   "name": "python",
   "nbconvert_exporter": "python",
   "pygments_lexer": "ipython3",
   "version": "3.8.9"
  },
  "latex_envs": {
   "LaTeX_envs_menu_present": true,
   "autoclose": false,
   "autocomplete": true,
   "bibliofile": "biblio.bib",
   "cite_by": "apalike",
   "current_citInitial": 1,
   "eqLabelWithNumbers": true,
   "eqNumInitial": 1,
   "hotkeys": {
    "equation": "Ctrl-E",
    "itemize": "Ctrl-I"
   },
   "labels_anchors": false,
   "latex_user_defs": false,
   "report_style_numbering": false,
   "user_envs_cfg": false
  }
 },
 "nbformat": 4,
 "nbformat_minor": 2
}

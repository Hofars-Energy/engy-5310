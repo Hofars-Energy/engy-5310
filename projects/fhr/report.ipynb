{
 "cells": [
  {
   "cell_type": "markdown",
   "metadata": {},
   "source": [
    "**Engy-5310** Computational Continuum Transport Phenomena, UMass Lowell, Chem. Eng. Nuclear Program Spring 2021; Prof. V. F. de Almeida\n",
    "\n",
    "# Fluoride Salt Cooled High-Temperature Channel Flow\n",
    "$  \n",
    "  \\newcommand{\\Amtrx}{\\boldsymbol{\\mathsf{A}}}\n",
    "  \\newcommand{\\Bmtrx}{\\boldsymbol{\\mathsf{B}}}\n",
    "  \\newcommand{\\Mmtrx}{\\boldsymbol{\\mathsf{M}}}\n",
    "  \\newcommand{\\Imtrx}{\\boldsymbol{\\mathsf{I}}}\n",
    "  \\newcommand{\\Pmtrx}{\\boldsymbol{\\mathsf{P}}}\n",
    "  \\newcommand{\\Lmtrx}{\\boldsymbol{\\mathsf{L}}}\n",
    "  \\newcommand{\\Umtrx}{\\boldsymbol{\\mathsf{U}}}\n",
    "  \\newcommand{\\Smtrx}{\\boldsymbol{\\mathsf{S}}}\n",
    "  \\newcommand{\\xvec}{\\boldsymbol{\\mathsf{x}}}\n",
    "  \\newcommand{\\avec}{\\boldsymbol{\\mathsf{a}}}\n",
    "  \\newcommand{\\bvec}{\\boldsymbol{\\mathsf{b}}}\n",
    "  \\newcommand{\\cvec}{\\boldsymbol{\\mathsf{c}}}\n",
    "  \\newcommand{\\rvec}{\\boldsymbol{\\mathsf{r}}}\n",
    "  \\newcommand{\\fvec}{\\boldsymbol{\\mathsf{f}}}\n",
    "  \\newcommand{\\mvec}{\\boldsymbol{\\mathsf{m}}}\n",
    "  \\newcommand{\\gvec}{\\boldsymbol{\\mathsf{g}}}\n",
    "  \\newcommand{\\flux}{\\boldsymbol{q}}\n",
    "  \\newcommand{\\velocity}{\\boldsymbol{v}}\n",
    "  \\newcommand{\\normal}{\\boldsymbol{n}}\n",
    "  \\newcommand{\\xpoint}{\\boldsymbol{x}}\n",
    "  \\newcommand{\\zerovec}{\\boldsymbol{\\mathsf{0}}}\n",
    "  \\newcommand{\\norm}[1]{\\bigl\\lVert{#1}\\bigr\\rVert}\n",
    "  \\newcommand{\\transpose}[1]{{#1}^\\top}\n",
    "  \\DeclareMathOperator{\\rank}{rank}\n",
    "  \\DeclareMathOperator{\\div}{div}\n",
    "  \\DeclareMathOperator{\\grad}{grad}\n",
    "  \\newcommand{\\Reals}{\\mathbb{R}}\n",
    "  \\newcommand{\\thetavec}{\\boldsymbol{\\theta}}\n",
    "$"
   ]
  },
  {
   "cell_type": "markdown",
   "metadata": {},
   "source": [
    "**Student(s):**  Austin Rotker <br>\n",
    "**Course:** Engy-5310 Computational Continuum Transport Phenomena  <br>\n",
    "**Mentor:** Prof. Valmor F. de Almeida\n",
    "\n",
    "UMass Lowell, Dept. of Chemical Engineering, Nuclear Energy Program \n",
    "<br>\n",
    "**25Apr2021**"
   ]
  },
  {
   "cell_type": "markdown",
   "metadata": {},
   "source": [
    "---\n",
    "## Table of Contents<a id=\"toc\"></a>\n",
    "* [Introduction](#intro)\n",
    "* [Problem Statement](#problem)\n",
    "* [Objectives](#obj)\n",
    "* [Approach](#app)\n",
    " + [Weak Form of Problem Statement](#weakform)\n",
    " + [MOOSE Kernels](#kernels)\n",
    " + [Setup](#setup)\n",
    " + [Tests](#tests)\n",
    "   - [Fuel](#fuel)\n",
    "* [Results and Analysis](#ranalysis)\n",
    "* [Conclusions](#conclusions)\n",
    "* [References](#refs)\n",
    "---"
   ]
  },
  {
   "cell_type": "markdown",
   "metadata": {},
   "source": [
    "## [Introduction](#toc)<a id=\"intro\"></a>"
   ]
  },
  {
   "cell_type": "markdown",
   "metadata": {},
   "source": [
    "The Fluoride-Cooled High Temperature Reactor (FHR) is a generation IV design which boasts attractive safety features and economic properties; The FLIBE/NAFZIRF coolant proposed for use in FHRs is supplied to the secondary coolant loop at temperatures approaching 700 $^{\\circ}$C, far in excess of outflow coolant temperatures seen in water-cooled designs, which results in higher Brayton cycle efficiency and opens the door for use in applications which require very high temperature process heat. Furthermore, cooling during shutdown is accomplished through natural convection, improving safety and reliability as well as lowering capital costs significantly.\n",
    "\n",
    "The design itself shares similarities with the High Temperature Gas-Cooled Reactor (HTGR). Fuel is present in the form of spherical pellets rather than the cylindrical ones used in more conventional reactors; The reactor itself consists of an anular space within concentric cylinders within which the primary coolant flows and the fuel pellets are introduced. As the fuel pellets are less dense than the surrounding salt, they will slowly be buoyed up to the top of the reactor if they are introduced continuously at the bottom, with a residence time of about two months. Pellets can hence be introduced and removed from the reactor continuously, with no need to shut down for refueling. Primary coolant also flows within this channel around the fuel pebbles, as shown in the following diagram:\n",
    "\n",
    "\n",
    "\n",
    "Significant amounts of coolant also flow through the central graphite reflector in channels a few centimeters in diameter:\n",
    "\n",
    "Holes on the sides of the channels allow for cross flow into the reactor for more efficient heat transfer, although this will not be considered in the model which is to follow.\n",
    "\n",
    "\n"
   ]
  },
  {
   "cell_type": "markdown",
   "metadata": {},
   "source": [
    "## [Problem Statement](#toc)<a id=\"problem\"></a>"
   ]
  },
  {
   "cell_type": "markdown",
   "metadata": {},
   "source": [
    "### [Strong Form Heat Conduction in the Solid Phase](#toc)<a id=\"strong\"></a>\n",
    "The strong form of the governing equation for heat conduction in the graphite on either side of the coolant channel reads\n",
    "\n",
    "\\begin{align*}\n",
    "\\rho c_p\\,\\partial_t T &= k \\nabla^2 T + S = k \\Bigl(\\partial^2_{r^2} T + \\partial^2_{z^2} T\\Bigr) + S.\n",
    "\\end{align*}\n",
    "\n",
    "With the following boundary conditions:\n",
    "\n",
    "\\begin{align*}\n",
    "T(r, 0) &= T_0 \\quad &\\text{(A)} \\\\\n",
    "\\partial_z T(r, L) &= 0 \\quad &\\text{(B)} \\\\\n",
    " h\\,\\bigl(T(R_\\text{i}, z) - T_\\text{b,i}(z)\\bigr) &= 0 \\quad &\\text{(C)} \\\\\n",
    " h\\,(T(R_\\text{o}, z) - T_\\text{b,o}(z)) &= 0 \\quad  &\\text{(D)} \\\\\n",
    "\\end{align*}\n",
    "\n",
    "where: \n",
    "A: is the iven temperature at the bottom of the reflector (Dirichlet); B: is the heat flux across the top boundary of the reflector (Neumann); C: all heat conducted to the inner boundary is transferred to the coolant flowing through the coolant flow channels within the graphite reflector (Robin); and D: all heat conducted away from the outer boundary is transferred to the system by the coolantg flowing outside the reflector (Robin)."
   ]
  },
  {
   "cell_type": "markdown",
   "metadata": {},
   "source": [
    "### [Strong Form Fluid Flow and Heat Transport in the Salt](#toc)<a id=\"strong\"></a>\n",
    "We begin with the strong form for heat conduction through the graphite on either side of the coolant channel.\n",
    "\n",
    "\\begin{align*}\n",
    "\\rho c_p \\frac{dT}{dt} &= -k \\nabla^2 T + S = -k \\Bigl(\\frac{d^2}{dr^2} + \\frac{d^2}{dz^2}\\Bigr) + S\n",
    "\\end{align*}\n",
    "\n",
    "With the following boundary conditions:\n",
    "\n",
    "\\begin{align*}\n",
    "T(r, 0) &= T_0 \\quad &\\text{(A)} \\\\\n",
    "\\frac{dT}{dz}(r, Z) &= 0 \\quad &\\text{(B)} \\\\\n",
    "-k\\, \\nabla T(R_\\text{i}, z) + h\\,\\bigl(T(R_\\text{i}, z) - T_\\text{b,i}(z)\\bigr) &= 0 \\quad &\\text{(C)} \\\\\n",
    "-k\\, \\nabla T(R_\\text{o}, z) + h(T(R_\\text{o}, z) - T_\\text{b,o}(z)) &= 0 \\quad  &\\text{(D)} \\\\\n",
    "\\end{align*}\n",
    "\n",
    "A: Given temperature at the bottom of the reflector (Dirichlet).\n",
    "\n",
    "B: Zero heat flux across the top boundary of the reflector (Neumann). \n",
    "\n",
    "C: All heat conducted to the inner boundary is transferred to the coolant flowing through the coolant flow channels within the graphite reflector (Robin).\n",
    "\n",
    "D: All heat conducted away from the outer boundary is transferred to the system by the coolantg flowing outside the reflector (Robin).\n",
    "\n",
    "The equations describing the flow of fluid within the conduit are as follows:\n",
    "\n",
    "\\begin{align*}\n",
    "\\rho c_p (\\frac{dT}{dt} + v \\cdot \\nabla T) &= -k \\nabla^2 T \\\\\n",
    "\\rho \\nabla \\cdot (v \\otimes v) &= \\nabla \\cdot (-p - \\mu(\\nabla v \\cdot \\nabla v^T) + \\rho_0 + \\beta(T - T_{ref}) \\\\\n",
    "\\nabla \\cdot v &= 0\n",
    "\\end{align*}\n",
    "\n",
    "With the following boundary conditions on temperature:\n",
    "\\begin{align*}\n",
    "T(r, 0) &= T_0 \\; (A)\\\\\n",
    "- k \\nabla T(R, z) + h(T(R, z) - T_w(z)) &= 0 \\; (B)\\\\\n",
    "\\frac{dT}{dz}(r, Z) &= 0 \\; (C)\n",
    "\\end{align*}\n",
    "\n",
    "A: Given temperature at the bottom of the reflector (from coolant inflow temperature). (Dirichlett)\n",
    "\n",
    "B: All heat transferred into the fluid from the wall is carried out by conduction and convection. (Robin)\n",
    "\n",
    "C: No heat flux across the outflow boundary. (Neumann)\n",
    "\n",
    "And the following boundary conditions on pressure:\n",
    "\n",
    "\\begin{align*}\n",
    "p(r, 0) &= P_0 \\; (A)\\\\\n",
    "\\frac{dp(r, Z)}{dz} &= - \\tau \\vec{n} \\; (B)\\\\\n",
    "\\frac{dp(R, z)}{dx} &= 0 \\; (C) \n",
    "\\end{align*}\n",
    "\n",
    "A: Given pressure at the bottom of the reflector(from pumping and system pressure). (Dirichlett)\n",
    "\n",
    "B: No temperature change at the outflow surface and hence no change in buoyancy. Thus the traction vector sums to zero and the rate of change of pressure is simply equal to the sum of the viscous forces acting along the normal boundary vector (in this case, the Z-direction).\n",
    "\n",
    "C: The pressure gradient across the bounadry is equal to zero (no pressure flux through the walls of the channel).\n",
    "\n",
    "Note that, in all cases, the velocity $v$ is specified at all points within the liquid phase, and therefore its divergence and gradient are specified as well. Additionally, as we assume steady flow, $\\frac{dv}{dz} = 0$.\n",
    "\n",
    "\n"
   ]
  },
  {
   "cell_type": "markdown",
   "metadata": {},
   "source": [
    "### Domain\n",
    "Consider FLIBE coolant flowing with a constant velocity $u$ = 2 m/s through the outer coolant flow channels of the graphite reflector, with outer radius $R_o$ = 11.4 cm, inner radius $R_i$ = 10cm, and active length $L$ = 12.0 m. Assume no cross flow from the reactor channel into the reflector outer coolant flow channel, and vice versa. that salt enters the bottom of the reflector flow channels with constant temperature $T_i$ = 600$^{\\circ}$C. Assume shutdown mode, and thus flow is driven only by natural convection. Bulk fluid leaves the reactor at 700$^{\\circ}$C."
   ]
  },
  {
   "cell_type": "code",
   "execution_count": 1,
   "metadata": {
    "code_folding": [
     2
    ]
   },
   "outputs": [],
   "source": [
    "'''Domain'''\n",
    "\n",
    "def show_domain():\n",
    "    import pyvista as pv\n",
    "    pv.set_plot_theme('paraview')\n",
    "\n",
    "    height = 4.5*(3/4+2*1)\n",
    "    radius_i = 3/4 / 2\n",
    "    radius_o = radius_i + 1\n",
    "    coolant = pv.Cylinder(center=(0,0,0), direction=(0,0,1), height=height, radius=radius_i)\n",
    "    pin = pv.Cylinder(center=(0,0,0), direction=(0,0,1), height=height, radius=radius_o)\n",
    "    coolant_o = pv.Cylinder(center=(0,0,0), direction=(0,0,1), height=height, radius=radius_o + 1)\n",
    "\n",
    "    plo = pv.Plotter(notebook=True,shape=(1,2)) \n",
    "\n",
    "    plo.subplot(0,0)\n",
    "    plo.add_mesh(coolant, color='red', opacity=1.0,)\n",
    "    plo.add_mesh(pin, color='tan', opacity=0.99)\n",
    "    plo.add_mesh(coolant_o, color='red', opacity=0.99)\n",
    "    plo.add_axes(xlabel='R', ylabel='Theta', zlabel='Z')\n",
    "\n",
    "    pin = pin.triangulate()\n",
    "    tmp = pv.Cylinder(center=(0,0,0), direction=(0,0,1), height=height*1.1, radius=radius_i).triangulate()\n",
    "    tmp.flip_normals()\n",
    "\n",
    "    pin = pin.boolean_cut(tmp)\n",
    "    plo.subplot(0,1)\n",
    "    plo.add_mesh(pin, 'grey')\n",
    "    plo.add_mesh(pv.Cylinder(center=(0,0,0), direction=(0,0,1), height=height*.98, radius=radius_i), 'red')\n",
    "    plo.add_mesh(coolant_o, color='red', opacity=0.99)\n",
    "    \n",
    "    cpos = plo.show(window_size=[800, 600])"
   ]
  },
  {
   "cell_type": "code",
   "execution_count": 2,
   "metadata": {},
   "outputs": [
    {
     "data": {
      "image/png": "[encoded data removed]",
      "text/plain": [
       "<PIL.Image.Image image mode=RGB size=800x600 at 0x7F9323512760>"
      ]
     },
     "metadata": {},
     "output_type": "display_data"
    }
   ],
   "source": [
    "show_domain()"
   ]
  },
  {
   "cell_type": "markdown",
   "metadata": {},
   "source": [
    "|  |\n",
    "|:---:|\n",
    "| <img width=\"380\" src=\"pictures/ProblemStatement.png\" title=\"sketch\"> |\n",
    "| <p style=\"text-align:center;\"><b>Domain sketch.</b></p> |"
   ]
  },
  {
   "cell_type": "markdown",
   "metadata": {},
   "source": [
    "## [Objectives](#toc)<a id=\"obj\"></a>"
   ]
  },
  {
   "cell_type": "markdown",
   "metadata": {},
   "source": [
    "- Determine the maximum temperature and pressure within the reflector flow channels\n",
    "- Determine the decay heat power absorbed by the system at steady state\n",
    "- Analyze heat flux across the surface of the pipe"
   ]
  },
  {
   "cell_type": "markdown",
   "metadata": {},
   "source": [
    "## [Approach](#toc)<a id=\"app\"></a>"
   ]
  },
  {
   "cell_type": "markdown",
   "metadata": {},
   "source": [
    "### [Weak Form of Problem Statement](#toc)<a id=\"weakform\"></a> \n",
    "\n",
    "\n",
    "In the solid phase the Galerkin weak form reads\n",
    "\n",
    "\\begin{align*}\n",
    "\\int_\\Omega k\\, \\grad_\\xpoint T \\cdot \\grad_\\xpoint u \\, dv \n",
    "+ \\int_{\\partial\\Omega} k\\,\\partial_\\normal T \\, u \\, da \n",
    "- \\int_{\\Omega} S \\, u\\, dv= 0\n",
    "\\end{align*}\n",
    "while in the fluid phase:\n",
    "\\begin{align*}\n",
    "\\int_\\Omega \\rho c_p\\, \\grad_\\xpoint T \\cdot \\velocity \\, u \\, dv + \\int_\\Omega k \\grad_\\xpoint T \\cdot \\grad_\\xpoint u + \\int_{d \\Omega} \\frac{dT}{d \\vec{n}} u \\ da = 0 .\n",
    "\\end{align*}"
   ]
  },
  {
   "cell_type": "markdown",
   "metadata": {},
   "source": [
    "### [MOOSE Kernels](#toc)<a id=\"kernels\"></a>\n",
    "\n",
    "The following MOOSE kernels were implemented to solve the [weak form](#weakform):\n",
    "1. Heat conduction by diffusion:\n",
    " + [interface](./include/kernels/HeatConduction.h) and [implementation](./src/kernels/HeatConduction.C)."
   ]
  },
  {
   "cell_type": "markdown",
   "metadata": {},
   "source": [
    "### [Setup](#toc)<a id=\"setup\"></a>"
   ]
  },
  {
   "cell_type": "code",
   "execution_count": null,
   "metadata": {},
   "outputs": [],
   "source": [
    "'''Domain'''\n",
    "\n",
    "x_a = 0\n",
    "x_b = 1000\n",
    "\n",
    "x_length = x_b - x_a"
   ]
  },
  {
   "cell_type": "code",
   "execution_count": null,
   "metadata": {},
   "outputs": [],
   "source": [
    "'''Parameters'''\n",
    "\n",
    "diff_coeff = 2.04\n",
    "s_source = 0"
   ]
  },
  {
   "cell_type": "code",
   "execution_count": null,
   "metadata": {},
   "outputs": [],
   "source": [
    "'''Data (boundary conditions)'''\n",
    "\n",
    "u_a = 4.17\n",
    "transfer_coeff_right = 2.0"
   ]
  },
  {
   "cell_type": "markdown",
   "metadata": {},
   "source": [
    "### [Tests](#toc)<a id=\"tests\"></a>"
   ]
  },
  {
   "cell_type": "markdown",
   "metadata": {},
   "source": [
    "#### [Fuel](#toc)<a id=\"fuel\"></a>"
   ]
  },
  {
   "cell_type": "code",
   "execution_count": null,
   "metadata": {},
   "outputs": [],
   "source": [
    "'''FEM Solution'''\n",
    "\n",
    "n_felem = 10\n",
    "\n",
    "order = 'first'\n",
    "\n",
    "n_plot_pts = n_felem + 1\n",
    "\n",
    "from tools.toolkit import write_engy5310_p1_1d_input_file\n",
    "\n",
    "write_engy5310_p1_1d_input_file(x_left=x_a, x_right=x_b, \n",
    "                                u_left=u_a, \n",
    "                                transfer_coeff_right=transfer_coeff_right,\n",
    "                                diff_coeff=diff_coeff,\n",
    "                                n_felem=n_felem, order=order, \n",
    "                                n_plot_pts=n_plot_pts,\n",
    "                                use_moose_neumann_bc=True,\n",
    "                                file_name='input.hit')"
   ]
  },
  {
   "cell_type": "code",
   "execution_count": 1,
   "metadata": {},
   "outputs": [
    {
     "name": "stdout",
     "output_type": "stream",
     "text": [
      "# Engy-5310 Problem: Poisson 2D FEM\r\n",
      "# UMass Lowell Nuclear Chemical Engineering\r\n",
      "# Prof. Valmor F. de Almeida\r\n",
      "# 25Apr21 19:25:00\r\n",
      "\r\n",
      "# Parameters\r\n",
      "xmin = 9.52500e-03\r\n",
      "xmax = 3.49250e-02\r\n",
      "ymin = -1.57162e-01\r\n",
      "ymax = 1.57162e-01\r\n",
      "therm_cond_fuel = 1.40000e+02\r\n",
      "source_s = 2.37000e+08\r\n",
      "u_left = 5.71150e+02\r\n",
      "\r\n",
      "[Problem]\r\n",
      "  type = FEProblem\r\n",
      "  coord_type = RZ\r\n",
      "  rz_coord_axis = Y\r\n",
      "[]\r\n",
      "\r\n",
      "[Mesh]\r\n",
      "  [2d]\r\n",
      "    type = GeneratedMeshGenerator\r\n",
      "    dim = 2\r\n",
      "    xmin = ${replace xmin}\r\n",
      "    xmax = ${replace xmax}\r\n",
      "    ymin = ${replace ymin}\r\n",
      "    ymax = ${replace ymax}\r\n",
      "    nx = 25\r\n",
      "    ny = 225\r\n",
      "  []\r\n",
      "[]\r\n",
      "\r\n",
      "[Variables]\r\n",
      "  [T]\r\n",
      "    order = first\r\n",
      "    family = lagrange\r\n",
      "    initial_condition = ${fparse (u_left)/1}\r\n",
      "  []\r\n",
      "[]\r\n",
      "\r\n",
      "[Kernels]\r\n",
      "  [heat-conduction-salt]\r\n",
      "    type = HeatConduction\r\n",
      "    variable = T     \r\n",
      "    thermCond = ${replace therm_cond_fuel}\r\n",
      "  []\r\n",
      "  [nuclear-heat-source]\r\n",
      "    type = NuclearHeat\r\n",
      "    variable = T     \r\n",
      "    sourceS = ${replace source_s}\r\n",
      "  []\r\n",
      "[]\r\n",
      "\r\n",
      "[BCs]\r\n",
      "  [east]\r\n",
      "    type = DirichletBC\r\n",
      "    variable = T\r\n",
      "    boundary = left\r\n",
      "    value = ${replace u_left}\r\n",
      "  []\r\n",
      "  [west]\r\n",
      "    type = NeumannBC\r\n",
      "    variable = T\r\n",
      "    boundary = right\r\n",
      "  []\r\n",
      "  [south]\r\n",
      "    type = NeumannBC\r\n",
      "    variable = T\r\n",
      "    boundary = bottom\r\n",
      "  []\r\n",
      "  [north]\r\n",
      "    type = NeumannBC\r\n",
      "    variable = T\r\n",
      "    boundary = top\r\n",
      "  []\r\n",
      "[]\r\n",
      "\r\n",
      "[Executioner]\r\n",
      "  type = Steady\r\n",
      "  solve_type = 'PJFNK'\r\n",
      "  petsc_options_iname = '-pc_type -pc_hypre_type'\r\n",
      "  petsc_options_value = 'hypre boomeramg'\r\n",
      "[]\r\n",
      "\r\n",
      "[VectorPostprocessors]\r\n",
      "  [x-line]\r\n",
      "    type = LineValueSampler\r\n",
      "    execute_on = 'timestep_end final'\r\n",
      "    variable = 'T'    # output data\r\n",
      "    start_point = '${replace xmin} ${fparse (ymax+ymin)/2} 0'\r\n",
      "    end_point = '${replace xmax} ${fparse (ymax+ymin)/2} 0'\r\n",
      "    num_points = 20\r\n",
      "    sort_by = id\r\n",
      "  []\r\n",
      "  [y-line]\r\n",
      "    type = LineValueSampler\r\n",
      "    execute_on = 'timestep_end final'\r\n",
      "    variable = 'T'    # output data\r\n",
      "    start_point = '${fparse (xmax+xmin)/2} ${replace ymin} 0'\r\n",
      "    end_point = '${fparse (xmax+xmin)/2} ${replace ymax} 0'\r\n",
      "    num_points = 20\r\n",
      "    sort_by = id\r\n",
      "  []\r\n",
      "[]\r\n",
      "\r\n",
      "[Outputs]\r\n",
      "  console = true\r\n",
      "  [vtk]\r\n",
      "    type = VTK\r\n",
      "    execute_on = final\r\n",
      "    file_base = out\r\n",
      "  []\r\n",
      "  [x]\r\n",
      "    type = CSV\r\n",
      "    execute_on = 'final'\r\n",
      "    show = 'x-line'\r\n",
      "    file_base = out-x\r\n",
      "  []\r\n",
      "  [y]\r\n",
      "    type = CSV\r\n",
      "    execute_on = 'final'\r\n",
      "    show = 'y-line'\r\n",
      "    file_base = out-y\r\n",
      "  []\r\n",
      "[]\r\n"
     ]
    }
   ],
   "source": [
    "'''Input file'''\n",
    "!cat input.hit"
   ]
  },
  {
   "cell_type": "code",
   "execution_count": 2,
   "metadata": {},
   "outputs": [
    {
     "name": "stdout",
     "output_type": "stream",
     "text": [
      "\n",
      "\n",
      "Framework Information:\n",
      "MOOSE Version:           git commit f07bdea446 on 2021-04-21\n",
      "LibMesh Version:         27141d18f3137f77e33cdb3d565fd38ebfbfc46f\n",
      "PETSc Version:           3.15.0\n",
      "SLEPc Version:           3.14.2\n",
      "Current Time:            Mon Apr 26 20:23:15 2021\n",
      "Executable Timestamp:    Sun Apr 25 19:45:50 2021\n",
      "\n",
      "Parallelism:\n",
      "  Num Processors:          1\n",
      "  Num Threads:             1\n",
      "\n",
      "Mesh: \n",
      "  Parallel Type:           replicated\n",
      "  Mesh Dimension:          2\n",
      "  Spatial Dimension:       2\n",
      "  Nodes:                   \n",
      "    Total:                 5876\n",
      "    Local:                 5876\n",
      "  Elems:                   \n",
      "    Total:                 5625\n",
      "    Local:                 5625\n",
      "  Num Subdomains:          1\n",
      "  Num Partitions:          1\n",
      "\n",
      "Nonlinear System:\n",
      "  Num DOFs:                5876\n",
      "  Num Local DOFs:          5876\n",
      "  Variables:               \"T\" \n",
      "  Finite Element Types:    \"LAGRANGE\" \n",
      "  Approximation Orders:    \"FIRST\" \n",
      "\n",
      "Execution Information:\n",
      "  Executioner:             Steady\n",
      "  Solver Mode:             Preconditioned JFNK\n",
      "  PETSc Preconditioner:    hypre boomeramg \n",
      "\n",
      " 0 Nonlinear |R| = \u001b[32m3.657790e+03\u001b[39m\n",
      "      0 Linear |R| = \u001b[32m3.657790e+03\u001b[39m\n",
      "      1 Linear |R| = \u001b[32m5.345595e+02\u001b[39m\n",
      "      2 Linear |R| = \u001b[32m1.196815e+01\u001b[39m\n",
      "      3 Linear |R| = \u001b[32m2.970898e-01\u001b[39m\n",
      "      4 Linear |R| = \u001b[32m8.510794e-03\u001b[39m\n",
      " 1 Nonlinear |R| = \u001b[32m2.828766e+00\u001b[39m\n",
      "      0 Linear |R| = \u001b[32m2.828766e+00\u001b[39m\n",
      "      1 Linear |R| = \u001b[32m6.150026e-03\u001b[39m\n",
      "      2 Linear |R| = \u001b[32m1.475580e-04\u001b[39m\n",
      "      3 Linear |R| = \u001b[32m4.314128e-06\u001b[39m\n",
      " 2 Nonlinear |R| = \u001b[32m7.059321e-06\u001b[39m\n",
      "\u001b[32m Solve Converged!\u001b[39m\n",
      "The .pvtu extension should be used when writing VTK files in libMesh.WARNING! There are options you set that were not used!\n",
      "WARNING! could be spelling mistake, etc!\n",
      "There is one unused database option. It is:\n",
      "Option left: name:-i value: input.hit\n"
     ]
    }
   ],
   "source": [
    "'''Run Engy5310P1 MOOSE App'''\n",
    "\n",
    "!./fhr-opt -i input.hit"
   ]
  },
  {
   "cell_type": "code",
   "execution_count": 3,
   "metadata": {},
   "outputs": [
    {
     "data": {
      "image/png": "[encoded data removed]",
      "text/plain": [
       "<PIL.Image.Image image mode=RGB size=800x600 at 0x7FD115994820>"
      ]
     },
     "metadata": {},
     "output_type": "display_data"
    }
   ],
   "source": [
    "'''Show 2D solution'''\n",
    "\n",
    "import pyvista as pv\n",
    "poisson = pv.read('out_000_0.vtu')\n",
    "plo = pv.Plotter()   \n",
    "plo.add_mesh(poisson, scalars='T', cmap='plasma', stitle='Temperature [K]')\n",
    "plo.add_axes(xlabel='R', ylabel='Z', zlabel='Theta')\n",
    "plo.set_viewup([1,0,0])\n",
    "plo.screenshot('test.png')\n",
    "cpos = plo.show(window_size=[800, 600])\n",
    "#plotter.set_background('white')"
   ]
  },
  {
   "cell_type": "markdown",
   "metadata": {},
   "source": [
    "## [Results and Analysis](#toc)<a id=\"ranalysis\"></a>"
   ]
  },
  {
   "cell_type": "code",
   "execution_count": null,
   "metadata": {},
   "outputs": [],
   "source": [
    "'''Show 2D solution'''\n",
    "\n",
    "import pyvista as pv\n",
    "poisson = pv.read('out_000_0.vtu')\n",
    "plo = pv.Plotter()   \n",
    "plo.add_mesh(poisson, scalars='T', cmap='plasma', stitle='Temperature [K]')\n",
    "plo.add_axes(xlabel='R', ylabel='Z', zlabel='Theta')\n",
    "plo.set_viewup([1,0,0])\n",
    "plo.screenshot('test.png')\n",
    "cpos = plo.show(window_size=[800, 600])\n",
    "#plotter.set_background('white')"
   ]
  },
  {
   "cell_type": "markdown",
   "metadata": {},
   "source": [
    "## [Conclusions](#toc)<a id=\"conclusions\"></a>"
   ]
  },
  {
   "cell_type": "markdown",
   "metadata": {},
   "source": [
    "## [References](#toc)<a id=\"refs\"></a>\n",
    "\n",
    "- [1] V. F. de Almeida, [*Engy-5310: Computational Continuum Transport Phenomena*](https://github.com/dpploy/engy-5310), University of Massachusetts Lowell, Dept. of Chemical Engineering (Nuclear Energy Program).\n",
    "- [2] Multiphysics Object-Oriented Simulation Environment [(MOOSE)](https://mooseframework.org)\n",
    "- [3] Andreades, Charalampos et. al, [*Technical Description of the “Mark 1” Pebble-Bed Fluoride-Salt-Cooled High-Temperature Reactor (PB-FHR) Power Plant*](https://web.mit.edu/nse/pdf/researchstaff/forsberg/FHR%20Point%20Design%2014-002%20UCB.pdf), University of California Berkely, Dept. of Nuclear Engineering. 2014. \n",
    "- [4] author, [reference]()"
   ]
  },
  {
   "cell_type": "code",
   "execution_count": null,
   "metadata": {},
   "outputs": [],
   "source": []
  }
 ],
 "metadata": {
  "kernelspec": {
   "display_name": "Python 3",
   "language": "python",
   "name": "python3"
  },
  "language_info": {
   "codemirror_mode": {
    "name": "ipython",
    "version": 3
   },
   "file_extension": ".py",
   "mimetype": "text/x-python",
   "name": "python",
   "nbconvert_exporter": "python",
   "pygments_lexer": "ipython3",
   "version": "3.8.8"
  },
  "latex_envs": {
   "LaTeX_envs_menu_present": true,
   "autoclose": false,
   "autocomplete": true,
   "bibliofile": "biblio.bib",
   "cite_by": "apalike",
   "current_citInitial": 1,
   "eqLabelWithNumbers": true,
   "eqNumInitial": 1,
   "hotkeys": {
    "equation": "Ctrl-E",
    "itemize": "Ctrl-I"
   },
   "labels_anchors": false,
   "latex_user_defs": false,
   "report_style_numbering": false,
   "user_envs_cfg": false
  }
 },
 "nbformat": 4,
 "nbformat_minor": 2
}

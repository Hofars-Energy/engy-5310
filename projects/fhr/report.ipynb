{
 "cells": [
  {
   "cell_type": "markdown",
   "metadata": {},
   "source": [
    "**Engy-5310** Computational Continuum Transport Phenomena, UMass Lowell, Chem. Eng. Nuclear Program Spring 2021; Prof. V. F. de Almeida\n",
    "\n",
    "# Fluoride Salt Cooled High-Temperature Channel Flow\n",
    "$  \n",
    "  \\newcommand{\\Amtrx}{\\boldsymbol{\\mathsf{A}}}\n",
    "  \\newcommand{\\Bmtrx}{\\boldsymbol{\\mathsf{B}}}\n",
    "  \\newcommand{\\Mmtrx}{\\boldsymbol{\\mathsf{M}}}\n",
    "  \\newcommand{\\Imtrx}{\\boldsymbol{\\mathsf{I}}}\n",
    "  \\newcommand{\\Pmtrx}{\\boldsymbol{\\mathsf{P}}}\n",
    "  \\newcommand{\\Lmtrx}{\\boldsymbol{\\mathsf{L}}}\n",
    "  \\newcommand{\\Umtrx}{\\boldsymbol{\\mathsf{U}}}\n",
    "  \\newcommand{\\Smtrx}{\\boldsymbol{\\mathsf{S}}}\n",
    "  \\newcommand{\\xvec}{\\boldsymbol{\\mathsf{x}}}\n",
    "  \\newcommand{\\avec}{\\boldsymbol{\\mathsf{a}}}\n",
    "  \\newcommand{\\bvec}{\\boldsymbol{\\mathsf{b}}}\n",
    "  \\newcommand{\\cvec}{\\boldsymbol{\\mathsf{c}}}\n",
    "  \\newcommand{\\rvec}{\\boldsymbol{\\mathsf{r}}}\n",
    "  \\newcommand{\\fvec}{\\boldsymbol{\\mathsf{f}}}\n",
    "  \\newcommand{\\mvec}{\\boldsymbol{\\mathsf{m}}}\n",
    "  \\newcommand{\\gvec}{\\boldsymbol{\\mathsf{g}}}\n",
    "  \\newcommand{\\flux}{\\boldsymbol{q}}\n",
    "  \\newcommand{\\velocity}{\\boldsymbol{v}}\n",
    "  \\newcommand{\\normal}{\\boldsymbol{n}}\n",
    "  \\newcommand{\\xpoint}{\\boldsymbol{x}}\n",
    "  \\newcommand{\\zerovec}{\\boldsymbol{\\mathsf{0}}}\n",
    "  \\newcommand{\\norm}[1]{\\bigl\\lVert{#1}\\bigr\\rVert}\n",
    "  \\newcommand{\\transpose}[1]{{#1}^\\top}\n",
    "  \\DeclareMathOperator{\\rank}{rank}\n",
    "  \\DeclareMathOperator{\\div}{div}\n",
    "  \\DeclareMathOperator{\\grad}{grad}\n",
    "  \\newcommand{\\Reals}{\\mathbb{R}}\n",
    "  \\newcommand{\\thetavec}{\\boldsymbol{\\theta}}\n",
    "$"
   ]
  },
  {
   "cell_type": "markdown",
   "metadata": {},
   "source": [
    "**Student(s):**  Austin Rotker <br>\n",
    "**Course:** Engy-5310 Computational Continuum Transport Phenomena  <br>\n",
    "**Mentor:** Prof. Valmor F. de Almeida\n",
    "\n",
    "UMass Lowell, Dept. of Chemical Engineering, Nuclear Energy Program \n",
    "<br>\n",
    "**25Apr2021**"
   ]
  },
  {
   "cell_type": "markdown",
   "metadata": {},
   "source": [
    "---\n",
    "## Table of Contents<a id=\"toc\"></a>\n",
    "* [Introduction](#intro)\n",
    "* [Problem Statement](#problem)\n",
    "* [Objectives](#obj)\n",
    "* [Approach](#app)\n",
    " + [Weak Form of Problem Statement](#weakform)\n",
    " + [MOOSE Kernels](#kernels)\n",
    " + [Setup](#setup)\n",
    "* [Results and Analysis](#ranalysis)\n",
    "* [Conclusions](#conclusions)\n",
    "* [References](#refs)\n",
    "---"
   ]
  },
  {
   "cell_type": "markdown",
   "metadata": {},
   "source": [
    "## [Introduction](#toc)<a id=\"intro\"></a>"
   ]
  },
  {
   "cell_type": "markdown",
   "metadata": {},
   "source": [
    "The Fluoride-Cooled High Temperature Reactor (FHR) is a generation IV design which boasts attractive safety features and economic properties; The FLIBE/NAFZIRF coolant proposed for use in FHRs is supplied to the secondary coolant loop at temperatures approaching 700 $^{\\circ}$C, far in excess of outflow coolant temperatures seen in water-cooled designs, which results in higher Brayton cycle efficiency and opens the door for use in applications which require very high temperature process heat. Furthermore, cooling during shutdown is accomplished through natural convection, improving safety and reliability as well as lowering capital costs significantly.\n",
    "\n",
    "The design itself shares similarities with the High Temperature Gas-Cooled Reactor (HTGR). Fuel is present in the form of spherical pellets rather than the cylindrical ones used in more conventional reactors; The reactor itself consists of an anular space within concentric cylinders within which the primary coolant flows and the fuel pellets are introduced. As the fuel pellets are less dense than the surrounding salt, they will slowly be buoyed up to the top of the reactor if they are introduced continuously at the bottom, with a residence time of about two months. Pellets can hence be introduced and removed from the reactor continuously, with no need to shut down for refueling. Primary coolant also flows within this channel around the fuel pebbles, as shown in the following diagram:\n",
    "\n",
    "\n",
    "\n",
    "Significant amounts of coolant also flow through the central graphite reflector in channels a few centimeters in diameter:\n",
    "\n",
    "Holes on the sides of the channels allow for cross flow into the reactor for more efficient heat transfer, although this will not be considered in the model which is to follow.\n",
    "\n",
    "\n"
   ]
  },
  {
   "cell_type": "markdown",
   "metadata": {},
   "source": [
    "## [Problem Statement](#toc)<a id=\"problem\"></a>"
   ]
  },
  {
   "cell_type": "markdown",
   "metadata": {},
   "source": [
    "### [Strong Form Heat Conduction in the Solid Phase](#toc)<a id=\"strong\"></a>\n",
    "The strong form of the governing equation for heat conduction in the graphite on either side of the coolant channel reads\n",
    "\n",
    "\\begin{align*}\n",
    "\\rho c_p\\,\\partial_t T &= k \\nabla^2 T + S = k \\Bigl(\\partial^2_{r^2} T + \\partial^2_{z^2} T\\Bigr) + S.\n",
    "\\end{align*}\n",
    "\n",
    "With the following boundary conditions:\n",
    "\n",
    "\\begin{align*}\n",
    "T(r, 0) &= T_0 \\quad &\\text{(A)} \\\\\n",
    "\\partial_z T(r, L) &= 0 \\quad &\\text{(B)} \\\\\n",
    " h\\,\\bigl(T(R_\\text{i}, z) - T_\\text{b,i}(z)\\bigr) &= 0 \\quad &\\text{(C)} \\\\\n",
    " h\\,(T(R_\\text{o}, z) - T_\\text{b,o}(z)) &= 0 \\quad  &\\text{(D)} \\\\\n",
    "\\end{align*}\n",
    "\n",
    "where: \n",
    "A: is the iven temperature at the bottom of the reflector (Dirichlet); B: is the heat flux across the top boundary of the reflector (Neumann); C: all heat conducted to the inner boundary is transferred to the coolant flowing through the coolant flow channels within the graphite reflector (Robin); and D: all heat conducted away from the outer boundary is transferred to the system by the coolantg flowing outside the reflector (Robin)."
   ]
  },
  {
   "cell_type": "markdown",
   "metadata": {},
   "source": [
    "### [Strong Form Fluid Flow and Heat Transport in the Salt](#toc)<a id=\"strong\"></a>\n",
    "We begin with the strong form for heat conduction through the graphite on either side of the coolant channel.\n",
    "\n",
    "\\begin{align*}\n",
    "\\rho c_p \\frac{dT}{dt} &= -k \\nabla^2 T + S = -k \\Bigl(\\frac{d^2}{dr^2} + \\frac{d^2}{dz^2}\\Bigr) + S\n",
    "\\end{align*}\n",
    "\n",
    "With the following boundary conditions:\n",
    "\n",
    "\\begin{align*}\n",
    "T(r, 0) &= T_0 \\quad &\\text{(A)} \\\\\n",
    "\\frac{dT}{dz}(r, Z) &= 0 \\quad &\\text{(B)} \\\\\n",
    "-k\\, \\nabla T(R_\\text{i}, z) + h\\,\\bigl(T(R_\\text{i}, z) - T_\\text{b,i}(z)\\bigr) &= 0 \\quad &\\text{(C)} \\\\\n",
    "-k\\, \\nabla T(R_\\text{o}, z) + h(T(R_\\text{o}, z) - T_\\text{b,o}(z)) &= 0 \\quad  &\\text{(D)} \\\\\n",
    "\\end{align*}\n",
    "\n",
    "A: Given temperature at the bottom of the reflector (Dirichlet).\n",
    "\n",
    "B: Zero heat flux across the top boundary of the reflector (Neumann). \n",
    "\n",
    "C: All heat conducted to the inner boundary is transferred to the coolant flowing through the coolant flow channels within the graphite reflector (Robin).\n",
    "\n",
    "D: All heat conducted away from the outer boundary is transferred to the system by the coolantg flowing outside the reflector (Robin).\n",
    "\n",
    "The equations describing the flow of fluid within the conduit are as follows:\n",
    "\n",
    "\\begin{align*}\n",
    "\\rho c_p (\\frac{dT}{dt} + v \\cdot \\nabla T) &= -k \\nabla^2 T \\\\\n",
    "\\rho \\nabla \\cdot (v \\otimes v) &= \\nabla \\cdot (-p - \\mu(\\nabla v \\cdot \\nabla v^T) + \\rho_0 + \\beta(T - T_{ref}) \\\\\n",
    "\\nabla \\cdot v &= 0\n",
    "\\end{align*}\n",
    "\n",
    "With the following boundary conditions on temperature:\n",
    "\\begin{align*}\n",
    "T(r, 0) &= T_0 \\; (A)\\\\\n",
    "- k \\nabla T(R, z) + h(T(R, z) - T_w(z)) &= 0 \\; (B)\\\\\n",
    "\\frac{dT}{dz}(r, Z) &= 0 \\; (C)\n",
    "\\end{align*}\n",
    "\n",
    "A: Given temperature at the bottom of the reflector (from coolant inflow temperature). (Dirichlett)\n",
    "\n",
    "B: All heat transferred into the fluid from the wall is carried out by conduction and convection. (Robin)\n",
    "\n",
    "C: No heat flux across the outflow boundary. (Neumann)\n",
    "\n",
    "And the following boundary conditions on pressure:\n",
    "\n",
    "\\begin{align*}\n",
    "p(r, 0) &= P_0 \\; (A)\\\\\n",
    "\\frac{dp(r, Z)}{dz} &= - \\tau \\vec{n} \\; (B)\\\\\n",
    "\\frac{dp(R, z)}{dx} &= 0 \\; (C) \n",
    "\\end{align*}\n",
    "\n",
    "A: Given pressure at the bottom of the reflector(from pumping and system pressure). (Dirichlett)\n",
    "\n",
    "B: No temperature change at the outflow surface and hence no change in buoyancy. Thus the traction vector sums to zero and the rate of change of pressure is simply equal to the sum of the viscous forces acting along the normal boundary vector (in this case, the Z-direction).\n",
    "\n",
    "C: The pressure gradient across the bounadry is equal to zero (no pressure flux through the walls of the channel).\n",
    "\n",
    "Note that, in all cases, the velocity $v$ is specified at all points within the liquid phase, and therefore its divergence and gradient are specified as well. Additionally, as we assume steady flow, $\\frac{dv}{dz} = 0$.\n",
    "\n",
    "\n"
   ]
  },
  {
   "cell_type": "markdown",
   "metadata": {},
   "source": [
    "### Domain\n",
    "Consider FLIBE coolant flowing with a constant velocity $u$ = 2 m/s through the outer coolant flow channels of the graphite reflector, with outer radius $R_o$ = 11.4 cm, inner radius $R_i$ = 10cm, and active length $L$ = 12.0 m. Assume no cross flow from the reactor channel into the reflector outer coolant flow channel, and vice versa. that salt enters the bottom of the reflector flow channels with constant temperature $T_i$ = 600$^{\\circ}$C. Assume shutdown mode, and thus flow is driven only by natural convection. Bulk fluid leaves the reactor at 700$^{\\circ}$C."
   ]
  },
  {
   "cell_type": "code",
   "execution_count": 1,
   "metadata": {
    "code_folding": []
   },
   "outputs": [],
   "source": [
    "'''Domain'''\n",
    "\n",
    "def show_domain():\n",
    "    import pyvista as pv\n",
    "    pv.set_plot_theme('paraview')\n",
    "\n",
    "    height = 4.5*(3/4+2*1)\n",
    "    radius_i = 3/4 / 2\n",
    "    radius_o = radius_i + 1\n",
    "    coolant = pv.Cylinder(center=(0,0,0), direction=(0,0,1), height=height, radius=radius_i)\n",
    "    pin = pv.Cylinder(center=(0,0,0), direction=(0,0,1), height=height, radius=radius_o)\n",
    "    coolant_o = pv.Cylinder(center=(0,0,0), direction=(0,0,1), height=height, radius=radius_o + 1)\n",
    "\n",
    "    plo = pv.Plotter(notebook=True,shape=(1,2)) \n",
    "\n",
    "    plo.subplot(0,0)\n",
    "    plo.add_mesh(coolant, color='red', opacity=1.0,)\n",
    "    plo.add_mesh(pin, color='tan', opacity=0.99)\n",
    "    plo.add_mesh(coolant_o, color='red', opacity=0.99)\n",
    "    plo.add_axes(xlabel='R', ylabel='Theta', zlabel='Z')\n",
    "\n",
    "    pin = pin.triangulate()\n",
    "    tmp = pv.Cylinder(center=(0,0,0), direction=(0,0,1), height=height*1.1, radius=radius_i).triangulate()\n",
    "    tmp.flip_normals()\n",
    "\n",
    "    pin = pin.boolean_cut(tmp)\n",
    "    plo.subplot(0,1)\n",
    "    plo.add_mesh(pin, 'grey')\n",
    "    plo.add_mesh(pv.Cylinder(center=(0,0,0), direction=(0,0,1), height=height*.98, radius=radius_i), 'red')\n",
    "    plo.add_mesh(coolant_o, color='red', opacity=0.99)\n",
    "    \n",
    "    cpos = plo.show(window_size=[800, 600])"
   ]
  },
  {
   "cell_type": "code",
   "execution_count": null,
   "metadata": {},
   "outputs": [],
   "source": [
    "show_domain()"
   ]
  },
  {
   "cell_type": "markdown",
   "metadata": {},
   "source": [
    "|  |\n",
    "|:---:|\n",
    "| <img width=\"380\" src=\"pictures/ProblemStatement.png\" title=\"sketch\"> |\n",
    "| <p style=\"text-align:center;\"><b>Domain sketch.</b></p> |"
   ]
  },
  {
   "cell_type": "markdown",
   "metadata": {},
   "source": [
    "## [Objectives](#toc)<a id=\"obj\"></a>"
   ]
  },
  {
   "cell_type": "markdown",
   "metadata": {},
   "source": [
    "- Determine the maximum temperature and pressure within the reflector flow channels\n",
    "- Determine the decay heat power absorbed by the system at steady state\n",
    "- Analyze heat flux across the surface of the pipe"
   ]
  },
  {
   "cell_type": "markdown",
   "metadata": {},
   "source": [
    "## [Approach](#toc)<a id=\"app\"></a>"
   ]
  },
  {
   "cell_type": "markdown",
   "metadata": {},
   "source": [
    "### [Weak Form of Problem Statement](#toc)<a id=\"weakform\"></a> \n",
    "\n",
    "\n",
    "In the solid phase the Galerkin weak form reads\n",
    "\n",
    "\\begin{align*}\n",
    "\\int_\\Omega k\\, \\grad_\\xpoint T \\cdot \\grad_\\xpoint u \\, dv \n",
    "+ \\int_{\\partial\\Omega} k\\,\\partial_\\normal T \\, u \\, da \n",
    "- \\int_{\\Omega} S \\, u\\, dv= 0\n",
    "\\end{align*}\n",
    "while in the fluid phase:\n",
    "\\begin{align*}\n",
    "\\int_\\Omega \\rho c_p\\, \\grad_\\xpoint T \\cdot \\velocity \\, u \\, dv + \\int_\\Omega k \\grad_\\xpoint T \\cdot \\grad_\\xpoint u + \\int_{d \\Omega} \\frac{dT}{d \\vec{n}} u \\ da = 0 .\n",
    "\\end{align*}"
   ]
  },
  {
   "cell_type": "markdown",
   "metadata": {},
   "source": [
    "### [MOOSE Kernels](#toc)<a id=\"kernels\"></a>\n",
    "\n",
    "The following MOOSE kernels were implemented to solve the [weak form](#weakform):\n",
    "1. Heat conduction by diffusion:\n",
    " + [interface](./include/kernels/HeatConduction.h) and [implementation](./src/kernels/HeatConduction.C)."
   ]
  },
  {
   "cell_type": "markdown",
   "metadata": {},
   "source": [
    "### [Setup](#toc)<a id=\"setup\"></a>"
   ]
  },
  {
   "cell_type": "code",
   "execution_count": 3,
   "metadata": {},
   "outputs": [
    {
     "data": {
      "text/plain": [
       "'/usr'"
      ]
     },
     "execution_count": 3,
     "metadata": {},
     "output_type": "execute_result"
    }
   ],
   "source": [
    "import sys; sys.prefix"
   ]
  },
  {
   "cell_type": "code",
   "execution_count": 1,
   "metadata": {},
   "outputs": [],
   "source": [
    "#import pyhit\n",
    "import moosetree"
   ]
  },
  {
   "cell_type": "code",
   "execution_count": 2,
   "metadata": {},
   "outputs": [
    {
     "ename": "ImportError",
     "evalue": "/home/dealmeida/gentoo-home/work/codes/moose/framework/contrib/hit/hit.so: undefined symbol: PyObject_GC_IsFinalized",
     "output_type": "error",
     "traceback": [
      "\u001b[0;31m---------------------------------------------------------------------------\u001b[0m",
      "\u001b[0;31mModuleNotFoundError\u001b[0m                       Traceback (most recent call last)",
      "\u001b[0;32m~/gentoo-home/work/codes/moose/python/pyhit/__init__.py\u001b[0m in \u001b[0;36m<module>\u001b[0;34m\u001b[0m\n\u001b[1;32m      6\u001b[0m \u001b[0;32mtry\u001b[0m\u001b[0;34m:\u001b[0m\u001b[0;34m\u001b[0m\u001b[0;34m\u001b[0m\u001b[0m\n\u001b[0;32m----> 7\u001b[0;31m     \u001b[0;32mimport\u001b[0m \u001b[0mhit\u001b[0m\u001b[0;34m\u001b[0m\u001b[0;34m\u001b[0m\u001b[0m\n\u001b[0m\u001b[1;32m      8\u001b[0m \u001b[0;34m\u001b[0m\u001b[0m\n",
      "\u001b[0;31mModuleNotFoundError\u001b[0m: No module named 'hit'",
      "\nDuring handling of the above exception, another exception occurred:\n",
      "\u001b[0;31mImportError\u001b[0m                               Traceback (most recent call last)",
      "\u001b[0;32m~/gentoo-home/work/codes/moose/python/pyhit/__init__.py\u001b[0m in \u001b[0;36m<module>\u001b[0;34m\u001b[0m\n\u001b[1;32m     22\u001b[0m         \u001b[0;32mtry\u001b[0m\u001b[0;34m:\u001b[0m\u001b[0;34m\u001b[0m\u001b[0;34m\u001b[0m\u001b[0m\n\u001b[0;32m---> 23\u001b[0;31m             \u001b[0;32mimport\u001b[0m \u001b[0mhit\u001b[0m\u001b[0;34m\u001b[0m\u001b[0;34m\u001b[0m\u001b[0m\n\u001b[0m\u001b[1;32m     24\u001b[0m         \u001b[0;32mexcept\u001b[0m \u001b[0mImportError\u001b[0m\u001b[0;34m:\u001b[0m\u001b[0;34m\u001b[0m\u001b[0;34m\u001b[0m\u001b[0m\n",
      "\u001b[0;31mImportError\u001b[0m: /home/dealmeida/gentoo-home/work/codes/moose/framework/contrib/hit/hit.so: undefined symbol: PyObject_GC_IsFinalized",
      "\nDuring handling of the above exception, another exception occurred:\n",
      "\u001b[0;31mImportError\u001b[0m                               Traceback (most recent call last)",
      "\u001b[0;32m<ipython-input-2-246d248368c9>\u001b[0m in \u001b[0;36m<module>\u001b[0;34m\u001b[0m\n\u001b[0;32m----> 1\u001b[0;31m \u001b[0;32mimport\u001b[0m \u001b[0mpyhit\u001b[0m\u001b[0;34m\u001b[0m\u001b[0;34m\u001b[0m\u001b[0m\n\u001b[0m",
      "\u001b[0;32m~/gentoo-home/work/codes/moose/python/pyhit/__init__.py\u001b[0m in \u001b[0;36m<module>\u001b[0;34m\u001b[0m\n\u001b[1;32m     25\u001b[0m             \u001b[0mmoose_test_dir\u001b[0m \u001b[0;34m=\u001b[0m \u001b[0mos\u001b[0m\u001b[0;34m.\u001b[0m\u001b[0mpath\u001b[0m\u001b[0;34m.\u001b[0m\u001b[0mabspath\u001b[0m\u001b[0;34m(\u001b[0m\u001b[0mos\u001b[0m\u001b[0;34m.\u001b[0m\u001b[0mpath\u001b[0m\u001b[0;34m.\u001b[0m\u001b[0mjoin\u001b[0m\u001b[0;34m(\u001b[0m\u001b[0mmoose_dir\u001b[0m\u001b[0;34m,\u001b[0m \u001b[0;34m'test'\u001b[0m\u001b[0;34m)\u001b[0m\u001b[0;34m)\u001b[0m\u001b[0;34m\u001b[0m\u001b[0;34m\u001b[0m\u001b[0m\n\u001b[1;32m     26\u001b[0m             \u001b[0msubprocess\u001b[0m\u001b[0;34m.\u001b[0m\u001b[0mrun\u001b[0m\u001b[0;34m(\u001b[0m\u001b[0;34m[\u001b[0m\u001b[0;34m'make'\u001b[0m\u001b[0;34m,\u001b[0m \u001b[0;34m'hit'\u001b[0m\u001b[0;34m]\u001b[0m\u001b[0;34m,\u001b[0m \u001b[0mcwd\u001b[0m\u001b[0;34m=\u001b[0m\u001b[0mmoose_test_dir\u001b[0m\u001b[0;34m)\u001b[0m\u001b[0;34m\u001b[0m\u001b[0;34m\u001b[0m\u001b[0m\n\u001b[0;32m---> 27\u001b[0;31m             \u001b[0;32mimport\u001b[0m \u001b[0mhit\u001b[0m\u001b[0;34m\u001b[0m\u001b[0;34m\u001b[0m\u001b[0m\n\u001b[0m\u001b[1;32m     28\u001b[0m     \u001b[0;31m# Use hit in moosetools submodule\u001b[0m\u001b[0;34m\u001b[0m\u001b[0;34m\u001b[0m\u001b[0;34m\u001b[0m\u001b[0m\n\u001b[1;32m     29\u001b[0m     \u001b[0;32melse\u001b[0m\u001b[0;34m:\u001b[0m\u001b[0;34m\u001b[0m\u001b[0;34m\u001b[0m\u001b[0m\n",
      "\u001b[0;31mImportError\u001b[0m: /home/dealmeida/gentoo-home/work/codes/moose/framework/contrib/hit/hit.so: undefined symbol: PyObject_GC_IsFinalized"
     ]
    }
   ],
   "source": [
    "import pyhit"
   ]
  },
  {
   "cell_type": "code",
   "execution_count": null,
   "metadata": {},
   "outputs": [],
   "source": [
    "'''Domain'''\n",
    "\n",
    "x_a = 0\n",
    "x_b = 1000\n",
    "\n",
    "x_length = x_b - x_a"
   ]
  },
  {
   "cell_type": "code",
   "execution_count": null,
   "metadata": {},
   "outputs": [],
   "source": [
    "'''Parameters'''\n",
    "\n",
    "diff_coeff = 2.04\n",
    "s_source = 0"
   ]
  },
  {
   "cell_type": "code",
   "execution_count": null,
   "metadata": {},
   "outputs": [],
   "source": [
    "'''Data (boundary conditions)'''\n",
    "\n",
    "u_a = 4.17\n",
    "transfer_coeff_right = 2.0"
   ]
  },
  {
   "cell_type": "code",
   "execution_count": 1,
   "metadata": {},
   "outputs": [
    {
     "ename": "ModuleNotFoundError",
     "evalue": "No module named 'tools'",
     "output_type": "error",
     "traceback": [
      "\u001b[0;31m---------------------------------------------------------------------------\u001b[0m",
      "\u001b[0;31mModuleNotFoundError\u001b[0m                       Traceback (most recent call last)",
      "\u001b[0;32m<ipython-input-1-f5b93c2038a5>\u001b[0m in \u001b[0;36m<module>\u001b[0;34m\u001b[0m\n\u001b[1;32m      7\u001b[0m \u001b[0mn_plot_pts\u001b[0m \u001b[0;34m=\u001b[0m \u001b[0mn_felem\u001b[0m \u001b[0;34m+\u001b[0m \u001b[0;36m1\u001b[0m\u001b[0;34m\u001b[0m\u001b[0;34m\u001b[0m\u001b[0m\n\u001b[1;32m      8\u001b[0m \u001b[0;34m\u001b[0m\u001b[0m\n\u001b[0;32m----> 9\u001b[0;31m \u001b[0;32mfrom\u001b[0m \u001b[0mtools\u001b[0m\u001b[0;34m.\u001b[0m\u001b[0mtoolkit\u001b[0m \u001b[0;32mimport\u001b[0m \u001b[0mwrite_engy5310_p1_1d_input_file\u001b[0m\u001b[0;34m\u001b[0m\u001b[0;34m\u001b[0m\u001b[0m\n\u001b[0m\u001b[1;32m     10\u001b[0m \u001b[0;34m\u001b[0m\u001b[0m\n\u001b[1;32m     11\u001b[0m write_engy5310_p1_1d_input_file(x_left=x_a, x_right=x_b, \n",
      "\u001b[0;31mModuleNotFoundError\u001b[0m: No module named 'tools'"
     ]
    }
   ],
   "source": [
    "'''FEM Solution'''\n",
    "\n",
    "n_felem = 10\n",
    "\n",
    "order = 'first'\n",
    "\n",
    "n_plot_pts = n_felem + 1\n",
    "\n",
    "from tools.toolkit import write_engy5310_p1_1d_input_file\n",
    "\n",
    "write_engy5310_p1_1d_input_file(x_left=x_a, x_right=x_b, \n",
    "                                u_left=u_a, \n",
    "                                transfer_coeff_right=transfer_coeff_right,\n",
    "                                diff_coeff=diff_coeff,\n",
    "                                n_felem=n_felem, order=order, \n",
    "                                n_plot_pts=n_plot_pts,\n",
    "                                use_moose_neumann_bc=True,\n",
    "                                file_name='input.hit')"
   ]
  },
  {
   "cell_type": "code",
   "execution_count": 1,
   "metadata": {},
   "outputs": [
    {
     "name": "stdout",
     "output_type": "stream",
     "text": [
      "\n",
      "\n",
      "Framework Information:\n",
      "MOOSE Version:           git commit d2b4648b2d on 2021-02-18\n",
      "LibMesh Version:         \n",
      "PETSc Version:           3.14.2\n",
      "SLEPc Version:           3.14.0\n",
      "Current Time:            Tue Apr 27 17:40:35 2021\n",
      "Executable Timestamp:    Tue Apr 27 17:20:56 2021\n",
      "\n",
      "Parallelism:\n",
      "  Num Processors:          1\n",
      "  Num Threads:             1\n",
      "\n",
      "Mesh: \n",
      "  Parallel Type:           replicated\n",
      "  Mesh Dimension:          2\n",
      "  Spatial Dimension:       2\n",
      "  Nodes:                   \n",
      "    Total:                 5876\n",
      "    Local:                 5876\n",
      "  Elems:                   \n",
      "    Total:                 5625\n",
      "    Local:                 5625\n",
      "  Num Subdomains:          1\n",
      "  Num Partitions:          1\n",
      "\n",
      "Nonlinear System:\n",
      "  Num DOFs:                5876\n",
      "  Num Local DOFs:          5876\n",
      "  Variables:               \"T\" \n",
      "  Finite Element Types:    \"LAGRANGE\" \n",
      "  Approximation Orders:    \"FIRST\" \n",
      "\n",
      "Execution Information:\n",
      "  Executioner:             Steady\n",
      "  Solver Mode:             Preconditioned JFNK\n",
      "  PETSc Preconditioner:    hypre boomeramg \n",
      "\n",
      "\u001b[31mLEGACY MODES ENABLED:\u001b[39m\n",
      " Default for parameter preset = false for all DirichletBC and ADDirichletBC objects.\n",
      " Set use_legacy_dirichlet_bc = false in the application to change to the preferred behavior.\n",
      "\u001b[39m\n",
      " 0 Nonlinear |R| = \u001b[32m5.099141e+01\u001b[39m\n",
      "      0 Linear |R| = \u001b[32m5.099141e+01\u001b[39m\n",
      "      1 Linear |R| = \u001b[32m2.114776e+01\u001b[39m\n",
      "      2 Linear |R| = \u001b[32m7.487374e+00\u001b[39m\n",
      "      3 Linear |R| = \u001b[32m4.300684e+00\u001b[39m\n",
      "      4 Linear |R| = \u001b[32m2.624234e+00\u001b[39m\n",
      "      5 Linear |R| = \u001b[32m1.979863e+00\u001b[39m\n",
      "      6 Linear |R| = \u001b[33m1.884443e+00\u001b[39m\n",
      "      7 Linear |R| = \u001b[33m1.850209e+00\u001b[39m\n",
      "      8 Linear |R| = \u001b[32m1.731418e+00\u001b[39m\n",
      "      9 Linear |R| = \u001b[33m1.684663e+00\u001b[39m\n",
      "     10 Linear |R| = \u001b[32m1.534908e+00\u001b[39m\n",
      "     11 Linear |R| = \u001b[32m1.349912e+00\u001b[39m\n",
      "     12 Linear |R| = \u001b[32m1.245272e+00\u001b[39m\n",
      "     13 Linear |R| = \u001b[33m1.185210e+00\u001b[39m\n",
      "     14 Linear |R| = \u001b[32m1.036783e+00\u001b[39m\n",
      "     15 Linear |R| = \u001b[32m8.908011e-01\u001b[39m\n",
      "     16 Linear |R| = \u001b[32m8.337917e-01\u001b[39m\n",
      "     17 Linear |R| = \u001b[32m6.983795e-01\u001b[39m\n",
      "     18 Linear |R| = \u001b[32m5.874295e-01\u001b[39m\n",
      "     19 Linear |R| = \u001b[32m5.130123e-01\u001b[39m\n",
      "     20 Linear |R| = \u001b[32m4.363133e-01\u001b[39m\n",
      "     21 Linear |R| = \u001b[32m3.699540e-01\u001b[39m\n",
      "     22 Linear |R| = \u001b[32m3.273786e-01\u001b[39m\n",
      "     23 Linear |R| = \u001b[32m2.757370e-01\u001b[39m\n",
      "     24 Linear |R| = \u001b[32m2.405758e-01\u001b[39m\n",
      "     25 Linear |R| = \u001b[32m2.161091e-01\u001b[39m\n",
      "     26 Linear |R| = \u001b[32m1.856910e-01\u001b[39m\n",
      "     27 Linear |R| = \u001b[32m1.555023e-01\u001b[39m\n",
      "     28 Linear |R| = \u001b[32m1.458769e-01\u001b[39m\n",
      "     29 Linear |R| = \u001b[32m1.275598e-01\u001b[39m\n",
      "  Linear solve did not converge due to DIVERGED_BREAKDOWN iterations 30\n",
      " 1 Nonlinear |R| = \u001b[32m4.754155e+01\u001b[39m\n",
      "      0 Linear |R| = \u001b[32m4.754155e+01\u001b[39m\n",
      "      1 Linear |R| = \u001b[32m9.157936e-01\u001b[39m\n",
      "      2 Linear |R| = \u001b[32m3.725819e-01\u001b[39m\n",
      "      3 Linear |R| = \u001b[32m2.032868e-01\u001b[39m\n",
      "      4 Linear |R| = \u001b[32m1.299533e-01\u001b[39m\n",
      "      5 Linear |R| = \u001b[32m9.521445e-02\u001b[39m\n",
      "      6 Linear |R| = \u001b[32m8.218091e-02\u001b[39m\n",
      "      7 Linear |R| = \u001b[32m7.713813e-02\u001b[39m\n",
      "      8 Linear |R| = \u001b[32m7.144257e-02\u001b[39m\n",
      "      9 Linear |R| = \u001b[32m6.452382e-02\u001b[39m\n",
      "     10 Linear |R| = \u001b[32m5.587478e-02\u001b[39m\n",
      "     11 Linear |R| = \u001b[32m4.648354e-02\u001b[39m\n",
      "     12 Linear |R| = \u001b[32m3.954909e-02\u001b[39m\n",
      "     13 Linear |R| = \u001b[32m3.538500e-02\u001b[39m\n",
      "     14 Linear |R| = \u001b[32m3.143275e-02\u001b[39m\n",
      "     15 Linear |R| = \u001b[32m2.731608e-02\u001b[39m\n",
      "     16 Linear |R| = \u001b[32m2.368292e-02\u001b[39m\n",
      "     17 Linear |R| = \u001b[32m1.988765e-02\u001b[39m\n",
      "     18 Linear |R| = \u001b[32m1.747022e-02\u001b[39m\n",
      "     19 Linear |R| = \u001b[32m1.527304e-02\u001b[39m\n",
      "     20 Linear |R| = \u001b[32m1.356389e-02\u001b[39m\n",
      "     21 Linear |R| = \u001b[32m1.221948e-02\u001b[39m\n",
      "     22 Linear |R| = \u001b[32m1.080953e-02\u001b[39m\n",
      "     23 Linear |R| = \u001b[32m9.453629e-03\u001b[39m\n",
      "     24 Linear |R| = \u001b[32m8.005076e-03\u001b[39m\n",
      "     25 Linear |R| = \u001b[32m6.610853e-03\u001b[39m\n",
      "     26 Linear |R| = \u001b[32m5.657981e-03\u001b[39m\n",
      "     27 Linear |R| = \u001b[32m4.799150e-03\u001b[39m\n",
      "     28 Linear |R| = \u001b[32m3.960977e-03\u001b[39m\n",
      "     29 Linear |R| = \u001b[32m3.203261e-03\u001b[39m\n",
      "     30 Linear |R| = \u001b[31m1.469474e-01\u001b[39m\n",
      "     31 Linear |R| = \u001b[32m3.638856e-03\u001b[39m\n",
      "     32 Linear |R| = \u001b[32m2.624488e-03\u001b[39m\n",
      "     33 Linear |R| = \u001b[32m2.360267e-03\u001b[39m\n",
      "     34 Linear |R| = \u001b[32m2.157305e-03\u001b[39m\n",
      "     35 Linear |R| = \u001b[32m1.928239e-03\u001b[39m\n",
      "     36 Linear |R| = \u001b[32m1.675894e-03\u001b[39m\n",
      "     37 Linear |R| = \u001b[32m1.440627e-03\u001b[39m\n",
      "     38 Linear |R| = \u001b[32m1.230855e-03\u001b[39m\n",
      "     39 Linear |R| = \u001b[32m1.106401e-03\u001b[39m\n",
      "     40 Linear |R| = \u001b[32m9.878020e-04\u001b[39m\n",
      "     41 Linear |R| = \u001b[32m8.692098e-04\u001b[39m\n",
      "     42 Linear |R| = \u001b[32m7.257901e-04\u001b[39m\n",
      "     43 Linear |R| = \u001b[32m6.198975e-04\u001b[39m\n",
      "     44 Linear |R| = \u001b[32m5.396808e-04\u001b[39m\n",
      "     45 Linear |R| = \u001b[32m4.731878e-04\u001b[39m\n",
      " 2 Nonlinear |R| = \u001b[32m7.534860e-02\u001b[39m\n",
      "      0 Linear |R| = \u001b[32m7.534860e-02\u001b[39m\n",
      "      1 Linear |R| = \u001b[32m1.692733e-03\u001b[39m\n",
      "      2 Linear |R| = \u001b[32m7.765310e-04\u001b[39m\n",
      "      3 Linear |R| = \u001b[32m5.217106e-04\u001b[39m\n",
      "      4 Linear |R| = \u001b[32m4.288936e-04\u001b[39m\n",
      "      5 Linear |R| = \u001b[32m3.855934e-04\u001b[39m\n",
      "      6 Linear |R| = \u001b[32m3.591180e-04\u001b[39m\n",
      "      7 Linear |R| = \u001b[32m3.385733e-04\u001b[39m\n",
      "      8 Linear |R| = \u001b[32m3.004138e-04\u001b[39m\n",
      "      9 Linear |R| = \u001b[32m2.651988e-04\u001b[39m\n",
      "     10 Linear |R| = \u001b[32m2.333210e-04\u001b[39m\n",
      "     11 Linear |R| = \u001b[32m2.090144e-04\u001b[39m\n",
      "     12 Linear |R| = \u001b[32m1.875363e-04\u001b[39m\n",
      "     13 Linear |R| = \u001b[32m1.684435e-04\u001b[39m\n",
      "     14 Linear |R| = \u001b[32m1.473107e-04\u001b[39m\n",
      "     15 Linear |R| = \u001b[32m1.321434e-04\u001b[39m\n",
      "     16 Linear |R| = \u001b[32m1.173511e-04\u001b[39m\n",
      "     17 Linear |R| = \u001b[32m1.021647e-04\u001b[39m\n",
      "     18 Linear |R| = \u001b[32m8.204228e-05\u001b[39m\n",
      "     19 Linear |R| = \u001b[32m6.220309e-05\u001b[39m\n",
      "     20 Linear |R| = \u001b[32m5.139912e-05\u001b[39m\n",
      "     21 Linear |R| = \u001b[32m4.586312e-05\u001b[39m\n",
      "     22 Linear |R| = \u001b[32m4.156090e-05\u001b[39m\n",
      "     23 Linear |R| = \u001b[32m3.720186e-05\u001b[39m\n",
      "     24 Linear |R| = \u001b[32m3.207124e-05\u001b[39m\n",
      "     25 Linear |R| = \u001b[32m2.789670e-05\u001b[39m\n",
      "     26 Linear |R| = \u001b[32m2.507471e-05\u001b[39m\n",
      "     27 Linear |R| = \u001b[32m2.309554e-05\u001b[39m\n",
      "     28 Linear |R| = \u001b[32m2.151745e-05\u001b[39m\n",
      "     29 Linear |R| = \u001b[32m2.015404e-05\u001b[39m\n",
      "     30 Linear |R| = \u001b[31m2.646030e-04\u001b[39m\n",
      "     31 Linear |R| = \u001b[32m1.900609e-05\u001b[39m\n",
      "     32 Linear |R| = \u001b[33m1.812533e-05\u001b[39m\n",
      "     33 Linear |R| = \u001b[33m1.735864e-05\u001b[39m\n",
      "     34 Linear |R| = \u001b[32m1.615653e-05\u001b[39m\n",
      "     35 Linear |R| = \u001b[32m1.463859e-05\u001b[39m\n",
      "     36 Linear |R| = \u001b[32m1.341343e-05\u001b[39m\n",
      "     37 Linear |R| = \u001b[32m1.237195e-05\u001b[39m\n",
      "     38 Linear |R| = \u001b[32m1.151131e-05\u001b[39m\n",
      "     39 Linear |R| = \u001b[32m1.079483e-05\u001b[39m\n",
      "     40 Linear |R| = \u001b[32m9.710900e-06\u001b[39m\n",
      "     41 Linear |R| = \u001b[32m8.786924e-06\u001b[39m\n",
      "     42 Linear |R| = \u001b[32m7.579738e-06\u001b[39m\n",
      "     43 Linear |R| = \u001b[32m6.469796e-06\u001b[39m\n",
      "     44 Linear |R| = \u001b[32m5.646307e-06\u001b[39m\n",
      "     45 Linear |R| = \u001b[32m4.922998e-06\u001b[39m\n",
      "     46 Linear |R| = \u001b[32m4.269062e-06\u001b[39m\n",
      "     47 Linear |R| = \u001b[32m3.803727e-06\u001b[39m\n",
      "     48 Linear |R| = \u001b[32m3.380942e-06\u001b[39m\n",
      "     49 Linear |R| = \u001b[32m2.910733e-06\u001b[39m\n",
      "     50 Linear |R| = \u001b[32m2.531122e-06\u001b[39m\n",
      "     51 Linear |R| = \u001b[32m2.269310e-06\u001b[39m\n",
      "     52 Linear |R| = \u001b[32m2.045048e-06\u001b[39m\n",
      "     53 Linear |R| = \u001b[32m1.791699e-06\u001b[39m\n",
      "     54 Linear |R| = \u001b[32m1.556505e-06\u001b[39m\n",
      "     55 Linear |R| = \u001b[32m1.381423e-06\u001b[39m\n",
      "     56 Linear |R| = \u001b[32m1.211027e-06\u001b[39m\n",
      "     57 Linear |R| = \u001b[32m1.052836e-06\u001b[39m\n",
      "     58 Linear |R| = \u001b[32m9.000177e-07\u001b[39m\n",
      "     59 Linear |R| = \u001b[32m7.555607e-07\u001b[39m\n",
      "     60 Linear |R| = \u001b[32m6.266533e-07\u001b[39m\n",
      " 3 Nonlinear |R| = \u001b[32m6.992785e-05\u001b[39m\n",
      "      0 Linear |R| = \u001b[32m6.992785e-05\u001b[39m\n",
      "      1 Linear |R| = \u001b[32m1.517502e-06\u001b[39m\n",
      "      2 Linear |R| = \u001b[32m7.880577e-07\u001b[39m\n",
      "      3 Linear |R| = \u001b[32m6.024044e-07\u001b[39m\n",
      "      4 Linear |R| = \u001b[32m5.219589e-07\u001b[39m\n",
      "      5 Linear |R| = \u001b[32m4.753491e-07\u001b[39m\n",
      "      6 Linear |R| = \u001b[32m4.309906e-07\u001b[39m\n",
      "      7 Linear |R| = \u001b[32m3.865426e-07\u001b[39m\n",
      "      8 Linear |R| = \u001b[32m3.302726e-07\u001b[39m\n",
      "      9 Linear |R| = \u001b[32m2.900274e-07\u001b[39m\n",
      "     10 Linear |R| = \u001b[32m2.623990e-07\u001b[39m\n",
      "     11 Linear |R| = \u001b[32m2.398762e-07\u001b[39m\n",
      "     12 Linear |R| = \u001b[32m2.170611e-07\u001b[39m\n",
      "     13 Linear |R| = \u001b[32m1.915243e-07\u001b[39m\n",
      "     14 Linear |R| = \u001b[32m1.673702e-07\u001b[39m\n",
      "     15 Linear |R| = \u001b[32m1.480135e-07\u001b[39m\n",
      "     16 Linear |R| = \u001b[32m1.287506e-07\u001b[39m\n"
     ]
    },
    {
     "name": "stdout",
     "output_type": "stream",
     "text": [
      "     17 Linear |R| = \u001b[32m1.120574e-07\u001b[39m\n",
      "     18 Linear |R| = \u001b[32m9.664125e-08\u001b[39m\n",
      "     19 Linear |R| = \u001b[32m8.359931e-08\u001b[39m\n",
      "     20 Linear |R| = \u001b[32m7.319978e-08\u001b[39m\n",
      "     21 Linear |R| = \u001b[32m6.394665e-08\u001b[39m\n",
      "     22 Linear |R| = \u001b[32m5.249946e-08\u001b[39m\n",
      "     23 Linear |R| = \u001b[32m4.494937e-08\u001b[39m\n",
      "     24 Linear |R| = \u001b[32m3.974425e-08\u001b[39m\n",
      "     25 Linear |R| = \u001b[32m3.608116e-08\u001b[39m\n",
      "     26 Linear |R| = \u001b[32m3.227662e-08\u001b[39m\n",
      "     27 Linear |R| = \u001b[32m2.837386e-08\u001b[39m\n",
      "     28 Linear |R| = \u001b[32m2.492975e-08\u001b[39m\n",
      "     29 Linear |R| = \u001b[32m2.323916e-08\u001b[39m\n",
      "     30 Linear |R| = \u001b[31m3.721232e-07\u001b[39m\n",
      "     31 Linear |R| = \u001b[32m2.292242e-08\u001b[39m\n",
      "     32 Linear |R| = \u001b[32m2.159840e-08\u001b[39m\n",
      "     33 Linear |R| = \u001b[33m2.095044e-08\u001b[39m\n",
      "     34 Linear |R| = \u001b[33m1.998648e-08\u001b[39m\n",
      "     35 Linear |R| = \u001b[32m1.874804e-08\u001b[39m\n",
      "     36 Linear |R| = \u001b[32m1.739794e-08\u001b[39m\n",
      "     37 Linear |R| = \u001b[32m1.590107e-08\u001b[39m\n",
      "     38 Linear |R| = \u001b[32m1.422730e-08\u001b[39m\n",
      "     39 Linear |R| = \u001b[32m1.262247e-08\u001b[39m\n",
      "     40 Linear |R| = \u001b[32m1.102798e-08\u001b[39m\n",
      "     41 Linear |R| = \u001b[32m9.943817e-09\u001b[39m\n",
      "     42 Linear |R| = \u001b[32m8.962510e-09\u001b[39m\n",
      "     43 Linear |R| = \u001b[32m7.971595e-09\u001b[39m\n",
      "     44 Linear |R| = \u001b[32m7.082560e-09\u001b[39m\n",
      "     45 Linear |R| = \u001b[32m6.335391e-09\u001b[39m\n",
      "     46 Linear |R| = \u001b[32m5.682018e-09\u001b[39m\n",
      "     47 Linear |R| = \u001b[32m5.152708e-09\u001b[39m\n",
      "     48 Linear |R| = \u001b[32m4.575396e-09\u001b[39m\n",
      "     49 Linear |R| = \u001b[32m4.001685e-09\u001b[39m\n",
      "     50 Linear |R| = \u001b[32m3.514988e-09\u001b[39m\n",
      "     51 Linear |R| = \u001b[32m3.121426e-09\u001b[39m\n",
      "     52 Linear |R| = \u001b[32m2.766268e-09\u001b[39m\n",
      "     53 Linear |R| = \u001b[32m2.414269e-09\u001b[39m\n",
      "     54 Linear |R| = \u001b[32m2.096395e-09\u001b[39m\n",
      "     55 Linear |R| = \u001b[32m1.797674e-09\u001b[39m\n",
      "     56 Linear |R| = \u001b[32m1.534574e-09\u001b[39m\n",
      "     57 Linear |R| = \u001b[32m1.356185e-09\u001b[39m\n",
      "     58 Linear |R| = \u001b[32m1.190651e-09\u001b[39m\n",
      "     59 Linear |R| = \u001b[32m1.000808e-09\u001b[39m\n",
      "  Linear solve did not converge due to DIVERGED_BREAKDOWN iterations 60\n",
      " 4 Nonlinear |R| = \u001b[32m1.583657e-07\u001b[39m\n",
      "\u001b[32m Solve Converged!\u001b[39m\n",
      "The .pvtu extension should be used when writing VTK files in libMesh."
     ]
    }
   ],
   "source": [
    "'''Run Engy5310P1 MOOSE App'''\n",
    "\n",
    "!./fhr-opt -i input.hit"
   ]
  },
  {
   "cell_type": "markdown",
   "metadata": {},
   "source": [
    "## [Results and Analysis](#toc)<a id=\"ranalysis\"></a>"
   ]
  },
  {
   "cell_type": "code",
   "execution_count": 8,
   "metadata": {},
   "outputs": [
    {
     "name": "stdout",
     "output_type": "stream",
     "text": [
      "UnstructuredGrid (0x7f7f40111be0)\n",
      "  N Cells:\t5625\n",
      "  N Points:\t5876\n",
      "  X Bounds:\t0.000e+00, 1.400e-02\n",
      "  Y Bounds:\t0.000e+00, 1.200e+01\n",
      "  Z Bounds:\t0.000e+00, 0.000e+00\n",
      "  N Arrays:\t4\n",
      "\n"
     ]
    },
    {
     "data": {
      "image/png": "[encoded data removed]",
      "text/plain": [
       "<PIL.Image.Image image mode=RGB size=800x600 at 0x7F7F40134C70>"
      ]
     },
     "metadata": {},
     "output_type": "display_data"
    }
   ],
   "source": [
    "'''Show 2D solution'''\n",
    "\n",
    "import pyvista as pv\n",
    "from pyvista.utilities import xvfb\n",
    "xvfb.start_xvfb()\n",
    "poisson = pv.read('out_000_0.vtu')\n",
    "print(poisson)\n",
    "plo = pv.Plotter()   \n",
    "plo.add_mesh(poisson, scalars='T', cmap='plasma', stitle='Temperature [K]')\n",
    "plo.add_axes(xlabel='R', ylabel='Z', zlabel='Theta')\n",
    "plo.set_viewup([1,0,0])\n",
    "plo.show(window_size=[800, 600])\n",
    "plo.set_background('white')\n",
    "#plo.screenshot('test.png')\n",
    "#cpos = plo.show(window_size=[800, 600])\n",
    "#plotter.set_background('white')"
   ]
  },
  {
   "cell_type": "markdown",
   "metadata": {},
   "source": [
    "## [Conclusions](#toc)<a id=\"conclusions\"></a>"
   ]
  },
  {
   "cell_type": "markdown",
   "metadata": {},
   "source": [
    "## [References](#toc)<a id=\"refs\"></a>\n",
    "\n",
    "- [1] V. F. de Almeida, [*Engy-5310: Computational Continuum Transport Phenomena*](https://github.com/dpploy/engy-5310), University of Massachusetts Lowell, Dept. of Chemical Engineering (Nuclear Energy Program).\n",
    "- [2] Multiphysics Object-Oriented Simulation Environment [(MOOSE)](https://mooseframework.org)\n",
    "- [3] Andreades, Charalampos et. al, [*Technical Description of the “Mark 1” Pebble-Bed Fluoride-Salt-Cooled High-Temperature Reactor (PB-FHR) Power Plant*](https://web.mit.edu/nse/pdf/researchstaff/forsberg/FHR%20Point%20Design%2014-002%20UCB.pdf), University of California Berkely, Dept. of Nuclear Engineering. 2014. \n",
    "- [4] author, [reference]()"
   ]
  },
  {
   "cell_type": "code",
   "execution_count": null,
   "metadata": {},
   "outputs": [],
   "source": []
  }
 ],
 "metadata": {
  "kernelspec": {
   "display_name": "Python 3",
   "language": "python",
   "name": "python3"
  },
  "language_info": {
   "codemirror_mode": {
    "name": "ipython",
    "version": 3
   },
   "file_extension": ".py",
   "mimetype": "text/x-python",
   "name": "python",
   "nbconvert_exporter": "python",
   "pygments_lexer": "ipython3",
   "version": "3.8.5"
  },
  "latex_envs": {
   "LaTeX_envs_menu_present": true,
   "autoclose": false,
   "autocomplete": true,
   "bibliofile": "biblio.bib",
   "cite_by": "apalike",
   "current_citInitial": 1,
   "eqLabelWithNumbers": true,
   "eqNumInitial": 1,
   "hotkeys": {
    "equation": "Ctrl-E",
    "itemize": "Ctrl-I"
   },
   "labels_anchors": false,
   "latex_user_defs": false,
   "report_style_numbering": false,
   "user_envs_cfg": false
  }
 },
 "nbformat": 4,
 "nbformat_minor": 2
}

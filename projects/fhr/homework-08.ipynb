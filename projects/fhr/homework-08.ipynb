{
 "cells": [
  {
   "cell_type": "markdown",
   "metadata": {},
   "source": [
    "Engy-5310: Computational Continuum Transport Phenomena Spring 2021 UMass Lowell; Prof. V. F. de Almeida **19Feb21**\n",
    "\n",
    "# Howmework 08 (05Mar21)\n",
    "\n",
    "$  \n",
    "  \\newcommand{\\Amtrx}{\\boldsymbol{\\mathsf{A}}}\n",
    "  \\newcommand{\\Bmtrx}{\\boldsymbol{\\mathsf{B}}}\n",
    "  \\newcommand{\\Mmtrx}{\\boldsymbol{\\mathsf{M}}}\n",
    "  \\newcommand{\\Imtrx}{\\boldsymbol{\\mathsf{I}}}\n",
    "  \\newcommand{\\Pmtrx}{\\boldsymbol{\\mathsf{P}}}\n",
    "  \\newcommand{\\Lmtrx}{\\boldsymbol{\\mathsf{L}}}\n",
    "  \\newcommand{\\Umtrx}{\\boldsymbol{\\mathsf{U}}}\n",
    "  \\newcommand{\\Smtrx}{\\boldsymbol{\\mathsf{S}}}\n",
    "  \\newcommand{\\xvec}{\\boldsymbol{\\mathsf{x}}}\n",
    "  \\newcommand{\\avec}{\\boldsymbol{\\mathsf{a}}}\n",
    "  \\newcommand{\\bvec}{\\boldsymbol{\\mathsf{b}}}\n",
    "  \\newcommand{\\cvec}{\\boldsymbol{\\mathsf{c}}}\n",
    "  \\newcommand{\\rvec}{\\boldsymbol{\\mathsf{r}}}\n",
    "  \\newcommand{\\fvec}{\\boldsymbol{\\mathsf{f}}}\n",
    "  \\newcommand{\\mvec}{\\boldsymbol{\\mathsf{m}}}\n",
    "  \\newcommand{\\gvec}{\\boldsymbol{\\mathsf{g}}}\n",
    "  \\newcommand{\\zerovec}{\\boldsymbol{\\mathsf{0}}}\n",
    "  \\newcommand{\\norm}[1]{\\bigl\\lVert{#1}\\bigr\\rVert}\n",
    "  \\newcommand{\\transpose}[1]{{#1}^\\top}\n",
    "  \\DeclareMathOperator{\\rank}{rank}\n",
    "  \\newcommand{\\Reals}{\\mathbb{R}}\n",
    "  \\newcommand{\\thetavec}{\\boldsymbol{\\theta}}\n",
    "$"
   ]
  },
  {
   "cell_type": "markdown",
   "metadata": {},
   "source": [
    "### Name: `your name`"
   ]
  },
  {
   "cell_type": "markdown",
   "metadata": {},
   "source": [
    "### Rubric for each assignment: \n",
    "\n",
    "|       Context               |  Points |\n",
    "| -----------------------     | ------- |\n",
    "| Precision of the answer     |   80%   |\n",
    "| Answer Markdown readability |   10%   |\n",
    "| Code readability            |   10%   |"
   ]
  },
  {
   "cell_type": "markdown",
   "metadata": {},
   "source": [
    "### <span style=\"color:red\">Guidance:</span>\n",
    "\n",
    "+  <span style=\"color:red\"> \n",
    "    Save your work frequently to a file locally to your computer.\n",
    "   </span>\n",
    "+  <span style=\"color:red\">\n",
    "    During your work and before submitting the final version do:</span> Kernel -> Restart & Run All<span style=\"color:red\">, to verify your notebook runs correctly.\n",
    "   </span>\n",
    "+  <span style=\"color:red\">\n",
    "    Save your file again.\n",
    "   </span>\n",
    "+  <span style=\"color:red\">\n",
    "    Upload the notebook file in the Blackboard submission portal as: \n",
    "   </span> \n",
    "   \n",
    "   **lastname-firstname-labwork-xx.ipynb**"
   ]
  },
  {
   "cell_type": "markdown",
   "metadata": {},
   "source": [
    "---\n",
    "## Table of Assignments<a id=\"toa\"></a>\n",
    "* [Assignment 1 (40 pts)](#a1) Poisson/Dirichlet 1-D model problem.\n",
    " - [1.1)](#a11)(10 pts) Solve problem analytically and obtain the exact energy.\n",
    " - [1.2)](#a12)(10 pts) State the Galerkin variational problem and explain the Dirichlet energy.\n",
    " - [1.3)](#a13)(20 pts) Solve problem with the Galerkin FEM and MOOSE framework.\n",
    "* [Assignment 2 (45 pts)](#a2) Poisson/Dirichlet 1-D model problem revisited.\n",
    " - [2.1)](#a21)(45 pts) Re-solve problem with the Galerkin FEM and MOOSE framework.\n",
    "* [Assignment 3 (5 pts)](#a3) \n",
    "---"
   ]
  },
  {
   "cell_type": "markdown",
   "metadata": {},
   "source": [
    "### <span style=\"color:blue\">Given the Poisson/Dirichlet 1-D model problem:</span>\n",
    "<br>\n",
    "<span style=\"color:blue\">\n",
    "    \n",
    "Find $u:[a,b]\\in\\Reals\\rightarrow\\Reals$ for $D > 0$ such that:\n",
    "\n",
    "\\begin{align*}\n",
    " -\\bigl(-D\\, u'\\bigr)'(x) + S &= 0 \\quad \\forall \\quad x\\in [a,b], \\\\\n",
    " u(a) &= A, \\\\\n",
    " u(b) &= B,\n",
    "\\end{align*}\n",
    "   \n",
    "where the parameters: \n",
    " + diffusion coefficient, $D$, \n",
    " + source, $S$, \n",
    " + entry concentration, $A$, and \n",
    " + exit concentration $B$,\n",
    "\n",
    "are given below, and the associated Dirichlet energy is defined as\n",
    "    \n",
    "\\begin{align*}\n",
    " \\Phi[u] := \\int\\limits_a^b \\,\\frac{1}{2}\\bigl(q(x)\\bigr)^2 - D\\,S\\,u(x) \\,dx,\n",
    "\\end{align*}\n",
    "    \n",
    "where the flux is denoted $q:=-D\\,u'$; address the sub-assignments below.\n",
    "\n",
    "</span>"
   ]
  },
  {
   "cell_type": "markdown",
   "metadata": {},
   "source": [
    "## <span style=\"color:blue\">[Assignment 1 (40 pts)](#toa)</span><a id=\"a1\"></a>"
   ]
  },
  {
   "cell_type": "markdown",
   "metadata": {},
   "source": [
    "### <span style=\"color:blue\">[1.1)](#toa)(10 pts) Solve the problem analytically and obtain the exact energy.\n",
    "<a id=\"a11\"></a>"
   ]
  },
  {
   "cell_type": "markdown",
   "metadata": {},
   "source": [
    "\\begin{align*}\n",
    "&Du'' + S = 0 \\\\\n",
    "&u'' = \\frac{-S}{D} \\\\\n",
    "\\int &u'' = \\int \\frac{-S}{D} \\\\\n",
    "\\int &u' = \\int \\frac{-S}{D}x, + c_1 \\\\\n",
    "&u(x) = \\frac{-S}{2D}x^2 + c_1 x + c_2 \\\\\n",
    "\\end{align*}\n",
    "\n",
    "Putting the equation in dimensionless form gives the following:\n",
    "\\begin{align*}\n",
    "&\\hat{x} = \\frac{x - a}{b - a}\\\\\n",
    "&u(\\hat{x}) = \\frac{-S}{2D}\\hat{x}^2 + c_1 \\hat{x} + c_2\\\\\n",
    "&u(a) = A\\\\\n",
    "&u(b) = B\\\\\n",
    "&u(a) = \\frac{-S}{2D}(\\frac{a - a}{b - a})^2 + c_1 (\\frac{a - a}{b - a})  + c_2 = c_2 = A\\\\\n",
    "&u(b) = \\frac{-S}{2D}(\\frac{b - a}{b - a})^2 + c_1 (\\frac{b - a}{b - a}) + A = \\frac{-S}{2D} + c_1 + A = B\\\\\n",
    "&c_1 = B - A + \\frac{S}{2D}\n",
    "\\end{align*}\n",
    "\n",
    "Thus our dimensionless analytical solution is:\n",
    "\\begin{align*}\n",
    "&u(\\hat{x}) = \\frac{-S}{2D}\\hat{x}^2 + (B - A + \\frac{S}{2D}) \\hat{x} + A\n",
    "\\end{align*}\n",
    "\n",
    "Analytic energy can then be solved for as follows:\n",
    "\\begin{align*}\n",
    "\\int\\limits_0^1 \\frac{1}{2} (q(\\hat{x}))^2 - DSu(\\hat{x})dx\n",
    "\\end{align*}\n"
   ]
  },
  {
   "cell_type": "markdown",
   "metadata": {},
   "source": [
    "### <span style=\"color:blue\">[1.2)](#toa)(10 pts) State the Galerkin variational problem and explain what the Dirichlet energy means.\n",
    "</span><a id=\"a12\"></a>"
   ]
  },
  {
   "cell_type": "markdown",
   "metadata": {},
   "source": [
    "\\begin{align*}\n",
    " \\int\\limits_a^b -D\\, u'(x)\\,v'(x)\\,dx + \\int\\limits_a^b S\\,v(x)\\,dx &= 0 \\quad \\forall \\quad v \\in H^1_0\\!\\bigl([a,b]\\bigr), \n",
    "\\end{align*}"
   ]
  },
  {
   "cell_type": "markdown",
   "metadata": {},
   "source": [
    "### <span style=\"color:blue\">[1.3)](#toa)(20 pts) Using the Galerkin FEM and the MOOSE framework solve the diffusion problem using quadratic Lagrange polynomial basis functions for the values:</span>\n",
    "<br>\n",
    "<span style=\"color:blue\">\n",
    "    \n",
    "|       Description          | Parameter |      Value         |            Units               |\n",
    "|----------------------------|-----------|--------------------|--------------------------------|\n",
    "| Entry point $x$ coordinate |   $a$     |-1.6                | $\\text{m}$                    |\n",
    "| Exit point $x$ coordinate  |   $b$     | 2.3                | $\\text{m}$                    |\n",
    "| Entry concentration        |   $A$     |$3.1$               | $\\frac{\\text{$\\mu$g}}{\\text{cc}}$   |\n",
    "| Exit concentration         |   $B$     |$2.7\\times 10^1$    | $\\frac{\\text{$\\mu$g}}{\\text{cc}}$   |\n",
    "| Diffusion coefficient      |   $D$     |$5\\times 10^{-5}$   | $\\frac{\\text{m}^2}{\\text{s}}$ |\n",
    "| Source                     |   $S$     |$-1.13$              | $\\frac{\\text{$\\mu$g}}{\\text{cc h}}$ |\n",
    "    \n",
    "</span>    \n",
    "\n",
    "### <span style=\"color:blue\"> Use 1 finite element and produce the results below.\n",
    "\n",
    "</span><a id=\"a13\"></a>"
   ]
  },
  {
   "cell_type": "code",
   "execution_count": 28,
   "metadata": {},
   "outputs": [
    {
     "name": "stdout",
     "output_type": "stream",
     "text": [
      "Requirement already satisfied: matplotlib in /home/arotker/miniconda3/lib/python3.8/site-packages (3.4.1)\n",
      "Requirement already satisfied: pyparsing>=2.2.1 in /home/arotker/miniconda3/lib/python3.8/site-packages (from matplotlib) (2.4.7)\n",
      "Requirement already satisfied: kiwisolver>=1.0.1 in /home/arotker/miniconda3/lib/python3.8/site-packages (from matplotlib) (1.3.1)\n",
      "Requirement already satisfied: pillow>=6.2.0 in /home/arotker/miniconda3/lib/python3.8/site-packages (from matplotlib) (8.2.0)\n",
      "Requirement already satisfied: numpy>=1.16 in /home/arotker/miniconda3/lib/python3.8/site-packages (from matplotlib) (1.20.2)\n",
      "Requirement already satisfied: cycler>=0.10 in /home/arotker/miniconda3/lib/python3.8/site-packages (from matplotlib) (0.10.0)\n",
      "Requirement already satisfied: python-dateutil>=2.7 in /home/arotker/miniconda3/lib/python3.8/site-packages (from matplotlib) (2.8.1)\n",
      "Requirement already satisfied: six in /home/arotker/miniconda3/lib/python3.8/site-packages (from cycler>=0.10->matplotlib) (1.15.0)\n",
      "Requirement already satisfied: numpy in /home/arotker/miniconda3/lib/python3.8/site-packages (1.20.2)\n",
      "Requirement already satisfied: pandas in /home/arotker/miniconda3/lib/python3.8/site-packages (1.2.3)\n",
      "Requirement already satisfied: numpy>=1.16.5 in /home/arotker/miniconda3/lib/python3.8/site-packages (from pandas) (1.20.2)\n",
      "Requirement already satisfied: python-dateutil>=2.7.3 in /home/arotker/miniconda3/lib/python3.8/site-packages (from pandas) (2.8.1)\n",
      "Requirement already satisfied: pytz>=2017.3 in /home/arotker/miniconda3/lib/python3.8/site-packages (from pandas) (2021.1)\n",
      "Requirement already satisfied: six>=1.5 in /home/arotker/miniconda3/lib/python3.8/site-packages (from python-dateutil>=2.7.3->pandas) (1.15.0)\n"
     ]
    },
    {
     "ename": "ModuleNotFoundError",
     "evalue": "No module named 'plt'",
     "output_type": "error",
     "traceback": [
      "\u001b[0;31m---------------------------------------------------------------------------\u001b[0m",
      "\u001b[0;31mModuleNotFoundError\u001b[0m                       Traceback (most recent call last)",
      "\u001b[0;32m<ipython-input-28-4064951c0549>\u001b[0m in \u001b[0;36m<module>\u001b[0;34m\u001b[0m\n\u001b[1;32m      4\u001b[0m \u001b[0;32mimport\u001b[0m \u001b[0mmatplotlib\u001b[0m\u001b[0;34m.\u001b[0m\u001b[0mpyplot\u001b[0m \u001b[0;32mas\u001b[0m \u001b[0mplt\u001b[0m\u001b[0;34m\u001b[0m\u001b[0;34m\u001b[0m\u001b[0m\n\u001b[1;32m      5\u001b[0m \u001b[0;32mimport\u001b[0m \u001b[0mmatplotlib\u001b[0m\u001b[0;34m.\u001b[0m\u001b[0mcbook\u001b[0m \u001b[0;32mas\u001b[0m \u001b[0mcbook\u001b[0m\u001b[0;34m\u001b[0m\u001b[0;34m\u001b[0m\u001b[0m\n\u001b[0;32m----> 6\u001b[0;31m \u001b[0;32mfrom\u001b[0m \u001b[0mplt\u001b[0m \u001b[0;32mimport\u001b[0m \u001b[0mfigure\u001b[0m\u001b[0;34m\u001b[0m\u001b[0;34m\u001b[0m\u001b[0m\n\u001b[0m\u001b[1;32m      7\u001b[0m \u001b[0;32mimport\u001b[0m \u001b[0mnumpy\u001b[0m \u001b[0;32mas\u001b[0m \u001b[0mnp\u001b[0m\u001b[0;34m\u001b[0m\u001b[0;34m\u001b[0m\u001b[0m\n\u001b[1;32m      8\u001b[0m \u001b[0;32mimport\u001b[0m \u001b[0mpandas\u001b[0m \u001b[0;32mas\u001b[0m \u001b[0mpd\u001b[0m\u001b[0;34m\u001b[0m\u001b[0;34m\u001b[0m\u001b[0m\n",
      "\u001b[0;31mModuleNotFoundError\u001b[0m: No module named 'plt'"
     ]
    }
   ],
   "source": [
    "!pip install matplotlib\n",
    "!pip install numpy\n",
    "!pip install pandas\n",
    "import matplotlib.pyplot as plt\n",
    "import matplotlib.cbook as cbook\n",
    "import numpy as np\n",
    "import pandas as pd"
   ]
  },
  {
   "cell_type": "code",
   "execution_count": 71,
   "metadata": {},
   "outputs": [
    {
     "name": "stdout",
     "output_type": "stream",
     "text": [
      "\n",
      "\n",
      "Framework Information:\n",
      "MOOSE Version:           git commit d2b4648b2d on 2021-02-18\n",
      "LibMesh Version:         \n",
      "PETSc Version:           3.14.2\n",
      "SLEPc Version:           3.14.0\n",
      "Current Time:            Mon Apr  5 02:14:28 2021\n",
      "Executable Timestamp:    Sun Apr  4 19:23:19 2021\n",
      "\n",
      "Parallelism:\n",
      "  Num Processors:          1\n",
      "  Num Threads:             1\n",
      "\n",
      "Mesh: \n",
      "  Parallel Type:           replicated\n",
      "  Mesh Dimension:          1\n",
      "  Spatial Dimension:       1\n",
      "  Nodes:                   \n",
      "    Total:                 7\n",
      "    Local:                 7\n",
      "  Elems:                   \n",
      "    Total:                 3\n",
      "    Local:                 3\n",
      "  Num Subdomains:          1\n",
      "  Num Partitions:          1\n",
      "\n",
      "Nonlinear System:\n",
      "  Num DOFs:                7\n",
      "  Num Local DOFs:          7\n",
      "  Variables:               \"u\" \n",
      "  Finite Element Types:    \"LAGRANGE\" \n",
      "  Approximation Orders:    \"SECOND\" \n",
      "\n",
      "Auxiliary System:\n",
      "  Num DOFs:                6\n",
      "  Num Local DOFs:          6\n",
      "  Variables:               \"diffFluxU_x\" \n",
      "  Finite Element Types:    \"MONOMIAL\" \n",
      "  Approximation Orders:    \"FIRST\" \n",
      "\n",
      "Execution Information:\n",
      "  Executioner:             Steady\n",
      "  Solver Mode:             Preconditioned JFNK\n",
      "  PETSc Preconditioner:    hypre boomeramg \n",
      "\n",
      "\u001b[31mLEGACY MODES ENABLED:\u001b[39m\n",
      " This application uses the legacy material output option: material properties are output only on TIMESTEP_END, not INITIAL. To remove this message, set 'use_legacy_material_output' to false in this application. If there are gold output files that contain material property output for which output occurs on INITIAL, then these will generate diffs due to zero values being stored, and these tests should be re-golded.\n",
      "\u001b[39m\n",
      "\n",
      "\u001b[33m\n",
      "*** Warning ***\n",
      "/home/arotker/projects/engy5310p1/input.i:46: unused parameter 'AuxKernels/diffusion-flux-x/diffusivity'\n",
      "\u001b[39m\n",
      "\n",
      "Postprocessor Values:\n",
      "+----------------+----------------+\n",
      "| time           | bulk-energy    |\n",
      "+----------------+----------------+\n",
      "|   0.000000e+00 |   0.000000e+00 |\n",
      "+----------------+----------------+\n",
      "\n",
      " 0 Nonlinear |R| = \u001b[32m9.231365e+02\u001b[39m\n",
      "      0 Linear |R| = \u001b[32m9.231365e+02\u001b[39m\n",
      "      1 Linear |R| = \u001b[32m1.233530e-05\u001b[39m\n",
      " 1 Nonlinear |R| = \u001b[32m2.191549e-07\u001b[39m\n",
      "\u001b[32m Solve Converged!\u001b[39m\n",
      "\n",
      "Postprocessor Values:\n",
      "+----------------+----------------+\n",
      "| time           | bulk-energy    |\n",
      "+----------------+----------------+\n",
      "|   0.000000e+00 |   0.000000e+00 |\n",
      "|   1.000000e+00 |   1.268617e+07 |\n",
      "+----------------+----------------+\n",
      "\n"
     ]
    }
   ],
   "source": [
    "'''Show FEM Solution and Flux'''\n",
    "!./engy5310p1-opt -i input.i\n",
    "energy = pd.read_csv('output.csv')\n",
    "u = pd.read_csv('output_u_0002.csv')\n",
    "flux = pd.read_csv('output_x-data_0002.csv')\n",
    "\n",
    "\n"
   ]
  },
  {
   "cell_type": "code",
   "execution_count": 72,
   "metadata": {},
   "outputs": [
    {
     "name": "stdout",
     "output_type": "stream",
     "text": [
      "    diffFluxU_x          id          u           x  y  z\n",
      "0   -124.347808    0.000000   3.100000 -160.000000  0  0\n",
      "1    -98.137755   20.526316   1.977382 -139.473684  0  0\n",
      "2    -71.927702   41.052632   1.119266 -118.947368  0  0\n",
      "3    -45.717650   61.578947   0.525651  -98.421053  0  0\n",
      "4    -19.507597   82.105263   0.196537  -77.894737  0  0\n",
      "5      6.702455  102.631579   0.131925  -57.368421  0  0\n",
      "6     32.912508  123.157895   0.331814  -36.842105  0  0\n",
      "7     59.122561  143.684211   0.796205  -16.315789  0  0\n",
      "8     85.332613  164.210526   1.525097    4.210526  0  0\n",
      "9    111.542666  184.736842   2.518490   24.736842  0  0\n",
      "10   137.752719  205.263158   3.776385   45.263158  0  0\n",
      "11   163.962771  225.789474   5.298781   65.789474  0  0\n",
      "12   190.172824  246.315789   7.085679   86.315789  0  0\n",
      "13   216.382877  266.842105   9.137078  106.842105  0  0\n",
      "14   242.592929  287.368421  11.452978  127.368421  0  0\n",
      "15   268.802982  307.894737  14.033380  147.894737  0  0\n",
      "16   295.013034  328.421053  16.878283  168.421053  0  0\n",
      "17   321.223087  348.947368  19.987687  188.947368  0  0\n",
      "18   347.433140  369.473684  23.361593  209.473684  0  0\n",
      "19   373.643192  390.000000  27.000000  230.000000  0  0\n"
     ]
    },
    {
     "data": {
      "text/plain": [
       "<Figure size 720x432 with 0 Axes>"
      ]
     },
     "metadata": {},
     "output_type": "display_data"
    },
    {
     "data": {
      "image/png": "[encoded data removed]",
      "text/plain": [
       "<Figure size 432x288 with 2 Axes>"
      ]
     },
     "metadata": {
      "needs_background": "light"
     },
     "output_type": "display_data"
    },
    {
     "data": {
      "text/plain": [
       "<Figure size 720x432 with 0 Axes>"
      ]
     },
     "metadata": {},
     "output_type": "display_data"
    }
   ],
   "source": [
    "plt.figure(figsize=(10,6))\n",
    "fig, ax1 = plt.subplots()\n",
    "plt.figure(figsize=(10,6))\n",
    "ax1.plot(u[['x']], u[['u']])\n",
    "ax2 = ax1.twinx()\n",
    "ax2.plot(flux[['x']], flux[['diffFluxU_x']], color='red')\n",
    "print(flux)\n"
   ]
  },
  {
   "cell_type": "code",
   "execution_count": 69,
   "metadata": {},
   "outputs": [
    {
     "name": "stdout",
     "output_type": "stream",
     "text": [
      "-0.00031388888888888883\n",
      "23.89968611111111\n",
      "3.1\n",
      "[0.         0.05263158 0.10526316 0.15789474 0.21052632 0.26315789\n",
      " 0.31578947 0.36842105 0.42105263 0.47368421 0.52631579 0.57894737\n",
      " 0.63157895 0.68421053 0.73684211 0.78947368 0.84210526 0.89473684\n",
      " 0.94736842 1.        ]\n",
      "[array([ 3.1       ,  4.35787909,  5.61575991,  6.87364247,  8.13152678,\n",
      "        9.38941282, 10.6473006 , 11.90519012, 13.16308138, 14.42097438,\n",
      "       15.67886911, 16.93676559, 18.1946638 , 19.45256376, 20.71046545,\n",
      "       21.96836888, 23.22627405, 24.48418096, 25.74208961, 27.        ])]\n",
      "[array([ 3.1       ,  4.35787909,  5.61575991,  6.87364247,  8.13152678,\n",
      "        9.38941282, 10.6473006 , 11.90519012, 13.16308138, 14.42097438,\n",
      "       15.67886911, 16.93676559, 18.1946638 , 19.45256376, 20.71046545,\n",
      "       21.96836888, 23.22627405, 24.48418096, 25.74208961, 27.        ])]\n"
     ]
    },
    {
     "data": {
      "text/plain": [
       "[<matplotlib.lines.Line2D at 0x7f54b4616340>]"
      ]
     },
     "execution_count": 69,
     "metadata": {},
     "output_type": "execute_result"
    },
    {
     "data": {
      "image/png": "[encoded data removed]",
      "text/plain": [
       "<Figure size 432x288 with 1 Axes>"
      ]
     },
     "metadata": {
      "needs_background": "light"
     },
     "output_type": "display_data"
    }
   ],
   "source": [
    "'''Error Compared to Exact Dimensionless Solution'''\n",
    "S = -1.13\n",
    "D = 1800\n",
    "a = -160\n",
    "A = 3.1\n",
    "b = 230\n",
    "B = 27\n",
    "C1 = B - A + (S/(2*D))\n",
    "C2 = A\n",
    "\n",
    "print(S/(2*D))\n",
    "print(C1)\n",
    "print(C2)\n",
    "analytical_soln = []\n",
    "z = 0\n",
    "u_x = u[['x']].to_numpy()\n",
    "u_u = u[['u']].to_numpy()\n",
    "u_x = np.transpose(u_x)\n",
    "u_u = np.transpose(u_u)\n",
    "\n",
    "for i in u_x:\n",
    "    x_hat = (i - a)/(b - a)\n",
    "    print(x_hat)\n",
    "    analytical_soln.append(((-1 * S)/(2 * D) * (x_hat)**2 + C1 * x_hat + C2))\n",
    "    print(analytical_soln)\n",
    "    z += 1\n",
    "\n",
    "z = 0\n",
    "error = []\n",
    "print(analytical_soln)\n",
    "for i in u_u:\n",
    "    error.append(i - analytical_soln[z])\n",
    "    z += 1\n",
    "#print(error)\n",
    "u_x = np.transpose(u_x)\n",
    "analytical_soln = np.transpose(analytical_soln)\n",
    "plt.plot(u_x, analytical_soln)\n",
    "\n",
    "    \n",
    "\n"
   ]
  },
  {
   "cell_type": "code",
   "execution_count": 60,
   "metadata": {},
   "outputs": [
    {
     "data": {
      "text/plain": [
       "'Flux Error Compared to Exact Dimensionless Solution'"
      ]
     },
     "execution_count": 60,
     "metadata": {},
     "output_type": "execute_result"
    }
   ],
   "source": [
    "'''Flux Error Compared to Exact Dimensionless Solution'''\n"
   ]
  },
  {
   "cell_type": "code",
   "execution_count": 61,
   "metadata": {},
   "outputs": [
    {
     "data": {
      "text/plain": [
       "'Relative Energy Error'"
      ]
     },
     "execution_count": 61,
     "metadata": {},
     "output_type": "execute_result"
    }
   ],
   "source": [
    "'''Relative Energy Error'''\n"
   ]
  },
  {
   "cell_type": "markdown",
   "metadata": {},
   "source": [
    "## <span style=\"color:blue\">[Assignment 2 (45 pts)](#toa)</span><a id=\"a2\"></a>"
   ]
  },
  {
   "cell_type": "markdown",
   "metadata": {},
   "source": [
    "### <span style=\"color:blue\">[2.1)](#toa)(45 pts) Using the Galerkin FEM and the MOOSE framework solve the diffusion problem in 1.3) using quadratic Lagrange polynomial basis functions and compute the minimum number of elements to reduct the relative energy error to less than 1%.</span>\n",
    "</span><a id=\"a21\"></a>"
   ]
  },
  {
   "cell_type": "code",
   "execution_count": null,
   "metadata": {},
   "outputs": [],
   "source": [
    "'''Show FEM Solution and Flux'''\n"
   ]
  },
  {
   "cell_type": "code",
   "execution_count": null,
   "metadata": {},
   "outputs": [],
   "source": [
    "'''Error Compared to Exact Dimensionless Solution'''\n"
   ]
  },
  {
   "cell_type": "code",
   "execution_count": null,
   "metadata": {},
   "outputs": [],
   "source": [
    "'''Flux Error Compared to Exact Dimensionless Solution'''\n"
   ]
  },
  {
   "cell_type": "code",
   "execution_count": 17,
   "metadata": {},
   "outputs": [
    {
     "name": "stdout",
     "output_type": "stream",
     "text": [
      "FEM energy   [] = 1.474192e-01\n",
      "Exact energy [] = 1.472750e-01\n",
      "Energy rel. error [%] =  9.791e-02\n"
     ]
    }
   ],
   "source": [
    "'''Relative Energy Error'''\n"
   ]
  },
  {
   "cell_type": "markdown",
   "metadata": {},
   "source": [
    "## <span style=\"color:blue\">[Assignment 3 (5 pts)](#toa)</span><a id=\"a3\"></a>"
   ]
  },
  {
   "cell_type": "markdown",
   "metadata": {},
   "source": [
    "### <span style=\"color:blue\">Describe the most unclear point in the content presented so far. Then, make an effort to clarify the point on your own.</span>"
   ]
  },
  {
   "cell_type": "markdown",
   "metadata": {},
   "source": [
    "**Answer:**"
   ]
  }
 ],
 "metadata": {
  "kernelspec": {
   "display_name": "Python 3",
   "language": "python",
   "name": "python3"
  },
  "language_info": {
   "codemirror_mode": {
    "name": "ipython",
    "version": 3
   },
   "file_extension": ".py",
   "mimetype": "text/x-python",
   "name": "python",
   "nbconvert_exporter": "python",
   "pygments_lexer": "ipython3",
   "version": "3.8.8"
  },
  "latex_envs": {
   "LaTeX_envs_menu_present": true,
   "autoclose": false,
   "autocomplete": true,
   "bibliofile": "biblio.bib",
   "cite_by": "apalike",
   "current_citInitial": 1,
   "eqLabelWithNumbers": true,
   "eqNumInitial": 1,
   "hotkeys": {
    "equation": "Ctrl-E",
    "itemize": "Ctrl-I"
   },
   "labels_anchors": false,
   "latex_user_defs": false,
   "report_style_numbering": false,
   "user_envs_cfg": false
  }
 },
 "nbformat": 4,
 "nbformat_minor": 2
}
